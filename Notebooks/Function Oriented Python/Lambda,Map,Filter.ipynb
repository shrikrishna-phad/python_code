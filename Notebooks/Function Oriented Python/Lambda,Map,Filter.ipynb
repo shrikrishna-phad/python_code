{
 "cells": [
  {
   "cell_type": "markdown",
   "id": "6e50552a",
   "metadata": {},
   "source": [
    "***Lambda***\n",
    "\n",
    "---> Anonymous function.\n",
    "---> Just in time, for short perion, one time use.\n",
    "\n",
    "syntax---> lambda input_parameters:output_parameters"
   ]
  },
  {
   "cell_type": "code",
   "execution_count": 1,
   "id": "363bdb87",
   "metadata": {},
   "outputs": [
    {
     "name": "stdout",
     "output_type": "stream",
     "text": [
      "30\n"
     ]
    }
   ],
   "source": [
    "# with function\n",
    "def add(a,b):\n",
    "    print(a+b)\n",
    "    \n",
    "add(10,20)"
   ]
  },
  {
   "cell_type": "code",
   "execution_count": 2,
   "id": "2c1f8e91",
   "metadata": {},
   "outputs": [
    {
     "data": {
      "text/plain": [
       "30"
      ]
     },
     "execution_count": 2,
     "metadata": {},
     "output_type": "execute_result"
    }
   ],
   "source": [
    " # with lambda\n",
    "k = lambda a,b:a+b\n",
    "k(10,20)"
   ]
  },
  {
   "cell_type": "code",
   "execution_count": 3,
   "id": "b0966754",
   "metadata": {},
   "outputs": [
    {
     "name": "stdout",
     "output_type": "stream",
     "text": [
      "10 is greater than 20\n"
     ]
    }
   ],
   "source": [
    "#with function\n",
    "def greater(num1,num2):\n",
    "    if num1 > num2:\n",
    "        print(f\"{num1} is greater than {num2}\")\n",
    "    else:\n",
    "        print(f\"{num1} is greater than {num2}\")\n",
    "\n",
    "greater(10,20)"
   ]
  },
  {
   "cell_type": "code",
   "execution_count": 4,
   "id": "f15ea393",
   "metadata": {},
   "outputs": [
    {
     "data": {
      "text/plain": [
       "'10 is greater than 2'"
      ]
     },
     "execution_count": 4,
     "metadata": {},
     "output_type": "execute_result"
    }
   ],
   "source": [
    "# with lambda\n",
    "k = lambda a,b:f'{a} is greater than {b}' if a>b else f'{b} is greater than {a}'\n",
    "k(10,2)"
   ]
  },
  {
   "cell_type": "code",
   "execution_count": null,
   "id": "62f6a44b",
   "metadata": {},
   "outputs": [],
   "source": []
  },
  {
   "cell_type": "markdown",
   "id": "e2c6d5ec",
   "metadata": {},
   "source": [
    "***Map***\n",
    "---> In map we can apply function to any sequence.\n",
    "---> Input length of sequence & Output length is equal.\n",
    "---> In map we can pass function as an argument.\n"
   ]
  },
  {
   "cell_type": "code",
   "execution_count": 6,
   "id": "e97ff2c1",
   "metadata": {},
   "outputs": [],
   "source": [
    "#using function\n",
    "py_list = list(range(1,10))"
   ]
  },
  {
   "cell_type": "code",
   "execution_count": 7,
   "id": "736878ea",
   "metadata": {},
   "outputs": [
    {
     "name": "stdout",
     "output_type": "stream",
     "text": [
      "[1, 2, 3, 4, 5, 6, 7, 8, 9]\n",
      "[1, 4, 9, 16, 25, 36, 49, 64, 81]\n"
     ]
    }
   ],
   "source": [
    "sq_list = []\n",
    "for i in py_list:\n",
    "    sq_list.append(i*i)\n",
    "print(py_list)\n",
    "print(sq_list)"
   ]
  },
  {
   "cell_type": "code",
   "execution_count": 8,
   "id": "01c52db5",
   "metadata": {},
   "outputs": [],
   "source": [
    "#using map\n",
    "def sqr(temp):\n",
    "    return (temp*temp)"
   ]
  },
  {
   "cell_type": "code",
   "execution_count": 9,
   "id": "58149a2a",
   "metadata": {},
   "outputs": [
    {
     "name": "stdout",
     "output_type": "stream",
     "text": [
      "[1, 4, 9, 16, 25, 36, 49, 64, 81]\n"
     ]
    }
   ],
   "source": [
    "sq = list(map(sqr,py_list))\n",
    "print(sq)"
   ]
  },
  {
   "cell_type": "code",
   "execution_count": null,
   "id": "3ec99079",
   "metadata": {},
   "outputs": [],
   "source": []
  },
  {
   "cell_type": "code",
   "execution_count": 10,
   "id": "0e678162",
   "metadata": {},
   "outputs": [
    {
     "name": "stdout",
     "output_type": "stream",
     "text": [
      "[1, 4, 9, 16, 25, 36, 49, 64, 81]\n"
     ]
    }
   ],
   "source": [
    "sq = list(map(lambda x:x*x,py_list))\n",
    "print(sq)"
   ]
  },
  {
   "cell_type": "code",
   "execution_count": 11,
   "id": "3e363ac2",
   "metadata": {},
   "outputs": [],
   "source": [
    "a= map(sqr,sq)"
   ]
  },
  {
   "cell_type": "code",
   "execution_count": 12,
   "id": "7554dd4f",
   "metadata": {},
   "outputs": [
    {
     "data": {
      "text/plain": [
       "<map at 0x2ce1bc210a0>"
      ]
     },
     "execution_count": 12,
     "metadata": {},
     "output_type": "execute_result"
    }
   ],
   "source": [
    "a"
   ]
  },
  {
   "cell_type": "code",
   "execution_count": null,
   "id": "47f318e2",
   "metadata": {},
   "outputs": [],
   "source": []
  },
  {
   "cell_type": "code",
   "execution_count": 136,
   "id": "ab8e13d3",
   "metadata": {},
   "outputs": [],
   "source": [
    "list1 = list(range(1,6))\n",
    "list2 = ['python','java','c++','hadoop','aws']\n",
    "def l1(list1):\n",
    "    return list1\n"
   ]
  },
  {
   "cell_type": "code",
   "execution_count": 137,
   "id": "e42dca17",
   "metadata": {},
   "outputs": [
    {
     "data": {
      "text/plain": [
       "['python', 'java', 'c++', 'hadoop', 'aws']"
      ]
     },
     "execution_count": 137,
     "metadata": {},
     "output_type": "execute_result"
    }
   ],
   "source": [
    "list(map(l1,list2))"
   ]
  },
  {
   "cell_type": "code",
   "execution_count": 138,
   "id": "2efcf34b",
   "metadata": {},
   "outputs": [],
   "source": [
    "def f1(ele):\n",
    "    if ele == 1:\n",
    "        return 'python'\n",
    "    elif ele == 2:\n",
    "        return 'java'\n",
    "    elif ele == 3:\n",
    "        return 'c'\n",
    "    elif ele == 4:\n",
    "        return 'c++'\n",
    "    elif ele == 5:\n",
    "        return 'hadoop'\n",
    "    else:\n",
    "        pass"
   ]
  },
  {
   "cell_type": "code",
   "execution_count": 139,
   "id": "a16534a5",
   "metadata": {},
   "outputs": [
    {
     "data": {
      "text/plain": [
       "[None, None, None, None, None]"
      ]
     },
     "execution_count": 139,
     "metadata": {},
     "output_type": "execute_result"
    }
   ],
   "source": [
    "list(map(f1,list2))"
   ]
  },
  {
   "cell_type": "code",
   "execution_count": 140,
   "id": "c7cfbb01",
   "metadata": {},
   "outputs": [],
   "source": [
    "p = [1,2,3,4,5]"
   ]
  },
  {
   "cell_type": "code",
   "execution_count": 141,
   "id": "3106b352",
   "metadata": {},
   "outputs": [],
   "source": [
    "k = map({1:'python',2:'java',3:'c',4:'c++',5:'hadoop'},p)"
   ]
  },
  {
   "cell_type": "code",
   "execution_count": null,
   "id": "bda234e3",
   "metadata": {},
   "outputs": [],
   "source": []
  },
  {
   "cell_type": "markdown",
   "id": "e8c0c54f",
   "metadata": {},
   "source": [
    "***Filter***\n",
    "---> To filter the elements based on condition."
   ]
  },
  {
   "cell_type": "code",
   "execution_count": 143,
   "id": "8ed0e6c2",
   "metadata": {},
   "outputs": [],
   "source": [
    "p = list(range(50))\n",
    "def even(ele):\n",
    "    if ele % 2 ==0:\n",
    "        return True\n",
    "    else:\n",
    "        False"
   ]
  },
  {
   "cell_type": "code",
   "execution_count": 144,
   "id": "4c539956",
   "metadata": {},
   "outputs": [
    {
     "name": "stdout",
     "output_type": "stream",
     "text": [
      "[0, 2, 4, 6, 8, 10, 12, 14, 16, 18, 20, 22, 24, 26, 28, 30, 32, 34, 36, 38, 40, 42, 44, 46, 48] "
     ]
    }
   ],
   "source": [
    "print(list(filter(even,p)),end=\" \")"
   ]
  },
  {
   "cell_type": "code",
   "execution_count": 146,
   "id": "f26bc759",
   "metadata": {},
   "outputs": [
    {
     "name": "stdout",
     "output_type": "stream",
     "text": [
      "[0, 2, 4, 6, 8, 10, 12, 14, 16, 18, 20, 22, 24, 26, 28, 30, 32, 34, 36, 38, 40, 42, 44, 46, 48] "
     ]
    }
   ],
   "source": [
    "print(list(filter(lambda x:x%2 == 0,p,)),end=\" \")"
   ]
  },
  {
   "cell_type": "code",
   "execution_count": null,
   "id": "dcd592e2",
   "metadata": {},
   "outputs": [],
   "source": []
  },
  {
   "cell_type": "code",
   "execution_count": 147,
   "id": "8a5ac698",
   "metadata": {},
   "outputs": [
    {
     "name": "stdout",
     "output_type": "stream",
     "text": [
      "[123, 456, 789]\n"
     ]
    }
   ],
   "source": [
    "k = ['123','456','789']\n",
    "a = list(map(lambda x:int(x),k))\n",
    "print(a)"
   ]
  },
  {
   "cell_type": "code",
   "execution_count": null,
   "id": "223ff7cf",
   "metadata": {},
   "outputs": [],
   "source": []
  },
  {
   "cell_type": "code",
   "execution_count": 2,
   "id": "7e74d9af",
   "metadata": {},
   "outputs": [],
   "source": [
    "prod_id = ['ab1025','cd2564','12546','43334','kgh146','ggkuf64564','835434']\n",
    "numeric = []\n",
    "def only_numeric(x):\n",
    "    for i in x:\n",
    "        if i.isnumeric():\n",
    "            numeric.append(i)\n",
    "    print(numeric)"
   ]
  },
  {
   "cell_type": "code",
   "execution_count": 3,
   "id": "6eac7c6e",
   "metadata": {},
   "outputs": [
    {
     "name": "stdout",
     "output_type": "stream",
     "text": [
      "['12546', '43334', '835434']\n"
     ]
    }
   ],
   "source": [
    "only_numeric(prod_id)"
   ]
  },
  {
   "cell_type": "code",
   "execution_count": 8,
   "id": "44dfb39c",
   "metadata": {},
   "outputs": [],
   "source": [
    "b = list(filter(lambda x:x.isnumeric(),prod_id))"
   ]
  },
  {
   "cell_type": "code",
   "execution_count": 9,
   "id": "e1910c4f",
   "metadata": {},
   "outputs": [
    {
     "data": {
      "text/plain": [
       "['12546', '43334', '835434']"
      ]
     },
     "execution_count": 9,
     "metadata": {},
     "output_type": "execute_result"
    }
   ],
   "source": [
    "b"
   ]
  },
  {
   "cell_type": "code",
   "execution_count": null,
   "id": "5f8def94",
   "metadata": {},
   "outputs": [],
   "source": []
  },
  {
   "cell_type": "code",
   "execution_count": null,
   "id": "9e2cf9e6",
   "metadata": {},
   "outputs": [],
   "source": []
  }
 ],
 "metadata": {
  "kernelspec": {
   "display_name": "Python 3",
   "language": "python",
   "name": "python3"
  },
  "language_info": {
   "codemirror_mode": {
    "name": "ipython",
    "version": 3
   },
   "file_extension": ".py",
   "mimetype": "text/x-python",
   "name": "python",
   "nbconvert_exporter": "python",
   "pygments_lexer": "ipython3",
   "version": "3.8.8"
  }
 },
 "nbformat": 4,
 "nbformat_minor": 5
}
