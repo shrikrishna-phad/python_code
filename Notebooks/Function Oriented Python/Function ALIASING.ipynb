{
 "cells": [
  {
   "cell_type": "markdown",
   "id": "bcf614bc",
   "metadata": {},
   "source": [
    "***ALIASING***\n",
    "\n",
    "---> Aliasing is nothing but giving second name to the variable or function.\n",
    "\n",
    "---> It does not matter what is inside the variable/function (List(Mutable), Tuple(Immutable), Dict, Set, function)whole this get assigned a new name, it also keeps its origional name."
   ]
  },
  {
   "cell_type": "code",
   "execution_count": 1,
   "id": "856a8d23",
   "metadata": {},
   "outputs": [],
   "source": [
    "a = 10"
   ]
  },
  {
   "cell_type": "code",
   "execution_count": 2,
   "id": "12f250b5",
   "metadata": {},
   "outputs": [],
   "source": [
    "b = a   # This is aliasing"
   ]
  },
  {
   "cell_type": "code",
   "execution_count": 3,
   "id": "01dfe407",
   "metadata": {},
   "outputs": [
    {
     "name": "stdout",
     "output_type": "stream",
     "text": [
      "10\n"
     ]
    }
   ],
   "source": [
    "print(b)"
   ]
  },
  {
   "cell_type": "code",
   "execution_count": null,
   "id": "2e68e1d1",
   "metadata": {},
   "outputs": [],
   "source": []
  },
  {
   "cell_type": "code",
   "execution_count": 4,
   "id": "254b7ddc",
   "metadata": {},
   "outputs": [],
   "source": [
    "def add():\n",
    "    a = 10\n",
    "    b = 20\n",
    "    print(a+b)"
   ]
  },
  {
   "cell_type": "code",
   "execution_count": 5,
   "id": "2991e49d",
   "metadata": {},
   "outputs": [],
   "source": [
    "p = add\n",
    "q = add\n",
    "r = add"
   ]
  },
  {
   "cell_type": "code",
   "execution_count": 6,
   "id": "b8d053bf",
   "metadata": {},
   "outputs": [
    {
     "name": "stdout",
     "output_type": "stream",
     "text": [
      "30\n",
      "30\n",
      "30\n"
     ]
    }
   ],
   "source": [
    "p()\n",
    "q()\n",
    "r()"
   ]
  },
  {
   "cell_type": "code",
   "execution_count": null,
   "id": "6df0d32c",
   "metadata": {},
   "outputs": [],
   "source": []
  },
  {
   "cell_type": "code",
   "execution_count": 14,
   "id": "615976fc",
   "metadata": {},
   "outputs": [],
   "source": [
    "def m1():\n",
    "    print(\"i'm in m1\")\n",
    "    def m2():\n",
    "        print(\"i'm in m2\")\n",
    "    return m2"
   ]
  },
  {
   "cell_type": "code",
   "execution_count": 15,
   "id": "d620841f",
   "metadata": {},
   "outputs": [
    {
     "name": "stdout",
     "output_type": "stream",
     "text": [
      "i'm in m1\n"
     ]
    }
   ],
   "source": [
    "m2 = m1()"
   ]
  },
  {
   "cell_type": "code",
   "execution_count": 16,
   "id": "35bda7d1",
   "metadata": {},
   "outputs": [
    {
     "name": "stdout",
     "output_type": "stream",
     "text": [
      "i'm in m2\n"
     ]
    }
   ],
   "source": [
    "m2()"
   ]
  },
  {
   "cell_type": "code",
   "execution_count": 17,
   "id": "58d9c7ce",
   "metadata": {},
   "outputs": [],
   "source": [
    "def m1():\n",
    "    print(\"i'm in m1\")\n",
    "    def m2():\n",
    "        print(\"i'm in m2\")\n",
    "    return m2"
   ]
  },
  {
   "cell_type": "code",
   "execution_count": 18,
   "id": "70edb70c",
   "metadata": {},
   "outputs": [
    {
     "name": "stdout",
     "output_type": "stream",
     "text": [
      "i'm in m1\n"
     ]
    }
   ],
   "source": [
    "result = m1()"
   ]
  },
  {
   "cell_type": "code",
   "execution_count": 20,
   "id": "deb36d42",
   "metadata": {},
   "outputs": [
    {
     "name": "stdout",
     "output_type": "stream",
     "text": [
      "i'm in m2\n"
     ]
    }
   ],
   "source": [
    "result()"
   ]
  },
  {
   "cell_type": "code",
   "execution_count": null,
   "id": "d4e582c3",
   "metadata": {},
   "outputs": [],
   "source": []
  },
  {
   "cell_type": "code",
   "execution_count": 24,
   "id": "0e9d061a",
   "metadata": {},
   "outputs": [],
   "source": [
    "def personal_details():\n",
    "    company_name = 'ibm'\n",
    "    def data_center():\n",
    "        print(\"Welcome to ibm\")\n",
    "        name = input(\"Enter your name\")\n",
    "        age = int(input(\"Enter your age\"))\n",
    "    return data_center,company_name"
   ]
  },
  {
   "cell_type": "markdown",
   "id": "bdc8b111",
   "metadata": {},
   "source": [
    "Here return function has two variable inside it 1-data_center(a function) 2-company_name(a string)"
   ]
  },
  {
   "cell_type": "code",
   "execution_count": 25,
   "id": "4a98c1cb",
   "metadata": {},
   "outputs": [],
   "source": [
    "d,c = personal_details()"
   ]
  },
  {
   "cell_type": "code",
   "execution_count": 26,
   "id": "886cea19",
   "metadata": {},
   "outputs": [
    {
     "name": "stdout",
     "output_type": "stream",
     "text": [
      "Welcome to ibm\n",
      "Enter your nameshri\n",
      "Enter your age44\n"
     ]
    }
   ],
   "source": [
    "d()"
   ]
  },
  {
   "cell_type": "code",
   "execution_count": 27,
   "id": "7619b5cd",
   "metadata": {},
   "outputs": [
    {
     "name": "stdout",
     "output_type": "stream",
     "text": [
      "ibm\n"
     ]
    }
   ],
   "source": [
    "print(c)"
   ]
  },
  {
   "cell_type": "code",
   "execution_count": null,
   "id": "c0d8d795",
   "metadata": {},
   "outputs": [],
   "source": []
  },
  {
   "cell_type": "code",
   "execution_count": null,
   "id": "091b4371",
   "metadata": {},
   "outputs": [],
   "source": []
  }
 ],
 "metadata": {
  "kernelspec": {
   "display_name": "Python 3",
   "language": "python",
   "name": "python3"
  },
  "language_info": {
   "codemirror_mode": {
    "name": "ipython",
    "version": 3
   },
   "file_extension": ".py",
   "mimetype": "text/x-python",
   "name": "python",
   "nbconvert_exporter": "python",
   "pygments_lexer": "ipython3",
   "version": "3.8.8"
  }
 },
 "nbformat": 4,
 "nbformat_minor": 5
}
