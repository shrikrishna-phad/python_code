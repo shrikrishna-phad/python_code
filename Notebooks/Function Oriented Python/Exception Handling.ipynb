{
 "cells": [
  {
   "cell_type": "markdown",
   "id": "9c536ea2",
   "metadata": {},
   "source": [
    "# Exception Handling\n",
    "\n",
    "---> There are baisically three types of errors in python.\n",
    "1. Syntax Error\n",
    "2. Runtime Error\n",
    "3. System Error\n",
    "\n",
    "\n",
    "1. **Syntax Error**\n",
    "---> Syntax is the first thing that Interpreter checks at the time of execution.\n",
    "\n",
    "---> This error is Raised when the code is not in priscribed format according to python script.\n",
    "\n",
    "---> These types of errors **can not be handled** by Exception Handling.\n",
    "\n",
    "2. **Runtime Error**\n",
    "---> After checking syntax if there is any situation that causes interpreter to stop executing the program then that erroe is        called runtime error.\n",
    "\n",
    "---> There types of errors **can be handled** by Exception handling.\n",
    "\n",
    "ex. NameError, ValueError, FileNotFoundError, etc..\n",
    "\n",
    "3. **System Error**\n",
    "---> This error is raised when interpreter detects an internal error.\n",
    "\n",
    "---> These types of errors **can not be handled** by Exception Handling."
   ]
  },
  {
   "cell_type": "code",
   "execution_count": null,
   "id": "3ed17db2",
   "metadata": {},
   "outputs": [],
   "source": []
  },
  {
   "cell_type": "markdown",
   "id": "062398c0",
   "metadata": {},
   "source": [
    "## try:\n",
    "\n",
    "---> This block contains risky code (the code in which error is expected or could be possible).\n",
    "\n",
    "---> Single try block can have multiple except blocks.\n",
    "\n",
    "\n",
    "## except:\n",
    "\n",
    "---> This block always contains handling code.\n",
    "\n",
    "---> This block is executed only when there is runtime error in try block.\n",
    "\n",
    "---> This block can contain the alternate code or just the massage that the error has occured.\n",
    "\n",
    "***There are two types of except***\n",
    "1. **Default except**\n",
    "---> Syntax \n",
    "\n",
    "    except:\n",
    "          ---> Hnadles all types of runtime errors.\n",
    "          ---> Not recomended as we cant tell which error has occured.\n",
    "          \n",
    "---> If We write two except in one try the default except should be always after the normal except.\n",
    "\n",
    "2. **except** with ErrorName\n",
    "---> Syntax\n",
    "\n",
    "    except ErrorName:\n",
    "          ---> Hnadles only the specified error.\n",
    "          ---> Multiple Errors can be specified in single blocks.\n",
    "                     --> except ErrorName, ErrorName:\n",
    "          ---> Can alise the massage comes with the error in except block.\n",
    "                     --> except ErrorName, ErrorName, Errorname as msg:"
   ]
  },
  {
   "cell_type": "code",
   "execution_count": null,
   "id": "dabc629b",
   "metadata": {},
   "outputs": [],
   "source": []
  },
  {
   "cell_type": "code",
   "execution_count": 2,
   "id": "da694bc2",
   "metadata": {},
   "outputs": [
    {
     "ename": "SyntaxError",
     "evalue": "default 'except:' must be last (<ipython-input-2-7ce338a0fa11>, line 2)",
     "output_type": "error",
     "traceback": [
      "\u001b[1;36m  File \u001b[1;32m\"<ipython-input-2-7ce338a0fa11>\"\u001b[1;36m, line \u001b[1;32m2\u001b[0m\n\u001b[1;33m    print(10/0)\u001b[0m\n\u001b[1;37m    ^\u001b[0m\n\u001b[1;31mSyntaxError\u001b[0m\u001b[1;31m:\u001b[0m default 'except:' must be last\n"
     ]
    }
   ],
   "source": [
    "try:\n",
    "    print(10/0)\n",
    "\n",
    "except:\n",
    "    print('zero')\n",
    "\n",
    "except ZeroDivisionError:\n",
    "    print('zero1')"
   ]
  },
  {
   "cell_type": "code",
   "execution_count": 3,
   "id": "406f5735",
   "metadata": {},
   "outputs": [
    {
     "name": "stdout",
     "output_type": "stream",
     "text": [
      "zero1\n"
     ]
    }
   ],
   "source": [
    "try:\n",
    "    print(10/0)\n",
    "    \n",
    "except ZeroDivisionError:\n",
    "    print('zero1')\n",
    "\n",
    "except:\n",
    "    print('zero')"
   ]
  },
  {
   "cell_type": "code",
   "execution_count": null,
   "id": "8d3e759d",
   "metadata": {},
   "outputs": [],
   "source": []
  },
  {
   "cell_type": "code",
   "execution_count": 5,
   "id": "67ba323f",
   "metadata": {},
   "outputs": [
    {
     "name": "stdout",
     "output_type": "stream",
     "text": [
      "in try1\n",
      "in try2\n",
      "in except2\n",
      "in except3\n"
     ]
    }
   ],
   "source": [
    "try:\n",
    "    print('in try1')\n",
    "    \n",
    "except:\n",
    "    print('in except1') # Only Executes if try block has an error.\n",
    "    \n",
    "try:\n",
    "    print('in try2')\n",
    "    a\n",
    "    \n",
    "except:\n",
    "    print('in except2') # try has error after print statment so print executes and then except executes.\n",
    "    \n",
    "try:\n",
    "    a\n",
    "    print('in try3')\n",
    "    \n",
    "except:\n",
    "    print('in except3') # try has error before print statment so print does not executes and except executes."
   ]
  },
  {
   "cell_type": "code",
   "execution_count": null,
   "id": "1b0f6f53",
   "metadata": {},
   "outputs": [],
   "source": []
  },
  {
   "cell_type": "markdown",
   "id": "7bbee971",
   "metadata": {},
   "source": [
    "## else:\n",
    "\n",
    "---> else block execute only if the try block executes without any error.\n",
    "\n",
    "---> If except block executes then else block does not execute.\n",
    "\n",
    "---> always comes after the except block.\n",
    "\n",
    "---> Can't come alone with try block it has to be like try+except+else.\n",
    "\n",
    "## finally:\n",
    "\n",
    "--> Finally is used to execute the cleanup code (the code which has to be executed regardless of error).\n",
    "\n",
    "ex. logout, close file, terminate connection, etc.\n",
    "\n",
    "---> finally block always comes at last."
   ]
  },
  {
   "cell_type": "code",
   "execution_count": null,
   "id": "5f381fe2",
   "metadata": {},
   "outputs": [],
   "source": []
  },
  {
   "cell_type": "code",
   "execution_count": 6,
   "id": "2a2a2397",
   "metadata": {},
   "outputs": [
    {
     "name": "stdout",
     "output_type": "stream",
     "text": [
      "in try1\n",
      "in else1\n",
      "in except2\n",
      "in try3\n",
      "in except3\n"
     ]
    }
   ],
   "source": [
    "try:\n",
    "    print('in try1')\n",
    "except:\n",
    "    print('in except1')\n",
    "else:\n",
    "    print('in else1') # Try does not have any error so else block executes.\n",
    "    \n",
    "    \n",
    "try:\n",
    "    a\n",
    "    print('in try2')\n",
    "except:\n",
    "    print('in except2')\n",
    "else:\n",
    "    print('in else2') # Try does have error so else block does not execute.\n",
    "    \n",
    "    \n",
    "try:\n",
    "    print('in try3')\n",
    "    a\n",
    "except:\n",
    "    print('in except3')\n",
    "else:\n",
    "    print('in else3') # Try does have error so else block does not execute."
   ]
  },
  {
   "cell_type": "code",
   "execution_count": 8,
   "id": "9cdd5ab7",
   "metadata": {},
   "outputs": [
    {
     "name": "stdout",
     "output_type": "stream",
     "text": [
      "in try1\n",
      "in finally1\n",
      "in except2\n",
      "in finally2\n",
      "in try3\n",
      "in except3\n",
      "in finally3\n"
     ]
    }
   ],
   "source": [
    "try:\n",
    "    print('in try1')\n",
    "except:\n",
    "    print('in except1')\n",
    "finally:\n",
    "    print('in finally1') # Regardless of any error in try finally always executes.\n",
    "    \n",
    "    \n",
    "try:\n",
    "    a\n",
    "    print('in try2')\n",
    "except:\n",
    "    print('in except2')\n",
    "finally:\n",
    "    print('in finally2') # Regardless of any error in try finally always executes.\n",
    "\n",
    "    \n",
    "try:\n",
    "    print('in try3')\n",
    "    a\n",
    "except:\n",
    "    print('in except3')\n",
    "finally:\n",
    "    print('in finally3') # Regardless of any error in try finally always executes."
   ]
  },
  {
   "cell_type": "code",
   "execution_count": null,
   "id": "da960dc0",
   "metadata": {},
   "outputs": [],
   "source": []
  },
  {
   "cell_type": "markdown",
   "id": "a8383596",
   "metadata": {},
   "source": [
    "## Hierarchy\n",
    "\n",
    "     try\n",
    "     except\n",
    "     else\n",
    "     finally\n",
    "     \n",
    "---> can't change this hirarchy\n",
    "\n",
    "---> These blocks have to be i this order. can eliminate some blocks but can't change their order."
   ]
  },
  {
   "cell_type": "code",
   "execution_count": null,
   "id": "752a294e",
   "metadata": {},
   "outputs": [],
   "source": []
  },
  {
   "cell_type": "markdown",
   "id": "7647902f",
   "metadata": {},
   "source": [
    "## Combinations\n",
    "\n",
    "---> No block can come alone.\n",
    "\n",
    "---> elese block can't come without except block."
   ]
  },
  {
   "cell_type": "code",
   "execution_count": 9,
   "id": "4ff77458",
   "metadata": {},
   "outputs": [
    {
     "ename": "SyntaxError",
     "evalue": "unexpected EOF while parsing (<ipython-input-9-e1b115e05aa6>, line 2)",
     "output_type": "error",
     "traceback": [
      "\u001b[1;36m  File \u001b[1;32m\"<ipython-input-9-e1b115e05aa6>\"\u001b[1;36m, line \u001b[1;32m2\u001b[0m\n\u001b[1;33m    print('in try')\u001b[0m\n\u001b[1;37m                   ^\u001b[0m\n\u001b[1;31mSyntaxError\u001b[0m\u001b[1;31m:\u001b[0m unexpected EOF while parsing\n"
     ]
    }
   ],
   "source": [
    "try:\n",
    "    print('in try')"
   ]
  },
  {
   "cell_type": "code",
   "execution_count": 10,
   "id": "3abf579e",
   "metadata": {},
   "outputs": [
    {
     "ename": "SyntaxError",
     "evalue": "invalid syntax (<ipython-input-10-972ebaa51696>, line 1)",
     "output_type": "error",
     "traceback": [
      "\u001b[1;36m  File \u001b[1;32m\"<ipython-input-10-972ebaa51696>\"\u001b[1;36m, line \u001b[1;32m1\u001b[0m\n\u001b[1;33m    except:\u001b[0m\n\u001b[1;37m    ^\u001b[0m\n\u001b[1;31mSyntaxError\u001b[0m\u001b[1;31m:\u001b[0m invalid syntax\n"
     ]
    }
   ],
   "source": [
    "except:\n",
    "    print('in except')"
   ]
  },
  {
   "cell_type": "code",
   "execution_count": 11,
   "id": "d676241b",
   "metadata": {},
   "outputs": [
    {
     "ename": "SyntaxError",
     "evalue": "invalid syntax (<ipython-input-11-5710714962d2>, line 1)",
     "output_type": "error",
     "traceback": [
      "\u001b[1;36m  File \u001b[1;32m\"<ipython-input-11-5710714962d2>\"\u001b[1;36m, line \u001b[1;32m1\u001b[0m\n\u001b[1;33m    else:\u001b[0m\n\u001b[1;37m    ^\u001b[0m\n\u001b[1;31mSyntaxError\u001b[0m\u001b[1;31m:\u001b[0m invalid syntax\n"
     ]
    }
   ],
   "source": [
    "else:\n",
    "    print('in else')"
   ]
  },
  {
   "cell_type": "code",
   "execution_count": 12,
   "id": "cee12f80",
   "metadata": {},
   "outputs": [
    {
     "ename": "SyntaxError",
     "evalue": "invalid syntax (<ipython-input-12-001daf2e6ca7>, line 1)",
     "output_type": "error",
     "traceback": [
      "\u001b[1;36m  File \u001b[1;32m\"<ipython-input-12-001daf2e6ca7>\"\u001b[1;36m, line \u001b[1;32m1\u001b[0m\n\u001b[1;33m    finally:\u001b[0m\n\u001b[1;37m    ^\u001b[0m\n\u001b[1;31mSyntaxError\u001b[0m\u001b[1;31m:\u001b[0m invalid syntax\n"
     ]
    }
   ],
   "source": [
    "finally:\n",
    "    print('in finally')"
   ]
  },
  {
   "cell_type": "code",
   "execution_count": null,
   "id": "8d90ecec",
   "metadata": {},
   "outputs": [],
   "source": []
  },
  {
   "cell_type": "code",
   "execution_count": 13,
   "id": "bcedc1ae",
   "metadata": {},
   "outputs": [
    {
     "name": "stdout",
     "output_type": "stream",
     "text": [
      "in try\n"
     ]
    }
   ],
   "source": [
    "try:\n",
    "    print('in try')\n",
    "except:\n",
    "    print('in except')"
   ]
  },
  {
   "cell_type": "code",
   "execution_count": null,
   "id": "436ac70f",
   "metadata": {},
   "outputs": [],
   "source": []
  },
  {
   "cell_type": "code",
   "execution_count": 14,
   "id": "c29b4987",
   "metadata": {},
   "outputs": [
    {
     "ename": "SyntaxError",
     "evalue": "invalid syntax (<ipython-input-14-26176cda3784>, line 3)",
     "output_type": "error",
     "traceback": [
      "\u001b[1;36m  File \u001b[1;32m\"<ipython-input-14-26176cda3784>\"\u001b[1;36m, line \u001b[1;32m3\u001b[0m\n\u001b[1;33m    else:\u001b[0m\n\u001b[1;37m    ^\u001b[0m\n\u001b[1;31mSyntaxError\u001b[0m\u001b[1;31m:\u001b[0m invalid syntax\n"
     ]
    }
   ],
   "source": [
    "try:\n",
    "    print('in try')\n",
    "else:\n",
    "    print('in else') # else can't come without except."
   ]
  },
  {
   "cell_type": "code",
   "execution_count": null,
   "id": "41662d95",
   "metadata": {},
   "outputs": [],
   "source": []
  },
  {
   "cell_type": "code",
   "execution_count": 15,
   "id": "b851b143",
   "metadata": {},
   "outputs": [
    {
     "ename": "SyntaxError",
     "evalue": "invalid syntax (<ipython-input-15-ba2179b3d71d>, line 1)",
     "output_type": "error",
     "traceback": [
      "\u001b[1;36m  File \u001b[1;32m\"<ipython-input-15-ba2179b3d71d>\"\u001b[1;36m, line \u001b[1;32m1\u001b[0m\n\u001b[1;33m    except:\u001b[0m\n\u001b[1;37m    ^\u001b[0m\n\u001b[1;31mSyntaxError\u001b[0m\u001b[1;31m:\u001b[0m invalid syntax\n"
     ]
    }
   ],
   "source": [
    "except:\n",
    "    print('in except')\n",
    "else:\n",
    "    print('in else') # else can't come without except and except can't come without try."
   ]
  },
  {
   "cell_type": "code",
   "execution_count": null,
   "id": "49bf4651",
   "metadata": {},
   "outputs": [],
   "source": []
  },
  {
   "cell_type": "code",
   "execution_count": 16,
   "id": "51d20638",
   "metadata": {},
   "outputs": [
    {
     "name": "stdout",
     "output_type": "stream",
     "text": [
      "in try\n",
      "in else\n"
     ]
    }
   ],
   "source": [
    "try:\n",
    "    print('in try')\n",
    "except:\n",
    "    print('in except')\n",
    "else:\n",
    "    print('in else')"
   ]
  },
  {
   "cell_type": "code",
   "execution_count": null,
   "id": "883897b5",
   "metadata": {},
   "outputs": [],
   "source": []
  },
  {
   "cell_type": "code",
   "execution_count": 17,
   "id": "b265b1b9",
   "metadata": {},
   "outputs": [
    {
     "name": "stdout",
     "output_type": "stream",
     "text": [
      "in try\n",
      "in finally\n"
     ]
    }
   ],
   "source": [
    "try:\n",
    "    print('in try')\n",
    "except:\n",
    "    print('in except')\n",
    "finally:\n",
    "    print('in finally')"
   ]
  },
  {
   "cell_type": "code",
   "execution_count": null,
   "id": "5924c422",
   "metadata": {},
   "outputs": [],
   "source": []
  },
  {
   "cell_type": "code",
   "execution_count": 18,
   "id": "d6a28ea7",
   "metadata": {},
   "outputs": [
    {
     "ename": "SyntaxError",
     "evalue": "invalid syntax (<ipython-input-18-60daf830075b>, line 3)",
     "output_type": "error",
     "traceback": [
      "\u001b[1;36m  File \u001b[1;32m\"<ipython-input-18-60daf830075b>\"\u001b[1;36m, line \u001b[1;32m3\u001b[0m\n\u001b[1;33m    else:\u001b[0m\n\u001b[1;37m    ^\u001b[0m\n\u001b[1;31mSyntaxError\u001b[0m\u001b[1;31m:\u001b[0m invalid syntax\n"
     ]
    }
   ],
   "source": [
    "try:\n",
    "    print('in try')\n",
    "else:\n",
    "    print('in else')\n",
    "finally:\n",
    "    print('in finally')"
   ]
  },
  {
   "cell_type": "code",
   "execution_count": null,
   "id": "12a5bbcb",
   "metadata": {},
   "outputs": [],
   "source": []
  },
  {
   "cell_type": "code",
   "execution_count": 22,
   "id": "aacdcc2d",
   "metadata": {},
   "outputs": [
    {
     "name": "stdout",
     "output_type": "stream",
     "text": [
      "in outer try\n",
      "in inner1 try\n",
      "in inner1 else\n",
      "in inner1 finally\n",
      "\n",
      "in outer else\n",
      "in inner3 try\n",
      "in inner3 else\n",
      "in inner3 finally\n",
      "\n",
      "in outer finally\n",
      "in inner4 try\n",
      "in inner4 else\n",
      "in inner4 finally\n"
     ]
    }
   ],
   "source": [
    "try:\n",
    "    print('in outer try')\n",
    "    try:\n",
    "        print('in inner1 try')\n",
    "    except:\n",
    "        print('in inner1 except')\n",
    "    else:\n",
    "        print('in inner1 else')\n",
    "    finally:\n",
    "        print('in inner1 finally')\n",
    "\n",
    "except:\n",
    "    print('\\nin outer except')\n",
    "    try:\n",
    "        print('in inner2 try')\n",
    "    except:\n",
    "        print('in inner2 except')\n",
    "    else:\n",
    "        print('in inner2 else')\n",
    "    finally:\n",
    "        print('in inner2 finally')\n",
    "\n",
    "else:\n",
    "    print('\\nin outer else')\n",
    "    try:\n",
    "        print('in inner3 try')\n",
    "    except:\n",
    "        print('in inner3 except')\n",
    "    else:\n",
    "        print('in inner3 else')\n",
    "    finally:\n",
    "        print('in inner3 finally')\n",
    "\n",
    "finally:\n",
    "    print('\\nin outer finally')\n",
    "    try:\n",
    "        print('in inner4 try')\n",
    "    except:\n",
    "        print('in inner4 except')\n",
    "    else:\n",
    "        print('in inner4 else')\n",
    "    finally:\n",
    "        print('in inner4 finally')"
   ]
  },
  {
   "cell_type": "code",
   "execution_count": null,
   "id": "6490a5d7",
   "metadata": {},
   "outputs": [],
   "source": []
  },
  {
   "cell_type": "markdown",
   "id": "68980fa1",
   "metadata": {},
   "source": [
    "# User Defined Exception\n",
    "\n",
    "### raise\n",
    "   ---> raise is the keyword used to generate user defined / custom exception."
   ]
  },
  {
   "cell_type": "code",
   "execution_count": 7,
   "id": "d7860b03",
   "metadata": {},
   "outputs": [
    {
     "ename": "Exception",
     "evalue": "x should be less than 10",
     "output_type": "error",
     "traceback": [
      "\u001b[1;31m---------------------------------------------------------------------------\u001b[0m",
      "\u001b[1;31mException\u001b[0m                                 Traceback (most recent call last)",
      "\u001b[1;32m<ipython-input-7-0a15af25a360>\u001b[0m in \u001b[0;36m<module>\u001b[1;34m\u001b[0m\n\u001b[0;32m      1\u001b[0m \u001b[0mx\u001b[0m \u001b[1;33m=\u001b[0m \u001b[1;36m50\u001b[0m\u001b[1;33m\u001b[0m\u001b[1;33m\u001b[0m\u001b[0m\n\u001b[0;32m      2\u001b[0m \u001b[1;32mif\u001b[0m \u001b[0mx\u001b[0m \u001b[1;33m>\u001b[0m \u001b[1;36m10\u001b[0m\u001b[1;33m:\u001b[0m\u001b[1;33m\u001b[0m\u001b[1;33m\u001b[0m\u001b[0m\n\u001b[1;32m----> 3\u001b[1;33m     \u001b[1;32mraise\u001b[0m \u001b[0mException\u001b[0m\u001b[1;33m(\u001b[0m\u001b[1;34m'x should be less than 10'\u001b[0m\u001b[1;33m)\u001b[0m\u001b[1;33m\u001b[0m\u001b[1;33m\u001b[0m\u001b[0m\n\u001b[0m\u001b[0;32m      4\u001b[0m \u001b[1;32melse\u001b[0m\u001b[1;33m:\u001b[0m\u001b[1;33m\u001b[0m\u001b[1;33m\u001b[0m\u001b[0m\n\u001b[0;32m      5\u001b[0m     \u001b[0mprint\u001b[0m\u001b[1;33m(\u001b[0m\u001b[1;34m'proceed'\u001b[0m\u001b[1;33m)\u001b[0m\u001b[1;33m\u001b[0m\u001b[1;33m\u001b[0m\u001b[0m\n",
      "\u001b[1;31mException\u001b[0m: x should be less than 10"
     ]
    }
   ],
   "source": [
    "x = 50\n",
    "if x > 10:\n",
    "    raise Exception('x should be less than 10')\n",
    "else:\n",
    "    print('proceed')"
   ]
  },
  {
   "cell_type": "code",
   "execution_count": null,
   "id": "9f9580c8",
   "metadata": {},
   "outputs": [],
   "source": []
  },
  {
   "cell_type": "code",
   "execution_count": 9,
   "id": "877ee524",
   "metadata": {},
   "outputs": [
    {
     "name": "stdout",
     "output_type": "stream",
     "text": [
      "Enter the age50\n",
      "processing\n"
     ]
    }
   ],
   "source": [
    "class AgeError(Exception):\n",
    "    def __init__(self,msg):\n",
    "        self.msg=msg\n",
    "\n",
    "x = int(input(\"Enter the age\"))\n",
    "\n",
    "if x<18:\n",
    "    raise AgeError(\"Age should be greater then 18\")\n",
    "else:\n",
    "    print(\"processing\")"
   ]
  },
  {
   "cell_type": "code",
   "execution_count": null,
   "id": "ad94ae15",
   "metadata": {},
   "outputs": [],
   "source": []
  },
  {
   "cell_type": "code",
   "execution_count": null,
   "id": "f75dd739",
   "metadata": {},
   "outputs": [],
   "source": []
  },
  {
   "cell_type": "code",
   "execution_count": null,
   "id": "6c0508f3",
   "metadata": {},
   "outputs": [],
   "source": []
  },
  {
   "cell_type": "code",
   "execution_count": null,
   "id": "dbf9d898",
   "metadata": {},
   "outputs": [],
   "source": []
  },
  {
   "cell_type": "code",
   "execution_count": null,
   "id": "afa79ba4",
   "metadata": {},
   "outputs": [],
   "source": []
  },
  {
   "cell_type": "code",
   "execution_count": null,
   "id": "44e5c449",
   "metadata": {},
   "outputs": [],
   "source": []
  },
  {
   "cell_type": "code",
   "execution_count": null,
   "id": "d9581377",
   "metadata": {},
   "outputs": [],
   "source": []
  },
  {
   "cell_type": "code",
   "execution_count": null,
   "id": "1c9cd714",
   "metadata": {},
   "outputs": [],
   "source": []
  },
  {
   "cell_type": "code",
   "execution_count": null,
   "id": "05a0a7b9",
   "metadata": {},
   "outputs": [],
   "source": []
  }
 ],
 "metadata": {
  "kernelspec": {
   "display_name": "Python 3",
   "language": "python",
   "name": "python3"
  },
  "language_info": {
   "codemirror_mode": {
    "name": "ipython",
    "version": 3
   },
   "file_extension": ".py",
   "mimetype": "text/x-python",
   "name": "python",
   "nbconvert_exporter": "python",
   "pygments_lexer": "ipython3",
   "version": "3.8.8"
  }
 },
 "nbformat": 4,
 "nbformat_minor": 5
}
