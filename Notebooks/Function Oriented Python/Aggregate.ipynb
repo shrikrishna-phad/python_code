{
 "cells": [
  {
   "cell_type": "markdown",
   "id": "c105f419",
   "metadata": {},
   "source": [
    "***Aggregate***\n",
    "---> Used to do mathematical operations in python.\n",
    "---> Not present directly.\n",
    "---> Need to import from **functools**\n",
    "\n",
    "---> It assignes the veriables to each elements in sequence.\n",
    "\n",
    "reduce(lambda x,y:x+y,p)\n",
    "p = [10,20,   30,     40, 50]\n",
    "     x\\ /y    /     /     /\n",
    "       30    /y    /     /\n",
    "        x\\  /     /y    /\n",
    "           60    /     /y\n",
    "            x\\  /     /\n",
    "              100    /\n",
    "               x\\   /\n",
    "                 150"
   ]
  },
  {
   "cell_type": "code",
   "execution_count": 1,
   "id": "cf56bfae",
   "metadata": {},
   "outputs": [],
   "source": [
    "p = list(range(1,26))"
   ]
  },
  {
   "cell_type": "code",
   "execution_count": 2,
   "id": "573996e2",
   "metadata": {},
   "outputs": [
    {
     "ename": "NameError",
     "evalue": "name 'reduce' is not defined",
     "output_type": "error",
     "traceback": [
      "\u001b[1;31m---------------------------------------------------------------------------\u001b[0m",
      "\u001b[1;31mNameError\u001b[0m                                 Traceback (most recent call last)",
      "\u001b[1;32m<ipython-input-2-7ec494a8b37b>\u001b[0m in \u001b[0;36m<module>\u001b[1;34m\u001b[0m\n\u001b[1;32m----> 1\u001b[1;33m \u001b[0mr\u001b[0m \u001b[1;33m=\u001b[0m \u001b[0mreduce\u001b[0m\u001b[1;33m(\u001b[0m\u001b[1;32mlambda\u001b[0m \u001b[0mx\u001b[0m\u001b[1;33m:\u001b[0m\u001b[0mx\u001b[0m\u001b[1;33m%\u001b[0m\u001b[1;36m2\u001b[0m\u001b[1;33m==\u001b[0m\u001b[1;36m0\u001b[0m\u001b[1;33m,\u001b[0m\u001b[0mp\u001b[0m\u001b[1;33m)\u001b[0m\u001b[1;33m\u001b[0m\u001b[1;33m\u001b[0m\u001b[0m\n\u001b[0m",
      "\u001b[1;31mNameError\u001b[0m: name 'reduce' is not defined"
     ]
    }
   ],
   "source": [
    "r = reduce(lambda x,y:x+y,p) #Reduce is not defined **NEED TO IMPORT FROM functools**"
   ]
  },
  {
   "cell_type": "code",
   "execution_count": 3,
   "id": "5e5c691f",
   "metadata": {},
   "outputs": [],
   "source": [
    "from functools import *"
   ]
  },
  {
   "cell_type": "code",
   "execution_count": 16,
   "id": "3130355a",
   "metadata": {},
   "outputs": [
    {
     "name": "stdout",
     "output_type": "stream",
     "text": [
      "325\n",
      "499500\n"
     ]
    }
   ],
   "source": [
    "r = reduce(lambda x,y:x+y,p) # Addition\n",
    "b = reduce(lambda x,y:x+y,list(range(1000)))\n",
    "print(r)\n",
    "print(b)"
   ]
  },
  {
   "cell_type": "code",
   "execution_count": 14,
   "id": "79f6b507",
   "metadata": {},
   "outputs": [
    {
     "name": "stdout",
     "output_type": "stream",
     "text": [
      "15511210043330985984000000\n",
      "24\n"
     ]
    }
   ],
   "source": [
    "r = reduce(lambda x,y:x*y,p) # Multiplication\n",
    "b = reduce(lambda x,y:x*y,list(range(1,5)))\n",
    "print(r)\n",
    "print(b)"
   ]
  },
  {
   "cell_type": "code",
   "execution_count": 10,
   "id": "3bf7e7a2",
   "metadata": {},
   "outputs": [
    {
     "name": "stdout",
     "output_type": "stream",
     "text": [
      "6.446950284384474e-26\n",
      "2.0\n"
     ]
    }
   ],
   "source": [
    "r = reduce(lambda x,y:x/y,p) #dividion\n",
    "b = reduce(lambda x,y:x/y,[100,50])\n",
    "print(r)\n",
    "print(b)"
   ]
  },
  {
   "cell_type": "code",
   "execution_count": 18,
   "id": "de85ed7b",
   "metadata": {},
   "outputs": [
    {
     "name": "stdout",
     "output_type": "stream",
     "text": [
      "-323\n"
     ]
    }
   ],
   "source": [
    "r = reduce(lambda x,y:x-y,p) #Substraction\n",
    "print(r)"
   ]
  },
  {
   "cell_type": "code",
   "execution_count": 29,
   "id": "5fbe66ec",
   "metadata": {},
   "outputs": [
    {
     "name": "stdout",
     "output_type": "stream",
     "text": [
      "325\n",
      "25\n",
      "13.0\n",
      "1.0399305555555556\n"
     ]
    }
   ],
   "source": [
    "r = reduce(lambda x,y:(x+y),p)\n",
    "print(r)\n",
    "print(len(p))\n",
    "print(r/len(p))\n",
    "b = reduce(lambda x,y:(x+y)/len(p),p)\n",
    "print(b)"
   ]
  },
  {
   "cell_type": "code",
   "execution_count": null,
   "id": "884c924e",
   "metadata": {},
   "outputs": [],
   "source": []
  },
  {
   "cell_type": "code",
   "execution_count": null,
   "id": "255177a4",
   "metadata": {},
   "outputs": [],
   "source": []
  }
 ],
 "metadata": {
  "kernelspec": {
   "display_name": "Python 3",
   "language": "python",
   "name": "python3"
  },
  "language_info": {
   "codemirror_mode": {
    "name": "ipython",
    "version": 3
   },
   "file_extension": ".py",
   "mimetype": "text/x-python",
   "name": "python",
   "nbconvert_exporter": "python",
   "pygments_lexer": "ipython3",
   "version": "3.8.8"
  }
 },
 "nbformat": 4,
 "nbformat_minor": 5
}
