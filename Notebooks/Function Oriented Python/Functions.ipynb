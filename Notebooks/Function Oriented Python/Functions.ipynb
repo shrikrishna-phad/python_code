{
 "cells": [
  {
   "cell_type": "markdown",
   "metadata": {
    "id": "HloMC8bgfONk"
   },
   "source": [
    "## ***FUNCTIONS***\n",
    "\n",
    "---> A block of code which performs a given task.\n",
    "\n",
    "    If we want to write a program.\n",
    "      Addition of numbers\n",
    "      .\n",
    "      .\n",
    "      some diffrent code\n",
    "      .\n",
    "      .\n",
    "      Addition of numbers\n",
    "\n",
    "    we have to write same code multiple times.\n",
    "This leads to duplication of program which leads to slow speed.\n",
    "\n",
    "So in **def** we can write a standerd program and can call thet function any number of times.\n",
    "\n",
    "**syntax**\n",
    "\n",
    "    def function_name(arguments/parameters):\n",
    "        block of code\n",
    "        return veriable"
   ]
  },
  {
   "cell_type": "code",
   "execution_count": null,
   "metadata": {
    "id": "M7IGKpWqfIRC"
   },
   "outputs": [],
   "source": [
    "def add():\n",
    "  x = int(input(\"Enter the 1st number: \"))\n",
    "  y = int(input(\"Enter the 2nd number: \"))\n",
    "  print(x+y)"
   ]
  },
  {
   "cell_type": "code",
   "execution_count": null,
   "metadata": {
    "colab": {
     "base_uri": "https://localhost:8080/"
    },
    "id": "JmJRi0r6fKF0",
    "outputId": "118977c2-7c66-443d-d8ab-e5d1890840e1"
   },
   "outputs": [
    {
     "name": "stdout",
     "output_type": "stream",
     "text": [
      "Enter the 1st number: 15\n",
      "Enter the 2nd number: 10\n",
      "25\n"
     ]
    }
   ],
   "source": [
    "add()"
   ]
  },
  {
   "cell_type": "code",
   "execution_count": null,
   "metadata": {
    "id": "hsTEledkfMs9"
   },
   "outputs": [],
   "source": []
  },
  {
   "cell_type": "markdown",
   "metadata": {
    "id": "m6MqRp8anEUB"
   },
   "source": [
    "**To give Parameters From Outside**\n",
    "\n",
    "    def addwithpara(x,y): ---> Formal Arguments\n",
    "       print(x,y)\n",
    "\n",
    "    addwithpara(10,40)    ---> Actula arguments\n",
    "\n",
    "***RETURN***\n",
    "\n",
    "    def addwithpara(x,y):\n",
    "        c = x + y\n",
    "        return c\n",
    "\n",
    "    result = addwithpara(10,40)"
   ]
  },
  {
   "cell_type": "code",
   "execution_count": null,
   "metadata": {
    "id": "YSPYZRRUfKCi"
   },
   "outputs": [],
   "source": [
    "def addwithpara(x,y):\n",
    "    c = x + y\n",
    "    return c"
   ]
  },
  {
   "cell_type": "code",
   "execution_count": null,
   "metadata": {
    "id": "dbcIAUKpoNeg"
   },
   "outputs": [],
   "source": [
    "result = addwithpara(10,40)"
   ]
  },
  {
   "cell_type": "code",
   "execution_count": null,
   "metadata": {
    "colab": {
     "base_uri": "https://localhost:8080/"
    },
    "id": "KtcDxLnKoQf1",
    "outputId": "6807484a-fbec-454d-bad5-4ba88fb0e6fc"
   },
   "outputs": [
    {
     "name": "stdout",
     "output_type": "stream",
     "text": [
      "50\n"
     ]
    }
   ],
   "source": [
    "print(result)"
   ]
  },
  {
   "cell_type": "code",
   "execution_count": null,
   "metadata": {
    "id": "9zpEcKq7oU2K"
   },
   "outputs": [],
   "source": []
  },
  {
   "cell_type": "markdown",
   "metadata": {
    "id": "ogCg79MYoGL_"
   },
   "source": [
    "## ***Types of Functions***\n",
    "\n",
    "1. Function with **No Argument** & **No Return** type.\n",
    "2. Function with **Argument** & **No Return** type.\n",
    "3. Function with **No Argument** & **Return** type.\n",
    "4. Function with **Argument** & **Return** type."
   ]
  },
  {
   "cell_type": "code",
   "execution_count": null,
   "metadata": {
    "id": "ULPXxf5dfJ8x"
   },
   "outputs": [],
   "source": []
  },
  {
   "cell_type": "markdown",
   "metadata": {
    "id": "O26eGByYpD6r"
   },
   "source": [
    "**Function with No Argument & No Return type**"
   ]
  },
  {
   "cell_type": "code",
   "execution_count": null,
   "metadata": {
    "id": "-L3NyIm9fJ5W"
   },
   "outputs": [],
   "source": [
    "def mul():  # No Argument\n",
    "  x = 10\n",
    "  y = 5\n",
    "  print(x*y)\n",
    "            # No Return"
   ]
  },
  {
   "cell_type": "code",
   "execution_count": null,
   "metadata": {
    "colab": {
     "base_uri": "https://localhost:8080/"
    },
    "id": "3bqFdTRmfJ2k",
    "outputId": "50128c8c-1b2d-4d21-ddb7-d45705e30d23"
   },
   "outputs": [
    {
     "name": "stdout",
     "output_type": "stream",
     "text": [
      "50\n"
     ]
    }
   ],
   "source": [
    "mul()"
   ]
  },
  {
   "cell_type": "code",
   "execution_count": null,
   "metadata": {
    "id": "xXZ7mJKDfJzD"
   },
   "outputs": [],
   "source": []
  },
  {
   "cell_type": "markdown",
   "metadata": {
    "id": "gOa74o2-pj59"
   },
   "source": [
    "**Function with Argument & No Return type**"
   ]
  },
  {
   "cell_type": "code",
   "execution_count": null,
   "metadata": {
    "id": "_HNghGYQfJuD"
   },
   "outputs": [],
   "source": [
    "def check_num(num): # Argument given\n",
    "  if num >= 0:\n",
    "    print(f\" {num} is positive\")\n",
    "  else:\n",
    "    print(f\" {num} is negative\")\n",
    "                    # No Return"
   ]
  },
  {
   "cell_type": "code",
   "execution_count": null,
   "metadata": {
    "colab": {
     "base_uri": "https://localhost:8080/"
    },
    "id": "mdkrZfNTfNvW",
    "outputId": "3a7c271c-3b7e-48e9-bd53-c9f3a1b78801"
   },
   "outputs": [
    {
     "name": "stdout",
     "output_type": "stream",
     "text": [
      " 50 is positive\n"
     ]
    }
   ],
   "source": [
    "check_num(50)"
   ]
  },
  {
   "cell_type": "code",
   "execution_count": null,
   "metadata": {
    "colab": {
     "base_uri": "https://localhost:8080/"
    },
    "id": "K5RINeidfNr4",
    "outputId": "1a2f6a55-003f-452d-f841-b2307cf04594"
   },
   "outputs": [
    {
     "name": "stdout",
     "output_type": "stream",
     "text": [
      " -7 is negative\n"
     ]
    }
   ],
   "source": [
    "check_num(-7)"
   ]
  },
  {
   "cell_type": "code",
   "execution_count": null,
   "metadata": {
    "id": "kdP7A27_fNn2"
   },
   "outputs": [],
   "source": []
  },
  {
   "cell_type": "markdown",
   "metadata": {
    "id": "_w59p59drXVF"
   },
   "source": [
    "**Function with No Argument & Return type**"
   ]
  },
  {
   "cell_type": "code",
   "execution_count": null,
   "metadata": {
    "id": "ySnX2R4brVFA"
   },
   "outputs": [],
   "source": [
    "def even_odd():     # No Argument\n",
    "  x = int(input(\"Enter the number\"))\n",
    "  if x % 2 == 0:\n",
    "    return f'{x} is even'\n",
    "  else:\n",
    "    return f'{x} is odd'   # Return given"
   ]
  },
  {
   "cell_type": "code",
   "execution_count": null,
   "metadata": {
    "colab": {
     "base_uri": "https://localhost:8080/"
    },
    "id": "QxLutJRefNgg",
    "outputId": "445c4eeb-6729-45c9-b060-a6c97c5a1c00"
   },
   "outputs": [
    {
     "name": "stdout",
     "output_type": "stream",
     "text": [
      "Enter the number22\n"
     ]
    }
   ],
   "source": [
    "result = even_odd()"
   ]
  },
  {
   "cell_type": "code",
   "execution_count": null,
   "metadata": {
    "colab": {
     "base_uri": "https://localhost:8080/"
    },
    "id": "iRHFQgsnsYx8",
    "outputId": "dc58216d-7119-4407-8219-adc07c4108b4"
   },
   "outputs": [
    {
     "name": "stdout",
     "output_type": "stream",
     "text": [
      "22 is even\n"
     ]
    }
   ],
   "source": [
    "print(result)"
   ]
  },
  {
   "cell_type": "code",
   "execution_count": null,
   "metadata": {
    "id": "8_lnqrZsswik"
   },
   "outputs": [],
   "source": []
  },
  {
   "cell_type": "markdown",
   "metadata": {
    "id": "0OBzVGohs-yb"
   },
   "source": [
    "**Function with Argument & Return type**"
   ]
  },
  {
   "cell_type": "code",
   "execution_count": null,
   "metadata": {
    "id": "oH4efV67swzk"
   },
   "outputs": [],
   "source": [
    "def check_age(y):\n",
    "  if y <= 18:\n",
    "    return f\"{y} is not eligible to open bank account.\"\n",
    "  else:\n",
    "    return f\"{y} is eligible to open bank account.\""
   ]
  },
  {
   "cell_type": "code",
   "execution_count": null,
   "metadata": {
    "id": "ohkwe7WDs-aP"
   },
   "outputs": [],
   "source": [
    "def bank():\n",
    "  print(\"Welcome to the bank ABC\")\n",
    "  name = input(\"Please enter your name: \")\n",
    "  age = int(input(\"Please enter your age: \"))\n",
    "  valid_age = check_age(age)\n",
    "\n",
    "  if valid_age == True:\n",
    "    city = input(\"enter your city\")\n",
    "    print(\"further details\")\n",
    "  else:\n",
    "    print(f\"wait {18-age} years to open your account\")"
   ]
  },
  {
   "cell_type": "code",
   "execution_count": null,
   "metadata": {
    "colab": {
     "base_uri": "https://localhost:8080/"
    },
    "id": "IEEohVHjs-Xl",
    "outputId": "17e30fcc-87eb-4d10-88a7-f014dc96303e"
   },
   "outputs": [
    {
     "name": "stdout",
     "output_type": "stream",
     "text": [
      "Welcome to the bank ABC\n",
      "Please enter your name: 12\n",
      "Please enter your age: 12\n",
      "wait 6 years to open your account\n"
     ]
    }
   ],
   "source": [
    "bank() # If valid_age == True:"
   ]
  },
  {
   "cell_type": "code",
   "execution_count": null,
   "metadata": {
    "colab": {
     "base_uri": "https://localhost:8080/"
    },
    "id": "gwqf5RyRs-UY",
    "outputId": "55933a40-6398-4c09-9d87-786ac84e543b"
   },
   "outputs": [
    {
     "name": "stdout",
     "output_type": "stream",
     "text": [
      "Welcome to the bank ABC\n",
      "Please enter your name: shri\n",
      "Please enter your age: 15\n",
      "enter your citypune\n",
      "further details\n"
     ]
    }
   ],
   "source": [
    "bank() # If valid_age:"
   ]
  },
  {
   "cell_type": "code",
   "execution_count": null,
   "metadata": {
    "id": "5v65jrg3s-RE"
   },
   "outputs": [],
   "source": []
  },
  {
   "cell_type": "markdown",
   "metadata": {
    "id": "-lPhpfzUyYB2"
   },
   "source": [
    "## ***Types of Arguments***\n",
    "\n",
    "1. Positional Argument\n",
    "2. Default Argument\n",
    "3. Variable Length Argument\n",
    "4. Keyword Argument\n",
    "5. Variable Length Keyword Argument"
   ]
  },
  {
   "cell_type": "code",
   "execution_count": null,
   "metadata": {
    "id": "Q3nL2E1Ds-Oe"
   },
   "outputs": [],
   "source": []
  },
  {
   "cell_type": "markdown",
   "metadata": {
    "id": "ukAT-age1YyK"
   },
   "source": [
    "***Positional Argumnent***\n",
    "\n",
    "---> Has to be in the same sequence as Formal Argument.\n",
    "\n",
    "---> Used when less number of arguments are there.\n",
    "\n",
    "***position of argument is very importent***"
   ]
  },
  {
   "cell_type": "code",
   "execution_count": null,
   "metadata": {
    "id": "5hJZFWWys-LQ"
   },
   "outputs": [],
   "source": [
    "def details(name,age,city):\n",
    "  print(f\"age = {age}\")\n",
    "  print(f\"name = {name}\")\n",
    "  print(f\"city = {city}\")"
   ]
  },
  {
   "cell_type": "code",
   "execution_count": null,
   "metadata": {
    "colab": {
     "base_uri": "https://localhost:8080/"
    },
    "id": "zl0ei2gcs-HG",
    "outputId": "d4092856-e4b9-42bb-87dd-0fe4a3cbcbd1"
   },
   "outputs": [
    {
     "name": "stdout",
     "output_type": "stream",
     "text": [
      "age = 29\n",
      "name = shri\n",
      "city = pune\n"
     ]
    }
   ],
   "source": [
    "details('shri',29,'pune') # position/sequence is correct"
   ]
  },
  {
   "cell_type": "code",
   "execution_count": null,
   "metadata": {
    "colab": {
     "base_uri": "https://localhost:8080/"
    },
    "id": "qAMjhYBOs-Do",
    "outputId": "8ea223ed-e768-46bf-d58d-79f67f8a136a"
   },
   "outputs": [
    {
     "name": "stdout",
     "output_type": "stream",
     "text": [
      "age = pune\n",
      "name = shri\n",
      "city = 29\n"
     ]
    }
   ],
   "source": [
    "details('shri','pune',29) # position/sequence is incorrect"
   ]
  },
  {
   "cell_type": "code",
   "execution_count": null,
   "metadata": {
    "id": "UhOKV2qis-Aw"
   },
   "outputs": [],
   "source": []
  },
  {
   "cell_type": "markdown",
   "metadata": {
    "id": "24CBN3pD4yIb"
   },
   "source": [
    "***Default Argument***\n",
    "\n",
    "---> If we pass more or less argument in actual argument than thai of in formal argument then python will show an error (*type error*).\n",
    "\n",
    "---> We can set default value for any argument.\n",
    "\n",
    "---> If actual argument is given it will take given value.\n",
    "\n",
    "---> If actual argument is not provided it will take default value.\n",
    "\n",
    "---> Default arguments should always be to the right of positional argument."
   ]
  },
  {
   "cell_type": "code",
   "execution_count": null,
   "metadata": {
    "id": "SJ8w00Jhs995"
   },
   "outputs": [],
   "source": [
    "def add(a,b,c):\n",
    "  print(a+b+c)"
   ]
  },
  {
   "cell_type": "code",
   "execution_count": null,
   "metadata": {
    "colab": {
     "base_uri": "https://localhost:8080/",
     "height": 163
    },
    "id": "k-rH6tpRs96H",
    "outputId": "6005be1b-cec0-4235-e0bf-7639e89226e9"
   },
   "outputs": [
    {
     "ename": "TypeError",
     "evalue": "ignored",
     "output_type": "error",
     "traceback": [
      "\u001b[0;31m---------------------------------------------------------------------------\u001b[0m",
      "\u001b[0;31mTypeError\u001b[0m                                 Traceback (most recent call last)",
      "\u001b[0;32m<ipython-input-41-0339d86baa86>\u001b[0m in \u001b[0;36m<module>\u001b[0;34m()\u001b[0m\n\u001b[0;32m----> 1\u001b[0;31m \u001b[0madd\u001b[0m\u001b[0;34m(\u001b[0m\u001b[0;36m10\u001b[0m\u001b[0;34m,\u001b[0m\u001b[0;36m20\u001b[0m\u001b[0;34m)\u001b[0m \u001b[0;31m# Shows error if argument not given\u001b[0m\u001b[0;34m\u001b[0m\u001b[0;34m\u001b[0m\u001b[0m\n\u001b[0m",
      "\u001b[0;31mTypeError\u001b[0m: add() missing 1 required positional argument: 'c'"
     ]
    }
   ],
   "source": [
    "add(10,20) # Shows error if argument not given"
   ]
  },
  {
   "cell_type": "code",
   "execution_count": null,
   "metadata": {
    "id": "YjcilCjb9nNP"
   },
   "outputs": [],
   "source": [
    "def add(a,b,c=0):\n",
    "  print(a+b+c)"
   ]
  },
  {
   "cell_type": "code",
   "execution_count": null,
   "metadata": {
    "id": "lK8Xty-h9sdV"
   },
   "outputs": [],
   "source": [
    "add(10,20,5)"
   ]
  },
  {
   "cell_type": "code",
   "execution_count": null,
   "metadata": {
    "id": "D7raltoG96V0"
   },
   "outputs": [],
   "source": [
    "add(10,20) # Don't need to give default argument"
   ]
  },
  {
   "cell_type": "code",
   "execution_count": null,
   "metadata": {
    "id": "GP3G316b-OGj"
   },
   "outputs": [],
   "source": []
  },
  {
   "cell_type": "markdown",
   "metadata": {
    "id": "eQqJBmqg-Ve8"
   },
   "source": [
    "***Variable Length Argument*** --- (***arg**)\n",
    "\n",
    "---> If we don't know how many arguments are going to be there.\n",
    "\n",
    "---> In variable length argument we can pass any number of arguments.\n",
    "\n",
    "---> Saves the arguments in *tuple*"
   ]
  },
  {
   "cell_type": "code",
   "execution_count": null,
   "metadata": {
    "id": "t-dTrF7b-OC5"
   },
   "outputs": [],
   "source": [
    "def variable(*arg):\n",
    "  print(arg)"
   ]
  },
  {
   "cell_type": "code",
   "execution_count": null,
   "metadata": {
    "id": "ouuKY1_3-N90"
   },
   "outputs": [],
   "source": [
    "variable(10,20,25.83,'pythpn','c++')"
   ]
  },
  {
   "cell_type": "code",
   "execution_count": null,
   "metadata": {
    "id": "zp9Ohvqt-N6y"
   },
   "outputs": [],
   "source": [
    "def addition(*num):\n",
    "  total = 0\n",
    "  for i in num:\n",
    "    total = total+i\n",
    "  print(total)"
   ]
  },
  {
   "cell_type": "code",
   "execution_count": null,
   "metadata": {
    "id": "qR2pdcWe-N3g"
   },
   "outputs": [],
   "source": [
    "addition(10,20,30,-30)"
   ]
  },
  {
   "cell_type": "code",
   "execution_count": null,
   "metadata": {
    "id": "y-7pm-_K-N0b"
   },
   "outputs": [],
   "source": []
  },
  {
   "cell_type": "markdown",
   "metadata": {
    "id": "2MLmrhexBvSQ"
   },
   "source": [
    "***Keyword Argument***\n",
    "\n",
    "---> If we dont know the sequence of formal arguments, we can derecty pass key values in actual argument itself."
   ]
  },
  {
   "cell_type": "code",
   "execution_count": null,
   "metadata": {
    "id": "LFys3EKH-Nxd"
   },
   "outputs": [],
   "source": [
    "def details(name,age,city):\n",
    "  print(f\"name = {name}\")\n",
    "  print(f\"age = {age}\")\n",
    "  print(f\"city = {city}\")"
   ]
  },
  {
   "cell_type": "code",
   "execution_count": null,
   "metadata": {
    "id": "DE3pbsxA-Nu_"
   },
   "outputs": [],
   "source": [
    "details(city='pune',name='shr',age=29)"
   ]
  },
  {
   "cell_type": "code",
   "execution_count": null,
   "metadata": {
    "id": "faz-sX0X-NrR"
   },
   "outputs": [],
   "source": []
  },
  {
   "cell_type": "markdown",
   "metadata": {
    "id": "FQv0azqwCxi3"
   },
   "source": [
    "***Variable Length Keyword Argument*** --- (****kwarg**) \n",
    "\n",
    "---> To pass infinite key values in actual argument.\n",
    "\n",
    "---> Stores the result in *dict* in key-value pair."
   ]
  },
  {
   "cell_type": "code",
   "execution_count": null,
   "metadata": {
    "id": "DQVk4DsM-NoM"
   },
   "outputs": [],
   "source": [
    "def temp(**kwarg):\n",
    "  print(kwarg)"
   ]
  },
  {
   "cell_type": "code",
   "execution_count": null,
   "metadata": {
    "id": "htGHG65N-NfD"
   },
   "outputs": [],
   "source": [
    "temp(name='shr',city='pune',dept='mech')"
   ]
  },
  {
   "cell_type": "code",
   "execution_count": null,
   "metadata": {
    "id": "bHyq1hGU9-qs"
   },
   "outputs": [],
   "source": []
  },
  {
   "cell_type": "markdown",
   "metadata": {
    "id": "_FHbfI6tDvGo"
   },
   "source": [
    "***Emunerate***\n",
    "\n",
    "---> Function is used in Index, to print both index and associated element."
   ]
  },
  {
   "cell_type": "code",
   "execution_count": null,
   "metadata": {
    "id": "Rabj8NVqDvvC"
   },
   "outputs": [],
   "source": [
    "p = ['python','java','c++',100,200] # List\n",
    "q = ('python','java','c++',100,200) # Tuple\n",
    "r = 'python' # String\n",
    "s = {'python':'uhfh','java':'c++',100:200} # Dict\n",
    "t = {'python','java','c++',100,200} # Set"
   ]
  },
  {
   "cell_type": "code",
   "execution_count": null,
   "metadata": {
    "colab": {
     "base_uri": "https://localhost:8080/"
    },
    "id": "XnmRtQzYDwiF",
    "outputId": "094b6d55-1ff4-4d89-9b2f-9da926ca2c73"
   },
   "outputs": [
    {
     "name": "stdout",
     "output_type": "stream",
     "text": [
      "(0, 'python')\n",
      "(1, 'java')\n",
      "(2, 'c++')\n",
      "(3, 100)\n",
      "(4, 200)\n",
      "\n",
      "(0, 'python')\n",
      "(1, 'java')\n",
      "(2, 'c++')\n",
      "(3, 100)\n",
      "(4, 200)\n",
      "\n",
      "(0, 'p')\n",
      "(1, 'y')\n",
      "(2, 't')\n",
      "(3, 'h')\n",
      "(4, 'o')\n",
      "(5, 'n')\n",
      "\n",
      "(0, 'python')\n",
      "(1, 'java')\n",
      "(2, 100)\n",
      "\n",
      "(0, 100)\n",
      "(1, 'java')\n",
      "(2, 'python')\n",
      "(3, 200)\n",
      "(4, 'c++')\n",
      "\n"
     ]
    }
   ],
   "source": [
    "x = p,q,r,s,t\n",
    "for i in x:\n",
    "  for j in enumerate(i):\n",
    "    print(j)\n",
    "  print()"
   ]
  },
  {
   "cell_type": "markdown",
   "metadata": {
    "id": "_ovnBhP7DweY"
   },
   "source": [
    "***Types of Variables***\n",
    "1. Global Variables\n",
    "2. Local Variables"
   ]
  },
  {
   "cell_type": "code",
   "execution_count": null,
   "metadata": {
    "id": "XicrFi-ZDwak"
   },
   "outputs": [],
   "source": []
  },
  {
   "cell_type": "markdown",
   "metadata": {
    "id": "O6_KdjcrDwXZ"
   },
   "source": [
    "***Global Variables***\n",
    "\n",
    "---> The variables which are defined outside the Function.\n",
    "---> Global variables are accessible to all the functions.\n",
    "\n",
    "*global* function/keyword is used to access global variable inside the function for editing or doing some other changes to the variable inside the function.\n",
    "\n",
    "If we want to access a global variable inside function, which already has a variable of same name, then we can use:- \n",
    "globals()['variable_name'].\n",
    "\n",
    "***Local Variables***\n",
    "\n",
    "---> The variables which are defined inside the function.\n",
    "---> Local variables are only accessible to the function in which they are defined.\n",
    "---> In function local variable takes priority over global variable."
   ]
  },
  {
   "cell_type": "code",
   "execution_count": 2,
   "metadata": {
    "id": "fRNjTLf6DwKx"
   },
   "outputs": [
    {
     "name": "stdout",
     "output_type": "stream",
     "text": [
      "python class\n"
     ]
    }
   ],
   "source": [
    "class_name = 'python class'  # GLOBAL VARIABLE\n",
    "def show():\n",
    "    class_name = 'adv python'  # LOCAL VARIABLE\n",
    "    print(class_name) # wont print unless function is called\n",
    "print(class_name) # outside the function so global variable"
   ]
  },
  {
   "cell_type": "code",
   "execution_count": 3,
   "metadata": {},
   "outputs": [
    {
     "name": "stdout",
     "output_type": "stream",
     "text": [
      "adv python\n"
     ]
    }
   ],
   "source": [
    "show() # Local variable takes priority"
   ]
  },
  {
   "cell_type": "code",
   "execution_count": null,
   "metadata": {},
   "outputs": [],
   "source": []
  },
  {
   "cell_type": "code",
   "execution_count": 4,
   "metadata": {},
   "outputs": [],
   "source": [
    "a = 100\n",
    "def abc():\n",
    "    a = 10\n",
    "    print(a)\n",
    "def pqr():\n",
    "    print(a)"
   ]
  },
  {
   "cell_type": "code",
   "execution_count": 5,
   "metadata": {},
   "outputs": [
    {
     "name": "stdout",
     "output_type": "stream",
     "text": [
      "10\n",
      "100\n"
     ]
    }
   ],
   "source": [
    "abc()\n",
    "pqr()"
   ]
  },
  {
   "cell_type": "code",
   "execution_count": null,
   "metadata": {},
   "outputs": [],
   "source": []
  },
  {
   "cell_type": "markdown",
   "metadata": {},
   "source": [
    "Can we edit global Variable inside the function\n",
    "---> YES"
   ]
  },
  {
   "cell_type": "code",
   "execution_count": 6,
   "metadata": {},
   "outputs": [],
   "source": [
    "a = 100\n",
    "def abc():\n",
    "    a = 10\n",
    "    print(a)\n",
    "def pqr():\n",
    "    print(a)\n",
    "def m1():\n",
    "    global a\n",
    "    a = 'python'\n",
    "    print(a)\n",
    "def m2():\n",
    "    print(a)"
   ]
  },
  {
   "cell_type": "code",
   "execution_count": 7,
   "metadata": {},
   "outputs": [
    {
     "name": "stdout",
     "output_type": "stream",
     "text": [
      "10\n",
      "100\n",
      "python\n",
      "python\n"
     ]
    }
   ],
   "source": [
    "abc() # Local tahes priority\n",
    "pqr() # Global V\n",
    "m1()  # Global variable Edited\n",
    "m2() # edited global variable"
   ]
  },
  {
   "cell_type": "raw",
   "metadata": {},
   "source": [
    "function in which global variable is edited called first"
   ]
  },
  {
   "cell_type": "code",
   "execution_count": 9,
   "metadata": {},
   "outputs": [
    {
     "name": "stdout",
     "output_type": "stream",
     "text": [
      "python\n",
      "10\n",
      "python\n",
      "python\n"
     ]
    }
   ],
   "source": [
    "m1()  # Global variable Edited\n",
    "abc() # Local tahes priority\n",
    "pqr() # Edited Global V\n",
    "m2() # edited global variable"
   ]
  },
  {
   "cell_type": "code",
   "execution_count": null,
   "metadata": {},
   "outputs": [],
   "source": []
  },
  {
   "cell_type": "markdown",
   "metadata": {},
   "source": [
    "globals()['variable_name']\n",
    "---> To access Global variable inside the function which has local variable of same name inside it."
   ]
  },
  {
   "cell_type": "code",
   "execution_count": 12,
   "metadata": {},
   "outputs": [],
   "source": [
    "a = 100\n",
    "def m():\n",
    "    a = 10\n",
    "    print(a)\n",
    "    print(globals()['a'])"
   ]
  },
  {
   "cell_type": "code",
   "execution_count": 13,
   "metadata": {},
   "outputs": [
    {
     "name": "stdout",
     "output_type": "stream",
     "text": [
      "10\n",
      "100\n"
     ]
    }
   ],
   "source": [
    "m()"
   ]
  },
  {
   "cell_type": "code",
   "execution_count": 15,
   "metadata": {},
   "outputs": [],
   "source": [
    "a = 100\n",
    "def m():\n",
    "    a = 10\n",
    "    print(a)\n",
    "    print(globals()['a'])\n",
    "    globals()['a'] = 'sdp'\n",
    "    print(globals()['a'])"
   ]
  },
  {
   "cell_type": "code",
   "execution_count": 16,
   "metadata": {},
   "outputs": [
    {
     "name": "stdout",
     "output_type": "stream",
     "text": [
      "10\n",
      "100\n",
      "sdp\n"
     ]
    }
   ],
   "source": [
    "m()"
   ]
  },
  {
   "cell_type": "code",
   "execution_count": null,
   "metadata": {},
   "outputs": [],
   "source": []
  },
  {
   "cell_type": "markdown",
   "metadata": {},
   "source": [
    "***Function inside Function***\n",
    "\n",
    "---> If we call outer function inner function does not get called automatically.\n",
    "---> can't call inner function without return function.\n",
    "---> Have to call the inner function inside the outer function.\n",
    "\n",
    "---> Even in outer function can't call inner before it is defined."
   ]
  },
  {
   "cell_type": "code",
   "execution_count": 4,
   "metadata": {},
   "outputs": [],
   "source": [
    "def outer():\n",
    "    print(\"Welcome\")\n",
    "    def inner():\n",
    "        print(\"Hello\")\n",
    "    print(\"bye\")"
   ]
  },
  {
   "cell_type": "code",
   "execution_count": 9,
   "metadata": {},
   "outputs": [
    {
     "name": "stdout",
     "output_type": "stream",
     "text": [
      "Welcome\n",
      "bye\n"
     ]
    }
   ],
   "source": [
    "outer() and inner() # Doesn't work"
   ]
  },
  {
   "cell_type": "code",
   "execution_count": 10,
   "metadata": {
    "scrolled": true
   },
   "outputs": [
    {
     "ename": "NameError",
     "evalue": "name 'inner' is not defined",
     "output_type": "error",
     "traceback": [
      "\u001b[1;31m---------------------------------------------------------------------------\u001b[0m",
      "\u001b[1;31mNameError\u001b[0m                                 Traceback (most recent call last)",
      "\u001b[1;32m<ipython-input-10-bc10f1654870>\u001b[0m in \u001b[0;36m<module>\u001b[1;34m\u001b[0m\n\u001b[1;32m----> 1\u001b[1;33m \u001b[0minner\u001b[0m\u001b[1;33m(\u001b[0m\u001b[1;33m)\u001b[0m\u001b[1;33m\u001b[0m\u001b[1;33m\u001b[0m\u001b[0m\n\u001b[0m",
      "\u001b[1;31mNameError\u001b[0m: name 'inner' is not defined"
     ]
    }
   ],
   "source": [
    "inner() # can't call it by actual name."
   ]
  },
  {
   "cell_type": "code",
   "execution_count": 11,
   "metadata": {},
   "outputs": [],
   "source": [
    "def outer():\n",
    "    print(\"Welcome\")\n",
    "    def inner():\n",
    "        print(\"Hello\")\n",
    "    inner()\n",
    "    print(\"bye\")"
   ]
  },
  {
   "cell_type": "code",
   "execution_count": 12,
   "metadata": {},
   "outputs": [
    {
     "name": "stdout",
     "output_type": "stream",
     "text": [
      "Welcome\n",
      "Hello\n",
      "bye\n"
     ]
    }
   ],
   "source": [
    "outer()"
   ]
  },
  {
   "cell_type": "code",
   "execution_count": 13,
   "metadata": {},
   "outputs": [],
   "source": [
    "def outer():\n",
    "    print(\"Welcome\")\n",
    "    inner()\n",
    "    def inner():\n",
    "        print(\"Hello\")\n",
    "    print(\"bye\")"
   ]
  },
  {
   "cell_type": "code",
   "execution_count": 14,
   "metadata": {},
   "outputs": [
    {
     "name": "stdout",
     "output_type": "stream",
     "text": [
      "Welcome\n"
     ]
    },
    {
     "ename": "UnboundLocalError",
     "evalue": "local variable 'inner' referenced before assignment",
     "output_type": "error",
     "traceback": [
      "\u001b[1;31m---------------------------------------------------------------------------\u001b[0m",
      "\u001b[1;31mUnboundLocalError\u001b[0m                         Traceback (most recent call last)",
      "\u001b[1;32m<ipython-input-14-0811df1b6f71>\u001b[0m in \u001b[0;36m<module>\u001b[1;34m\u001b[0m\n\u001b[1;32m----> 1\u001b[1;33m \u001b[0mouter\u001b[0m\u001b[1;33m(\u001b[0m\u001b[1;33m)\u001b[0m\u001b[1;33m\u001b[0m\u001b[1;33m\u001b[0m\u001b[0m\n\u001b[0m",
      "\u001b[1;32m<ipython-input-13-781fa6f8c44d>\u001b[0m in \u001b[0;36mouter\u001b[1;34m()\u001b[0m\n\u001b[0;32m      1\u001b[0m \u001b[1;32mdef\u001b[0m \u001b[0mouter\u001b[0m\u001b[1;33m(\u001b[0m\u001b[1;33m)\u001b[0m\u001b[1;33m:\u001b[0m\u001b[1;33m\u001b[0m\u001b[1;33m\u001b[0m\u001b[0m\n\u001b[0;32m      2\u001b[0m     \u001b[0mprint\u001b[0m\u001b[1;33m(\u001b[0m\u001b[1;34m\"Welcome\"\u001b[0m\u001b[1;33m)\u001b[0m\u001b[1;33m\u001b[0m\u001b[1;33m\u001b[0m\u001b[0m\n\u001b[1;32m----> 3\u001b[1;33m     \u001b[0minner\u001b[0m\u001b[1;33m(\u001b[0m\u001b[1;33m)\u001b[0m\u001b[1;33m\u001b[0m\u001b[1;33m\u001b[0m\u001b[0m\n\u001b[0m\u001b[0;32m      4\u001b[0m     \u001b[1;32mdef\u001b[0m \u001b[0minner\u001b[0m\u001b[1;33m(\u001b[0m\u001b[1;33m)\u001b[0m\u001b[1;33m:\u001b[0m\u001b[1;33m\u001b[0m\u001b[1;33m\u001b[0m\u001b[0m\n\u001b[0;32m      5\u001b[0m         \u001b[0mprint\u001b[0m\u001b[1;33m(\u001b[0m\u001b[1;34m\"Hello\"\u001b[0m\u001b[1;33m)\u001b[0m\u001b[1;33m\u001b[0m\u001b[1;33m\u001b[0m\u001b[0m\n",
      "\u001b[1;31mUnboundLocalError\u001b[0m: local variable 'inner' referenced before assignment"
     ]
    }
   ],
   "source": [
    "outer()"
   ]
  },
  {
   "cell_type": "code",
   "execution_count": 15,
   "metadata": {},
   "outputs": [],
   "source": [
    "def outer():\n",
    "    print(\"Welcome\")\n",
    "    def inner():\n",
    "        print(\"Hello\")\n",
    "    print(\"bye\")\n",
    "    inner()"
   ]
  },
  {
   "cell_type": "code",
   "execution_count": 16,
   "metadata": {},
   "outputs": [
    {
     "name": "stdout",
     "output_type": "stream",
     "text": [
      "Welcome\n",
      "bye\n",
      "Hello\n"
     ]
    }
   ],
   "source": [
    "outer()"
   ]
  },
  {
   "cell_type": "code",
   "execution_count": 35,
   "metadata": {},
   "outputs": [],
   "source": [
    "a = 10\n",
    "def m1():\n",
    "    a = 100\n",
    "    print(a)\n",
    "        \n",
    "    def m2():\n",
    "        a = 200\n",
    "        print(a)\n",
    "        \n",
    "        def m3():\n",
    "            a = 300\n",
    "            print(a)\n",
    "        m3()\n",
    "    m2()"
   ]
  },
  {
   "cell_type": "code",
   "execution_count": 36,
   "metadata": {},
   "outputs": [
    {
     "name": "stdout",
     "output_type": "stream",
     "text": [
      "100\n",
      "200\n",
      "300\n"
     ]
    }
   ],
   "source": [
    "m1()"
   ]
  },
  {
   "cell_type": "code",
   "execution_count": null,
   "metadata": {},
   "outputs": [],
   "source": []
  },
  {
   "cell_type": "code",
   "execution_count": 2,
   "metadata": {},
   "outputs": [],
   "source": [
    "cred = ('admin','admin@123')"
   ]
  },
  {
   "cell_type": "code",
   "execution_count": 38,
   "metadata": {},
   "outputs": [
    {
     "name": "stdout",
     "output_type": "stream",
     "text": [
      "welcometo grade calculation\n",
      "Enter your name: shri\n",
      "Enter your city: pune\n",
      "Enter the username: admin\n",
      "Enter the password: admin@123\n",
      "login successfully...\n",
      "*****\n",
      "Enter marks for m1: 10\n",
      "Enter marks for m2: 10\n",
      "shri\n",
      "pune\n",
      "200.0\n",
      "pass\n"
     ]
    }
   ],
   "source": [
    "def validation(username,password):\n",
    "    if username==cred[0]:\n",
    "        if password==cred[1]:\n",
    "            print(\"login successfully...\")\n",
    "            return True\n",
    "def markscal(m1,m2):\n",
    "    total = m1+m2\n",
    "    per1 = percal(total)\n",
    "    return per1\n",
    "\n",
    "def percal(total):\n",
    "    per = (total/10)*100\n",
    "    return per\n",
    "\n",
    "def gradecal(p):\n",
    "    if p>=40:\n",
    "        return \"pass\"\n",
    "    else:\n",
    "        return \"failed\"\n",
    "    \n",
    "def details(n,c,p,g):\n",
    "    print(n)\n",
    "    print(c)\n",
    "    print(p)\n",
    "    print(g)\n",
    "    \n",
    "print(\"welcometo grade calculation\")\n",
    "name = input(\"Enter your name: \")\n",
    "city = input(\"Enter your city: \")\n",
    "username = input(\"Enter the username: \")\n",
    "password = input(\"Enter the password: \")\n",
    "valid = validation(username,password)\n",
    "if valid:\n",
    "    print(\"*\"*5)\n",
    "    m1 = int(input(\"Enter marks for m1: \"))\n",
    "    m2 = int(input(\"Enter marks for m2: \"))\n",
    "    percentage = markscal(m1,m2)\n",
    "    \n",
    "    grade = gradecal(percentage)\n",
    "    \n",
    "    details(name,city,percentage,grade)\n",
    "else:\n",
    "    print(\"invalid cred\")"
   ]
  },
  {
   "cell_type": "code",
   "execution_count": null,
   "metadata": {},
   "outputs": [],
   "source": []
  },
  {
   "cell_type": "code",
   "execution_count": null,
   "metadata": {},
   "outputs": [],
   "source": []
  }
 ],
 "metadata": {
  "colab": {
   "name": "Functions.ipynb",
   "provenance": []
  },
  "kernelspec": {
   "display_name": "Python 3",
   "language": "python",
   "name": "python3"
  },
  "language_info": {
   "codemirror_mode": {
    "name": "ipython",
    "version": 3
   },
   "file_extension": ".py",
   "mimetype": "text/x-python",
   "name": "python",
   "nbconvert_exporter": "python",
   "pygments_lexer": "ipython3",
   "version": "3.8.8"
  }
 },
 "nbformat": 4,
 "nbformat_minor": 1
}
