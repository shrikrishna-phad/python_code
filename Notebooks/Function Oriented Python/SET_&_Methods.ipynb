{
 "cells": [
  {
   "cell_type": "markdown",
   "metadata": {
    "id": "tEBz66CKrSMP"
   },
   "source": [
    "***SET***\n",
    "\n",
    "Reprasented by curly brackets {}\n",
    "\n",
    "1.   **Mutable** data type, can change like insert, update.\n",
    "2.   **Set** is a collection of unique elements (no duplicate elements)\n",
    "3.   Indxing & Slicing not possible.\n",
    "4.   Can perform various operations like union, intersection, diffrence.\n"
   ]
  },
  {
   "cell_type": "code",
   "execution_count": null,
   "metadata": {
    "id": "i8FezSlfrTgF"
   },
   "outputs": [],
   "source": []
  },
  {
   "cell_type": "markdown",
   "metadata": {
    "id": "KAZUHRyNFtzd"
   },
   "source": [
    "***How to Create Set***\n",
    "\n",
    "1.   py_set = {atlest one element}\n",
    "\n",
    "2.   py_set = set()"
   ]
  },
  {
   "cell_type": "code",
   "execution_count": 1,
   "metadata": {
    "colab": {
     "base_uri": "https://localhost:8080/"
    },
    "id": "jzX0D3UzrTdA",
    "outputId": "5a0bb34d-920e-4bdb-efc8-357c0ebd5e69"
   },
   "outputs": [
    {
     "name": "stdout",
     "output_type": "stream",
     "text": [
      "<class 'dict'>\n"
     ]
    }
   ],
   "source": [
    "py_set = {}\n",
    "print(type(py_set))"
   ]
  },
  {
   "cell_type": "code",
   "execution_count": 2,
   "metadata": {
    "colab": {
     "base_uri": "https://localhost:8080/"
    },
    "id": "UOn22s-NrTZp",
    "outputId": "cccb505c-0cc6-47a6-a608-cdd8d8585536"
   },
   "outputs": [
    {
     "name": "stdout",
     "output_type": "stream",
     "text": [
      "<class 'set'>\n",
      "<class 'set'>\n"
     ]
    }
   ],
   "source": [
    "py_set1 = {10}\n",
    "py_set2 = {10,}\n",
    "print(type(py_set1))\n",
    "print(type(py_set2))"
   ]
  },
  {
   "cell_type": "code",
   "execution_count": 3,
   "metadata": {
    "colab": {
     "base_uri": "https://localhost:8080/"
    },
    "id": "skCHIs-8rTWR",
    "outputId": "b60e32b2-1942-4de0-bbba-d381143560c7"
   },
   "outputs": [
    {
     "name": "stdout",
     "output_type": "stream",
     "text": [
      "<class 'set'>\n"
     ]
    }
   ],
   "source": [
    "py_set4 = set()\n",
    "print(type(py_set4))"
   ]
  },
  {
   "cell_type": "code",
   "execution_count": null,
   "metadata": {
    "id": "B6bt58tzrTTY"
   },
   "outputs": [],
   "source": []
  },
  {
   "cell_type": "code",
   "execution_count": 4,
   "metadata": {
    "colab": {
     "base_uri": "https://localhost:8080/"
    },
    "id": "j0SgpmRyrTP7",
    "outputId": "114cc3a6-7829-4eaa-da16-4d1b5194b785"
   },
   "outputs": [
    {
     "name": "stdout",
     "output_type": "stream",
     "text": [
      "{1, 2, 3, 4, 5}\n",
      "{2, 3, 100, 300}\n"
     ]
    }
   ],
   "source": [
    "a = {1, 2, 3, 4, 5}\n",
    "b = {2, 3, 100, 300}\n",
    "print(a)\n",
    "print(b)"
   ]
  },
  {
   "cell_type": "code",
   "execution_count": null,
   "metadata": {
    "id": "NjI0lpIMrTM7"
   },
   "outputs": [],
   "source": []
  },
  {
   "cell_type": "markdown",
   "metadata": {
    "id": "V4NE6MPTIDoN"
   },
   "source": [
    "**Operations / Functions of SET**\n",
    "\n",
    "\n",
    "1.  **Add** ---> **name of set.add(element)** ---> To add a single element to the set randomly.\n",
    "\n",
    "\n",
    "2.  **Update** ---> **name of set.update({one or multiple elements})** ---> To update/add multiple elements to the elements at once.\n",
    "\n",
    "\n",
    "3.  **Copy** ---> **name of list.copy()** ---> To copy one set in other. default **deep copy**\n",
    "\n",
    "\n",
    "4.  **pop** ---> **name of list.pop() ---> To remove random element from list.\n",
    "\n",
    "\n",
    "5.  **Remove** ---> **name of list.remove(element)** ---> To remove specific element from list.\n",
    "\n",
    "\n",
    "6.  **Discard** ---> **name of list.discard(element)** ---> To discard a specific element.\n",
    "\n",
    "\n",
    "7.  **Union** --> **name of set1.union(name of list2)** ---> Only the unique elements between sets.\n",
    "\n",
    "\n",
    "8.  **Intersection** ---> **name of set1.intersection(name of list2)** ---> only elements which are common in both sets.\n",
    "\n",
    "\n",
    "9.  **Diffrence** ---> **name of set1.diffrence(name of list2)** ---> Only the elements whinch are prasent in set1 but not in set2.\n",
    "\n",
    "\n",
    "10. **Symmetric Diffrence** ---> **name of set1.symmetric_diffrence(name of list2)** ---> Only elements which are prasent in either set but not both.\n",
    "\n",
    "\n",
    "11.  **Is super set** ---> **name of set1.issuperset(name of list2)** ---> If set1 super set of set2 then **True** else **False**. Only boolean results.\n",
    "\n",
    "\n",
    "12.  **Is sub set** ---> **name of set1.issubset(name of list2)** ---> If set1 is subset of set2 then **True** else **False**. only boolean results.\n",
    "\n",
    "\n",
    "13.  **Disjoint** ---> **name of set1.disjoint(name of list2)** ---> If no element is common between set1 and set2 then **True** else **False**. only boolean results.\n",
    "\n",
    "14.  **Intersection Update** ---> **name of set1.intersection_update(name of list2)** ---> selects only elements which are common in both sets and saves those elements in set1 (overwrights set1).\n",
    "\n",
    "15.  **Diffrence Update** ---> **name of set1.diffrence_update(name of list2)** ---> Only the elements whinch are prasent in set1 but not in set2 and saves those elements in set1 (overwrights set1).\n",
    "\n",
    "16.  **Symmetric Diffrence** ---> **name of set1.symmetric_diffrence_update(name of list2)** ---> Only elements which are prasent in either set but not both and saves those elements in set1 (overwrights set1)."
   ]
  },
  {
   "cell_type": "code",
   "execution_count": null,
   "metadata": {
    "id": "Yu3KhsGhrTJc"
   },
   "outputs": [],
   "source": []
  },
  {
   "cell_type": "markdown",
   "metadata": {
    "id": "gj6D0ZTasoE_"
   },
   "source": [
    "**Add**\n",
    "\n",
    "**name of set.add(element)** \n",
    "\n",
    "--->To add a single element to the set randomly."
   ]
  },
  {
   "cell_type": "code",
   "execution_count": 5,
   "metadata": {
    "colab": {
     "base_uri": "https://localhost:8080/"
    },
    "id": "UWm-Lwt1s7Li",
    "outputId": "e8c5e326-3ac3-4b02-c929-29f672403a45"
   },
   "outputs": [
    {
     "name": "stdout",
     "output_type": "stream",
     "text": [
      "{1, 2, 3, 4, 5, 'python'}\n"
     ]
    }
   ],
   "source": [
    "a = {1, 2, 3, 4, 5, 'python'}\n",
    "print(a)"
   ]
  },
  {
   "cell_type": "code",
   "execution_count": 6,
   "metadata": {
    "colab": {
     "base_uri": "https://localhost:8080/"
    },
    "id": "27NIHzi8rTGU",
    "outputId": "7e1b99e7-d187-4135-a892-8b389cdcde0a"
   },
   "outputs": [
    {
     "name": "stdout",
     "output_type": "stream",
     "text": [
      "{1, 2, 3, 4, 5, 100, 'python'}\n"
     ]
    }
   ],
   "source": [
    "a.add(100)\n",
    "print(a)"
   ]
  },
  {
   "cell_type": "code",
   "execution_count": 7,
   "metadata": {
    "colab": {
     "base_uri": "https://localhost:8080/",
     "height": 167
    },
    "id": "XwwRyOv8rTCx",
    "outputId": "c14c369c-1637-4e0f-e01b-8e0f73ce587f"
   },
   "outputs": [
    {
     "ename": "TypeError",
     "evalue": "ignored",
     "output_type": "error",
     "traceback": [
      "\u001b[0;31m---------------------------------------------------------------------------\u001b[0m",
      "\u001b[0;31mTypeError\u001b[0m                                 Traceback (most recent call last)",
      "\u001b[0;32m<ipython-input-7-e9e446ddc05f>\u001b[0m in \u001b[0;36m<module>\u001b[0;34m()\u001b[0m\n\u001b[0;32m----> 1\u001b[0;31m \u001b[0ma\u001b[0m\u001b[0;34m.\u001b[0m\u001b[0madd\u001b[0m\u001b[0;34m(\u001b[0m\u001b[0;36m200\u001b[0m\u001b[0;34m,\u001b[0m \u001b[0;36m300\u001b[0m\u001b[0;34m)\u001b[0m \u001b[0;31m# Can add only one element\u001b[0m\u001b[0;34m\u001b[0m\u001b[0;34m\u001b[0m\u001b[0m\n\u001b[0m",
      "\u001b[0;31mTypeError\u001b[0m: add() takes exactly one argument (2 given)"
     ]
    }
   ],
   "source": [
    "a.add(200, 300) # Can add only one element"
   ]
  },
  {
   "cell_type": "code",
   "execution_count": null,
   "metadata": {
    "id": "bXkkAVW2rS_g"
   },
   "outputs": [],
   "source": []
  },
  {
   "cell_type": "markdown",
   "metadata": {
    "id": "tNw8EeHitb1v"
   },
   "source": [
    "**Update**\n",
    "\n",
    "**name of set.update({one or multiple elements})**\n",
    "\n",
    "---> To update/add multiple elements to the elements at once."
   ]
  },
  {
   "cell_type": "code",
   "execution_count": null,
   "metadata": {
    "id": "YhIzmVNJtbSC"
   },
   "outputs": [],
   "source": [
    "a.update({200, 300, 'c++'})\n",
    "print(a)"
   ]
  },
  {
   "cell_type": "code",
   "execution_count": null,
   "metadata": {
    "id": "WH7aBxONrS8d"
   },
   "outputs": [],
   "source": []
  },
  {
   "cell_type": "markdown",
   "metadata": {
    "id": "hbu8K8GCuky5"
   },
   "source": [
    "**Copy**\n",
    "\n",
    "**name of list.copy()**\n",
    "\n",
    "---> To copy one set in other.\n",
    "**default deep copy.**"
   ]
  },
  {
   "cell_type": "code",
   "execution_count": null,
   "metadata": {
    "id": "uhsPkSlbrS5f"
   },
   "outputs": [],
   "source": [
    "a1 = a.copy()\n",
    "print(a)\n",
    "print(a1)"
   ]
  },
  {
   "cell_type": "code",
   "execution_count": 8,
   "metadata": {
    "colab": {
     "base_uri": "https://localhost:8080/",
     "height": 203
    },
    "id": "STiXVywurS2P",
    "outputId": "ea78d8f8-bcab-44cb-8f7f-3ee42806f003"
   },
   "outputs": [
    {
     "ename": "NameError",
     "evalue": "ignored",
     "output_type": "error",
     "traceback": [
      "\u001b[0;31m---------------------------------------------------------------------------\u001b[0m",
      "\u001b[0;31mNameError\u001b[0m                                 Traceback (most recent call last)",
      "\u001b[0;32m<ipython-input-8-b09f10683684>\u001b[0m in \u001b[0;36m<module>\u001b[0;34m()\u001b[0m\n\u001b[0;32m----> 1\u001b[0;31m \u001b[0ma1\u001b[0m\u001b[0;34m.\u001b[0m\u001b[0madd\u001b[0m\u001b[0;34m(\u001b[0m\u001b[0;36m500\u001b[0m\u001b[0;34m)\u001b[0m \u001b[0;31m# deep copy\u001b[0m\u001b[0;34m\u001b[0m\u001b[0;34m\u001b[0m\u001b[0m\n\u001b[0m\u001b[1;32m      2\u001b[0m \u001b[0mprint\u001b[0m\u001b[0;34m(\u001b[0m\u001b[0ma\u001b[0m\u001b[0;34m)\u001b[0m\u001b[0;34m\u001b[0m\u001b[0;34m\u001b[0m\u001b[0m\n\u001b[1;32m      3\u001b[0m \u001b[0mprint\u001b[0m\u001b[0;34m(\u001b[0m\u001b[0ma1\u001b[0m\u001b[0;34m)\u001b[0m\u001b[0;34m\u001b[0m\u001b[0;34m\u001b[0m\u001b[0m\n",
      "\u001b[0;31mNameError\u001b[0m: name 'a1' is not defined"
     ]
    }
   ],
   "source": [
    "a1.add(500) # deep copy\n",
    "print(a)\n",
    "print(a1)"
   ]
  },
  {
   "cell_type": "code",
   "execution_count": null,
   "metadata": {
    "id": "owX8HoQXrSzG"
   },
   "outputs": [],
   "source": []
  },
  {
   "cell_type": "markdown",
   "metadata": {
    "id": "TQrYcydhxjah"
   },
   "source": [
    "**METHODS OF DELETING ELEMENT FROM SET**\n",
    "\n",
    "1.  **POP**\n",
    "---> Deletes element randomly.\n",
    "\n",
    "2.  **Remove**\n",
    "---> If element is present then it will delete the given element.\n",
    "\n",
    "---> If element is not present then it will show the error **(key error)**.\n",
    "\n",
    "3.  **Discard**\n",
    "---> If element is present then it will delete the element.\n",
    "\n",
    "---> if element is not present it eill do nothing (no errer)."
   ]
  },
  {
   "cell_type": "code",
   "execution_count": null,
   "metadata": {
    "id": "K6DAEamCxj6-"
   },
   "outputs": [],
   "source": []
  },
  {
   "cell_type": "markdown",
   "metadata": {
    "id": "FGteiRkPvIM-"
   },
   "source": [
    "**Pop**\n",
    "\n",
    "**name of list.pop()**\n",
    "\n",
    "---> To remove & store random element from list."
   ]
  },
  {
   "cell_type": "code",
   "execution_count": 9,
   "metadata": {
    "colab": {
     "base_uri": "https://localhost:8080/"
    },
    "id": "jG2cRyQtrStD",
    "outputId": "9c06d5d5-aaa7-4fd4-b3f8-6e37ab8f95b7"
   },
   "outputs": [
    {
     "name": "stdout",
     "output_type": "stream",
     "text": [
      "a =  {2, 3, 4, 5, 100, 'python'}\n",
      "a2 =  1\n"
     ]
    }
   ],
   "source": [
    "a2 = a.pop() # Can remove and store element randomly \n",
    "print('a = ', a)\n",
    "print('a2 = ', a2)"
   ]
  },
  {
   "cell_type": "code",
   "execution_count": null,
   "metadata": {
    "id": "Jh2xk-YjPfoA"
   },
   "outputs": [],
   "source": []
  },
  {
   "cell_type": "markdown",
   "metadata": {
    "id": "8orrC6JTQ-w_"
   },
   "source": [
    "**Remove**\n",
    "\n",
    "**name of list.remove(element)**\n",
    "\n",
    "---> To remove specific element from list."
   ]
  },
  {
   "cell_type": "code",
   "execution_count": 10,
   "metadata": {
    "colab": {
     "base_uri": "https://localhost:8080/",
     "height": 185
    },
    "id": "i4wSmr0QrSp_",
    "outputId": "f175ffe9-8c77-4dc5-8634-854b6179d92a"
   },
   "outputs": [
    {
     "ename": "KeyError",
     "evalue": "ignored",
     "output_type": "error",
     "traceback": [
      "\u001b[0;31m---------------------------------------------------------------------------\u001b[0m",
      "\u001b[0;31mKeyError\u001b[0m                                  Traceback (most recent call last)",
      "\u001b[0;32m<ipython-input-10-46c1ab146001>\u001b[0m in \u001b[0;36m<module>\u001b[0;34m()\u001b[0m\n\u001b[0;32m----> 1\u001b[0;31m \u001b[0ma\u001b[0m\u001b[0;34m.\u001b[0m\u001b[0mremove\u001b[0m\u001b[0;34m(\u001b[0m\u001b[0;36m300\u001b[0m\u001b[0;34m)\u001b[0m\u001b[0;34m\u001b[0m\u001b[0;34m\u001b[0m\u001b[0m\n\u001b[0m\u001b[1;32m      2\u001b[0m \u001b[0mprint\u001b[0m\u001b[0;34m(\u001b[0m\u001b[0ma\u001b[0m\u001b[0;34m)\u001b[0m\u001b[0;34m\u001b[0m\u001b[0;34m\u001b[0m\u001b[0m\n",
      "\u001b[0;31mKeyError\u001b[0m: 300"
     ]
    }
   ],
   "source": [
    "a.remove(300)\n",
    "print(a)"
   ]
  },
  {
   "cell_type": "code",
   "execution_count": 11,
   "metadata": {
    "colab": {
     "base_uri": "https://localhost:8080/",
     "height": 167
    },
    "id": "paN793zYrSmj",
    "outputId": "6ee90f97-846e-4410-a555-646b7eb0e652"
   },
   "outputs": [
    {
     "ename": "TypeError",
     "evalue": "ignored",
     "output_type": "error",
     "traceback": [
      "\u001b[0;31m---------------------------------------------------------------------------\u001b[0m",
      "\u001b[0;31mTypeError\u001b[0m                                 Traceback (most recent call last)",
      "\u001b[0;32m<ipython-input-11-55d27d0178e3>\u001b[0m in \u001b[0;36m<module>\u001b[0;34m()\u001b[0m\n\u001b[0;32m----> 1\u001b[0;31m \u001b[0ma\u001b[0m\u001b[0;34m.\u001b[0m\u001b[0mremove\u001b[0m\u001b[0;34m(\u001b[0m\u001b[0;36m200\u001b[0m\u001b[0;34m,\u001b[0m \u001b[0;36m100\u001b[0m\u001b[0;34m)\u001b[0m \u001b[0;31m# Can't remove multiple elements at once.\u001b[0m\u001b[0;34m\u001b[0m\u001b[0;34m\u001b[0m\u001b[0m\n\u001b[0m",
      "\u001b[0;31mTypeError\u001b[0m: remove() takes exactly one argument (2 given)"
     ]
    }
   ],
   "source": [
    "a.remove(200, 100) # Can't remove multiple elements at once."
   ]
  },
  {
   "cell_type": "code",
   "execution_count": 12,
   "metadata": {
    "colab": {
     "base_uri": "https://localhost:8080/",
     "height": 185
    },
    "id": "wVsqFAUYrC9L",
    "outputId": "e7376b50-2b76-4a1d-dca4-1d75f64ea0e3"
   },
   "outputs": [
    {
     "ename": "KeyError",
     "evalue": "ignored",
     "output_type": "error",
     "traceback": [
      "\u001b[0;31m---------------------------------------------------------------------------\u001b[0m",
      "\u001b[0;31mKeyError\u001b[0m                                  Traceback (most recent call last)",
      "\u001b[0;32m<ipython-input-12-51f2b7e11ed6>\u001b[0m in \u001b[0;36m<module>\u001b[0;34m()\u001b[0m\n\u001b[0;32m----> 1\u001b[0;31m \u001b[0ma\u001b[0m\u001b[0;34m.\u001b[0m\u001b[0mremove\u001b[0m\u001b[0;34m(\u001b[0m\u001b[0;36m1000\u001b[0m\u001b[0;34m)\u001b[0m \u001b[0;31m# if tried to remove element which is not there it will give type error.\u001b[0m\u001b[0;34m\u001b[0m\u001b[0;34m\u001b[0m\u001b[0m\n\u001b[0m\u001b[1;32m      2\u001b[0m \u001b[0mprint\u001b[0m\u001b[0;34m(\u001b[0m\u001b[0ma\u001b[0m\u001b[0;34m)\u001b[0m\u001b[0;34m\u001b[0m\u001b[0;34m\u001b[0m\u001b[0m\n",
      "\u001b[0;31mKeyError\u001b[0m: 1000"
     ]
    }
   ],
   "source": [
    "a.remove(1000) # if tried to remove element which is not there it will give type error.\n",
    "print(a)"
   ]
  },
  {
   "cell_type": "code",
   "execution_count": null,
   "metadata": {
    "id": "YKBeYPUDSmJK"
   },
   "outputs": [],
   "source": []
  },
  {
   "cell_type": "markdown",
   "metadata": {
    "id": "h6KEiUofRxTO"
   },
   "source": [
    "**Discard**\n",
    "\n",
    "**name of list.discard(element)**\n",
    "\n",
    "---> To discard a specific element."
   ]
  },
  {
   "cell_type": "code",
   "execution_count": 13,
   "metadata": {
    "colab": {
     "base_uri": "https://localhost:8080/"
    },
    "id": "sjf6lgxERy_G",
    "outputId": "0fbcbf16-f0a3-4a70-dd44-c04463a4fff2"
   },
   "outputs": [
    {
     "name": "stdout",
     "output_type": "stream",
     "text": [
      "{2, 3, 4, 5, 100, 'python'}\n"
     ]
    }
   ],
   "source": [
    "a.discard(200)\n",
    "print(a)"
   ]
  },
  {
   "cell_type": "code",
   "execution_count": 14,
   "metadata": {
    "colab": {
     "base_uri": "https://localhost:8080/"
    },
    "id": "0KWFgMSbRy2Y",
    "outputId": "1ea6ac70-10be-43f5-c647-460455ab0cb4"
   },
   "outputs": [
    {
     "name": "stdout",
     "output_type": "stream",
     "text": [
      "{2, 3, 4, 5, 100, 'python'}\n"
     ]
    }
   ],
   "source": [
    "a.discard(1000) # no error\n",
    "print(a)"
   ]
  },
  {
   "cell_type": "code",
   "execution_count": null,
   "metadata": {
    "id": "hNpOrri7Ryyq"
   },
   "outputs": [],
   "source": []
  },
  {
   "cell_type": "markdown",
   "metadata": {
    "id": "bkNpz7rgUYcW"
   },
   "source": [
    "\n",
    "**Union**\n",
    "\n",
    "**name of set1.union(name of list2)**\n",
    "\n",
    "---> Only the unique elements between sets."
   ]
  },
  {
   "cell_type": "code",
   "execution_count": 15,
   "metadata": {
    "colab": {
     "base_uri": "https://localhost:8080/"
    },
    "id": "9aEURVsmRyu3",
    "outputId": "a7d140c5-f968-409d-e15f-ef7a2cb3b3f2"
   },
   "outputs": [
    {
     "name": "stdout",
     "output_type": "stream",
     "text": [
      "a = {40, 10, 50, 20, 60, 30}\n",
      "b = {40, 20, 60}\n"
     ]
    }
   ],
   "source": [
    "a = {10, 20, 30, 40, 50, 60}\n",
    "b = {20, 40, 60,}\n",
    "print('a =', a)\n",
    "print('b =', b)"
   ]
  },
  {
   "cell_type": "code",
   "execution_count": 16,
   "metadata": {
    "colab": {
     "base_uri": "https://localhost:8080/"
    },
    "id": "I2Er_GxwRyre",
    "outputId": "00115107-43ff-4197-8fbd-e166b00e93bf"
   },
   "outputs": [
    {
     "name": "stdout",
     "output_type": "stream",
     "text": [
      "c = {40, 10, 50, 20, 60, 30}\n"
     ]
    }
   ],
   "source": [
    "c = a.union(b) # Only unique elements in set a and set b.\n",
    "print('c =', c)"
   ]
  },
  {
   "cell_type": "code",
   "execution_count": null,
   "metadata": {
    "id": "0CFDCDI6Ryk_"
   },
   "outputs": [],
   "source": []
  },
  {
   "cell_type": "markdown",
   "metadata": {
    "id": "kP_Z3w09V3hF"
   },
   "source": [
    "**Intersection**\n",
    "\n",
    "**name of set1.intersection(name of list2)**\n",
    "\n",
    "---> Only elements which are common in both sets."
   ]
  },
  {
   "cell_type": "code",
   "execution_count": 17,
   "metadata": {
    "colab": {
     "base_uri": "https://localhost:8080/"
    },
    "id": "2I_P5cKRRyh0",
    "outputId": "992e5e11-cebe-4152-a5b2-5e3748fa7b1b"
   },
   "outputs": [
    {
     "name": "stdout",
     "output_type": "stream",
     "text": [
      "a = {40, 10, 50, 20, 60, 30}\n",
      "b = {40, 20, 60}\n"
     ]
    }
   ],
   "source": [
    "print('a =', a)\n",
    "print('b =', b)"
   ]
  },
  {
   "cell_type": "code",
   "execution_count": 18,
   "metadata": {
    "colab": {
     "base_uri": "https://localhost:8080/"
    },
    "id": "AiC9724URx_c",
    "outputId": "75a12514-914b-4773-a527-cbd910531fa3"
   },
   "outputs": [
    {
     "name": "stdout",
     "output_type": "stream",
     "text": [
      "{40, 20, 60}\n"
     ]
    }
   ],
   "source": [
    "d = a.intersection(b) # Only elements which are common in both\n",
    "print(d)"
   ]
  },
  {
   "cell_type": "code",
   "execution_count": 19,
   "metadata": {
    "colab": {
     "base_uri": "https://localhost:8080/"
    },
    "id": "xzQ5JhONWhhc",
    "outputId": "0c30c92c-b5b8-45a5-b9c7-32fc2c1149b5"
   },
   "outputs": [
    {
     "name": "stdout",
     "output_type": "stream",
     "text": [
      "{40, 20, 60}\n"
     ]
    }
   ],
   "source": [
    "e = b.intersection(a)\n",
    "print(e)"
   ]
  },
  {
   "cell_type": "code",
   "execution_count": null,
   "metadata": {
    "id": "r7txQs3kW2-J"
   },
   "outputs": [],
   "source": []
  },
  {
   "cell_type": "markdown",
   "metadata": {
    "id": "kLT-iNxsW4Iz"
   },
   "source": [
    "**Diffrence**\n",
    "\n",
    "**name of set1.diffrence(name of list2)**\n",
    "\n",
    "---> Only the elements whinch are prasent in set1 but not in set2."
   ]
  },
  {
   "cell_type": "code",
   "execution_count": 20,
   "metadata": {
    "colab": {
     "base_uri": "https://localhost:8080/"
    },
    "id": "QTRq7TBQX9Se",
    "outputId": "4d3d4aef-1e3a-4d21-f283-0e17a36998c4"
   },
   "outputs": [
    {
     "name": "stdout",
     "output_type": "stream",
     "text": [
      "{40, 10, 50, 20, 60, 30}\n",
      "{40, 20, 60}\n"
     ]
    }
   ],
   "source": [
    "print(a)\n",
    "print(b)"
   ]
  },
  {
   "cell_type": "code",
   "execution_count": 21,
   "metadata": {
    "colab": {
     "base_uri": "https://localhost:8080/"
    },
    "id": "sBbcrVCdW26m",
    "outputId": "7ffb8273-be4f-4ce0-f0a0-f0ab5d72011e"
   },
   "outputs": [
    {
     "name": "stdout",
     "output_type": "stream",
     "text": [
      "{10, 50, 30}\n"
     ]
    }
   ],
   "source": [
    "f = a.difference(b) # Only the elements whinch are prasent in set1 but not in set2\n",
    "print(f)"
   ]
  },
  {
   "cell_type": "code",
   "execution_count": null,
   "metadata": {
    "id": "lrply5GqW22Z"
   },
   "outputs": [],
   "source": []
  },
  {
   "cell_type": "markdown",
   "metadata": {
    "id": "SLLKJ5UnYGYK"
   },
   "source": [
    "**Symmetric Diffrence**\n",
    "\n",
    "**name of set1.symmetric_diffrence(name of list2)**\n",
    "\n",
    "---> Only elements which are prasent in either set but not both."
   ]
  },
  {
   "cell_type": "code",
   "execution_count": 22,
   "metadata": {
    "colab": {
     "base_uri": "https://localhost:8080/"
    },
    "id": "RGzk1ciRW2yB",
    "outputId": "163a41aa-a166-46d9-a307-5e02410230e4"
   },
   "outputs": [
    {
     "name": "stdout",
     "output_type": "stream",
     "text": [
      "{40, 10, 50, 20, 60, 30}\n",
      "{40, 20, 60}\n"
     ]
    }
   ],
   "source": [
    "print(a)\n",
    "print(b)"
   ]
  },
  {
   "cell_type": "code",
   "execution_count": 23,
   "metadata": {
    "colab": {
     "base_uri": "https://localhost:8080/"
    },
    "id": "lTt9C2g6W2h6",
    "outputId": "d6347e44-1e1a-47ea-946d-bcbe9b932e5f"
   },
   "outputs": [
    {
     "name": "stdout",
     "output_type": "stream",
     "text": [
      "{10, 50, 30}\n"
     ]
    }
   ],
   "source": [
    "g = a.symmetric_difference(b) # Only elements which are prasent in either set but not both.\n",
    "print(g)"
   ]
  },
  {
   "cell_type": "code",
   "execution_count": null,
   "metadata": {
    "id": "Fhy7couEW2ej"
   },
   "outputs": [],
   "source": []
  },
  {
   "cell_type": "markdown",
   "metadata": {
    "id": "znaKTbPvZMis"
   },
   "source": [
    "**Is super set**\n",
    "\n",
    "**name of set1.issuperset(name of list2)**\n",
    "\n",
    "---> If set1 super set of set2 then True else False. Only boolean results."
   ]
  },
  {
   "cell_type": "code",
   "execution_count": 24,
   "metadata": {
    "colab": {
     "base_uri": "https://localhost:8080/"
    },
    "id": "3ouKVytdZL-x",
    "outputId": "aaf8c601-1aa0-4a38-8e53-cd28ea9d3409"
   },
   "outputs": [
    {
     "name": "stdout",
     "output_type": "stream",
     "text": [
      "{40, 10, 50, 20, 60, 30}\n",
      "{40, 20, 60}\n"
     ]
    }
   ],
   "source": [
    "print(a)\n",
    "print(b)"
   ]
  },
  {
   "cell_type": "code",
   "execution_count": 25,
   "metadata": {
    "colab": {
     "base_uri": "https://localhost:8080/"
    },
    "id": "KWaUDhUWW2bM",
    "outputId": "cbfa2c67-a94e-437e-f17d-16aa8353c2c0"
   },
   "outputs": [
    {
     "name": "stdout",
     "output_type": "stream",
     "text": [
      "True\n"
     ]
    }
   ],
   "source": [
    "h = a.issuperset(b) # all the elements of set b are in set a (a is super set of b)\n",
    "print(h)"
   ]
  },
  {
   "cell_type": "code",
   "execution_count": 26,
   "metadata": {
    "colab": {
     "base_uri": "https://localhost:8080/"
    },
    "id": "_6s1BA-_W2WB",
    "outputId": "47ed3420-b001-4120-bd50-543403dd00ac"
   },
   "outputs": [
    {
     "name": "stdout",
     "output_type": "stream",
     "text": [
      "False\n"
     ]
    }
   ],
   "source": [
    "i = b.issuperset(a) # all elements of b are not in a (b is not superset of a)\n",
    "print(i)"
   ]
  },
  {
   "cell_type": "markdown",
   "metadata": {
    "id": "jP0gbg7TaCjx"
   },
   "source": [
    "**Is sub set**\n",
    "\n",
    "**name of set1.issubset(name of list2)**\n",
    "\n",
    "---> If set1 is subset of set2 then True else False. only boolean results."
   ]
  },
  {
   "cell_type": "code",
   "execution_count": 27,
   "metadata": {
    "colab": {
     "base_uri": "https://localhost:8080/"
    },
    "id": "fwImpQctW2Kw",
    "outputId": "b39dd87d-d05e-41ce-9c22-9018cf51dd2d"
   },
   "outputs": [
    {
     "name": "stdout",
     "output_type": "stream",
     "text": [
      "{40, 10, 50, 20, 60, 30}\n",
      "{40, 20, 60}\n"
     ]
    }
   ],
   "source": [
    "print(a)\n",
    "print(b)"
   ]
  },
  {
   "cell_type": "code",
   "execution_count": 28,
   "metadata": {
    "colab": {
     "base_uri": "https://localhost:8080/"
    },
    "id": "mb5a9zpFW1pg",
    "outputId": "9731459c-2bc7-4b8c-f850-361023212640"
   },
   "outputs": [
    {
     "name": "stdout",
     "output_type": "stream",
     "text": [
      "False\n"
     ]
    }
   ],
   "source": [
    "j = a.issubset(b) # all the elements in a are not in b ( a is not subset of b )\n",
    "print(j)"
   ]
  },
  {
   "cell_type": "code",
   "execution_count": 29,
   "metadata": {
    "colab": {
     "base_uri": "https://localhost:8080/"
    },
    "id": "0O69O77GWyuD",
    "outputId": "123a02b2-235f-4c79-8092-9a68f108eecf"
   },
   "outputs": [
    {
     "name": "stdout",
     "output_type": "stream",
     "text": [
      "True\n"
     ]
    }
   ],
   "source": [
    "k = b.issubset(a) # all the elements in b are also in a ( b is subset of a)\n",
    "print(k)"
   ]
  },
  {
   "cell_type": "code",
   "execution_count": null,
   "metadata": {
    "id": "b2J_wUgQc4q7"
   },
   "outputs": [],
   "source": []
  },
  {
   "cell_type": "markdown",
   "metadata": {
    "id": "aERxfaV1c5Wq"
   },
   "source": [
    "**Disjoint**\n",
    "\n",
    "**name of set1.disjoint(name of list2)**\n",
    "\n",
    "--->If no element is common between set1 and set2 then True else False. only boolean results."
   ]
  },
  {
   "cell_type": "code",
   "execution_count": 30,
   "metadata": {
    "colab": {
     "base_uri": "https://localhost:8080/"
    },
    "id": "vqnSuyNPc4mi",
    "outputId": "6109fde7-a376-489e-e3be-369d1b1e9d8e"
   },
   "outputs": [
    {
     "name": "stdout",
     "output_type": "stream",
     "text": [
      "{40, 10, 50, 20, 60, 30}\n",
      "{40, 20, 60}\n"
     ]
    }
   ],
   "source": [
    "print(a)\n",
    "print(b)"
   ]
  },
  {
   "cell_type": "code",
   "execution_count": 31,
   "metadata": {
    "colab": {
     "base_uri": "https://localhost:8080/"
    },
    "id": "3a1XbJ-jc4iq",
    "outputId": "543e876f-b76f-4e3f-9151-983202f47a5a"
   },
   "outputs": [
    {
     "name": "stdout",
     "output_type": "stream",
     "text": [
      "False\n"
     ]
    }
   ],
   "source": [
    "l = a.isdisjoint(b) # there are common elements between a and b\n",
    "print(l)"
   ]
  },
  {
   "cell_type": "code",
   "execution_count": 32,
   "metadata": {
    "colab": {
     "base_uri": "https://localhost:8080/"
    },
    "id": "4ekwXqW4c4e_",
    "outputId": "a710a88e-1dcc-4fed-9e84-26bcd80967ff"
   },
   "outputs": [
    {
     "name": "stdout",
     "output_type": "stream",
     "text": [
      "{1, 2, 3, 4, 5}\n",
      "{6, 7, 8, 9, 10}\n"
     ]
    }
   ],
   "source": [
    "y = {1, 2, 3, 4, 5}\n",
    "z = {6, 7, 8, 9, 10}\n",
    "print(y)\n",
    "print(z)"
   ]
  },
  {
   "cell_type": "code",
   "execution_count": 33,
   "metadata": {
    "colab": {
     "base_uri": "https://localhost:8080/"
    },
    "id": "pkhO_9VGc4X7",
    "outputId": "cef1db3d-14f2-4ce5-80b5-70b1d6a4ff7c"
   },
   "outputs": [
    {
     "name": "stdout",
     "output_type": "stream",
     "text": [
      "True\n"
     ]
    }
   ],
   "source": [
    "m = y.isdisjoint(z)\n",
    "print(m)"
   ]
  },
  {
   "cell_type": "code",
   "execution_count": null,
   "metadata": {
    "id": "ixZKAGFuc4Ur"
   },
   "outputs": [],
   "source": []
  },
  {
   "cell_type": "markdown",
   "metadata": {
    "id": "kHwO3kB5RvZq"
   },
   "source": [
    "**Intersection Update**\n",
    "\n",
    "**name of set1.intersection_update(name of list2)**\n",
    "\n",
    "---> selects only elements which are common in both sets and saves those elements in set1 (overwrights set1)."
   ]
  },
  {
   "cell_type": "code",
   "execution_count": 34,
   "metadata": {
    "colab": {
     "base_uri": "https://localhost:8080/"
    },
    "id": "ZthZ_IX2QKSU",
    "outputId": "b574f589-59d4-49bb-cf6b-492d9bd77f53"
   },
   "outputs": [
    {
     "name": "stdout",
     "output_type": "stream",
     "text": [
      "{40, 10, 50, 20, 60, 30}\n",
      "{40, 20, 60}\n"
     ]
    }
   ],
   "source": [
    "print(a)\n",
    "print(b)"
   ]
  },
  {
   "cell_type": "code",
   "execution_count": 35,
   "metadata": {
    "colab": {
     "base_uri": "https://localhost:8080/"
    },
    "id": "22dFI7qCc4P_",
    "outputId": "793cd555-d1ec-4c12-f886-9d2a0668502d"
   },
   "outputs": [
    {
     "data": {
      "text/plain": [
       "{20, 40, 60}"
      ]
     },
     "execution_count": 35,
     "metadata": {
      "tags": []
     },
     "output_type": "execute_result"
    }
   ],
   "source": [
    "a.intersection(b)"
   ]
  },
  {
   "cell_type": "code",
   "execution_count": 36,
   "metadata": {
    "colab": {
     "base_uri": "https://localhost:8080/"
    },
    "id": "CqNQ7WEHc4Le",
    "outputId": "b3e4a757-8a9e-478b-ae40-3f4a25044e25"
   },
   "outputs": [
    {
     "name": "stdout",
     "output_type": "stream",
     "text": [
      "{40, 10, 50, 20, 60, 30}\n",
      "{40, 20, 60}\n"
     ]
    }
   ],
   "source": [
    "print(a)\n",
    "print(b)"
   ]
  },
  {
   "cell_type": "code",
   "execution_count": 37,
   "metadata": {
    "colab": {
     "base_uri": "https://localhost:8080/"
    },
    "id": "O6kzdY5ebjvV",
    "outputId": "38c9eda4-f921-41e0-82ac-05357c7da44f"
   },
   "outputs": [
    {
     "name": "stdout",
     "output_type": "stream",
     "text": [
      "{40, 20, 60}\n",
      "{40, 20, 60}\n"
     ]
    }
   ],
   "source": [
    "a.intersection_update(b)\n",
    "print(a)\n",
    "print(b)"
   ]
  },
  {
   "cell_type": "code",
   "execution_count": null,
   "metadata": {
    "id": "UVBRHk0GSdYm"
   },
   "outputs": [],
   "source": []
  },
  {
   "cell_type": "markdown",
   "metadata": {
    "id": "zTswQuEzSwHu"
   },
   "source": [
    "**Diffrence Update**\n",
    "\n",
    "**name of set1.diffrence_update(name of list2)**\n",
    "\n",
    "---> Only the elements whinch are prasent in set1 but not in set2 and saves those elements in set1 (overwrights set1)."
   ]
  },
  {
   "cell_type": "code",
   "execution_count": 38,
   "metadata": {
    "colab": {
     "base_uri": "https://localhost:8080/"
    },
    "id": "L7c2-AKVSdIV",
    "outputId": "283aa6bb-55e2-4c37-e997-a878b77db410"
   },
   "outputs": [
    {
     "name": "stdout",
     "output_type": "stream",
     "text": [
      "a = {40, 10, 50, 20, 60, 30}\n",
      "b = {40, 20, 60}\n"
     ]
    }
   ],
   "source": [
    "a = {10, 20, 30, 40, 50, 60}\n",
    "b = {20, 40, 60,}\n",
    "print('a =', a)\n",
    "print('b =', b)"
   ]
  },
  {
   "cell_type": "code",
   "execution_count": 39,
   "metadata": {
    "colab": {
     "base_uri": "https://localhost:8080/"
    },
    "id": "BctZLsyISdAg",
    "outputId": "595a0315-992b-4ba7-e2c9-a3273d94ae46"
   },
   "outputs": [
    {
     "name": "stdout",
     "output_type": "stream",
     "text": [
      "a = {40, 10, 50, 20, 60, 30}\n",
      "b = {40, 20, 60}\n"
     ]
    }
   ],
   "source": [
    "a.difference(b)\n",
    "print('a =', a)\n",
    "print('b =', b)"
   ]
  },
  {
   "cell_type": "code",
   "execution_count": 40,
   "metadata": {
    "colab": {
     "base_uri": "https://localhost:8080/"
    },
    "id": "KqLL7y14Sc1K",
    "outputId": "c10ab574-63ac-4d64-98c5-b00267f0bb52"
   },
   "outputs": [
    {
     "name": "stdout",
     "output_type": "stream",
     "text": [
      "a = {10, 50, 30}\n",
      "b = {40, 20, 60}\n"
     ]
    }
   ],
   "source": [
    "a.difference_update(b)\n",
    "print('a =', a)\n",
    "print('b =', b)"
   ]
  },
  {
   "cell_type": "markdown",
   "metadata": {
    "id": "RV-u_oJ_Sx5l"
   },
   "source": [
    "**Symmetric Diffrence**\n",
    "\n",
    "**name of set1.symmetric_diffrence_update(name of list2)**\n",
    "\n",
    "---> Only elements which are prasent in either set but not both and saves those elements in set1 (overwrights set1)."
   ]
  },
  {
   "cell_type": "code",
   "execution_count": 41,
   "metadata": {
    "colab": {
     "base_uri": "https://localhost:8080/"
    },
    "id": "RylpDtHET10U",
    "outputId": "8feafb56-87b2-4b9f-f04c-8bdd65d86a92"
   },
   "outputs": [
    {
     "name": "stdout",
     "output_type": "stream",
     "text": [
      "a = {40, 10, 50, 20, 60, 30}\n",
      "b = {40, 20, 60}\n"
     ]
    }
   ],
   "source": [
    "a = {10, 20, 30, 40, 50, 60}\n",
    "b = {20, 40, 60,}\n",
    "print('a =', a)\n",
    "print('b =', b)"
   ]
  },
  {
   "cell_type": "code",
   "execution_count": 42,
   "metadata": {
    "colab": {
     "base_uri": "https://localhost:8080/"
    },
    "id": "rm6xr-RCScuF",
    "outputId": "f24400b5-70f7-49a7-87a1-8a5d93b37c70"
   },
   "outputs": [
    {
     "name": "stdout",
     "output_type": "stream",
     "text": [
      "a = {40, 10, 50, 20, 60, 30}\n",
      "b = {40, 20, 60}\n"
     ]
    }
   ],
   "source": [
    "a.symmetric_difference(b)\n",
    "print('a =', a)\n",
    "print('b =', b)"
   ]
  },
  {
   "cell_type": "code",
   "execution_count": 43,
   "metadata": {
    "colab": {
     "base_uri": "https://localhost:8080/"
    },
    "id": "SOScD7S0Scna",
    "outputId": "d6d047e5-c159-413c-a48b-4ad5003a66c6"
   },
   "outputs": [
    {
     "name": "stdout",
     "output_type": "stream",
     "text": [
      "a = {10, 50, 30}\n",
      "b = {40, 20, 60}\n"
     ]
    }
   ],
   "source": [
    "a.symmetric_difference_update(b)\n",
    "print('a =', a)\n",
    "print('b =', b)"
   ]
  },
  {
   "cell_type": "code",
   "execution_count": null,
   "metadata": {
    "id": "L2Bj4ooXScdi"
   },
   "outputs": [],
   "source": []
  }
 ],
 "metadata": {
  "colab": {
   "name": "SET & Methods.ipynb",
   "provenance": []
  },
  "kernelspec": {
   "display_name": "Python 3",
   "language": "python",
   "name": "python3"
  },
  "language_info": {
   "codemirror_mode": {
    "name": "ipython",
    "version": 3
   },
   "file_extension": ".py",
   "mimetype": "text/x-python",
   "name": "python",
   "nbconvert_exporter": "python",
   "pygments_lexer": "ipython3",
   "version": "3.8.8"
  }
 },
 "nbformat": 4,
 "nbformat_minor": 1
}
