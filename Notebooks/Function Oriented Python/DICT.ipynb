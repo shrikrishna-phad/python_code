{
 "cells": [
  {
   "cell_type": "markdown",
   "metadata": {
    "id": "ryR5NyRsVV5i"
   },
   "source": [
    "***DICT***\n",
    "\n",
    "1. Is a collection of **key value** pair.\n",
    "\n",
    "2. Dict is a mutable / unhashable / changable data type.\n",
    "\n",
    "***KEYS***\n",
    "1. Keys are **Immutable**.\n",
    "2. Keys are **Unique** (no duplicates).\n",
    "\n",
    "***VALUES***\n",
    "1. Values are **mutable**.\n",
    "2. Values can be duplicates."
   ]
  },
  {
   "cell_type": "code",
   "execution_count": null,
   "metadata": {
    "id": "uJt0gnSTUZTZ"
   },
   "outputs": [],
   "source": []
  },
  {
   "cell_type": "markdown",
   "metadata": {
    "id": "6Ucse7NeYtfs"
   },
   "source": [
    "**How to Create dict**"
   ]
  },
  {
   "cell_type": "code",
   "execution_count": null,
   "metadata": {
    "colab": {
     "base_uri": "https://localhost:8080/"
    },
    "id": "wQ7C3QpsYuGg",
    "outputId": "6a7527aa-107f-4b55-840f-e74335a60c93"
   },
   "outputs": [
    {
     "name": "stdout",
     "output_type": "stream",
     "text": [
      "<class 'dict'>\n"
     ]
    }
   ],
   "source": [
    "py_dict = {} #direct method\n",
    "print(type(py_dict))"
   ]
  },
  {
   "cell_type": "code",
   "execution_count": null,
   "metadata": {
    "colab": {
     "base_uri": "https://localhost:8080/"
    },
    "id": "a1Ys05NvYvPp",
    "outputId": "6569fcb4-b477-4aee-fd94-84f6ce6b0517"
   },
   "outputs": [
    {
     "name": "stdout",
     "output_type": "stream",
     "text": [
      "<class 'dict'>\n"
     ]
    }
   ],
   "source": [
    "py_dict1 = dict()\n",
    "print(type(py_dict1))"
   ]
  },
  {
   "cell_type": "code",
   "execution_count": null,
   "metadata": {
    "id": "JIPhv-axYvJl"
   },
   "outputs": [],
   "source": []
  },
  {
   "cell_type": "markdown",
   "metadata": {
    "id": "v5I6GAOWaSP2"
   },
   "source": [
    "***How to access data from dict***\n",
    "\n",
    "1. By using **KEY**\n",
    "**name of dict[key]**\n",
    "\n",
    "---> If key is preasent it will show the value.\n",
    "---> If key is not preasent then it will show a **key error**\n",
    "\n",
    "2. By using **get method**\n",
    "**name of dict.get(key)**\n",
    "\n",
    "---> If key is preasent then it will show the value.\n",
    "\n",
    "---> If key is not preasent then it will do nothing but we can add custom error.\n",
    "\n"
   ]
  },
  {
   "cell_type": "code",
   "execution_count": null,
   "metadata": {
    "colab": {
     "base_uri": "https://localhost:8080/"
    },
    "id": "b3oxryigYvFE",
    "outputId": "e508f18c-dc12-417c-91c0-37751d14897d"
   },
   "outputs": [
    {
     "name": "stdout",
     "output_type": "stream",
     "text": [
      "{'Name': 'Rahul', 'Salary': 50000, 555: 'sdp', 'Address': {'City': 'Pune', 'Area': 'Katraj', 'pincode': 411046}}\n"
     ]
    }
   ],
   "source": [
    "py_dict = {'Name': 'Rahul', 'Salary': 50000, 555: 'sdp', 'Address': {'City': 'Pune', 'Area':'Katraj', 'pincode': 411046}}\n",
    "print(py_dict)"
   ]
  },
  {
   "cell_type": "markdown",
   "metadata": {
    "id": "bYiNFQK6bRVt"
   },
   "source": [
    "                                                                   nested dict\n",
    "**py_dict = {'Name': 'Rahul', 'Salary': 50000, 'Address': {'City': 'Pune', 'Area':'Katraj', 'pincode': 411046}}**"
   ]
  },
  {
   "cell_type": "code",
   "execution_count": null,
   "metadata": {
    "colab": {
     "base_uri": "https://localhost:8080/"
    },
    "id": "Z0_i4XPlYvB5",
    "outputId": "92e7b344-3f92-430b-b0a6-fdbcd1b28321"
   },
   "outputs": [
    {
     "name": "stdout",
     "output_type": "stream",
     "text": [
      "Rahul\n",
      "50000\n",
      "sdp\n",
      "{'City': 'Pune', 'Area': 'Katraj', 'pincode': 411046}\n"
     ]
    }
   ],
   "source": [
    "print(py_dict['Name'])\n",
    "print(py_dict['Salary'])\n",
    "print(py_dict[555])\n",
    "print(py_dict['Address'])"
   ]
  },
  {
   "cell_type": "code",
   "execution_count": null,
   "metadata": {
    "colab": {
     "base_uri": "https://localhost:8080/"
    },
    "id": "_UoV9Y0KYu_N",
    "outputId": "189ae5aa-4998-4e36-de06-739d86210734"
   },
   "outputs": [
    {
     "name": "stdout",
     "output_type": "stream",
     "text": [
      "Katraj\n"
     ]
    }
   ],
   "source": [
    "print(py_dict['Address']['Area'])"
   ]
  },
  {
   "cell_type": "code",
   "execution_count": null,
   "metadata": {
    "colab": {
     "base_uri": "https://localhost:8080/",
     "height": 167
    },
    "id": "gwT741fqYu7h",
    "outputId": "56f9d6bd-fee2-4997-aeaa-ccc7cc689af7"
   },
   "outputs": [
    {
     "ename": "KeyError",
     "evalue": "ignored",
     "output_type": "error",
     "traceback": [
      "\u001b[0;31m---------------------------------------------------------------------------\u001b[0m",
      "\u001b[0;31mKeyError\u001b[0m                                  Traceback (most recent call last)",
      "\u001b[0;32m<ipython-input-9-a16606692914>\u001b[0m in \u001b[0;36m<module>\u001b[0;34m()\u001b[0m\n\u001b[0;32m----> 1\u001b[0;31m \u001b[0mprint\u001b[0m\u001b[0;34m(\u001b[0m\u001b[0mpy_dict\u001b[0m\u001b[0;34m[\u001b[0m\u001b[0;34m'abc'\u001b[0m\u001b[0;34m]\u001b[0m\u001b[0;34m)\u001b[0m\u001b[0;34m\u001b[0m\u001b[0;34m\u001b[0m\u001b[0m\n\u001b[0m",
      "\u001b[0;31mKeyError\u001b[0m: 'abc'"
     ]
    }
   ],
   "source": [
    "print(py_dict['abc'])"
   ]
  },
  {
   "cell_type": "code",
   "execution_count": null,
   "metadata": {
    "id": "tjV3UOf5Yu4A"
   },
   "outputs": [],
   "source": []
  },
  {
   "cell_type": "code",
   "execution_count": null,
   "metadata": {
    "colab": {
     "base_uri": "https://localhost:8080/"
    },
    "id": "lQcOi_PVYu0F",
    "outputId": "a295ff33-ca5e-46d2-9f7e-69881a5ab085"
   },
   "outputs": [
    {
     "name": "stdout",
     "output_type": "stream",
     "text": [
      "50000\n"
     ]
    }
   ],
   "source": [
    "print(py_dict.get('Salary'))"
   ]
  },
  {
   "cell_type": "code",
   "execution_count": null,
   "metadata": {
    "colab": {
     "base_uri": "https://localhost:8080/"
    },
    "id": "a0Bso-WeYut-",
    "outputId": "349018ad-99ff-4b5a-ec38-bbe9af6a74b9"
   },
   "outputs": [
    {
     "name": "stdout",
     "output_type": "stream",
     "text": [
      "None\n"
     ]
    }
   ],
   "source": [
    "print(py_dict.get('abc'))"
   ]
  },
  {
   "cell_type": "code",
   "execution_count": null,
   "metadata": {
    "colab": {
     "base_uri": "https://localhost:8080/"
    },
    "id": "llqK3zBGYukN",
    "outputId": "99eca6f0-a931-4966-c980-9fbfa2025dd4"
   },
   "outputs": [
    {
     "name": "stdout",
     "output_type": "stream",
     "text": [
      "Key Not Available\n"
     ]
    }
   ],
   "source": [
    "print(py_dict.get('abc', 'Key Not Available'))"
   ]
  },
  {
   "cell_type": "code",
   "execution_count": null,
   "metadata": {
    "colab": {
     "base_uri": "https://localhost:8080/"
    },
    "id": "IIl7QA-iYuiA",
    "outputId": "7d62aac2-3d45-471a-bb52-ad709194022a"
   },
   "outputs": [
    {
     "name": "stdout",
     "output_type": "stream",
     "text": [
      "50000\n"
     ]
    }
   ],
   "source": [
    "print(py_dict.get('Salary', 'Key not available'))"
   ]
  },
  {
   "cell_type": "code",
   "execution_count": null,
   "metadata": {
    "id": "xKbYMhFPri5A"
   },
   "outputs": [],
   "source": []
  },
  {
   "cell_type": "markdown",
   "metadata": {
    "id": "DWxqIPrFgcLh"
   },
   "source": [
    "***How to get any Keys or Values***\n",
    "\n",
    "**dict_name.keys()** ---> list of keys only / Keys in list form.\n",
    "\n",
    "**dict_name.value()** ---> list of values 0nly / values in list form.\n",
    "\n",
    ".\n",
    "\n",
    ".\n",
    "\n",
    "**Key Value pair is called ITEMS**\n",
    "\n",
    "**dict_name.items()** ---> list of items tuple / items in list of tuple form."
   ]
  },
  {
   "cell_type": "code",
   "execution_count": null,
   "metadata": {
    "colab": {
     "base_uri": "https://localhost:8080/"
    },
    "id": "xRXl8xpugcpm",
    "outputId": "ca585fce-b152-46b6-90cf-ff26a5bee368"
   },
   "outputs": [
    {
     "name": "stdout",
     "output_type": "stream",
     "text": [
      "{1: 'a', 2: 'b', 3: 'c'}\n"
     ]
    }
   ],
   "source": [
    "a = {1:'a', 2:'b', 3:'c'}\n",
    "print(a)"
   ]
  },
  {
   "cell_type": "code",
   "execution_count": null,
   "metadata": {
    "colab": {
     "base_uri": "https://localhost:8080/"
    },
    "id": "sRzqd9O5gdsd",
    "outputId": "2d5e8142-52bd-4bdd-b48a-12513a70ba2c"
   },
   "outputs": [
    {
     "name": "stdout",
     "output_type": "stream",
     "text": [
      "dict_keys([1, 2, 3])\n",
      "dict_values(['a', 'b', 'c'])\n"
     ]
    }
   ],
   "source": [
    "x = a.keys\n",
    "y = a.values\n",
    "print(a.keys()) # List of keys\n",
    "print(a.values()) # List of tuple"
   ]
  },
  {
   "cell_type": "code",
   "execution_count": null,
   "metadata": {
    "colab": {
     "base_uri": "https://localhost:8080/"
    },
    "id": "sEpdqG9EklzV",
    "outputId": "5678bf4b-c915-4eb5-ca62-fabfbddfb864"
   },
   "outputs": [
    {
     "name": "stdout",
     "output_type": "stream",
     "text": [
      "<built-in method keys of dict object at 0x7f4e203468c0>\n",
      "<built-in method values of dict object at 0x7f4e203468c0>\n"
     ]
    }
   ],
   "source": [
    "print(x)\n",
    "print(y)"
   ]
  },
  {
   "cell_type": "code",
   "execution_count": null,
   "metadata": {
    "colab": {
     "base_uri": "https://localhost:8080/"
    },
    "id": "OPxg50n4gdoY",
    "outputId": "699d21a1-da38-47d8-83fb-a63c9896850c"
   },
   "outputs": [
    {
     "name": "stdout",
     "output_type": "stream",
     "text": [
      "dict_items([(1, 'a'), (2, 'b'), (3, 'c')])\n"
     ]
    }
   ],
   "source": [
    "z = a.items\n",
    "print(a.items()) # List of items tuple / items in list of tuple form"
   ]
  },
  {
   "cell_type": "code",
   "execution_count": null,
   "metadata": {
    "colab": {
     "base_uri": "https://localhost:8080/"
    },
    "id": "Ay7tc5Ghgdko",
    "outputId": "2b0549c9-feae-45e4-9c55-4c3914a04410"
   },
   "outputs": [
    {
     "name": "stdout",
     "output_type": "stream",
     "text": [
      "<built-in method items of dict object at 0x7f4e203468c0>\n"
     ]
    }
   ],
   "source": [
    "print(z)"
   ]
  },
  {
   "cell_type": "code",
   "execution_count": null,
   "metadata": {
    "id": "axiaqOeLri1t"
   },
   "outputs": [],
   "source": []
  },
  {
   "cell_type": "markdown",
   "metadata": {
    "id": "P2zLZh9OsCt9"
   },
   "source": [
    "***How to Update Dict***\n",
    "\n",
    "Even if we create the dict with multiple keys with same name it will take the last (from the far right) key.\n",
    "\n",
    "***No Duplicate Keys***\n",
    "\n",
    "***Values can be duplicate***\n",
    "\n",
    "key should be unique, so it will update/overwrite existing key."
   ]
  },
  {
   "cell_type": "code",
   "execution_count": null,
   "metadata": {
    "colab": {
     "base_uri": "https://localhost:8080/"
    },
    "id": "qOiGyGcAriof",
    "outputId": "cf2785e1-f69b-498f-d60c-0e2687a31703"
   },
   "outputs": [
    {
     "name": "stdout",
     "output_type": "stream",
     "text": [
      "{'Name': 'Rahul', 'Salary': 50000, 555: 'sdp', 'Address': {'City': 'Pune', 'Area': 'Katraj', 'pincode': 411046}}\n"
     ]
    }
   ],
   "source": [
    "print(py_dict)"
   ]
  },
  {
   "cell_type": "code",
   "execution_count": null,
   "metadata": {
    "id": "ocrsZD-qrih6"
   },
   "outputs": [],
   "source": [
    "p = {'name': 'arun', 'city': 'pune', 'name': 'john', 'location': 'pune'}"
   ]
  },
  {
   "cell_type": "code",
   "execution_count": null,
   "metadata": {
    "colab": {
     "base_uri": "https://localhost:8080/"
    },
    "id": "QYxi3Za2rifI",
    "outputId": "cd8169df-394e-4da2-e112-c7db9f7e9ac0"
   },
   "outputs": [
    {
     "name": "stdout",
     "output_type": "stream",
     "text": [
      "{'name': 'john', 'city': 'pune', 'location': 'pune'}\n"
     ]
    }
   ],
   "source": [
    "print(p)"
   ]
  },
  {
   "cell_type": "code",
   "execution_count": null,
   "metadata": {
    "id": "_JIfHRy4rict"
   },
   "outputs": [],
   "source": []
  },
  {
   "cell_type": "code",
   "execution_count": null,
   "metadata": {
    "colab": {
     "base_uri": "https://localhost:8080/"
    },
    "id": "ojYGEihbriZq",
    "outputId": "5629f29e-1b74-4992-a1f5-a5b56682677e"
   },
   "outputs": [
    {
     "name": "stdout",
     "output_type": "stream",
     "text": [
      "{'name': 'john', 'city': 'pune', 'location': 'pune', 'lacation': 'wakad'}\n"
     ]
    }
   ],
   "source": [
    "p['lacation'] = 'wakad'\n",
    "print(p)"
   ]
  },
  {
   "cell_type": "code",
   "execution_count": null,
   "metadata": {
    "id": "1YC1XJ_PriVi"
   },
   "outputs": [],
   "source": []
  },
  {
   "cell_type": "code",
   "execution_count": null,
   "metadata": {
    "id": "5JppUf5j8xce"
   },
   "outputs": [],
   "source": [
    "import pandas as pd #Future part pandas is a library"
   ]
  },
  {
   "cell_type": "code",
   "execution_count": null,
   "metadata": {
    "colab": {
     "base_uri": "https://localhost:8080/"
    },
    "id": "_-VAJQeBriSj",
    "outputId": "92ffbc4d-e4b9-452c-f27c-7de7038107ed"
   },
   "outputs": [
    {
     "name": "stdout",
     "output_type": "stream",
     "text": [
      "{'Name': 'Rahul', 'Salary': 50000, 555: 'sdp', 'Address': {'City': 'Pune', 'Area': 'Katraj', 'pincode': 411046}}\n"
     ]
    }
   ],
   "source": [
    "print(py_dict)"
   ]
  },
  {
   "cell_type": "code",
   "execution_count": null,
   "metadata": {
    "id": "cKxmzK1ariP1"
   },
   "outputs": [],
   "source": [
    "table_py_dict = pd.DataFrame(py_dict) "
   ]
  },
  {
   "cell_type": "code",
   "execution_count": null,
   "metadata": {
    "colab": {
     "base_uri": "https://localhost:8080/"
    },
    "id": "DD3tXsWMriMX",
    "outputId": "ff897638-a9e4-4991-cc9e-7ab3f2456649"
   },
   "outputs": [
    {
     "name": "stdout",
     "output_type": "stream",
     "text": [
      "          Name  Salary  555 Address\n",
      "Area     Rahul   50000  sdp  Katraj\n",
      "City     Rahul   50000  sdp    Pune\n",
      "pincode  Rahul   50000  sdp  411046\n"
     ]
    }
   ],
   "source": [
    "print(table_py_dict)"
   ]
  },
  {
   "cell_type": "code",
   "execution_count": null,
   "metadata": {
    "id": "fB5OR9UiriJM"
   },
   "outputs": [],
   "source": []
  },
  {
   "cell_type": "code",
   "execution_count": null,
   "metadata": {
    "colab": {
     "base_uri": "https://localhost:8080/"
    },
    "id": "NHGModu6riEA",
    "outputId": "40a6a594-fa20-4f27-932f-2e001cb6d623"
   },
   "outputs": [
    {
     "name": "stdout",
     "output_type": "stream",
     "text": [
      "<class 'dict'>\n"
     ]
    }
   ],
   "source": [
    "p = {}\n",
    "print(type(p))"
   ]
  },
  {
   "cell_type": "code",
   "execution_count": null,
   "metadata": {
    "id": "rYHSS2DJriAf"
   },
   "outputs": [],
   "source": []
  },
  {
   "cell_type": "markdown",
   "metadata": {
    "id": "6rnol8yhlsTi"
   },
   "source": [
    "**UPDATE** DICT"
   ]
  },
  {
   "cell_type": "code",
   "execution_count": null,
   "metadata": {
    "colab": {
     "base_uri": "https://localhost:8080/"
    },
    "id": "59V4tOjTlr6w",
    "outputId": "4e0fef43-10fc-43dc-a1a8-a99804929d83"
   },
   "outputs": [
    {
     "name": "stdout",
     "output_type": "stream",
     "text": [
      "{1: 'a', 2: 'b', 3: 'c'}\n"
     ]
    }
   ],
   "source": [
    "print(a)"
   ]
  },
  {
   "cell_type": "markdown",
   "metadata": {
    "id": "6tDBmlyZl_w-"
   },
   "source": [
    "***BY USING KEYS***"
   ]
  },
  {
   "cell_type": "code",
   "execution_count": null,
   "metadata": {
    "id": "U_rDgIgMlr2y"
   },
   "outputs": [],
   "source": [
    "a[2] = 100"
   ]
  },
  {
   "cell_type": "code",
   "execution_count": null,
   "metadata": {
    "colab": {
     "base_uri": "https://localhost:8080/"
    },
    "id": "PnbfKkcwlrm2",
    "outputId": "5f308f44-479c-4d89-ab95-f22c1ef7bf5b"
   },
   "outputs": [
    {
     "name": "stdout",
     "output_type": "stream",
     "text": [
      "{1: 'a', 2: 100, 3: 'c'}\n"
     ]
    }
   ],
   "source": [
    "print(a)"
   ]
  },
  {
   "cell_type": "code",
   "execution_count": null,
   "metadata": {
    "colab": {
     "base_uri": "https://localhost:8080/"
    },
    "id": "Aln7FZRflriO",
    "outputId": "30c6bf03-d408-49db-999b-908d58ca0d20"
   },
   "outputs": [
    {
     "name": "stdout",
     "output_type": "stream",
     "text": [
      "{'a': 200, 'b': 100}\n"
     ]
    }
   ],
   "source": [
    "a1 = {'a':200, 'b':100}\n",
    "print(a1)"
   ]
  },
  {
   "cell_type": "markdown",
   "metadata": {
    "id": "swSADqi1qCQE"
   },
   "source": [
    "***By using Update***\n",
    "\n",
    ".\n",
    "\n",
    "**name_dict.update({key : value})**\n",
    "\n",
    "OR\n",
    "\n",
    ".\n",
    "\n",
    "**name_dict1.update(name_dict2)**"
   ]
  },
  {
   "cell_type": "code",
   "execution_count": null,
   "metadata": {
    "colab": {
     "base_uri": "https://localhost:8080/"
    },
    "id": "3CHSg76ClrfT",
    "outputId": "81266a2d-bb38-4956-f4d4-4d4bccdd3bd8"
   },
   "outputs": [
    {
     "name": "stdout",
     "output_type": "stream",
     "text": [
      "{1: 'a', 2: 100, 3: 'c', 'a': 200, 'b': 100}\n"
     ]
    }
   ],
   "source": [
    "a.update(a1)\n",
    "print(a)"
   ]
  },
  {
   "cell_type": "code",
   "execution_count": null,
   "metadata": {
    "colab": {
     "base_uri": "https://localhost:8080/"
    },
    "id": "7VoTTkNQlrbF",
    "outputId": "b3e0e417-0081-4729-ff4d-a5f2de614114"
   },
   "outputs": [
    {
     "name": "stdout",
     "output_type": "stream",
     "text": [
      "{1: 'a', 2: 100, 3: 'c', 'a': 500, 'b': 100, 'c': 300}\n"
     ]
    }
   ],
   "source": [
    "a.update({'a':500, 'c':300}) # If key is preasent then function will update existing key, If key is not preasent then function will insert new key.\n",
    "print(a)"
   ]
  },
  {
   "cell_type": "code",
   "execution_count": null,
   "metadata": {
    "id": "AElMhavPlrYG"
   },
   "outputs": [],
   "source": []
  },
  {
   "cell_type": "markdown",
   "metadata": {
    "id": "bejpTQVstSb9"
   },
   "source": [
    "***FORM KEYS***\n",
    "\n",
    "**dict_name.formkeys(variable from which keys need to pass)**\n",
    "\n",
    "1.  Can pass keys in **list** or **tuple** form.\n",
    "\n",
    "2.  If value is not passed it will take **none** as default value.\n",
    "\n",
    "3.  Can pass single default value to every key. **dict_name.formkeys(keys,value)**"
   ]
  },
  {
   "cell_type": "code",
   "execution_count": null,
   "metadata": {
    "id": "QEdLF6dLlrUr"
   },
   "outputs": [],
   "source": [
    "k = (1, 2, 3, 4) # Keys\n",
    "j = ['a', 'b', 'c', 'd'] "
   ]
  },
  {
   "cell_type": "code",
   "execution_count": null,
   "metadata": {
    "colab": {
     "base_uri": "https://localhost:8080/"
    },
    "id": "N2SIriuBlrRf",
    "outputId": "9c2c2c26-e627-4a5d-9769-268fb0f556bf"
   },
   "outputs": [
    {
     "name": "stdout",
     "output_type": "stream",
     "text": [
      "{1: None, 2: None, 3: None, 4: None}\n"
     ]
    }
   ],
   "source": [
    "py_dict = dict.fromkeys(k)\n",
    "print(py_dict) # keys are taken from tuple k."
   ]
  },
  {
   "cell_type": "code",
   "execution_count": null,
   "metadata": {
    "colab": {
     "base_uri": "https://localhost:8080/"
    },
    "id": "QgtPjeDTlrNr",
    "outputId": "58c7b762-2de6-46be-f2e3-d610155d1fdd"
   },
   "outputs": [
    {
     "name": "stdout",
     "output_type": "stream",
     "text": [
      "{'a': None, 'b': None, 'c': None, 'd': None}\n"
     ]
    }
   ],
   "source": [
    "py_dict1 = dict.fromkeys(j)\n",
    "print(py_dict1) # Keys are taken from list j."
   ]
  },
  {
   "cell_type": "code",
   "execution_count": null,
   "metadata": {
    "id": "IKpqx9NolrJI"
   },
   "outputs": [],
   "source": []
  },
  {
   "cell_type": "code",
   "execution_count": null,
   "metadata": {
    "id": "8dfh8Lg4lrGe"
   },
   "outputs": [],
   "source": [
    "v = 0\n",
    "w = 'ab'"
   ]
  },
  {
   "cell_type": "code",
   "execution_count": null,
   "metadata": {
    "colab": {
     "base_uri": "https://localhost:8080/"
    },
    "id": "5P-6Omwylqz8",
    "outputId": "1dbab2d6-8a98-4462-d0f5-720c2aef167d"
   },
   "outputs": [
    {
     "name": "stdout",
     "output_type": "stream",
     "text": [
      "{1: 0, 2: 0, 3: 0, 4: 0}\n"
     ]
    }
   ],
   "source": [
    "py_dict2 = dict.fromkeys(k,v)\n",
    "print(py_dict2) # default value in v (0) is assigned to every key."
   ]
  },
  {
   "cell_type": "code",
   "execution_count": null,
   "metadata": {
    "colab": {
     "base_uri": "https://localhost:8080/"
    },
    "id": "-heEvCWirh9X",
    "outputId": "e0ff9ec5-da27-4103-805c-4a058974a7d0"
   },
   "outputs": [
    {
     "name": "stdout",
     "output_type": "stream",
     "text": [
      "{'a': 'ab', 'b': 'ab', 'c': 'ab', 'd': 'ab'}\n"
     ]
    }
   ],
   "source": [
    "py_dict3 = dict.fromkeys(j,w)\n",
    "print(py_dict3) # default value in w (ab) is assigned to every key."
   ]
  },
  {
   "cell_type": "code",
   "execution_count": null,
   "metadata": {
    "id": "PpSIypFxwjrA"
   },
   "outputs": [],
   "source": []
  },
  {
   "cell_type": "code",
   "execution_count": null,
   "metadata": {
    "id": "43vcflDFwjCP"
   },
   "outputs": [],
   "source": [
    "y = 10, 20\n",
    "x = [10, 20]"
   ]
  },
  {
   "cell_type": "code",
   "execution_count": null,
   "metadata": {
    "colab": {
     "base_uri": "https://localhost:8080/"
    },
    "id": "MlzH5iLjwSG0",
    "outputId": "8bc3f632-5035-4d44-f6b9-22e14a7e3c85"
   },
   "outputs": [
    {
     "name": "stdout",
     "output_type": "stream",
     "text": [
      "{1: [10, 20], 2: [10, 20], 3: [10, 20], 4: [10, 20]}\n",
      "{'a': (10, 20), 'b': (10, 20), 'c': (10, 20), 'd': (10, 20)}\n"
     ]
    }
   ],
   "source": [
    "py_dict4 = dict.fromkeys(k,x)\n",
    "print(py_dict4) # whole value of x is assinged to every key so seprate assignment\n",
    "\n",
    "py_dict5= dict.fromkeys(j,y)\n",
    "print(py_dict5)"
   ]
  },
  {
   "cell_type": "code",
   "execution_count": null,
   "metadata": {
    "id": "s2tw0atixHa5"
   },
   "outputs": [],
   "source": []
  },
  {
   "cell_type": "markdown",
   "metadata": {
    "id": "X__6lcMezqwg"
   },
   "source": [
    "***SET DEFAULT***\n",
    "\n",
    "**dict_name.setdefault(key,value)**\n",
    "\n",
    "1. If key is preasent then it will return value, does't do any change in the dict.\n",
    "\n",
    "2. If key is not preasent then it will insert the key into dict."
   ]
  },
  {
   "cell_type": "code",
   "execution_count": null,
   "metadata": {
    "colab": {
     "base_uri": "https://localhost:8080/"
    },
    "id": "2WKy_efO0izW",
    "outputId": "8672405a-b601-4b01-f701-4b8fa9657200"
   },
   "outputs": [
    {
     "name": "stdout",
     "output_type": "stream",
     "text": [
      "{1: 'a', 2: 'b', 3: 'c'}\n"
     ]
    }
   ],
   "source": [
    "m = {1:'a', 2:'b', 3:'c'}\n",
    "print(m)"
   ]
  },
  {
   "cell_type": "code",
   "execution_count": null,
   "metadata": {
    "colab": {
     "base_uri": "https://localhost:8080/",
     "height": 35
    },
    "id": "ddy6Mjnh0ika",
    "outputId": "d876f8bf-579f-402b-9e2d-2e4a25723a47"
   },
   "outputs": [
    {
     "data": {
      "application/vnd.google.colaboratory.intrinsic+json": {
       "type": "string"
      },
      "text/plain": [
       "'c'"
      ]
     },
     "execution_count": 44,
     "metadata": {
      "tags": []
     },
     "output_type": "execute_result"
    }
   ],
   "source": [
    "m.setdefault(3,100) # returned existing value of key-3"
   ]
  },
  {
   "cell_type": "code",
   "execution_count": null,
   "metadata": {
    "colab": {
     "base_uri": "https://localhost:8080/"
    },
    "id": "pTqMattl1QAZ",
    "outputId": "447daf18-d0a3-4562-d2e7-bfba64b2388c"
   },
   "outputs": [
    {
     "name": "stdout",
     "output_type": "stream",
     "text": [
      "{1: 'a', 2: 'b', 3: 'c'}\n"
     ]
    }
   ],
   "source": [
    "print(m) # no change in dict"
   ]
  },
  {
   "cell_type": "code",
   "execution_count": null,
   "metadata": {
    "colab": {
     "base_uri": "https://localhost:8080/",
     "height": 35
    },
    "id": "DR_ZUMk10iht",
    "outputId": "842c754b-e598-4122-c5be-7c1f0340bd2d"
   },
   "outputs": [
    {
     "data": {
      "application/vnd.google.colaboratory.intrinsic+json": {
       "type": "string"
      },
      "text/plain": [
       "'d'"
      ]
     },
     "execution_count": 46,
     "metadata": {
      "tags": []
     },
     "output_type": "execute_result"
    }
   ],
   "source": [
    "m.setdefault(4,'d') # returned new value of key-d"
   ]
  },
  {
   "cell_type": "code",
   "execution_count": null,
   "metadata": {
    "colab": {
     "base_uri": "https://localhost:8080/"
    },
    "id": "Gtk4d_Fs0ieY",
    "outputId": "ec30184c-e085-4c11-cc94-977dabcd9acd"
   },
   "outputs": [
    {
     "name": "stdout",
     "output_type": "stream",
     "text": [
      "{1: 'a', 2: 'b', 3: 'c', 4: 'd'}\n"
     ]
    }
   ],
   "source": [
    "print(m) # new key d is i"
   ]
  },
  {
   "cell_type": "code",
   "execution_count": null,
   "metadata": {
    "id": "W-9XyabB0iah"
   },
   "outputs": [],
   "source": []
  },
  {
   "cell_type": "code",
   "execution_count": null,
   "metadata": {
    "id": "5z34AsNz0iO7"
   },
   "outputs": [],
   "source": []
  },
  {
   "cell_type": "code",
   "execution_count": null,
   "metadata": {
    "id": "ruWtxlnf0hz4"
   },
   "outputs": [],
   "source": [
    "dict_1 = {1:'a', 2:'b', 3:'c'}"
   ]
  },
  {
   "cell_type": "code",
   "execution_count": null,
   "metadata": {
    "colab": {
     "base_uri": "https://localhost:8080/"
    },
    "id": "XjhTd4kFjJbV",
    "outputId": "a3d9e757-30fc-4593-c695-7c077b221fa7"
   },
   "outputs": [
    {
     "name": "stdout",
     "output_type": "stream",
     "text": [
      "dict_keys([1, 2, 3])\n",
      "dict_values(['a', 'b', 'c'])\n"
     ]
    }
   ],
   "source": [
    "x = dict_1.keys()\n",
    "y = dict_1.values()\n",
    "print(dict_1.keys())\n",
    "print(dict_1.values())\n"
   ]
  },
  {
   "cell_type": "code",
   "execution_count": null,
   "metadata": {
    "colab": {
     "base_uri": "https://localhost:8080/"
    },
    "id": "Wp-TwH4PjJSf",
    "outputId": "bf9af961-444d-4e13-fb7e-83a7c8cc06c8"
   },
   "outputs": [
    {
     "name": "stdout",
     "output_type": "stream",
     "text": [
      "dict_keys([1, 2, 3])\n",
      "dict_values(['a', 'b', 'c'])\n"
     ]
    }
   ],
   "source": [
    "print(x)\n",
    "print(y)"
   ]
  },
  {
   "cell_type": "code",
   "execution_count": null,
   "metadata": {
    "id": "1qj5TlOxjJJR"
   },
   "outputs": [],
   "source": []
  }
 ],
 "metadata": {
  "colab": {
   "name": "DICT.ipynb",
   "provenance": []
  },
  "kernelspec": {
   "display_name": "Python 3",
   "language": "python",
   "name": "python3"
  },
  "language_info": {
   "codemirror_mode": {
    "name": "ipython",
    "version": 3
   },
   "file_extension": ".py",
   "mimetype": "text/x-python",
   "name": "python",
   "nbconvert_exporter": "python",
   "pygments_lexer": "ipython3",
   "version": "3.8.8"
  }
 },
 "nbformat": 4,
 "nbformat_minor": 1
}
