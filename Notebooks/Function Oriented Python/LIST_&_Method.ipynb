{
 "cells": [
  {
   "cell_type": "markdown",
   "metadata": {
    "id": "cve-zCrkUX-V"
   },
   "source": [
    "**LIST**\n",
    "\n",
    "Represented by [ ]\n",
    "\n",
    "**LIST is an ordered datatype**\n",
    "\n",
    "Types\n",
    "1.   HOMOGENOUS LIST --- All elements of same catagery\n",
    "2.   HETROGENOUS LIST --- Elements of multiple types\n",
    "\n",
    "List is a collection of elements"
   ]
  },
  {
   "cell_type": "code",
   "execution_count": null,
   "metadata": {
    "id": "oBKXwYYLNVUD"
   },
   "outputs": [],
   "source": [
    "py_list = [] # Empty List\n",
    "\n",
    "py_list_homo = [1, 2, 500] # Homogenous List\n",
    "\n",
    "py_list_hetro = [123, 58.96, 'python', 5+6j, True, False] # Hetrogenous List"
   ]
  },
  {
   "cell_type": "code",
   "execution_count": null,
   "metadata": {
    "colab": {
     "base_uri": "https://localhost:8080/"
    },
    "id": "vhQ86d-4ZBIY",
    "outputId": "61e5f965-a7ef-4b98-8f54-b9adadeac72b"
   },
   "outputs": [
    {
     "name": "stdout",
     "output_type": "stream",
     "text": [
      "[]\n"
     ]
    }
   ],
   "source": [
    "print(py_list)"
   ]
  },
  {
   "cell_type": "code",
   "execution_count": null,
   "metadata": {
    "colab": {
     "base_uri": "https://localhost:8080/"
    },
    "id": "31_GAOyJZA8o",
    "outputId": "8cbfb176-e2fd-4f03-d0d9-0b3a990ba184"
   },
   "outputs": [
    {
     "name": "stdout",
     "output_type": "stream",
     "text": [
      "[1, 2, 500]\n"
     ]
    }
   ],
   "source": [
    "print(py_list_homo)"
   ]
  },
  {
   "cell_type": "code",
   "execution_count": null,
   "metadata": {
    "colab": {
     "base_uri": "https://localhost:8080/"
    },
    "id": "JYDnqCpuZAxu",
    "outputId": "319f4b33-f30d-4964-8b99-722d94498fa8"
   },
   "outputs": [
    {
     "name": "stdout",
     "output_type": "stream",
     "text": [
      "[123, 58.96, 'python', (5+6j), True, False]\n"
     ]
    }
   ],
   "source": [
    "print(py_list_hetro)"
   ]
  },
  {
   "cell_type": "markdown",
   "metadata": {
    "id": "KvMf4U4WWa5b"
   },
   "source": [
    "**List**\n",
    "\n",
    "list is **Mutable** or **Unhashable**\n",
    "\n",
    " **MUTABLE**\n",
    " ----> Can change original structure at any point.\n",
    "\n",
    "1.   Insert\n",
    "2.   Delete\n",
    "3.   Update\n",
    "\n",
    "To change list syntax is **list_name.method**"
   ]
  },
  {
   "cell_type": "code",
   "execution_count": null,
   "metadata": {
    "id": "9B3L76TNWTjy"
   },
   "outputs": [],
   "source": []
  },
  {
   "cell_type": "code",
   "execution_count": null,
   "metadata": {
    "id": "5w3y0S9eWT1j"
   },
   "outputs": [],
   "source": []
  },
  {
   "cell_type": "markdown",
   "metadata": {
    "id": "M-d5UIvwZbjZ"
   },
   "source": [
    "**INDEXING**\n",
    "\n",
    "----> Every Element in list has a position value starting with 0 (zero)\n",
    "\n",
    "**Types**\n",
    "1.   Forword indexing\n",
    "2.   Reverse indexing\n"
   ]
  },
  {
   "cell_type": "code",
   "execution_count": null,
   "metadata": {
    "id": "Z7xZh_ZkWUB9"
   },
   "outputs": [],
   "source": [
    "# Forword indexing  0  1  2  3   4    5\n",
    "               p = [1, 3, 5, 50, 98, 125]\n",
    "# Reverse indexing -6 -5 -4  -3  -2   -1"
   ]
  },
  {
   "cell_type": "code",
   "execution_count": null,
   "metadata": {
    "id": "tYXQXPgUWUP1"
   },
   "outputs": [],
   "source": []
  },
  {
   "cell_type": "markdown",
   "metadata": {
    "id": "9oc2JbnicP9q"
   },
   "source": [
    "**Ordered** data type\n",
    "\n",
    "---> we can call any element of list by index number"
   ]
  },
  {
   "cell_type": "code",
   "execution_count": null,
   "metadata": {
    "id": "5LNLQdgBWUcs"
   },
   "outputs": [],
   "source": [
    "py_list = ['python', 'java', 'c', 'c++', 'hadoop', 'aws']"
   ]
  },
  {
   "cell_type": "markdown",
   "metadata": {
    "id": "Ac9sYeuRqxqN"
   },
   "source": [
    "FORWORD INDEXING\n",
    "                \n",
    "                   0        1      2     3       4        5\n",
    "\n",
    "   ` **py_list = ['python', 'java', 'c', 'c++', 'hadoop', 'aws']**`\n",
    "\n",
    "REVERSE INDEXING\n",
    "\n",
    "                  -6        -5    -4    -3       -2      -1"
   ]
  },
  {
   "cell_type": "code",
   "execution_count": null,
   "metadata": {
    "colab": {
     "base_uri": "https://localhost:8080/"
    },
    "id": "WNYbzGSEWVCF",
    "outputId": "b0aedb23-7136-4a45-9403-9b1efa8978dc"
   },
   "outputs": [
    {
     "name": "stdout",
     "output_type": "stream",
     "text": [
      "c++\n"
     ]
    }
   ],
   "source": [
    "print(py_list[3])"
   ]
  },
  {
   "cell_type": "code",
   "execution_count": null,
   "metadata": {
    "colab": {
     "base_uri": "https://localhost:8080/"
    },
    "id": "hWWrVRADWVTO",
    "outputId": "bc01f961-5dae-4a7a-f23a-ae78314a9266"
   },
   "outputs": [
    {
     "name": "stdout",
     "output_type": "stream",
     "text": [
      "aws\n"
     ]
    }
   ],
   "source": [
    "print(py_list[-1])"
   ]
  },
  {
   "cell_type": "code",
   "execution_count": null,
   "metadata": {
    "id": "hXK_HmM6WVfM"
   },
   "outputs": [],
   "source": []
  },
  {
   "cell_type": "markdown",
   "metadata": {
    "id": "nFnaPkwAsm7Y"
   },
   "source": [
    "**LEN()**\n",
    "\n",
    "---> To find length of the list\n"
   ]
  },
  {
   "cell_type": "code",
   "execution_count": null,
   "metadata": {
    "colab": {
     "base_uri": "https://localhost:8080/"
    },
    "id": "E1Eav4VDvRMQ",
    "outputId": "fc3f3cef-caee-4686-de1e-86d41ffba231"
   },
   "outputs": [
    {
     "name": "stdout",
     "output_type": "stream",
     "text": [
      "['python', 'java', 'c', 'c++', 'hadoop', 'aws']\n"
     ]
    }
   ],
   "source": [
    "print(py_list)"
   ]
  },
  {
   "cell_type": "code",
   "execution_count": null,
   "metadata": {
    "colab": {
     "base_uri": "https://localhost:8080/"
    },
    "id": "tzRqwrjXWVsb",
    "outputId": "78c1bee9-ec0c-4ee0-979c-dfbb26451652"
   },
   "outputs": [
    {
     "name": "stdout",
     "output_type": "stream",
     "text": [
      "6\n"
     ]
    }
   ],
   "source": [
    "print(len(py_list)) # 6 elements in the list"
   ]
  },
  {
   "cell_type": "code",
   "execution_count": null,
   "metadata": {
    "colab": {
     "base_uri": "https://localhost:8080/"
    },
    "id": "BOmigybaWV5z",
    "outputId": "4181fe7b-0734-4a54-9277-2605cea97a12"
   },
   "outputs": [
    {
     "name": "stdout",
     "output_type": "stream",
     "text": [
      "python\n"
     ]
    }
   ],
   "source": [
    "print(py_list[len(py_list)-6]) # lenth = 6 - 6 = 0 (element at index 0)"
   ]
  },
  {
   "cell_type": "code",
   "execution_count": null,
   "metadata": {
    "colab": {
     "base_uri": "https://localhost:8080/"
    },
    "id": "MjVlmfMTWWGE",
    "outputId": "c8a666d7-1eaf-4721-d188-6209c691e0bd"
   },
   "outputs": [
    {
     "name": "stdout",
     "output_type": "stream",
     "text": [
      "hadoop\n"
     ]
    }
   ],
   "source": [
    "print(py_list[len(py_list)-8]) # lenth = 6 - 8 = -2 (element at index -2)"
   ]
  },
  {
   "cell_type": "code",
   "execution_count": null,
   "metadata": {
    "id": "6-Xgi4ncvEGx"
   },
   "outputs": [],
   "source": []
  },
  {
   "cell_type": "markdown",
   "metadata": {
    "id": "TMzpzo0avaTN"
   },
   "source": [
    "**SLICING**\n",
    "\n",
    "To access part of list\n",
    "\n",
    "NOY YET TOTALLY TOUGHT"
   ]
  },
  {
   "cell_type": "code",
   "execution_count": null,
   "metadata": {
    "colab": {
     "base_uri": "https://localhost:8080/"
    },
    "id": "KgIcutYewmhe",
    "outputId": "e15dabcc-ec9a-461e-9fcb-710c3097fceb"
   },
   "outputs": [
    {
     "name": "stdout",
     "output_type": "stream",
     "text": [
      "['python', 'java', 'c', 'c++', 'hadoop', 'aws']\n"
     ]
    }
   ],
   "source": [
    "print(py_list)"
   ]
  },
  {
   "cell_type": "code",
   "execution_count": null,
   "metadata": {
    "colab": {
     "base_uri": "https://localhost:8080/"
    },
    "id": "A_eAG0VFvEWn",
    "outputId": "ce7852d8-3c6e-4492-ab40-c98e8d0bdff0"
   },
   "outputs": [
    {
     "name": "stdout",
     "output_type": "stream",
     "text": [
      "['java', 'c', 'c++']\n"
     ]
    }
   ],
   "source": [
    "print(py_list[1:4]) # index 1 (included) to index 4 (not included)"
   ]
  },
  {
   "cell_type": "code",
   "execution_count": null,
   "metadata": {
    "colab": {
     "base_uri": "https://localhost:8080/"
    },
    "id": "bMB8dhTBvEm3",
    "outputId": "8e8b9581-d049-4dad-eb7d-8bcdf43bace3"
   },
   "outputs": [
    {
     "name": "stdout",
     "output_type": "stream",
     "text": [
      "['python', 'java', 'c', 'c++', 'hadoop', 'aws']\n"
     ]
    }
   ],
   "source": [
    "print(py_list[:]) # total list"
   ]
  },
  {
   "cell_type": "code",
   "execution_count": null,
   "metadata": {
    "colab": {
     "base_uri": "https://localhost:8080/"
    },
    "id": "sh1-OcDmvEyO",
    "outputId": "865125d9-468d-4a1f-a7d2-c04f46f8d2f4"
   },
   "outputs": [
    {
     "name": "stdout",
     "output_type": "stream",
     "text": [
      "['python', 'java', 'c', 'c++', 'hadoop']\n"
     ]
    }
   ],
   "source": [
    "print(py_list[0:-1]) # index 0 (included) to index -1 (not included)"
   ]
  },
  {
   "cell_type": "code",
   "execution_count": null,
   "metadata": {
    "colab": {
     "base_uri": "https://localhost:8080/"
    },
    "id": "80xyAkSbvFfO",
    "outputId": "b0cb9850-8223-49f2-aee9-9ea0f0c83f5f"
   },
   "outputs": [
    {
     "name": "stdout",
     "output_type": "stream",
     "text": [
      "['java', 'c', 'c++']\n"
     ]
    }
   ],
   "source": [
    "print(py_list[1:4]) # index 1 (included) to index 4 (not included)"
   ]
  },
  {
   "cell_type": "code",
   "execution_count": null,
   "metadata": {
    "id": "ONgpOm1dvFuf"
   },
   "outputs": [],
   "source": []
  },
  {
   "cell_type": "markdown",
   "metadata": {
    "id": "RBj1-pI3zgrG"
   },
   "source": [
    "**LIST METHODS**\n",
    "\n",
    "1. Insert   **.insert(index no., element)** ---> To insert an element at desired index position.\n",
    "2. Append   **.append(element)** ---> To add element at the end of the list.\n",
    "3. Clear    **.clear()**  ---> To clear all elements in the list.\n",
    "4. Copy     **.copy()** ---> To make deep copy of the list.\n",
    "5. Count    **.count(element)** ---> To count the number of occurance.\n",
    "6. Extend   **.extend([elements])** ---> To add multiple elements to list at once.\n",
    "7. Index    **.index(element)** ---> To find index of element in list.\n",
    "8. Pop      **.pop(index no.)** ---> To remove and store element.\n",
    "9. Remove   **.remove(element)** ---> To remove the element.\n",
    "10. Reverse **.reverse()** ----> To reverse the elements in the list.\n",
    "11. Sort    **.sort()** ---> To sort (assending/desending) elements in the list.\n"
   ]
  },
  {
   "cell_type": "code",
   "execution_count": null,
   "metadata": {
    "id": "4lHsXlxxvF72"
   },
   "outputs": [],
   "source": []
  },
  {
   "cell_type": "markdown",
   "metadata": {
    "id": "PzhQc3mdtVdC"
   },
   "source": [
    "**INSERT**\n",
    "\n",
    "**name of list.insert(index no., element)** ---> To insert an element at desired index position.\n",
    "\n",
    "usually in real time we use this rarely, usually one needs to add element at end of the list and for that python has special method append."
   ]
  },
  {
   "cell_type": "code",
   "execution_count": null,
   "metadata": {
    "colab": {
     "base_uri": "https://localhost:8080/"
    },
    "id": "CCGgCumFvGK2",
    "outputId": "e07f9a70-6739-4639-be42-7225ac8c1998"
   },
   "outputs": [
    {
     "name": "stdout",
     "output_type": "stream",
     "text": [
      "['python', 'java', 'c', 'c++', 'hadoop', 'aws']\n"
     ]
    }
   ],
   "source": [
    "print(py_list)"
   ]
  },
  {
   "cell_type": "code",
   "execution_count": null,
   "metadata": {
    "colab": {
     "base_uri": "https://localhost:8080/"
    },
    "id": "c8qb5Os-vJhG",
    "outputId": "1e844956-9639-45e1-dffa-ec36254fcd28"
   },
   "outputs": [
    {
     "name": "stdout",
     "output_type": "stream",
     "text": [
      "['python', 'java', 'c', 'c++', 'hadoop', 'spark', 'aws']\n"
     ]
    }
   ],
   "source": [
    "py_list.insert(5,'spark')\n",
    "print(py_list)"
   ]
  },
  {
   "cell_type": "code",
   "execution_count": null,
   "metadata": {
    "colab": {
     "base_uri": "https://localhost:8080/"
    },
    "id": "pAVxfFWivJza",
    "outputId": "b0ba465b-b97b-4e9e-da55-05b4bef5a111"
   },
   "outputs": [
    {
     "name": "stdout",
     "output_type": "stream",
     "text": [
      "['python', 'java', 'c', 'c++', 'google', 'hadoop', 'spark', 'aws']\n"
     ]
    }
   ],
   "source": [
    "py_list.insert(-3,'google')\n",
    "print(py_list)"
   ]
  },
  {
   "cell_type": "code",
   "execution_count": null,
   "metadata": {
    "id": "Gccwx9S7v4SV"
   },
   "outputs": [],
   "source": []
  },
  {
   "cell_type": "markdown",
   "metadata": {
    "id": "QufLYWl5xJTC"
   },
   "source": [
    " **APPEND**\n",
    " \n",
    " **name of list.append(element)** ---> To add element at the end of the list."
   ]
  },
  {
   "cell_type": "code",
   "execution_count": null,
   "metadata": {
    "colab": {
     "base_uri": "https://localhost:8080/"
    },
    "id": "VLqWDSq0v4kP",
    "outputId": "4ddc87ca-f0f5-427b-b205-10aa7834d41f"
   },
   "outputs": [
    {
     "name": "stdout",
     "output_type": "stream",
     "text": [
      "['python', 'java', 'c', 'c++', 'google', 'hadoop', 'spark', 'aws']\n"
     ]
    }
   ],
   "source": [
    "print(py_list)"
   ]
  },
  {
   "cell_type": "code",
   "execution_count": null,
   "metadata": {
    "colab": {
     "base_uri": "https://localhost:8080/"
    },
    "id": "rZznyk8Sv4xx",
    "outputId": "245b6d85-fa43-4a37-f557-70d56be6d947"
   },
   "outputs": [
    {
     "name": "stdout",
     "output_type": "stream",
     "text": [
      "['python', 'java', 'c', 'c++', 'google', 'hadoop', 'spark', 'aws', 'pro-e']\n"
     ]
    }
   ],
   "source": [
    "py_list.append('pro-e')\n",
    "print(py_list)"
   ]
  },
  {
   "cell_type": "code",
   "execution_count": null,
   "metadata": {
    "id": "hZLgEkaUv5AD"
   },
   "outputs": [],
   "source": []
  },
  {
   "cell_type": "markdown",
   "metadata": {
    "id": "VKxY9B4kZrEx"
   },
   "source": [
    "**CLEAR**\n",
    "\n",
    "**name of list.clear()**  ---> To clear all elements in the list."
   ]
  },
  {
   "cell_type": "code",
   "execution_count": null,
   "metadata": {
    "colab": {
     "base_uri": "https://localhost:8080/"
    },
    "id": "TYL55OuGZmKw",
    "outputId": "534cbd12-08bc-4840-ede8-7bd1858983f7"
   },
   "outputs": [
    {
     "name": "stdout",
     "output_type": "stream",
     "text": [
      "['python', 'java', 'c', 'c++', 'google', 'hadoop', 'spark', 'aws', 'pro-e']\n"
     ]
    }
   ],
   "source": [
    "print(py_list)"
   ]
  },
  {
   "cell_type": "code",
   "execution_count": null,
   "metadata": {
    "colab": {
     "base_uri": "https://localhost:8080/"
    },
    "id": "wWH1lRn1ZmWy",
    "outputId": "bd054b8b-f5e6-4a4a-e604-ca7ca3efe54c"
   },
   "outputs": [
    {
     "name": "stdout",
     "output_type": "stream",
     "text": [
      "[]\n"
     ]
    }
   ],
   "source": [
    "py_list.clear()\n",
    "print(py_list) # whole list is cleared, list is empty."
   ]
  },
  {
   "cell_type": "code",
   "execution_count": null,
   "metadata": {
    "id": "yDWvubvcZpJC"
   },
   "outputs": [],
   "source": []
  },
  {
   "cell_type": "markdown",
   "metadata": {
    "id": "5sNHTRPnzA6o"
   },
   "source": [
    "**COPY**\n",
    "\n",
    "There are two types of copy methods in python.\n",
    "1. SHALLOW COPY ----> copy \n",
    "---------\n",
    "2. DEEP COPY"
   ]
  },
  {
   "cell_type": "markdown",
   "metadata": {
    "id": "grLIaxb8yZG-"
   },
   "source": [
    "***DEEP COPY***"
   ]
  },
  {
   "cell_type": "code",
   "execution_count": null,
   "metadata": {
    "colab": {
     "base_uri": "https://localhost:8080/"
    },
    "id": "ANqdy-X2v5Na",
    "outputId": "35c0a9c8-9161-4dee-8e3b-1fbcbe7b610e"
   },
   "outputs": [
    {
     "name": "stdout",
     "output_type": "stream",
     "text": [
      "['python', 'java', 'c', 'c++', 'google', 'hadoop', 'spark', 'aws']\n"
     ]
    }
   ],
   "source": [
    "py_list = ['python', 'java', 'c', 'c++', 'google', 'hadoop', 'spark', 'aws']\n",
    "print(py_list)"
   ]
  },
  {
   "cell_type": "code",
   "execution_count": null,
   "metadata": {
    "colab": {
     "base_uri": "https://localhost:8080/"
    },
    "id": "Vtcj0dObv6Nq",
    "outputId": "9642ab53-db40-406b-e8f5-c476ace4b7cb"
   },
   "outputs": [
    {
     "name": "stdout",
     "output_type": "stream",
     "text": [
      "['python', 'java', 'c', 'c++', 'google', 'hadoop', 'spark', 'aws']\n"
     ]
    }
   ],
   "source": [
    "p = py_list.copy()\n",
    "print(p)"
   ]
  },
  {
   "cell_type": "code",
   "execution_count": null,
   "metadata": {
    "colab": {
     "base_uri": "https://localhost:8080/"
    },
    "id": "yWvPOwEwv711",
    "outputId": "071d1e0a-56d1-49c2-e04e-d69af5fac622"
   },
   "outputs": [
    {
     "name": "stdout",
     "output_type": "stream",
     "text": [
      "spark\n"
     ]
    }
   ],
   "source": [
    "print(p[6])"
   ]
  },
  {
   "cell_type": "code",
   "execution_count": null,
   "metadata": {
    "colab": {
     "base_uri": "https://localhost:8080/"
    },
    "id": "_N29Dj46v8Da",
    "outputId": "d396fb4d-f059-4ace-a0bb-96aff8483222"
   },
   "outputs": [
    {
     "name": "stdout",
     "output_type": "stream",
     "text": [
      "['python', 'java', 'c', 'c++', 'google', 'hadoop', 'spark', 'aws', 'pro-e']\n",
      "['python', 'java', 'c', 'c++', 'google', 'hadoop', 'spark', 'aws']\n"
     ]
    }
   ],
   "source": [
    "p.append('pro-e')  # making the change in new copy does not affect the original & vice a versa\n",
    "print(p)\n",
    "print(py_list)"
   ]
  },
  {
   "cell_type": "code",
   "execution_count": null,
   "metadata": {
    "id": "3jTFY2D-yMca"
   },
   "outputs": [],
   "source": []
  },
  {
   "cell_type": "markdown",
   "metadata": {
    "id": "nNvJLJ8eyPDR"
   },
   "source": [
    "***SHALLOW COPY***"
   ]
  },
  {
   "cell_type": "code",
   "execution_count": null,
   "metadata": {
    "id": "CaH79zPbv8Qq"
   },
   "outputs": [],
   "source": [
    "p1 = [1, 52, 545, 544, 9865]"
   ]
  },
  {
   "cell_type": "code",
   "execution_count": null,
   "metadata": {
    "id": "rvhzjtVrv8eL"
   },
   "outputs": [],
   "source": [
    "p11 = p1"
   ]
  },
  {
   "cell_type": "code",
   "execution_count": null,
   "metadata": {
    "colab": {
     "base_uri": "https://localhost:8080/"
    },
    "id": "yTvdDGucv9TC",
    "outputId": "fae89cd8-afa2-464a-a833-eb1670f0cef5"
   },
   "outputs": [
    {
     "name": "stdout",
     "output_type": "stream",
     "text": [
      "[1, 52, 545, 544, 9865]\n",
      "[1, 52, 545, 544, 9865]\n"
     ]
    }
   ],
   "source": [
    "print(p1)\n",
    "print(p11)"
   ]
  },
  {
   "cell_type": "code",
   "execution_count": null,
   "metadata": {
    "id": "9CNNGA-ZulTQ"
   },
   "outputs": [],
   "source": [
    "p1.append(900)"
   ]
  },
  {
   "cell_type": "code",
   "execution_count": null,
   "metadata": {
    "colab": {
     "base_uri": "https://localhost:8080/"
    },
    "id": "ENjSs9USumuE",
    "outputId": "c5cc09d6-3c2c-49c4-dc60-550f6e5a64ab"
   },
   "outputs": [
    {
     "name": "stdout",
     "output_type": "stream",
     "text": [
      "[1, 52, 545, 544, 9865, 900]\n",
      "[1, 52, 545, 544, 9865, 900]\n"
     ]
    }
   ],
   "source": [
    "print(p1)   # change to one list is changes both lists\n",
    "print(p11)"
   ]
  },
  {
   "cell_type": "code",
   "execution_count": null,
   "metadata": {
    "id": "y7kCPTQpum9Y"
   },
   "outputs": [],
   "source": []
  },
  {
   "cell_type": "markdown",
   "metadata": {
    "id": "0kHYIfpjyt8N"
   },
   "source": [
    "**COUNT**\n",
    "\n",
    "**name of file.count(element)** ---> To count the number of occurance of elements in the list."
   ]
  },
  {
   "cell_type": "code",
   "execution_count": null,
   "metadata": {
    "id": "AoBq9Gl_unLX"
   },
   "outputs": [],
   "source": [
    "p = [1, 1, 1, 1, 1, 1, 1, 2, 2, 2, 5, 5, 9, 9, 9, 9, 11,]"
   ]
  },
  {
   "cell_type": "code",
   "execution_count": null,
   "metadata": {
    "colab": {
     "base_uri": "https://localhost:8080/"
    },
    "id": "aIiII7YcunaI",
    "outputId": "db60a671-2d53-40f0-dc2a-fa8524690421"
   },
   "outputs": [
    {
     "name": "stdout",
     "output_type": "stream",
     "text": [
      "7\n",
      "3\n",
      "2\n",
      "4\n",
      "1\n"
     ]
    }
   ],
   "source": [
    "print(p.count(1))\n",
    "print(p.count(2))\n",
    "print(p.count(5))\n",
    "print(p.count(9))\n",
    "print(p.count(11))"
   ]
  },
  {
   "cell_type": "code",
   "execution_count": null,
   "metadata": {
    "id": "zdAohjLVuoor"
   },
   "outputs": [],
   "source": [
    "g = [1, 2, 'python', 'java', True, False, 0]"
   ]
  },
  {
   "cell_type": "code",
   "execution_count": null,
   "metadata": {
    "colab": {
     "base_uri": "https://localhost:8080/"
    },
    "id": "fJ91SgVBuo9D",
    "outputId": "d62685dc-26db-4ebb-8885-f8f8f280223d"
   },
   "outputs": [
    {
     "name": "stdout",
     "output_type": "stream",
     "text": [
      "2\n",
      "1\n",
      "1\n",
      "1\n",
      "2\n"
     ]
    }
   ],
   "source": [
    "print(g.count(1))  # True is boolean counts as 1\n",
    "print(g.count(2))\n",
    "print(g.count('python'))\n",
    "print(g.count('java'))\n",
    "print(g.count(0))  # False is boolean counts as 0"
   ]
  },
  {
   "cell_type": "code",
   "execution_count": null,
   "metadata": {
    "id": "fVvEH40fupOW"
   },
   "outputs": [],
   "source": []
  },
  {
   "cell_type": "markdown",
   "metadata": {
    "id": "mSqn2b5T2RLa"
   },
   "source": [
    "**EXTEND**\n",
    "\n",
    "**file name.extend([elements])** ---> To add multiple elements to list at once.\n",
    "\n",
    "* If we use **file_name.extend()** we can add only one element in the said file  \n",
    "\n",
    "* if we use **file_name.extent([ ])** then this way we can and multiple elements without creating ***nested list***.\n",
    "\n",
    "***NESTED LIST***\n",
    "----> list within the list [1, 2, 5, [5, 35, 6], 54]"
   ]
  },
  {
   "cell_type": "code",
   "execution_count": null,
   "metadata": {
    "colab": {
     "base_uri": "https://localhost:8080/"
    },
    "id": "6_9wb3j2upeb",
    "outputId": "d73447f4-96c2-45e7-887c-a34cfe912d01"
   },
   "outputs": [
    {
     "name": "stdout",
     "output_type": "stream",
     "text": [
      "[1, 2, 'python', 'java', True, False, 0]\n"
     ]
    }
   ],
   "source": [
    "print(g)"
   ]
  },
  {
   "cell_type": "code",
   "execution_count": null,
   "metadata": {
    "id": "N7teg5UIupvr"
   },
   "outputs": [],
   "source": [
    "g.extend([54654, 64654, 789774])"
   ]
  },
  {
   "cell_type": "code",
   "execution_count": null,
   "metadata": {
    "colab": {
     "base_uri": "https://localhost:8080/"
    },
    "id": "6NjpQWOmup_B",
    "outputId": "af59995f-0ec7-4b67-9c26-7f8bd112b268"
   },
   "outputs": [
    {
     "name": "stdout",
     "output_type": "stream",
     "text": [
      "[1, 2, 'python', 'java', True, False, 0, 54654, 64654, 789774]\n"
     ]
    }
   ],
   "source": [
    "print(g)"
   ]
  },
  {
   "cell_type": "code",
   "execution_count": null,
   "metadata": {
    "id": "QzDw7rBHuqMc"
   },
   "outputs": [],
   "source": []
  },
  {
   "cell_type": "code",
   "execution_count": null,
   "metadata": {
    "colab": {
     "base_uri": "https://localhost:8080/"
    },
    "id": "mvj5dQl9-ZKs",
    "outputId": "96f9707b-2426-46b5-b275-fcad61fe68f6"
   },
   "outputs": [
    {
     "name": "stdout",
     "output_type": "stream",
     "text": [
      "[1, 2, 'python', 'java', True, False, 0, 54654, 64654, 789774, [25, 54, 365]]\n"
     ]
    }
   ],
   "source": [
    "g.append([25, 54, 365])\n",
    "print(g)\n",
    "# result --> [1, 2, 'gjhg', 'uhuh', True, False, 0, 54654, 64654, 789774, [25, 54, 365]]\n",
    "#                                                                          nested list"
   ]
  },
  {
   "cell_type": "code",
   "execution_count": null,
   "metadata": {
    "id": "X3MD4BEI-ZeD"
   },
   "outputs": [],
   "source": []
  },
  {
   "cell_type": "markdown",
   "metadata": {
    "id": "6JqzPIVGJcD7"
   },
   "source": [
    "Access elements in the nested list\n",
    "\n",
    "[1, 2, 'gjhg', 'uhuh', True, False, 0, 54654, 64654, 789774, [25, 54, 365]]\n",
    "\n",
    "                                                            Nested list\n",
    "                                                          \n",
    "In main list nested list is considered as one element"
   ]
  },
  {
   "cell_type": "code",
   "execution_count": null,
   "metadata": {
    "colab": {
     "base_uri": "https://localhost:8080/"
    },
    "id": "qVPkozdQ-ZwF",
    "outputId": "f4b722ac-4d67-4ba3-de0d-2610712ef53c"
   },
   "outputs": [
    {
     "name": "stdout",
     "output_type": "stream",
     "text": [
      "11\n"
     ]
    }
   ],
   "source": [
    "print(len(g)) # main elements = 10 plus one nested list = 11"
   ]
  },
  {
   "cell_type": "code",
   "execution_count": null,
   "metadata": {
    "colab": {
     "base_uri": "https://localhost:8080/"
    },
    "id": "ZJTg_UO--bjc",
    "outputId": "a720a2f0-e549-4f75-ef6f-75562818950c"
   },
   "outputs": [
    {
     "name": "stdout",
     "output_type": "stream",
     "text": [
      "[25, 54, 365]\n"
     ]
    }
   ],
   "source": [
    "print(g[10])"
   ]
  },
  {
   "cell_type": "code",
   "execution_count": null,
   "metadata": {
    "colab": {
     "base_uri": "https://localhost:8080/"
    },
    "id": "YPAnS9hE-b5-",
    "outputId": "74b3e025-e524-47ba-f75c-dbd4ae0fc096"
   },
   "outputs": [
    {
     "name": "stdout",
     "output_type": "stream",
     "text": [
      "54\n"
     ]
    }
   ],
   "source": [
    "print(g[10][1])"
   ]
  },
  {
   "cell_type": "markdown",
   "metadata": {
    "id": "xqveRRAZLi_d"
   },
   "source": [
    "**Indexing of nested list**\n",
    "\n",
    "     0  1    2        3      4     5    6    7      8       9         10\n",
    "    [1, 2, 'gjhg', 'uhuh', True, False, 0, 54654, 64654, 789774, [25, 54, 365]]"
   ]
  },
  {
   "cell_type": "code",
   "execution_count": null,
   "metadata": {
    "id": "xtvDwXb1-cI1"
   },
   "outputs": [],
   "source": [
    "h = [1, 11, 12, 45, 55, 65, 78, 98, [56, 79, 73, 15, 62]]"
   ]
  },
  {
   "cell_type": "code",
   "execution_count": null,
   "metadata": {
    "colab": {
     "base_uri": "https://localhost:8080/"
    },
    "id": "QD1oSqok-cWG",
    "outputId": "e2684365-da6a-4edf-8ea6-465e01114315"
   },
   "outputs": [
    {
     "name": "stdout",
     "output_type": "stream",
     "text": [
      "15\n"
     ]
    }
   ],
   "source": [
    "print(h[8][3]) # To access 15"
   ]
  },
  {
   "cell_type": "code",
   "execution_count": null,
   "metadata": {
    "id": "x1VfrXdr-cil"
   },
   "outputs": [],
   "source": []
  },
  {
   "cell_type": "markdown",
   "metadata": {
    "id": "l0ATWHZ0SN6n"
   },
   "source": [
    "**INDEXING**\n",
    "\n",
    "**name of file.index(element)** ---> To find index of element in list\n"
   ]
  },
  {
   "cell_type": "code",
   "execution_count": null,
   "metadata": {
    "colab": {
     "base_uri": "https://localhost:8080/"
    },
    "id": "nOBEGVOh-cxd",
    "outputId": "0bcc8650-1c23-42f5-b17b-48ee022d5bac"
   },
   "outputs": [
    {
     "name": "stdout",
     "output_type": "stream",
     "text": [
      "7\n"
     ]
    }
   ],
   "source": [
    "print(h.index(98))"
   ]
  },
  {
   "cell_type": "code",
   "execution_count": null,
   "metadata": {
    "colab": {
     "base_uri": "https://localhost:8080/",
     "height": 163
    },
    "id": "ygifKyLc-c9Z",
    "outputId": "6da697c7-b227-4944-e873-b7dbea7e996b"
   },
   "outputs": [
    {
     "ename": "ValueError",
     "evalue": "ignored",
     "output_type": "error",
     "traceback": [
      "\u001b[0;31m---------------------------------------------------------------------------\u001b[0m",
      "\u001b[0;31mValueError\u001b[0m                                Traceback (most recent call last)",
      "\u001b[0;32m<ipython-input-47-917e4e43056a>\u001b[0m in \u001b[0;36m<module>\u001b[0;34m()\u001b[0m\n\u001b[0;32m----> 1\u001b[0;31m \u001b[0mprint\u001b[0m\u001b[0;34m(\u001b[0m\u001b[0mh\u001b[0m\u001b[0;34m.\u001b[0m\u001b[0mindex\u001b[0m\u001b[0;34m(\u001b[0m\u001b[0;36m73\u001b[0m\u001b[0;34m)\u001b[0m\u001b[0;34m)\u001b[0m \u001b[0;31m# Can't find the index of nested list elements\u001b[0m\u001b[0;34m\u001b[0m\u001b[0;34m\u001b[0m\u001b[0m\n\u001b[0m",
      "\u001b[0;31mValueError\u001b[0m: 73 is not in list"
     ]
    }
   ],
   "source": [
    "print(h.index(73)) # Can't find the index of nested list elements"
   ]
  },
  {
   "cell_type": "code",
   "execution_count": null,
   "metadata": {
    "id": "98_Hy31r-dq5"
   },
   "outputs": [],
   "source": []
  },
  {
   "cell_type": "markdown",
   "metadata": {
    "id": "znAB3OzqTw9Q"
   },
   "source": [
    "**POP**\n",
    "\n",
    "**name of file.pop(index no.)** ---> To remove and store element.\n",
    "\n"
   ]
  },
  {
   "cell_type": "code",
   "execution_count": null,
   "metadata": {
    "colab": {
     "base_uri": "https://localhost:8080/"
    },
    "id": "tZ92_gldTvvA",
    "outputId": "4d59d5cb-f3cc-40c2-9a94-d0808a7d2116"
   },
   "outputs": [
    {
     "name": "stdout",
     "output_type": "stream",
     "text": [
      "[1, 11, 12, 45, 55, 65, 78, [56, 79, 73, 15, 62]]\n"
     ]
    }
   ],
   "source": [
    "h.pop(7)\n",
    "print(h) # index 7 (98) element is popped"
   ]
  },
  {
   "cell_type": "code",
   "execution_count": null,
   "metadata": {
    "colab": {
     "base_uri": "https://localhost:8080/"
    },
    "id": "M9VHaaL4Tvq9",
    "outputId": "81623a2e-0b60-43b2-cdbc-af34239dcc45"
   },
   "outputs": [
    {
     "name": "stdout",
     "output_type": "stream",
     "text": [
      "[56, 79, 73, 15, 62]\n"
     ]
    }
   ],
   "source": [
    "temp = h.pop(7)\n",
    "print(temp) # index 7 element a nested listed got stored into temp"
   ]
  },
  {
   "cell_type": "code",
   "execution_count": null,
   "metadata": {
    "colab": {
     "base_uri": "https://localhost:8080/"
    },
    "id": "2xzBqqAnTvnJ",
    "outputId": "b95c551e-e05a-4073-bddf-78ce1c9e1708"
   },
   "outputs": [
    {
     "name": "stdout",
     "output_type": "stream",
     "text": [
      "[1, 11, 12, 45, 55, 65, 78]\n"
     ]
    }
   ],
   "source": [
    "print(h)"
   ]
  },
  {
   "cell_type": "code",
   "execution_count": null,
   "metadata": {
    "id": "2734hNO5Tva7"
   },
   "outputs": [],
   "source": [
    "h.append(temp) # can add popped element to list anytime"
   ]
  },
  {
   "cell_type": "code",
   "execution_count": null,
   "metadata": {
    "colab": {
     "base_uri": "https://localhost:8080/"
    },
    "id": "GoA9WqUMTvXD",
    "outputId": "4ed8906d-c814-4b0b-c3c1-dd4309dc4ad7"
   },
   "outputs": [
    {
     "name": "stdout",
     "output_type": "stream",
     "text": [
      "[1, 11, 12, 45, 55, 65, 78, [56, 79, 73, 15, 62]]\n"
     ]
    }
   ],
   "source": [
    "print(h)"
   ]
  },
  {
   "cell_type": "code",
   "execution_count": null,
   "metadata": {
    "id": "B4RQqHOiTvGM"
   },
   "outputs": [],
   "source": []
  },
  {
   "cell_type": "markdown",
   "metadata": {
    "id": "YxOp4Gdjfxvn"
   },
   "source": [
    "**REMOVE**\n",
    "\n",
    "**name of file.remove(element)** ---> To remove the element, removel is permanant."
   ]
  },
  {
   "cell_type": "code",
   "execution_count": null,
   "metadata": {
    "colab": {
     "base_uri": "https://localhost:8080/"
    },
    "id": "l4CQfV-WTvCx",
    "outputId": "17a42049-ff6a-46c9-b480-70ba19cdbdfb"
   },
   "outputs": [
    {
     "name": "stdout",
     "output_type": "stream",
     "text": [
      "[1, 11, 12, 45, 55, 65, [56, 79, 73, 15, 62]]\n"
     ]
    }
   ],
   "source": [
    "h.remove(78)\n",
    "print(h)"
   ]
  },
  {
   "cell_type": "code",
   "execution_count": null,
   "metadata": {
    "colab": {
     "base_uri": "https://localhost:8080/",
     "height": 180
    },
    "id": "dYKVHOVeTu_g",
    "outputId": "49342a15-084b-405c-9e6e-54a184abc46d"
   },
   "outputs": [
    {
     "ename": "ValueError",
     "evalue": "ignored",
     "output_type": "error",
     "traceback": [
      "\u001b[0;31m---------------------------------------------------------------------------\u001b[0m",
      "\u001b[0;31mValueError\u001b[0m                                Traceback (most recent call last)",
      "\u001b[0;32m<ipython-input-54-ce01e8447ddc>\u001b[0m in \u001b[0;36m<module>\u001b[0;34m()\u001b[0m\n\u001b[0;32m----> 1\u001b[0;31m \u001b[0mh\u001b[0m\u001b[0;34m.\u001b[0m\u001b[0mremove\u001b[0m\u001b[0;34m(\u001b[0m\u001b[0;36m62\u001b[0m\u001b[0;34m)\u001b[0m  \u001b[0;31m# Can't remove elements in nested file elements\u001b[0m\u001b[0;34m\u001b[0m\u001b[0;34m\u001b[0m\u001b[0m\n\u001b[0m\u001b[1;32m      2\u001b[0m \u001b[0mprint\u001b[0m\u001b[0;34m(\u001b[0m\u001b[0mh\u001b[0m\u001b[0;34m)\u001b[0m\u001b[0;34m\u001b[0m\u001b[0;34m\u001b[0m\u001b[0m\n",
      "\u001b[0;31mValueError\u001b[0m: list.remove(x): x not in list"
     ]
    }
   ],
   "source": [
    "h.remove(62)  # Can't remove elements in nested file elements\n",
    "print(h)"
   ]
  },
  {
   "cell_type": "code",
   "execution_count": null,
   "metadata": {
    "id": "5dI_J0XuTu3w"
   },
   "outputs": [],
   "source": []
  },
  {
   "cell_type": "markdown",
   "metadata": {
    "id": "-bm4V89i-n3M"
   },
   "source": [
    "**REVERSE**\n",
    "\n",
    "**file name.reverse()** ----> To reverse the elements in the list."
   ]
  },
  {
   "cell_type": "code",
   "execution_count": null,
   "metadata": {
    "colab": {
     "base_uri": "https://localhost:8080/"
    },
    "id": "r6Z9uI-V-nim",
    "outputId": "da85aa5c-4903-4ad9-a965-621647d666ec"
   },
   "outputs": [
    {
     "name": "stdout",
     "output_type": "stream",
     "text": [
      "[[56, 79, 73, 15, 62], 65, 55, 45, 12, 11, 1]\n"
     ]
    }
   ],
   "source": [
    "h.reverse()\n",
    "print(h)"
   ]
  },
  {
   "cell_type": "code",
   "execution_count": null,
   "metadata": {
    "colab": {
     "base_uri": "https://localhost:8080/"
    },
    "id": "P4tuf_T7-nX1",
    "outputId": "6b84c2ec-a881-45cc-e388-659a53104cb9"
   },
   "outputs": [
    {
     "name": "stdout",
     "output_type": "stream",
     "text": [
      "[[56, 79, 73, 15, 62], 65, 55, 45, 12, 11, 1]\n"
     ]
    }
   ],
   "source": [
    "h.reverse\n",
    "print(h)"
   ]
  },
  {
   "cell_type": "code",
   "execution_count": null,
   "metadata": {
    "colab": {
     "base_uri": "https://localhost:8080/"
    },
    "id": "uVx9AnOL-nLF",
    "outputId": "d1aa1098-c9c6-43c0-8aac-2acbbf162286"
   },
   "outputs": [
    {
     "name": "stdout",
     "output_type": "stream",
     "text": [
      "[[56, 79, 73, 15, 62], 65, 55, 45, 12, 11, 1]\n"
     ]
    }
   ],
   "source": [
    "h[0].reverse\n",
    "print(h)"
   ]
  },
  {
   "cell_type": "code",
   "execution_count": null,
   "metadata": {
    "id": "_ylOFhXZ-m-n"
   },
   "outputs": [],
   "source": []
  },
  {
   "cell_type": "markdown",
   "metadata": {
    "id": "F4i1SrKnANhw"
   },
   "source": [
    "**SORT**\n",
    "\n",
    "**file name.sort()** ---> To sort elements in the list in assending order. default"
   ]
  },
  {
   "cell_type": "code",
   "execution_count": null,
   "metadata": {
    "colab": {
     "base_uri": "https://localhost:8080/"
    },
    "id": "t_4ls7eEz9lq",
    "outputId": "46e891d8-2a6a-452e-cb0d-678d9f0e7b5f"
   },
   "outputs": [
    {
     "name": "stdout",
     "output_type": "stream",
     "text": [
      "[[56, 79, 73, 15, 62], 65, 55, 45, 12, 11, 1]\n"
     ]
    }
   ],
   "source": [
    "print(h)"
   ]
  },
  {
   "cell_type": "code",
   "execution_count": null,
   "metadata": {
    "colab": {
     "base_uri": "https://localhost:8080/",
     "height": 180
    },
    "id": "RP5HA2Le-m5m",
    "outputId": "01e3e94e-6ddb-4830-ef46-757a9eda8df3"
   },
   "outputs": [
    {
     "ename": "TypeError",
     "evalue": "ignored",
     "output_type": "error",
     "traceback": [
      "\u001b[0;31m---------------------------------------------------------------------------\u001b[0m",
      "\u001b[0;31mTypeError\u001b[0m                                 Traceback (most recent call last)",
      "\u001b[0;32m<ipython-input-59-ca1f58fa4e74>\u001b[0m in \u001b[0;36m<module>\u001b[0;34m()\u001b[0m\n\u001b[0;32m----> 1\u001b[0;31m \u001b[0mh\u001b[0m\u001b[0;34m.\u001b[0m\u001b[0msort\u001b[0m\u001b[0;34m(\u001b[0m\u001b[0;34m)\u001b[0m \u001b[0;31m# can not sort list with nested list inside\u001b[0m\u001b[0;34m\u001b[0m\u001b[0;34m\u001b[0m\u001b[0m\n\u001b[0m\u001b[1;32m      2\u001b[0m \u001b[0mprint\u001b[0m\u001b[0;34m(\u001b[0m\u001b[0mh\u001b[0m\u001b[0;34m)\u001b[0m\u001b[0;34m\u001b[0m\u001b[0;34m\u001b[0m\u001b[0m\n",
      "\u001b[0;31mTypeError\u001b[0m: '<' not supported between instances of 'int' and 'list'"
     ]
    }
   ],
   "source": [
    "h.sort() # can not sort list with nested list inside\n",
    "print(h)"
   ]
  },
  {
   "cell_type": "code",
   "execution_count": null,
   "metadata": {
    "colab": {
     "base_uri": "https://localhost:8080/"
    },
    "id": "7IEtA-5b-mye",
    "outputId": "519ee4f5-2983-45c3-e733-eb7775b7e8ce"
   },
   "outputs": [
    {
     "name": "stdout",
     "output_type": "stream",
     "text": [
      "[1, 5, 56, 98, 35, 2, 63, [326, 32, 66], 0]\n"
     ]
    }
   ],
   "source": [
    "j = [1, 5, 56, 98, 35, 2, 63, [326, 32, 66], 0]\n",
    "print(j)"
   ]
  },
  {
   "cell_type": "code",
   "execution_count": null,
   "metadata": {
    "colab": {
     "base_uri": "https://localhost:8080/",
     "height": 180
    },
    "id": "qyDQHF8n-mtt",
    "outputId": "4f39e8d3-173e-4cba-8788-8f035cdd06de"
   },
   "outputs": [
    {
     "ename": "TypeError",
     "evalue": "ignored",
     "output_type": "error",
     "traceback": [
      "\u001b[0;31m---------------------------------------------------------------------------\u001b[0m",
      "\u001b[0;31mTypeError\u001b[0m                                 Traceback (most recent call last)",
      "\u001b[0;32m<ipython-input-62-c0bcf0ff7d6c>\u001b[0m in \u001b[0;36m<module>\u001b[0;34m()\u001b[0m\n\u001b[0;32m----> 1\u001b[0;31m \u001b[0mj\u001b[0m\u001b[0;34m.\u001b[0m\u001b[0msort\u001b[0m\u001b[0;34m(\u001b[0m\u001b[0;34m)\u001b[0m\u001b[0;34m\u001b[0m\u001b[0;34m\u001b[0m\u001b[0m\n\u001b[0m\u001b[1;32m      2\u001b[0m \u001b[0mprint\u001b[0m\u001b[0;34m(\u001b[0m\u001b[0mj\u001b[0m\u001b[0;34m)\u001b[0m\u001b[0;34m\u001b[0m\u001b[0;34m\u001b[0m\u001b[0m\n",
      "\u001b[0;31mTypeError\u001b[0m: '<' not supported between instances of 'list' and 'int'"
     ]
    }
   ],
   "source": [
    "j.sort() # can't sort the list with nested list inside it.\n",
    "print(j)"
   ]
  },
  {
   "cell_type": "code",
   "execution_count": null,
   "metadata": {
    "colab": {
     "base_uri": "https://localhost:8080/"
    },
    "id": "DDmUOyad-mge",
    "outputId": "86ed6523-288d-451d-92a2-6e1949020886"
   },
   "outputs": [
    {
     "name": "stdout",
     "output_type": "stream",
     "text": [
      "[1, 2, 5, 35, 56, 63, 98, [32, 66, 326], 0]\n"
     ]
    }
   ],
   "source": [
    "j[7].sort()\n",
    "print(j)"
   ]
  },
  {
   "cell_type": "code",
   "execution_count": null,
   "metadata": {
    "colab": {
     "base_uri": "https://localhost:8080/"
    },
    "id": "5VoxNMiITuqz",
    "outputId": "e8448807-ada8-4e1a-9a57-8ecbdc91822a"
   },
   "outputs": [
    {
     "name": "stdout",
     "output_type": "stream",
     "text": [
      "[1, 2, 5, 35, 76, 58, 12, 0, 32]\n"
     ]
    }
   ],
   "source": [
    "l = [1, 2, 5, 35, 76, 58, 12, 0, 32]\n",
    "print(l)"
   ]
  },
  {
   "cell_type": "code",
   "execution_count": null,
   "metadata": {
    "colab": {
     "base_uri": "https://localhost:8080/"
    },
    "id": "YlU1ocX9nYzC",
    "outputId": "6d3327b7-dff7-4300-fce6-87aec6bdfa6c"
   },
   "outputs": [
    {
     "name": "stdout",
     "output_type": "stream",
     "text": [
      "[0, 1, 2, 5, 12, 32, 35, 58, 76]\n"
     ]
    }
   ],
   "source": [
    "l.sort() # Default assending\n",
    "print(l)"
   ]
  },
  {
   "cell_type": "code",
   "execution_count": null,
   "metadata": {
    "colab": {
     "base_uri": "https://localhost:8080/"
    },
    "id": "kG_6s4qxnpO5",
    "outputId": "3819ad64-c5e1-49fa-ba00-5f9d5cb2e4d4"
   },
   "outputs": [
    {
     "name": "stdout",
     "output_type": "stream",
     "text": [
      "[76, 58, 35, 32, 12, 5, 2, 1, 0]\n"
     ]
    }
   ],
   "source": [
    "l.sort(reverse= True) # For desending\n",
    "print(l)"
   ]
  },
  {
   "cell_type": "code",
   "execution_count": null,
   "metadata": {
    "colab": {
     "base_uri": "https://localhost:8080/"
    },
    "id": "7lUIYqeLnpGX",
    "outputId": "35324296-a63e-4751-d8e2-40e6f240691b"
   },
   "outputs": [
    {
     "name": "stdout",
     "output_type": "stream",
     "text": [
      "[0, 1, 2, 5, 12, 32, 35, 58, 76]\n"
     ]
    }
   ],
   "source": [
    "l.sort(reverse= False) # For assending with reverse\n",
    "print(l)"
   ]
  },
  {
   "cell_type": "code",
   "execution_count": null,
   "metadata": {
    "id": "7saFrEgOno94"
   },
   "outputs": [],
   "source": []
  },
  {
   "cell_type": "markdown",
   "metadata": {
    "id": "rVoZi2E6SFdT"
   },
   "source": [
    "***MINIMUM*** **&**  ***MAXIMUM***\n",
    "\n",
    "To find minimum(smallest) and maximum(largest) elements in list, tuple\n",
    "\n",
    "**min(name of list)**\n",
    "**max(name of list)**"
   ]
  },
  {
   "cell_type": "code",
   "execution_count": 6,
   "metadata": {
    "colab": {
     "base_uri": "https://localhost:8080/"
    },
    "id": "6zzKsYqSno3N",
    "outputId": "92134c68-3f44-44ee-f248-d5112eeccbc9"
   },
   "outputs": [
    {
     "name": "stdout",
     "output_type": "stream",
     "text": [
      "[1, 5, 56, 98, 35, 2, 63, [326, 32, 66], 0]\n"
     ]
    }
   ],
   "source": [
    "j = [1, 5, 56, 98, 35, 2, 63, [326, 32, 66], 0]\n",
    "print(j)"
   ]
  },
  {
   "cell_type": "code",
   "execution_count": 7,
   "metadata": {
    "colab": {
     "base_uri": "https://localhost:8080/",
     "height": 180
    },
    "id": "oGObIZSenovC",
    "outputId": "2fd9757a-7537-4477-8e15-47e89c6716be"
   },
   "outputs": [
    {
     "ename": "TypeError",
     "evalue": "ignored",
     "output_type": "error",
     "traceback": [
      "\u001b[0;31m---------------------------------------------------------------------------\u001b[0m",
      "\u001b[0;31mTypeError\u001b[0m                                 Traceback (most recent call last)",
      "\u001b[0;32m<ipython-input-7-6fb1bc426187>\u001b[0m in \u001b[0;36m<module>\u001b[0;34m()\u001b[0m\n\u001b[0;32m----> 1\u001b[0;31m \u001b[0mprint\u001b[0m\u001b[0;34m(\u001b[0m\u001b[0mmin\u001b[0m\u001b[0;34m(\u001b[0m\u001b[0mj\u001b[0m\u001b[0;34m)\u001b[0m\u001b[0;34m)\u001b[0m \u001b[0;31m# can't ferform in nested list formate\u001b[0m\u001b[0;34m\u001b[0m\u001b[0;34m\u001b[0m\u001b[0m\n\u001b[0m\u001b[1;32m      2\u001b[0m \u001b[0mprint\u001b[0m\u001b[0;34m(\u001b[0m\u001b[0mmax\u001b[0m\u001b[0;34m(\u001b[0m\u001b[0mj\u001b[0m\u001b[0;34m)\u001b[0m\u001b[0;34m)\u001b[0m\u001b[0;34m\u001b[0m\u001b[0;34m\u001b[0m\u001b[0m\n",
      "\u001b[0;31mTypeError\u001b[0m: '<' not supported between instances of 'list' and 'int'"
     ]
    }
   ],
   "source": [
    "print(min(j)) # can't ferform in nested list formate\n",
    "print(max(j))"
   ]
  },
  {
   "cell_type": "code",
   "execution_count": 8,
   "metadata": {
    "colab": {
     "base_uri": "https://localhost:8080/"
    },
    "id": "rkPYvI08nono",
    "outputId": "08818441-d2c9-42ae-b18f-fe2f4725c72b"
   },
   "outputs": [
    {
     "name": "stdout",
     "output_type": "stream",
     "text": [
      "[1, 5, 25, 54, 26, 345]\n"
     ]
    }
   ],
   "source": [
    "j = [1, 5, 25, 54, 26, 345]\n",
    "print(j)"
   ]
  },
  {
   "cell_type": "code",
   "execution_count": 9,
   "metadata": {
    "colab": {
     "base_uri": "https://localhost:8080/"
    },
    "id": "SUHXzQLanofg",
    "outputId": "476a9d1a-8160-4332-ff44-9cb98188f8cc"
   },
   "outputs": [
    {
     "name": "stdout",
     "output_type": "stream",
     "text": [
      "1\n",
      "345\n"
     ]
    }
   ],
   "source": [
    "print(min(j))\n",
    "print(max(j))"
   ]
  },
  {
   "cell_type": "code",
   "execution_count": null,
   "metadata": {
    "id": "04Iw9PFCnoZH"
   },
   "outputs": [],
   "source": []
  },
  {
   "cell_type": "code",
   "execution_count": null,
   "metadata": {
    "id": "hKYby8HAnoSO"
   },
   "outputs": [],
   "source": []
  },
  {
   "cell_type": "code",
   "execution_count": null,
   "metadata": {
    "id": "YQrSoemhnoI2"
   },
   "outputs": [],
   "source": []
  },
  {
   "cell_type": "code",
   "execution_count": null,
   "metadata": {
    "id": "kSN7q-7pnm3e"
   },
   "outputs": [],
   "source": []
  }
 ],
 "metadata": {
  "colab": {
   "collapsed_sections": [],
   "name": "LIST_&_Method.ipynb",
   "provenance": []
  },
  "kernelspec": {
   "display_name": "Python 3 (ipykernel)",
   "language": "python",
   "name": "python3"
  },
  "language_info": {
   "codemirror_mode": {
    "name": "ipython",
    "version": 3
   },
   "file_extension": ".py",
   "mimetype": "text/x-python",
   "name": "python",
   "nbconvert_exporter": "python",
   "pygments_lexer": "ipython3",
   "version": "3.8.8"
  }
 },
 "nbformat": 4,
 "nbformat_minor": 1
}
