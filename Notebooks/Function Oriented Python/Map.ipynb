{
 "cells": [
  {
   "cell_type": "markdown",
   "id": "bb705c5b",
   "metadata": {},
   "source": [
    "***Map***\n",
    "---> In map we can apply function to any sequence.\n",
    "---> Input length of sequence & Output length is equal.\n",
    "---> In map we can pass function as an argument."
   ]
  },
  {
   "cell_type": "code",
   "execution_count": 1,
   "id": "bb1bf306",
   "metadata": {},
   "outputs": [
    {
     "name": "stdout",
     "output_type": "stream",
     "text": [
      "[1, 2, 3, 4, 5, 6, 7, 8, 9]\n",
      "[1, 4, 9, 16, 25, 36, 49, 64, 81]\n"
     ]
    }
   ],
   "source": [
    "#using function\n",
    "\n",
    "py_list = list(range(1,10))\n",
    "\n",
    "sq_list = []\n",
    "for i in py_list:\n",
    "    sq_list.append(i*i)\n",
    "print(py_list)\n",
    "print(sq_list)"
   ]
  },
  {
   "cell_type": "code",
   "execution_count": 15,
   "id": "45df31be",
   "metadata": {},
   "outputs": [
    {
     "name": "stdout",
     "output_type": "stream",
     "text": [
      "[1, 4, 9, 16, 25, 36, 49, 64, 81]\n"
     ]
    }
   ],
   "source": [
    "#using map\n",
    "def sqr(temp):\n",
    "    return (temp*temp)\n",
    "\n",
    "sq = list(map(sqr,py_list))\n",
    "print(sq)"
   ]
  },
  {
   "cell_type": "code",
   "execution_count": 3,
   "id": "12c8623d",
   "metadata": {},
   "outputs": [
    {
     "name": "stdout",
     "output_type": "stream",
     "text": [
      "[1, 4, 9, 16, 25, 36, 49, 64, 81]\n"
     ]
    }
   ],
   "source": [
    "sq = list(map(lambda x:x*x,py_list))\n",
    "print(sq)"
   ]
  },
  {
   "cell_type": "code",
   "execution_count": 12,
   "id": "a6a34b8a",
   "metadata": {},
   "outputs": [],
   "source": [
    "a= map(sqr,sq)"
   ]
  },
  {
   "cell_type": "code",
   "execution_count": 11,
   "id": "522433cf",
   "metadata": {},
   "outputs": [
    {
     "data": {
      "text/plain": [
       "<map at 0x1cbf5995fa0>"
      ]
     },
     "execution_count": 11,
     "metadata": {},
     "output_type": "execute_result"
    }
   ],
   "source": [
    "a"
   ]
  },
  {
   "cell_type": "code",
   "execution_count": null,
   "id": "576189ab",
   "metadata": {},
   "outputs": [],
   "source": []
  },
  {
   "cell_type": "code",
   "execution_count": 5,
   "id": "9d4a26c7",
   "metadata": {},
   "outputs": [
    {
     "ename": "IndentationError",
     "evalue": "expected an indented block (<ipython-input-5-bd12bc2a456c>, line 3)",
     "output_type": "error",
     "traceback": [
      "\u001b[1;36m  File \u001b[1;32m\"<ipython-input-5-bd12bc2a456c>\"\u001b[1;36m, line \u001b[1;32m3\u001b[0m\n\u001b[1;33m    return i\u001b[0m\n\u001b[1;37m    ^\u001b[0m\n\u001b[1;31mIndentationError\u001b[0m\u001b[1;31m:\u001b[0m expected an indented block\n"
     ]
    }
   ],
   "source": [
    "def l1(list1):\n",
    "    for i in list1:\n",
    "    return i\n",
    "def l2(list2):\n",
    "    for i in list2:\n",
    "    return i\n",
    "\n",
    "s = l1\n",
    "print(s)"
   ]
  },
  {
   "cell_type": "code",
   "execution_count": 4,
   "id": "43606bbc",
   "metadata": {},
   "outputs": [
    {
     "ename": "TypeError",
     "evalue": "'list' object is not callable",
     "output_type": "error",
     "traceback": [
      "\u001b[1;31m---------------------------------------------------------------------------\u001b[0m",
      "\u001b[1;31mTypeError\u001b[0m                                 Traceback (most recent call last)",
      "\u001b[1;32m<ipython-input-4-f51a919a02b3>\u001b[0m in \u001b[0;36m<module>\u001b[1;34m\u001b[0m\n\u001b[0;32m      1\u001b[0m \u001b[0mlist1\u001b[0m \u001b[1;33m=\u001b[0m \u001b[0mlist\u001b[0m\u001b[1;33m(\u001b[0m\u001b[0mrange\u001b[0m\u001b[1;33m(\u001b[0m\u001b[1;36m1\u001b[0m\u001b[1;33m,\u001b[0m\u001b[1;36m6\u001b[0m\u001b[1;33m)\u001b[0m\u001b[1;33m)\u001b[0m\u001b[1;33m\u001b[0m\u001b[1;33m\u001b[0m\u001b[0m\n\u001b[0;32m      2\u001b[0m \u001b[0mlist2\u001b[0m \u001b[1;33m=\u001b[0m \u001b[1;33m[\u001b[0m\u001b[1;34m'python'\u001b[0m\u001b[1;33m,\u001b[0m\u001b[1;34m'java'\u001b[0m\u001b[1;33m,\u001b[0m\u001b[1;34m'c++'\u001b[0m\u001b[1;33m,\u001b[0m\u001b[1;34m'hadoop'\u001b[0m\u001b[1;33m,\u001b[0m\u001b[1;34m'aws'\u001b[0m\u001b[1;33m]\u001b[0m\u001b[1;33m\u001b[0m\u001b[1;33m\u001b[0m\u001b[0m\n\u001b[1;32m----> 3\u001b[1;33m \u001b[0mlist_r\u001b[0m \u001b[1;33m=\u001b[0m \u001b[0mlist\u001b[0m\u001b[1;33m(\u001b[0m\u001b[0mmap\u001b[0m\u001b[1;33m(\u001b[0m\u001b[0mlist1\u001b[0m\u001b[1;33m,\u001b[0m\u001b[0mlist2\u001b[0m\u001b[1;33m)\u001b[0m\u001b[1;33m)\u001b[0m\u001b[1;33m\u001b[0m\u001b[1;33m\u001b[0m\u001b[0m\n\u001b[0m\u001b[0;32m      4\u001b[0m \u001b[0mprint\u001b[0m\u001b[1;33m(\u001b[0m\u001b[0mlist_r\u001b[0m\u001b[1;33m)\u001b[0m\u001b[1;33m\u001b[0m\u001b[1;33m\u001b[0m\u001b[0m\n",
      "\u001b[1;31mTypeError\u001b[0m: 'list' object is not callable"
     ]
    }
   ],
   "source": [
    "list1 = list(range(1,6))\n",
    "list2 = ['python','java','c++','hadoop','aws']\n",
    "list_r = list(map(list1,list2))\n",
    "print(list_r)"
   ]
  },
  {
   "cell_type": "code",
   "execution_count": 22,
   "id": "28e736b3",
   "metadata": {},
   "outputs": [
    {
     "data": {
      "text/plain": [
       "(1, 'python')"
      ]
     },
     "execution_count": 22,
     "metadata": {},
     "output_type": "execute_result"
    }
   ],
   "source": [
    "def s(list1,list2):\n",
    "    for i in list1:\n",
    "        for j in list2:\n",
    "            return (i,j)\n",
    "d = s\n",
    "d(list1,list2)"
   ]
  },
  {
   "cell_type": "code",
   "execution_count": null,
   "id": "c81bef8b",
   "metadata": {},
   "outputs": [],
   "source": []
  },
  {
   "cell_type": "code",
   "execution_count": null,
   "id": "a8f09308",
   "metadata": {},
   "outputs": [],
   "source": []
  }
 ],
 "metadata": {
  "kernelspec": {
   "display_name": "Python 3",
   "language": "python",
   "name": "python3"
  },
  "language_info": {
   "codemirror_mode": {
    "name": "ipython",
    "version": 3
   },
   "file_extension": ".py",
   "mimetype": "text/x-python",
   "name": "python",
   "nbconvert_exporter": "python",
   "pygments_lexer": "ipython3",
   "version": "3.8.8"
  }
 },
 "nbformat": 4,
 "nbformat_minor": 5
}
