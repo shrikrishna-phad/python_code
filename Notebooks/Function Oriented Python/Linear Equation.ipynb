{
 "cells": [
  {
   "cell_type": "code",
   "execution_count": 14,
   "id": "5fa9c6f2",
   "metadata": {},
   "outputs": [
    {
     "name": "stdout",
     "output_type": "stream",
     "text": [
      "\n",
      "For first Equation\n",
      "Enter the value of a in ax+by=c: 1\n",
      "Enter the value of b in ax+by=c: -7\n",
      "Enter the value of b in ax+by=c: -11\n",
      "For second Equation\n",
      "Enter the value of a in ax+by=c: 5\n",
      "Enter the value of b in ax+by=c: 2\n",
      "Enter the value of b in ax+by=c: -18\n",
      "in ax+by=c x = -4.0\n",
      "in ax+by=c y = 1.0\n"
     ]
    }
   ],
   "source": [
    "#solve liner Equations\n",
    "# 3x+2y=5 & 2x+3y=6\n",
    "\n",
    "print(\"\\nFor first Equation\")\n",
    "a1 = int(input(\"Enter the value of a in ax+by=c: \"))\n",
    "b1 = int(input(\"Enter the value of b in ax+by=c: \"))\n",
    "c1 = int(input(\"Enter the value of b in ax+by=c: \"))\n",
    "#3x+2y=5\n",
    "\n",
    "print(\"For second Equation\")\n",
    "a2 = int(input(\"Enter the value of a in ax+by=c: \"))\n",
    "b2 = int(input(\"Enter the value of b in ax+by=c: \"))\n",
    "c2 = int(input(\"Enter the value of b in ax+by=c: \"))\n",
    "#2x+3y=6\n",
    "\n",
    "sa1 = a1*a2\n",
    "sb1 = b1*a2\n",
    "sc1 = c1*a2\n",
    "#6x+4y=10\n",
    "\n",
    "sa2 = a2*a1\n",
    "sb2 = b2*a1\n",
    "sc2 = c2*a1\n",
    "#6x+9y=18\n",
    "\n",
    "if sb1>=sb2:\n",
    "    sb3 = sb1 - sb2\n",
    "    sc3 = sc1 - sc2\n",
    "else:\n",
    "    sb3 = sb2 - sb1\n",
    "    sc3 = sc2 - sc1\n",
    "\n",
    "y = sc3/sb3\n",
    "x = (c1-(y*b1))/a1\n",
    "\n",
    "print(f'in ax+by=c x = {x}')\n",
    "print(f'in ax+by=c y = {y}')\n"
   ]
  },
  {
   "cell_type": "code",
   "execution_count": null,
   "id": "69749d29",
   "metadata": {},
   "outputs": [],
   "source": []
  },
  {
   "cell_type": "code",
   "execution_count": 43,
   "id": "40f71bb0",
   "metadata": {},
   "outputs": [],
   "source": [
    "def lin(fun):\n",
    "    def inner():\n",
    "        a1,a2,b1,b2,c1,c2 = fun()\n",
    "        sa1 = a1*a2\n",
    "        sb1 = b1*a2\n",
    "        sc1 = c1*a2\n",
    "        print('\\nsa1 = ',sa1,'sb1 = ', sb1,'sc1 = ',sc1)\n",
    "        #6x+4y=10\n",
    "\n",
    "        sa2 = a2*a1\n",
    "        sb2 = b2*a1\n",
    "        sc2 = c2*a1\n",
    "        print('\\nsa2 = ',sa2,'sb2 = ', sb2,'sc2 = ',sc2)\n",
    "        #6x+9y=18\n",
    "\n",
    "        if sb1>=sb2:\n",
    "            sb3 = sb1 - sb2\n",
    "            sc3 = sc1 - sc2\n",
    "        else:\n",
    "            sb3 = sb2 - sb1\n",
    "            sc3 = sc2 - sc1\n",
    "            \n",
    "        if sb3 == 0:\n",
    "            print(f\"Given Equations have infinite number of solutions\")\n",
    "        else:\n",
    "            y = sc3/sb3\n",
    "            x = (c1-(y*b1))/a1\n",
    "            print(f'\\nin ax+by=c x = {x} y = {y}')\n",
    "    return inner\n"
   ]
  },
  {
   "cell_type": "code",
   "execution_count": null,
   "id": "729bc2be",
   "metadata": {},
   "outputs": [],
   "source": []
  },
  {
   "cell_type": "code",
   "execution_count": 44,
   "id": "f415018b",
   "metadata": {},
   "outputs": [
    {
     "name": "stdout",
     "output_type": "stream",
     "text": [
      "\n",
      "For first Equation a1x+b1y=c1\n",
      "Enter the value of a1 in a1x+b1y=c1: a1=-2\n",
      "Enter the value of b1 in a1x+b1y=c1: b1=10\n",
      "Enter the value of b1 in a1x+b1y=c1: c1= 2\n",
      "\n",
      "For second Equation a2x+b2y=c2\n",
      "Enter the value of a2 in a1x+b1y=c1: a2=5\n",
      "Enter the value of b2 in a1x+b1y=c1: b2=-25\n",
      "Enter the value of c2 in a1x+b1y=c1: c2=3\n",
      "\n",
      "sa1 =  -10 sb1 =  50 sc1 =  10\n",
      "\n",
      "sa2 =  -10 sb2 =  50 sc2 =  -6\n",
      "Given Equations have infinite number of solutions\n"
     ]
    }
   ],
   "source": [
    "\n",
    "@lin\n",
    "def s():\n",
    "    # solve liner Equations\n",
    "    # 3x+2y=5 & 2x+3y=6\n",
    "    print(\"\\nFor first Equation a1x+b1y=c1\")\n",
    "    a1 = int(input(\"Enter the value of a1 in a1x+b1y=c1: a1=\"))\n",
    "    b1 = int(input(\"Enter the value of b1 in a1x+b1y=c1: b1=\"))\n",
    "    c1 = int(input(\"Enter the value of b1 in a1x+b1y=c1: c1= \"))\n",
    "    #3x+2y=5\n",
    "\n",
    "    print(\"\\nFor second Equation a2x+b2y=c2\")\n",
    "    a2 = int(input(\"Enter the value of a2 in a1x+b1y=c1: a2=\"))\n",
    "    b2 = int(input(\"Enter the value of b2 in a1x+b1y=c1: b2=\"))\n",
    "    c2 = int(input(\"Enter the value of c2 in a1x+b1y=c1: c2=\"))\n",
    "    #2x+3y=6\n",
    "    return a1,a2,b1,b2,c1,c2\n",
    "\n",
    "s()"
   ]
  },
  {
   "cell_type": "code",
   "execution_count": null,
   "id": "80a87537",
   "metadata": {},
   "outputs": [],
   "source": []
  },
  {
   "cell_type": "code",
   "execution_count": null,
   "id": "87813ff2",
   "metadata": {},
   "outputs": [],
   "source": []
  },
  {
   "cell_type": "code",
   "execution_count": null,
   "id": "15d40e77",
   "metadata": {},
   "outputs": [],
   "source": []
  },
  {
   "cell_type": "code",
   "execution_count": null,
   "id": "7abfe5e1",
   "metadata": {},
   "outputs": [],
   "source": []
  },
  {
   "cell_type": "code",
   "execution_count": null,
   "id": "aca71161",
   "metadata": {},
   "outputs": [],
   "source": []
  },
  {
   "cell_type": "code",
   "execution_count": null,
   "id": "4fb037d4",
   "metadata": {},
   "outputs": [],
   "source": []
  },
  {
   "cell_type": "code",
   "execution_count": null,
   "id": "b91149b9",
   "metadata": {},
   "outputs": [],
   "source": []
  }
 ],
 "metadata": {
  "kernelspec": {
   "display_name": "Python 3",
   "language": "python",
   "name": "python3"
  },
  "language_info": {
   "codemirror_mode": {
    "name": "ipython",
    "version": 3
   },
   "file_extension": ".py",
   "mimetype": "text/x-python",
   "name": "python",
   "nbconvert_exporter": "python",
   "pygments_lexer": "ipython3",
   "version": "3.8.8"
  }
 },
 "nbformat": 4,
 "nbformat_minor": 5
}
