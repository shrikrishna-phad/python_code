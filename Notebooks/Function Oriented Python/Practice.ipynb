{
 "cells": [
  {
   "cell_type": "markdown",
   "id": "59115b2e",
   "metadata": {},
   "source": [
    "***Practice***"
   ]
  },
  {
   "cell_type": "code",
   "execution_count": 7,
   "id": "5f54b0b9",
   "metadata": {},
   "outputs": [
    {
     "name": "stdout",
     "output_type": "stream",
     "text": [
      "enter the number: 5\n",
      "this is it\n",
      "this is it\n",
      "this is it\n",
      "this is it\n",
      "this is it\n",
      "\n"
     ]
    }
   ],
   "source": [
    "a = int(input(\"enter the number: \"))\n",
    "\n",
    "print(\"this is it\\n\"*a)"
   ]
  },
  {
   "cell_type": "code",
   "execution_count": 53,
   "id": "beb7e33d",
   "metadata": {},
   "outputs": [
    {
     "name": "stdout",
     "output_type": "stream",
     "text": [
      "['shrikrishna.phad24']\n"
     ]
    }
   ],
   "source": [
    "a = ['gghghj.hg','shrikrishna.phad24']\n",
    "b = []\n",
    "def chk(a):\n",
    "    c = False\n",
    "    for i in a:\n",
    "        for j in i:\n",
    "            if str(j).isnumeric():\n",
    "                c = True\n",
    "        if c:\n",
    "            b.append(i)\n",
    "    print(b)\n",
    "chk(a)"
   ]
  },
  {
   "cell_type": "markdown",
   "id": "e6c4162d",
   "metadata": {},
   "source": [
    "***Area & Volume***"
   ]
  },
  {
   "cell_type": "code",
   "execution_count": 1,
   "id": "370a71f6",
   "metadata": {},
   "outputs": [],
   "source": [
    "import math"
   ]
  },
  {
   "cell_type": "code",
   "execution_count": 3,
   "id": "1a250b58",
   "metadata": {},
   "outputs": [
    {
     "name": "stdout",
     "output_type": "stream",
     "text": [
      "Enter\n",
      "1 - for area\n",
      "2 - for volume\n",
      "2\n",
      "Enter the prefered measurement unit.\n",
      "1.mm-(milimeter)\n",
      "2.cm-(centimeter)\n",
      "3.m-(meter)\n",
      "1\n",
      "Enter the radius selected unit : 1\n",
      "Volume of sphere of radius 1 is 4.1887902047863905mm\n"
     ]
    }
   ],
   "source": [
    "area_volume = int(input(\"Enter\\n1 - for area\\n2 - for volume\\n\"))\n",
    "unit = int(input(\"Enter the prefered measurement unit.\\n1.mm-(milimeter)\\n2.cm-(centimeter)\\n3.m-(meter)\\n\"))\n",
    "r = int(input(\"Enter the radius selected unit : \"))\n",
    "area = 4 * math.pi * (r**2)\n",
    "volume = 4/3 * math.pi * (r**3)\n",
    "\n",
    "if area_volume == 1:\n",
    "    if unit == 1:\n",
    "        print(f\"Area of sphere of radius {r} is {area}mm\")\n",
    "    elif unit == 2:\n",
    "        print(f\"Area of sphere of radius {r} is {area}cm\")\n",
    "    elif unit == 3:\n",
    "        print(f\"Area of sphere of radius {r} is {area}m\")\n",
    "    else:\n",
    "        print(\"Enter the correct unit\")\n",
    "elif area_volume == 2:\n",
    "    if unit == 1:\n",
    "        print(f\"Volume of sphere of radius {r} is {volume}mm\")\n",
    "    elif unit == 2:\n",
    "        print(f\"Volume of sphere of radius {r} is {volume}cm\")\n",
    "    elif unit == 3:\n",
    "        print(f\"Volume of sphere of radius {r} is {volume}m\")\n",
    "    else:\n",
    "        print(\"Enter the correct unit\")\n",
    "else:\n",
    "    print(\"Enter the correct unit\")"
   ]
  },
  {
   "cell_type": "code",
   "execution_count": 39,
   "id": "193fc801",
   "metadata": {},
   "outputs": [],
   "source": [
    "def area_triangle(h,b):\n",
    "    area = h*b/2\n",
    "    return area\n",
    "def perimeter_triangle(a,b,c):\n",
    "    perimeter = a+b+c\n",
    "    return perimeter\n",
    "def unit(a):\n",
    "    if a == 1:\n",
    "        print(\"milimeter\")\n",
    "    elif a == 2:\n",
    "        print(\"centimeter\")\n",
    "    elif a == 3:\n",
    "        print(\"meter\")\n",
    "    else:\n",
    "        print(\"Enter the correct unit\")"
   ]
  },
  {
   "cell_type": "markdown",
   "id": "570f668a",
   "metadata": {},
   "source": [
    "***perimeter of triangle***"
   ]
  },
  {
   "cell_type": "code",
   "execution_count": 36,
   "id": "452f533d",
   "metadata": {},
   "outputs": [
    {
     "name": "stdout",
     "output_type": "stream",
     "text": [
      "Want To find perimeter of triangle? follow folowing steps ;D\n",
      "Enter sides of riangle a: 1\n",
      "Enter sides of riangle b: 2\n",
      "Enter sides of riangle c: 3\n",
      "Enter the prefered measurement unit.\n",
      "1.mm-(milimeter)\n",
      "2.cm-(centimeter)\n",
      "3.m-(meter)\n",
      "2\n",
      "1\n",
      "3\n",
      "2\n",
      "perimeter of triangle of sides 1, 2, 3 is : 6 centimeter\n"
     ]
    }
   ],
   "source": [
    "print(\"Want To find perimeter of triangle? follow folowing steps ;D\")\n",
    "a = int(input(\"Enter sides of riangle a: \"))\n",
    "b = int(input(\"Enter sides of riangle b: \"))\n",
    "c = int(input(\"Enter sides of riangle c: \"))\n",
    "choice = int(input(\"Enter the prefered measurement unit.\\n1.mm-(milimeter)\\n2.cm-(centimeter)\\n3.m-(meter)\\n\"))\n",
    "print(a)\n",
    "print(c)\n",
    "print(b)\n",
    "perimeter_triangle(a,b,c)\n",
    "print(f\"perimeter of triangle of sides {a}, {b}, {c} is : {perimeter_triangle(a,b,c)}\",end=\" \")\n",
    "unit(choice)"
   ]
  },
  {
   "cell_type": "markdown",
   "id": "f52f01e2",
   "metadata": {},
   "source": [
    "***Area of Triangle***"
   ]
  },
  {
   "cell_type": "code",
   "execution_count": 42,
   "id": "5bd5e2bf",
   "metadata": {},
   "outputs": [
    {
     "name": "stdout",
     "output_type": "stream",
     "text": [
      "Want To find area of triangle? follow folowing steps ;D\n",
      "Enter the height of triangle : 2\n",
      "Enter the base of triangle : 2\n",
      "Enter the prefered measurement unit.\n",
      "1.mm-(milimeter)\n",
      "2.cm-(centimeter)\n",
      "3.m-(meter)\n",
      "1\n",
      "Area of triangle of base 2 and height 2 is : 2.0 milimeter\n"
     ]
    }
   ],
   "source": [
    "print(\"Want To find area of triangle? follow folowing steps ;D\")\n",
    "h = int(input(\"Enter the height of triangle : \"))\n",
    "b= int(input(\"Enter the base of triangle : \"))\n",
    "choice = int(input(\"Enter the prefered measurement unit.\\n1.mm-(milimeter)\\n2.cm-(centimeter)\\n3.m-(meter)\\n\"))\n",
    "area_triangle(h,b)\n",
    "print(f\"Area of triangle of base {b} and height {h} is : {area_triangle(h,b)}\",end=\" \")\n",
    "\n",
    "unit(choice)"
   ]
  },
  {
   "cell_type": "markdown",
   "id": "83ce971d",
   "metadata": {},
   "source": [
    "***area of sphere***"
   ]
  },
  {
   "cell_type": "code",
   "execution_count": 23,
   "id": "d13b9ffa",
   "metadata": {},
   "outputs": [
    {
     "name": "stdout",
     "output_type": "stream",
     "text": [
      "Welcome to Mathematical Operations\n",
      "Enter 1 For Triangle : \n",
      "Enter 2 For Sphere : \n",
      "Enter 3 For Circle : \n",
      "Enter 4 For Square : \n",
      "Enter 5 For Rectangle : \n",
      "Enter 6 For parallelogram : 5\n",
      "\n",
      "Enter 1 for Perimeter\n",
      "Enter 2 for Area\n",
      "Enter 3 for Diagonal : 3\n",
      "\n",
      "Enter the Length for the Rectangle : 10\n",
      "\n",
      "Enter the Width of the Rectangle : 10\n",
      "Enter the preferred measurement unit-\n",
      "1 for mm-(millimeter)\n",
      "2 for cm-(centimeter)\n",
      "3 for m-(meter)\n",
      "3\n",
      "\n",
      "Diagonal of Rectangle of length 10 and width 10 is : 100.0 meter\n"
     ]
    }
   ],
   "source": [
    "import math\n",
    "\n",
    "def mesurement_unit(a):\n",
    "    if a == 1:\n",
    "        print(\"millimeter\")\n",
    "    elif a == 2:\n",
    "        print(\"centimeter\")\n",
    "    elif a == 3:\n",
    "        print(\"meter\")\n",
    "    else:\n",
    "        print(\"Enter the correct unit\")\n",
    "\n",
    "\n",
    "#a = int(input('a = '))\n",
    "#mesurement_unit = lambda a:(f'millimeter' if 0<a<2 else f'') (f'centimeter' if 1>a<3 else f'') (f'meter' if 2<a<4 else f'')\n",
    "#mesurement_unit(a)\n",
    "\n",
    "\n",
    "print(\"Welcome to Mathematical Operations\")\n",
    "choice = int(input(\"Enter 1 For Triangle\\nEnter 2 For Sphere\\nEnter 3 For Circle\\nEnter 4 For Square\\nEnter 5 For Rectangle\n",
    "                   \"\\nEnter 6 For parallelogram : \"))\n",
    "\n",
    "if choice == 1:\n",
    "    triangle_choice = int(input(\"\\nEnter 1 For Perimeter of triangle\\nEnter 2 for area of triangle : \"))\n",
    "        \n",
    "    if triangle_choice == 1:\n",
    "        a = int(input(\"\\nEnter sides of Triangle \\na: \"))\n",
    "        b = int(input(\"b: \"))\n",
    "        c = int(input(\"c: \"))\n",
    "        unit = int(input(\"\\nEnter the preferred measurement unit.\"\n",
    "                         \"\\n1 for mm-(millimeter)\"\n",
    "                         \"\\n2 for cm-(centimeter)\"\n",
    "                         \"\\n3 for m-(meter) : \"))\n",
    "        perimeter_triangle = lambda a,b,c:a+b+c\n",
    "        print(f\"perimeter of triangle of sides {a}, {b}, {c} is : {perimeter_triangle(a, b, c)}\", end=\" \")\n",
    "        mesurement_unit(unit)\n",
    "        \n",
    "    elif triangle_choice == 2:\n",
    "        h = int(input(\"\\nEnter the height of triangle h : \"))\n",
    "        b = int(input(\"Enter the base of triangle b : \"))\n",
    "        unit = int(input(\"\\nEnter the preferred measurement unit-\"\n",
    "                         \"\\n1 for mm-(millimeter)\"\n",
    "                         \"\\n2 for cm-(centimeter)\"\n",
    "                         \"\\n3 for m-(meter)\\n\"))\n",
    "            \n",
    "        area_triangle = lambda height,base:(height*base/2)\n",
    "        print(f\"Area of triangle of base {b} and height {h} is : {area_triangle(h, b)}\", end=\" \")\n",
    "        mesurement_unit(unit)\n",
    "\n",
    "elif choice == 2:\n",
    "    sphere_choice = int(input(\"\\nEnter 1 for surface area of sphere\\nEnter 2 for volume of sphere : \"))\n",
    "    r = int(input(\"\\nEnter the of radius of sphere : \"))\n",
    "    unit = int(input(\"\\nEnter the preferred measurement unit\n",
    "                     \"\\n1 for mm-(millimeter)\"\n",
    "                     \"\\n2 for cm-(centimeter)\"\n",
    "                     \"\\n3. for m-(meter)\\n\"))\n",
    "        \n",
    "    if sphere_choice == 1:\n",
    "        sphere_area = lambda radius:(4 * math.pi * (radius ** 2))\n",
    "        mesurement_unit(unit)\n",
    "        print(f\"\\nSurface area of sphere of radius {r} is : {sphere_area(r)}\", end=\" \")\n",
    "        \n",
    "    elif sphere_choice == 2:\n",
    "        sphere_volume = lambda radius:(4 / 3) * math.pi * (radius ** 3)\n",
    "        mesurement_unit(unit)\n",
    "        print(f\"\\nVolume of sphere of radius {r} is : {sphere_volume(r)}\", end=\" \")\n",
    "\n",
    "elif choice == 3:\n",
    "    circle_choice = int(input(\"\\nEnter 1 for area circle\\nEnter 2 for circumference circle : \"))\n",
    "    r = int(input(\"\\nEnter the of radius of circle : \"))\n",
    "    unit = int(input(\"\\nEnter the preferred measurement unit\n",
    "                     \"\\n1 for mm-(millimeter)\"\n",
    "                     \"\\n2 for cm-(centimeter)\"\n",
    "                     \"\\n3. for m-(meter)\\n\"))\n",
    "    if circle_choice == 1:\n",
    "        circle_area = lambda radius:math.pi * (radius ** 2)\n",
    "        print(f\"\\nArea of circle of radius {r} is : {circle_area(r)}\", end=\" \")\n",
    "        mesurement_unit(unit)\n",
    "\n",
    "    elif circle_choice == 2:\n",
    "        circle_circumference = lambda radius:2 * math.pi * radius\n",
    "        print(f\"\\nArea of circle of radius {r} is : {circle_circumference(r)}\", end=\" \")\n",
    "        mesurement_unit(unit)\n",
    "\n",
    "elif choice == 4:\n",
    "    square_choice = int(input(\"\\nEnter 1 for Perimeter\\nEnter 2 for Area\\nEnter 3 for Diagonal : \"))\n",
    "    side = int(input(\"\\nEnter the side of the square : \"))\n",
    "    unit = int(input(\"\\nEnter the preferred measurement unit\n",
    "                     \"\\n1 for mm-(millimeter)\"\n",
    "                     \"\\n2 for cm-(centimeter)\"\n",
    "                     \"\\n3. for m-(meter)\\n\"))\n",
    "    \n",
    "    if square_choice == 1:\n",
    "        square_perimeter = lambda side:4 * side\n",
    "        print(f\"\\nPerimeter of Square of of sides {side} is : {square_perimeter(side)}\", end=\" \")\n",
    "            mesurement_unit(unit)\n",
    "\n",
    "        elif square_choice == 2:\n",
    "            square_area = lambda side:side ** 2\n",
    "            print(f\"\\nArea of Square of of sides {side} is : {square_area(side)}\", end=\" \")\n",
    "            mesurement_unit(unit)\n",
    "        \n",
    "        elif square_choice == 3:\n",
    "            square_diagonal = lambda side:(2 ** (1 / 2)) * side\n",
    "            print(f\"\\nDiagonal of Square of of sides {side} is : {square_diagonal(side)}\", end=\" \")\n",
    "\n",
    "    elif choice == 5:\n",
    "        rectangle_choice = int(input(\"\\nEnter 1 for Perimeter\\nEnter 2 for Area\\nEnter 3 for Diagonal : \"))\n",
    "        length = int(input(\"\\nEnter the Length for the Rectangle : \"))\n",
    "        width = int(input(\"\\nEnter the Width of the Rectangle : \"))\n",
    "        unit = int(input(\"Enter the preferred measurement unit-\"\n",
    "                         \"\\n1 for mm-(millimeter)\"\n",
    "                         \"\\n2 for cm-(centimeter)\"\n",
    "                         \"\\n3 for m-(meter)\\n\"))\n",
    "\n",
    "        if rectangle_choice == 1:\n",
    "            rectangle_perimeter = lambda length, width:(2 * length * width)\n",
    "            print(f\"\\nPerimeter of Rectangle of length {length} and width {width} is : \"\n",
    "                  f\"{rectangle_perimeter(length, width)}\",end=\" \")\n",
    "            mesurement_unit(unit)\n",
    "        \n",
    "        elif rectangle_choice == 2:\n",
    "            rectangle_area = lambda length, width:(length * width)\n",
    "            print(f\"\\nPerimeter of Rectangle of length {length} and width {width} is : \"\n",
    "                  f\"{rectangle_area(length, width)}\",end=\" \")\n",
    "            mesurement_unit(unit)\n",
    "        \n",
    "        elif rectangle_choice == 3:\n",
    "            rectangle_diagonal = lambda length, width:((length ** 2) * (width ** 2)) ** (1 / 2)\n",
    "            print(f\"\\nDiagonal of Rectangle of length {length} and width {width} is : \"\n",
    "                  f\"{rectangle_diagonal(length, width)}\",end=\" \")\n",
    "            mesurement_unit(unit)\n",
    "    \n",
    "    elif choice == 6:\n",
    "        parallelogram_choice = int(input(\"\\nEnter 1 for Perimeter\\nEnter 2 for Area\\nEnter 3 for Diagonal : \"))\n",
    "\n",
    "        if parallelogram_choice == 1:\n",
    "            side = int(input(\"\\nEnter the Side of Parallelogram : \"))\n",
    "            base = int(input(\"\\nEnter the base of parallelogram : \"))\n",
    "            unit = int(input(\"Enter the preferred measurement unit-\"\n",
    "                             \"\\n1 for mm-(millimeter)\"\n",
    "                             \"\\n2 for cm-(centimeter)\"\n",
    "                             \"\\n3 for m-(meter)\\n\"))\n",
    "            parallelogram_perimeter = lambda side, base:2 * (side + base)\n",
    "            print(f\"\\nPerimeter of Parallelogram of base {base} and side {side} is : \"\n",
    "                  f\"{parallelogram_perimeter(side, base)}\",end=\" \")\n",
    "            mesurement_unit(unit)\n",
    "        \n",
    "        elif parallelogram_choice == 2:\n",
    "            base = int(input(\"\\nEnter the base of parallelogram : \"))\n",
    "            height = int(input(\"\\nEnter the height of parallelogram : \"))\n",
    "            unit = int(input(\"\\nEnter the preferred measurement unit\"\n",
    "                \"\\n1 for mm-(millimeter)\"\n",
    "                \"\\n2 for cm-(centimeter)\"\n",
    "                \"\\n3. for m-(meter)\\n\"))\n",
    "            parallelogram_area = lambda base, height:base * height\n",
    "            print(f\"Area of Parallelogram of base {base} and height {height} is : \"\n",
    "                  f\"{parallelogram_area(base, height)}\",end=\" \")\n",
    "            mesurement_unit(unit)\n",
    "\n",
    "\n",
    "mathematical_operations()\n"
   ]
  },
  {
   "cell_type": "code",
   "execution_count": null,
   "id": "9670aea6",
   "metadata": {},
   "outputs": [],
   "source": []
  },
  {
   "cell_type": "code",
   "execution_count": 22,
   "id": "7ea9221a",
   "metadata": {
    "scrolled": true
   },
   "outputs": [
    {
     "name": "stdout",
     "output_type": "stream",
     "text": [
      "\n",
      "Enter 1 for surface area of sphere\n",
      "Enter 2 for volume of sphere : 1\n",
      "\n",
      "Enter the of radius of sphere : 1\n",
      "\n",
      "Enter the preferred measurement unit.\n",
      "1 for mm-(millimeter)\n",
      "2 for cm-(centimeter)\n",
      "3. for m-(meter)\n",
      "1\n",
      "\n",
      "Surface area of sphere of radius 1 is : 12.566370614359172 "
     ]
    }
   ],
   "source": [
    "import math\n",
    "sphere_choice = int(input(\"\\nEnter 1 for surface area of sphere\\nEnter 2 for volume of sphere : \"))\n",
    "r = int(input(\"\\nEnter the of radius of sphere : \"))\n",
    "unit = int(input(\"\\nEnter the preferred measurement unit.\\n1 for mm-(millimeter)\\n2 for cm-(centimeter)\\n3. for m-(meter)\\n\"))\n",
    "        \n",
    "if sphere_choice == 1:\n",
    "    sphere_area = lambda radius:(4 * math.pi * (radius ** 2))\n",
    "    \n",
    "    print(f\"\\nSurface area of sphere of radius {r} is : {sphere_area(r)}\", end=\" \")\n",
    "        \n",
    "elif sphere_choice == 2:\n",
    "    sphere_volume = lambda radius:(4 / 3) * math.pi * (radius ** 3)\n",
    "    \n",
    "    print(f\"\\nVolume of sphere of radius {r} is : {sphere_volume(r)}\", end=\" \")\n"
   ]
  },
  {
   "cell_type": "code",
   "execution_count": null,
   "id": "706f0478",
   "metadata": {},
   "outputs": [],
   "source": []
  },
  {
   "cell_type": "markdown",
   "id": "4045d3b9",
   "metadata": {},
   "source": [
    "***GCD - Greatest Common Divisor***"
   ]
  },
  {
   "cell_type": "code",
   "execution_count": 4,
   "id": "b3015fe9",
   "metadata": {},
   "outputs": [
    {
     "name": "stdout",
     "output_type": "stream",
     "text": [
      "Enter the first number12\n",
      "Enter the second number12\n",
      "GCD of 12 and 12 is 6\n"
     ]
    }
   ],
   "source": [
    "def gcd_gen(num):\n",
    "    n = 1\n",
    "    while n < num:\n",
    "        yield n\n",
    "        n+=1\n",
    "\n",
    "        \n",
    "num1 = int(input(\"Enter the first number\"))\n",
    "num2 = int(input(\"Enter the second number\"))\n",
    "\n",
    "if num1 <= num2:\n",
    "    num = num1\n",
    "else:\n",
    "    num = num2\n",
    "    \n",
    "\n",
    "for i in gcd_gen(num):\n",
    "    if num1 % i == 0 and num2 % i == 0:\n",
    "        gcd = i\n",
    "        \n",
    "print(f\"GCD of {num1} and {num2} is {gcd}\")"
   ]
  },
  {
   "cell_type": "code",
   "execution_count": null,
   "id": "c8353684",
   "metadata": {},
   "outputs": [],
   "source": [
    "str_num = input(\"Enter numbers seprated by comma : \")\n",
    "list_num = str_num.split(\",\")\n",
    "num = min(list_num)\n",
    "print(list_num)\n",
    "for i in list_num:\n",
    "    for j in gcd_gen(int(num)):\n",
    "        if int(i) % j == 0:\n",
    "            gcd = j\n",
    "print(j)\n"
   ]
  },
  {
   "cell_type": "code",
   "execution_count": 5,
   "id": "6457eafb",
   "metadata": {},
   "outputs": [
    {
     "name": "stdout",
     "output_type": "stream",
     "text": [
      "Enter numbers seprated by comma : 12,24\n",
      "6\n"
     ]
    }
   ],
   "source": [
    "str_num = input(\"Enter numbers seprated by comma : \")\n",
    "list_num = str_num.split(\",\")\n",
    "num = min(list_num)\n",
    "num = int(num)\n",
    "def gcd_gen2():\n",
    "    a = 0\n",
    "    while a < int(len(list_num)-1):\n",
    "        n = int(list_num[a])\n",
    "        yield n\n",
    "        a+=1\n",
    "    \n",
    "for i in gcd_gen2():\n",
    "    for j in gcd_gen(num):\n",
    "        if i%j==0:\n",
    "            gcd = j\n",
    "\n",
    "print(gcd)"
   ]
  },
  {
   "cell_type": "code",
   "execution_count": 12,
   "id": "a9905e7f",
   "metadata": {},
   "outputs": [
    {
     "name": "stdout",
     "output_type": "stream",
     "text": [
      "Enter numbers seprated by comma : 1,2,3\n"
     ]
    }
   ],
   "source": []
  },
  {
   "cell_type": "code",
   "execution_count": 8,
   "id": "b040018a",
   "metadata": {},
   "outputs": [],
   "source": []
  },
  {
   "cell_type": "code",
   "execution_count": null,
   "id": "c138786c",
   "metadata": {},
   "outputs": [],
   "source": []
  },
  {
   "cell_type": "code",
   "execution_count": null,
   "id": "7e16ba60",
   "metadata": {},
   "outputs": [],
   "source": [
    "def gcd_gen(num):\n",
    "    n = 1\n",
    "    while n <= num:\n",
    "        yield n\n",
    "        n += 1\n",
    "\n",
    "\n",
    "str_num = input(\"Enter numbers separated by comma : \")\n",
    "list_num1 = str_num.split(\",\")\n",
    "list_num = []\n",
    "for i in list_num1:\n",
    "    i = int(i)\n",
    "    list_num.append(i)\n",
    "\n",
    "num = min(list_num)\n",
    "\n",
    "\n",
    "def gcd_gen2():\n",
    "    a = 0\n",
    "    while a <= int(len(list_num) - 1):\n",
    "        n = int(list_num[a])\n",
    "        yield n\n",
    "        a += 1\n",
    "\n",
    "\n",
    "for i in gcd_gen2():\n",
    "    print(\"i\", i)\n",
    "    for j in gcd_gen(num):\n",
    "        print(\"j\", j)\n",
    "        if i % j == 0:\n",
    "            print(f\"{i} / {j}\")\n",
    "            gcd = j\n",
    "        else:\n",
    "            gcd = 1\n",
    "\n",
    "print(f\"\\nGCD of {str_num} : \", gcd)\n"
   ]
  },
  {
   "cell_type": "markdown",
   "id": "aac1ccba",
   "metadata": {},
   "source": [
    "***histagram***"
   ]
  },
  {
   "cell_type": "code",
   "execution_count": 27,
   "id": "5c94fd9a",
   "metadata": {},
   "outputs": [
    {
     "name": "stdout",
     "output_type": "stream",
     "text": [
      "Enter numbers separated by comma : 5,6,3\n",
      "*****\n",
      "******\n",
      "***\n"
     ]
    }
   ],
   "source": [
    "\n",
    "str_num = input(\"Enter numbers separated by comma : \")\n",
    "list_num1 = str_num.split(\",\")\n",
    "list_num = [int(i) for i in list_num1]\n",
    "\n",
    "for i in list_num:\n",
    "    print(\"*\"*i)"
   ]
  },
  {
   "cell_type": "code",
   "execution_count": null,
   "id": "96c1d69a",
   "metadata": {},
   "outputs": [],
   "source": []
  },
  {
   "cell_type": "code",
   "execution_count": null,
   "id": "0f6bffd5",
   "metadata": {},
   "outputs": [],
   "source": [
    "str1 = input(\"enter string to concatenate\")\n"
   ]
  },
  {
   "cell_type": "code",
   "execution_count": null,
   "id": "bc902405",
   "metadata": {},
   "outputs": [],
   "source": []
  },
  {
   "cell_type": "markdown",
   "id": "18fd4c5b",
   "metadata": {},
   "source": [
    "Emails"
   ]
  },
  {
   "cell_type": "code",
   "execution_count": 1,
   "id": "78bd49c1",
   "metadata": {},
   "outputs": [],
   "source": [
    "email_list = ['scoodenpythonclass@gmail.com',\n",
    "'sahil3ghom@gmail.com',\n",
    "'mhatreshubham925@gmail.com',\n",
    "'velanjeganesh@gmail.com',\n",
    "'rrmahalle97@gmail.com',\n",
    "'divyansh843@gmail.com',\n",
    "'jyotikilledar37@gmail.com',\n",
    "'rutujakaknale@gmail.com',\n",
    "'subhashish.9@gmail.com',\n",
    "'shubhamkarale880@gmail.com',\n",
    "'grbarse891@gmail.com',\n",
    "'nitinsayshe@gmail.com',\n",
    "'amanpandey309@gmail.com',\n",
    "'ram.sherepatil@gmail.com',\n",
    "'amarbiradar999@gmail.com',\n",
    "'sasha00007@gmail.com',\n",
    "'aniruddhap96@gmail.com',\n",
    "'rjmurudkar@gmail.com',\n",
    "'shrikrishna.phad@gmail.com',\n",
    "'shubhadawavale@gmail.com',\n",
    "'abhijitiratkar@gmail.com',\n",
    "'awad.supriya5@gmail.com',\n",
    "'mane05.manoj@gmail.com',\n",
    "'maheshkendre91@gmail.com',\n",
    "'shashikant.bhapkar27@gmail.com',\n",
    "'shwetadugga@gmail.com',\n",
    "'chetankawle@gmail.com',\n",
    "'bhagwatpanjali@gmail.com',\n",
    "'dhananjayd215@gmail.com',\n",
    "'priyanka27suryavanshi@gmail.com',\n",
    "'pranavkanholikar@gmail.com',\n",
    "'ranevishala@gmail.com',\n",
    "'ganesh.n.mandape@gmail.com',\n",
    "'sampadababhulkar13@gmail.com',\n",
    "'poojapatil6884@gmail.com',\n",
    "'chitrangidhabale04@gmail.com',\n",
    "'shraddhasarode15@gmail.com',\n",
    "'rajyog.yadav92@gmail.com',\n",
    "'morep2234@gmail.com',\n",
    "'abirmeshram147@gmail.com',\n",
    "'shashikantkale87@gmail.com',\n",
    "'sumaiya.mujawar1998@gmail.com',\n",
    "'sachinp339@gmail.com',\n",
    "'dhokanelikesh88@gmail.com',\n",
    "'dindure7077@gmail.com',\n",
    "'smarjapure@gmail.com',\n",
    "'vishnukendre25@gmail.com',\n",
    "'kshiteejasode2404@gmail.com',\n",
    "'patilvikas002@gmail.com',\n",
    "'jagrutibhavsar26@gmail.com',\n",
    "'vaibhavranejtm@gmail.com',\n",
    "'saketlonkar10@gmail.com',\n",
    "'abhiyadav289@gmail.com',\n",
    "'jadhavvaibhav2151@gmail.com',\n",
    "'priyasarode101@gmail.com',\n",
    "'suhail.konnur01@gmail.com' ,\n",
    "'shwetahthakare1999@gmail.com',\n",
    "'poojakakulate1@gmail.com',\n",
    "'ganesh.surya.104@gmail.com',\n",
    "'aloksinghcse@gmail.com',\n",
    "'suraj.lande619@gmail.com',\n",
    "'saurabhbhosale2999@gmail.com',\n",
    "'mayuthakare@gmail.com',\n",
    "'amolkore2016@gmail.com',\n",
    "'shubhamjagtap528@gmail.com',\n",
    "'ankitabansod66@gmail.com',\n",
    "'swaralishete25@gmail.com',\n",
    "'mishra.i.prakash@gmail.com',\n",
    "'dnyaneshwarpawar5551@gmail.com',\n",
    "'omkeshm90@gmail.com',\n",
    "'jagdishnainani1997@gmail.com',\n",
    "'remigo1993@gmail.com',\n",
    "'shrikantpatil2341@gmail.com',\n",
    "'snehaesha2112@gmail.com',\n",
    "'shahv124@gmail.com',\n",
    "'priyasathe123@gmail.com',\n",
    "'akashshirke1995@gmail.com',\n",
    "'swaprchavan12@gmail.com',\n",
    "'rajesh.suryashekhar@gmail.com']"
   ]
  },
  {
   "cell_type": "code",
   "execution_count": null,
   "id": "7bb65375",
   "metadata": {},
   "outputs": [],
   "source": []
  },
  {
   "cell_type": "code",
   "execution_count": 2,
   "id": "79a69017",
   "metadata": {},
   "outputs": [
    {
     "data": {
      "text/plain": [
       "list"
      ]
     },
     "execution_count": 2,
     "metadata": {},
     "output_type": "execute_result"
    }
   ],
   "source": [
    "type(email_list)"
   ]
  },
  {
   "cell_type": "code",
   "execution_count": 11,
   "id": "74b53f1f",
   "metadata": {},
   "outputs": [
    {
     "name": "stdout",
     "output_type": "stream",
     "text": [
      "[] \n",
      " \n",
      " ['scoodenpythonclass@gmail.com', 'sahil3ghom@gmail.com', 'mhatreshubham925@gmail.com', 'velanjeganesh@gmail.com', 'rrmahalle97@gmail.com', 'divyansh843@gmail.com', 'jyotikilledar37@gmail.com', 'rutujakaknale@gmail.com', 'subhashish.9@gmail.com', 'shubhamkarale880@gmail.com', 'grbarse891@gmail.com', 'nitinsayshe@gmail.com', 'amanpandey309@gmail.com', 'ram.sherepatil@gmail.com', 'amarbiradar999@gmail.com', 'sasha00007@gmail.com', 'aniruddhap96@gmail.com', 'rjmurudkar@gmail.com', 'shrikrishna.phad@gmail.com', 'shubhadawavale@gmail.com', 'abhijitiratkar@gmail.com', 'awad.supriya5@gmail.com', 'mane05.manoj@gmail.com', 'maheshkendre91@gmail.com', 'shashikant.bhapkar27@gmail.com', 'shwetadugga@gmail.com', 'chetankawle@gmail.com', 'bhagwatpanjali@gmail.com', 'dhananjayd215@gmail.com', 'priyanka27suryavanshi@gmail.com', 'pranavkanholikar@gmail.com', 'ranevishala@gmail.com', 'ganesh.n.mandape@gmail.com', 'sampadababhulkar13@gmail.com', 'poojapatil6884@gmail.com', 'chitrangidhabale04@gmail.com', 'shraddhasarode15@gmail.com', 'rajyog.yadav92@gmail.com', 'morep2234@gmail.com', 'abirmeshram147@gmail.com', 'shashikantkale87@gmail.com', 'sumaiya.mujawar1998@gmail.com', 'sachinp339@gmail.com', 'dhokanelikesh88@gmail.com', 'dindure7077@gmail.com', 'smarjapure@gmail.com', 'vishnukendre25@gmail.com', 'kshiteejasode2404@gmail.com', 'patilvikas002@gmail.com', 'jagrutibhavsar26@gmail.com', 'vaibhavranejtm@gmail.com', 'saketlonkar10@gmail.com', 'abhiyadav289@gmail.com', 'jadhavvaibhav2151@gmail.com', 'priyasarode101@gmail.com', 'suhail.konnur01@gmail.com', 'shwetahthakare1999@gmail.com', 'poojakakulate1@gmail.com', 'ganesh.surya.104@gmail.com', 'aloksinghcse@gmail.com', 'suraj.lande619@gmail.com', 'saurabhbhosale2999@gmail.com', 'mayuthakare@gmail.com', 'amolkore2016@gmail.com', 'shubhamjagtap528@gmail.com', 'ankitabansod66@gmail.com', 'swaralishete25@gmail.com', 'mishra.i.prakash@gmail.com', 'dnyaneshwarpawar5551@gmail.com', 'omkeshm90@gmail.com', 'jagdishnainani1997@gmail.com', 'remigo1993@gmail.com', 'shrikantpatil2341@gmail.com', 'snehaesha2112@gmail.com', 'shahv124@gmail.com', 'priyasathe123@gmail.com', 'akashshirke1995@gmail.com', 'swaprchavan12@gmail.com', 'rajesh.suryashekhar@gmail.com'] \n",
      " \n",
      " ['scoodenpythonclass', 'sahil3ghom', 'mhatreshubham925', 'velanjeganesh', 'rrmahalle97', 'divyansh843', 'jyotikilledar37', 'rutujakaknale', 'subhashish.9', 'shubhamkarale880', 'grbarse891', 'nitinsayshe', 'amanpandey309', 'ram.sherepatil', 'amarbiradar999', 'sasha00007', 'aniruddhap96', 'rjmurudkar', 'shrikrishna.phad', 'shubhadawavale', 'abhijitiratkar', 'awad.supriya5', 'mane05.manoj', 'maheshkendre91', 'shashikant.bhapkar27', 'shwetadugga', 'chetankawle', 'bhagwatpanjali', 'dhananjayd215', 'priyanka27suryavanshi', 'pranavkanholikar', 'ranevishala', 'ganesh.n.mandape', 'sampadababhulkar13', 'poojapatil6884', 'chitrangidhabale04', 'shraddhasarode15', 'rajyog.yadav92', 'morep2234', 'abirmeshram147', 'shashikantkale87', 'sumaiya.mujawar1998', 'sachinp339', 'dhokanelikesh88', 'dindure7077', 'smarjapure', 'vishnukendre25', 'kshiteejasode2404', 'patilvikas002', 'jagrutibhavsar26', 'vaibhavranejtm', 'saketlonkar10', 'abhiyadav289', 'jadhavvaibhav2151', 'priyasarode101', 'suhail.konnur01', 'shwetahthakare1999', 'poojakakulate1', 'ganesh.surya.104', 'aloksinghcse', 'suraj.lande619', 'saurabhbhosale2999', 'mayuthakare', 'amolkore2016', 'shubhamjagtap528', 'ankitabansod66', 'swaralishete25', 'mishra.i.prakash', 'dnyaneshwarpawar5551', 'omkeshm90', 'jagdishnainani1997', 'remigo1993', 'shrikantpatil2341', 'snehaesha2112', 'shahv124', 'priyasathe123', 'akashshirke1995', 'swaprchavan12', 'rajesh.suryashekhar'] \n",
      " \n",
      " ['gmail.com', 'gmail.com', 'gmail.com', 'gmail.com', 'gmail.com', 'gmail.com', 'gmail.com', 'gmail.com', 'gmail.com', 'gmail.com', 'gmail.com', 'gmail.com', 'gmail.com', 'gmail.com', 'gmail.com', 'gmail.com', 'gmail.com', 'gmail.com', 'gmail.com', 'gmail.com', 'gmail.com', 'gmail.com', 'gmail.com', 'gmail.com', 'gmail.com', 'gmail.com', 'gmail.com', 'gmail.com', 'gmail.com', 'gmail.com', 'gmail.com', 'gmail.com', 'gmail.com', 'gmail.com', 'gmail.com', 'gmail.com', 'gmail.com', 'gmail.com', 'gmail.com', 'gmail.com', 'gmail.com', 'gmail.com', 'gmail.com', 'gmail.com', 'gmail.com', 'gmail.com', 'gmail.com', 'gmail.com', 'gmail.com', 'gmail.com', 'gmail.com', 'gmail.com', 'gmail.com', 'gmail.com', 'gmail.com', 'gmail.com', 'gmail.com', 'gmail.com', 'gmail.com', 'gmail.com', 'gmail.com', 'gmail.com', 'gmail.com', 'gmail.com', 'gmail.com', 'gmail.com', 'gmail.com', 'gmail.com', 'gmail.com', 'gmail.com', 'gmail.com', 'gmail.com', 'gmail.com', 'gmail.com', 'gmail.com', 'gmail.com', 'gmail.com', 'gmail.com', 'gmail.com']\n"
     ]
    }
   ],
   "source": [
    "emails_valid = []\n",
    "emails_invalid = []\n",
    "username = []\n",
    "domain = []\n",
    "for i in email_list:\n",
    "    if i.endswith('.com'):\n",
    "        emails_valid.append(i)\n",
    "        a = i.split('@')\n",
    "        username.append(a[0])\n",
    "        domain.append(a[1])\n",
    "    else:\n",
    "        emails_invalid.append(i)\n",
    "        \n",
    "print(emails_invalid,'\\n','\\n',emails_valid,'\\n','\\n',username,'\\n','\\n',domain)"
   ]
  },
  {
   "cell_type": "code",
   "execution_count": null,
   "id": "d16063d2",
   "metadata": {},
   "outputs": [],
   "source": []
  },
  {
   "cell_type": "code",
   "execution_count": 7,
   "id": "e682f406",
   "metadata": {},
   "outputs": [
    {
     "data": {
      "text/plain": [
       "'rajesh.suryashekhar'"
      ]
     },
     "execution_count": 7,
     "metadata": {},
     "output_type": "execute_result"
    }
   ],
   "source": [
    "a = 'rajesh.suryashekhar@gmail.com'\n",
    "a.split('@')[0]"
   ]
  },
  {
   "cell_type": "code",
   "execution_count": null,
   "id": "78922127",
   "metadata": {},
   "outputs": [],
   "source": []
  },
  {
   "cell_type": "code",
   "execution_count": 2,
   "id": "3709a485",
   "metadata": {},
   "outputs": [
    {
     "name": "stdout",
     "output_type": "stream",
     "text": [
      "{'yellow', 'white', 'red', 'green'}\n",
      "{'red'}\n",
      "{'yellow', 'green', 'white'}\n",
      "{'green', 'white'}\n"
     ]
    }
   ],
   "source": [
    "color1 = {'white','green','red'}\n",
    "color2 = {'yellow','red'}\n",
    "\n",
    "print(color1.union(color2))\n",
    "print(color1.intersection(color2))\n",
    "print(color1.symmetric_difference(color2))\n",
    "print(color1.difference(color2))"
   ]
  },
  {
   "cell_type": "code",
   "execution_count": 6,
   "id": "d266ff73",
   "metadata": {},
   "outputs": [
    {
     "name": "stdout",
     "output_type": "stream",
     "text": [
      "42\n",
      "255\n"
     ]
    }
   ],
   "source": [
    "def lcm(x, y):\n",
    "    if x > y:\n",
    "        z = x\n",
    "    else:\n",
    "        z = y\n",
    "    while(True):\n",
    "        if((z % x == 0) and (z % y == 0)):\n",
    "            lcm = z\n",
    "            break\n",
    "        z += 1\n",
    "    return lcm\n",
    "\n",
    "print(lcm(7, 6))\n",
    "print(lcm(15, 17))\n"
   ]
  },
  {
   "cell_type": "code",
   "execution_count": null,
   "id": "06fcf4c4",
   "metadata": {},
   "outputs": [],
   "source": []
  },
  {
   "cell_type": "code",
   "execution_count": 9,
   "id": "862013c9",
   "metadata": {},
   "outputs": [
    {
     "name": "stdout",
     "output_type": "stream",
     "text": [
      "[12, 34, 56, 54, 676, 778]\n",
      "[12, [12, 34], 56, 54, 676, 778]\n"
     ]
    }
   ],
   "source": [
    "p = [12,34,56,54,676,778] # Inserting nested lists in the list without extend.\n",
    "print(p)\n",
    "p[1]=[12,34]\n",
    "print(p)"
   ]
  },
  {
   "cell_type": "code",
   "execution_count": 6,
   "id": "9cdbcbcf",
   "metadata": {},
   "outputs": [
    {
     "ename": "NameError",
     "evalue": "name 'abc' is not defined",
     "output_type": "error",
     "traceback": [
      "\u001b[1;31m---------------------------------------------------------------------------\u001b[0m",
      "\u001b[1;31mNameError\u001b[0m                                 Traceback (most recent call last)",
      "\u001b[1;32m<ipython-input-6-8e565f1597d5>\u001b[0m in \u001b[0;36m<module>\u001b[1;34m\u001b[0m\n\u001b[1;32m----> 1\u001b[1;33m \u001b[0mtrue\u001b[0m \u001b[1;33m=\u001b[0m \u001b[0mabc\u001b[0m\u001b[1;33m\u001b[0m\u001b[1;33m\u001b[0m\u001b[0m\n\u001b[0m",
      "\u001b[1;31mNameError\u001b[0m: name 'abc' is not defined"
     ]
    }
   ],
   "source": [
    "true = 'abc'"
   ]
  },
  {
   "cell_type": "code",
   "execution_count": null,
   "id": "4aad77ed",
   "metadata": {},
   "outputs": [],
   "source": []
  },
  {
   "cell_type": "code",
   "execution_count": 10,
   "id": "6a7343d4",
   "metadata": {},
   "outputs": [
    {
     "name": "stdout",
     "output_type": "stream",
     "text": [
      "[12, [12, 34], 56, 54, 676, 778]\n"
     ]
    }
   ],
   "source": [
    "\n",
    "print(p)"
   ]
  },
  {
   "cell_type": "code",
   "execution_count": 11,
   "id": "5d31b835",
   "metadata": {},
   "outputs": [
    {
     "ename": "IndexError",
     "evalue": "list assignment index out of range",
     "output_type": "error",
     "traceback": [
      "\u001b[1;31m---------------------------------------------------------------------------\u001b[0m",
      "\u001b[1;31mIndexError\u001b[0m                                Traceback (most recent call last)",
      "\u001b[1;32m<ipython-input-11-e309954938e6>\u001b[0m in \u001b[0;36m<module>\u001b[1;34m\u001b[0m\n\u001b[1;32m----> 1\u001b[1;33m \u001b[0mp\u001b[0m\u001b[1;33m[\u001b[0m\u001b[1;36m100\u001b[0m\u001b[1;33m]\u001b[0m\u001b[1;33m=\u001b[0m \u001b[1;36m23\u001b[0m\u001b[1;33m\u001b[0m\u001b[1;33m\u001b[0m\u001b[0m\n\u001b[0m\u001b[0;32m      2\u001b[0m \u001b[0mprint\u001b[0m\u001b[1;33m(\u001b[0m\u001b[0mp\u001b[0m\u001b[1;33m)\u001b[0m\u001b[1;33m\u001b[0m\u001b[1;33m\u001b[0m\u001b[0m\n",
      "\u001b[1;31mIndexError\u001b[0m: list assignment index out of range"
     ]
    }
   ],
   "source": [
    "p[100]= 23\n",
    "print(p)"
   ]
  },
  {
   "cell_type": "code",
   "execution_count": null,
   "id": "3e4a4b72",
   "metadata": {},
   "outputs": [],
   "source": []
  },
  {
   "cell_type": "code",
   "execution_count": 4,
   "id": "6beb153d",
   "metadata": {},
   "outputs": [
    {
     "data": {
      "text/plain": [
       "False"
      ]
     },
     "execution_count": 4,
     "metadata": {},
     "output_type": "execute_result"
    }
   ],
   "source": [
    "t1 = (1, 2, 4, 3)\n",
    "t2 = (1, 2, 3, 4)\n",
    "t1 < t2"
   ]
  },
  {
   "cell_type": "code",
   "execution_count": 2,
   "id": "c60eddd1",
   "metadata": {},
   "outputs": [
    {
     "data": {
      "text/plain": [
       "[1, 4, 8]"
      ]
     },
     "execution_count": 2,
     "metadata": {},
     "output_type": "execute_result"
    }
   ],
   "source": [
    "t = (1, 2, 4, 3, 8, 9)\n",
    "[t[i] for i in range(0, len(t), 2)]\n",
    " "
   ]
  },
  {
   "cell_type": "code",
   "execution_count": null,
   "id": "2d5d791d",
   "metadata": {},
   "outputs": [],
   "source": []
  },
  {
   "cell_type": "code",
   "execution_count": 5,
   "id": "75afa148",
   "metadata": {},
   "outputs": [
    {
     "data": {
      "text/plain": [
       "[1, 2, 3, 6, 7, 8, 44, 55]"
      ]
     },
     "execution_count": 5,
     "metadata": {},
     "output_type": "execute_result"
    }
   ],
   "source": [
    "t=(1,2,3,4,5,6,7,8)\n",
    "t1=(1,2,3,44,55,6,7,8)\n",
    "\n",
    "sorted(t1)\n",
    "a "
   ]
  },
  {
   "cell_type": "code",
   "execution_count": null,
   "id": "4e9854f3",
   "metadata": {},
   "outputs": [],
   "source": []
  },
  {
   "cell_type": "code",
   "execution_count": 2,
   "id": "3424cdd1",
   "metadata": {},
   "outputs": [
    {
     "ename": "PermissionError",
     "evalue": "[Errno 13] Permission denied: 'prime_numbers.csv'",
     "output_type": "error",
     "traceback": [
      "\u001b[1;31m---------------------------------------------------------------------------\u001b[0m",
      "\u001b[1;31mPermissionError\u001b[0m                           Traceback (most recent call last)",
      "\u001b[1;32m<ipython-input-2-732791a8ae34>\u001b[0m in \u001b[0;36m<module>\u001b[1;34m\u001b[0m\n\u001b[0;32m     11\u001b[0m             \u001b[1;32mbreak\u001b[0m\u001b[1;33m\u001b[0m\u001b[1;33m\u001b[0m\u001b[0m\n\u001b[0;32m     12\u001b[0m     \u001b[1;32melse\u001b[0m\u001b[1;33m:\u001b[0m\u001b[1;33m\u001b[0m\u001b[1;33m\u001b[0m\u001b[0m\n\u001b[1;32m---> 13\u001b[1;33m         \u001b[1;32mwith\u001b[0m \u001b[0mopen\u001b[0m\u001b[1;33m(\u001b[0m\u001b[1;34m'prime_numbers.csv'\u001b[0m\u001b[1;33m,\u001b[0m\u001b[1;34m'a'\u001b[0m\u001b[1;33m,\u001b[0m\u001b[0mnewline\u001b[0m\u001b[1;33m=\u001b[0m\u001b[1;33m(\u001b[0m\u001b[1;34m''\u001b[0m\u001b[1;33m)\u001b[0m\u001b[1;33m)\u001b[0m \u001b[1;32mas\u001b[0m \u001b[0mfp\u001b[0m\u001b[1;33m:\u001b[0m\u001b[1;33m\u001b[0m\u001b[1;33m\u001b[0m\u001b[0m\n\u001b[0m\u001b[0;32m     14\u001b[0m             \u001b[0mwobj\u001b[0m \u001b[1;33m=\u001b[0m \u001b[0mcsv\u001b[0m\u001b[1;33m.\u001b[0m\u001b[0mwriter\u001b[0m\u001b[1;33m(\u001b[0m\u001b[0mfp\u001b[0m\u001b[1;33m)\u001b[0m\u001b[1;33m\u001b[0m\u001b[1;33m\u001b[0m\u001b[0m\n\u001b[0;32m     15\u001b[0m             \u001b[0mwobj\u001b[0m\u001b[1;33m.\u001b[0m\u001b[0mwriterow\u001b[0m\u001b[1;33m(\u001b[0m\u001b[1;33m[\u001b[0m\u001b[0mA\u001b[0m\u001b[1;33m]\u001b[0m\u001b[1;33m)\u001b[0m\u001b[1;33m\u001b[0m\u001b[1;33m\u001b[0m\u001b[0m\n",
      "\u001b[1;31mPermissionError\u001b[0m: [Errno 13] Permission denied: 'prime_numbers.csv'"
     ]
    }
   ],
   "source": [
    "import csv\n",
    "def gen():\n",
    "    n = 3\n",
    "    while n:\n",
    "        yield n\n",
    "        n+=1\n",
    "        \n",
    "for A in gen():\n",
    "    for i in range(2,A):\n",
    "        if (A%i)==0:\n",
    "            break\n",
    "    else:\n",
    "        with open('prime_numbers.csv','a',newline=('')) as fp:\n",
    "            wobj = csv.writer(fp)\n",
    "            wobj.writerow([A])"
   ]
  },
  {
   "cell_type": "markdown",
   "id": "9b9f6cdf",
   "metadata": {},
   "source": [
    "### Factorials of number\n",
    "\n",
    "    A factor is a number that divides another number evenly, that is with no remainder."
   ]
  },
  {
   "cell_type": "code",
   "execution_count": 6,
   "id": "b7e9e669",
   "metadata": {},
   "outputs": [
    {
     "name": "stdout",
     "output_type": "stream",
     "text": [
      "Enter the Number to find the Factorials:: 25\n",
      "Factorials of 25 are ::  [1, 5, 25]\n"
     ]
    }
   ],
   "source": [
    "try:\n",
    "    number = int(input(\"Enter the Number to find the Factorials:: \"))\n",
    "except ValueError:\n",
    "    print(\"Please enter integer\")\n",
    "    \n",
    "factorials = []\n",
    "for i in range(1,number+1):\n",
    "    if number % i == 0:\n",
    "        factorials.append(i)\n",
    "        \n",
    "print(f\"Factorials of {number} are :: \",factorials)"
   ]
  },
  {
   "cell_type": "code",
   "execution_count": null,
   "id": "272a28a1",
   "metadata": {},
   "outputs": [],
   "source": []
  },
  {
   "cell_type": "markdown",
   "id": "17593957",
   "metadata": {},
   "source": [
    "### Simple Interest Calculator\n",
    "\n",
    "    Simple Interest = Principal * Rate/100 * Time Period"
   ]
  },
  {
   "cell_type": "code",
   "execution_count": 1,
   "id": "84727b8c",
   "metadata": {},
   "outputs": [
    {
     "name": "stdout",
     "output_type": "stream",
     "text": [
      "Enter the amount Borrowed:: 12\n",
      "Enter the Rate of Interest Per annum in persentage:: 6\n",
      "What is unit of time?\n",
      "Enter 1 if time is in months\n",
      "Enter 2 if time is in years\n",
      "Enter 3 if time is in years & months (combination):: 1\n",
      "Enter the Time for which amount was Borrowed in months:: 4\n",
      "You have entered principle :: 12.0\n",
      "Rate :: 6.0% per year\n",
      "Time of 4 Months\n",
      "Simple Interest is :: 0.24\n",
      "Which makes Total Amount owed is-12.24\n"
     ]
    }
   ],
   "source": [
    "try:\n",
    "    p = float(input(\"Enter the amount Borrowed:: \"))\n",
    "except ValueError:\n",
    "    print(\"Please Enter the Integer\")\n",
    "\n",
    "try:\n",
    "    r = float(input(\"Enter the Rate of Interest Per annum in persentage:: \"))\n",
    "except ValueError:\n",
    "    print(\"Please Enter the Integer\")\n",
    "\n",
    "print(\"What is unit of time?\")\n",
    "choice = input(\"Enter 1 if time is in months\\nEnter 2 if time is in years\\n\"\n",
    "               \"Enter 3 if time is in years & months (combination):: \")\n",
    "\n",
    "if choice == '1':\n",
    "    try:\n",
    "        t = int(input(\"Enter the Time for which amount was Borrowed in months:: \"))\n",
    "    \n",
    "    except ValueError:\n",
    "        print(\"Please Enter the Integer\")\n",
    "    \n",
    "    else:\n",
    "        simple_interest = (p * r/100 * t/12)\n",
    "        unit_time = 'Months'\n",
    "\n",
    "elif choice == '2':\n",
    "    try:\n",
    "        t = int(input(\"Enter the Time for which amount was Borrowed in years:: \"))\n",
    "    \n",
    "    except ValueError:\n",
    "        print(\"Please Enter the Integer\")\n",
    "\n",
    "    else:\n",
    "        simple_interest = (p * r/100 * t)\n",
    "        unit_time = 'Years'\n",
    "\n",
    "elif choice == '3':\n",
    "    try:\n",
    "        t = [int(input(\"Enter the Years:: \")),int(input(\"Enter the Months:: \"))]\n",
    "    \n",
    "    except ValueError:\n",
    "        print(\"Please Enter the Integer\")\n",
    "\n",
    "    else:\n",
    "        simple_interest = (p * r/100 * (t[0]+(t[1]/12)))\n",
    "        unit_time = 'Years','Months'\n",
    "\n",
    "    \n",
    "amount = p + simple_interest\n",
    "\n",
    "print(f\"You have entered principle :: {p}\\nRate :: {r}% per year\\nTime of {t} {unit_time}\")\n",
    "print(f\"Simple Interest is :: {simple_interest}\\nWhich makes Total Amount owed is-{amount}\")"
   ]
  },
  {
   "cell_type": "code",
   "execution_count": null,
   "id": "7aa59542",
   "metadata": {},
   "outputs": [],
   "source": []
  },
  {
   "cell_type": "markdown",
   "id": "e0925604",
   "metadata": {},
   "source": [
    "### Compound Interest Calculator\n",
    "\n",
    "    a = p * (1+ (r/100) *(1/n)) ** (nt)\n",
    "    where:\n",
    "    a = amount = (p + interest)\n",
    "    p = principal\n",
    "    r = rate of interest\n",
    "    n = Number of times interest is compounded per year.\n",
    "    t = total time\n",
    "    \n",
    "    \n",
    "    i = p * (1 + (r/100) * (1/n)) ** (nt) - p"
   ]
  },
  {
   "cell_type": "code",
   "execution_count": 2,
   "id": "21d8de64",
   "metadata": {},
   "outputs": [
    {
     "name": "stdout",
     "output_type": "stream",
     "text": [
      "Enter the amount Borrowed:: 5000\n",
      "Enter the Rate of Interest Per annum in persentage:: 5\n",
      "the number of times that interest is compounded per year12\n",
      "What is unit of time?\n",
      "Enter 1 if time is in months\n",
      "Enter 2 if time is in years\n",
      "Enter 3 if time is in years & months (combination):: 2\n",
      "Enter the Time for which amount was Borrowed in years:: 10\n",
      "You have entered principle :: 5000.0\n",
      "Rate :: 5.0% per year\n",
      "Time of 10 Years\n",
      "Compound Interest is :: 3235.0474884514006\n",
      "Which makes Total Amount owed is-8235.0474884514\n"
     ]
    }
   ],
   "source": [
    "try:\n",
    "    p = float(input(\"Enter the amount Borrowed:: \"))\n",
    "except ValueError:\n",
    "    print(\"Please Enter the Integer\")\n",
    "\n",
    "try:\n",
    "    r = float(input(\"Enter the Rate of Interest Per annum in persentage:: \"))\n",
    "except ValueError:\n",
    "    print(\"Please Enter the Integer\")\n",
    "\n",
    "    \n",
    "try:\n",
    "    n = int(input(\"the number of times that interest is compounded per year\"))\n",
    "except ValueError:\n",
    "    print(\"Please Enter the Integer\")\n",
    "    \n",
    "    \n",
    "print(\"What is unit of time?\")\n",
    "choice = input(\"Enter 1 if time is in months\\nEnter 2 if time is in years\\n\"\n",
    "               \"Enter 3 if time is in years & months (combination):: \")\n",
    "\n",
    "if choice == '1':\n",
    "    try:\n",
    "        t = int(input(\"Enter the Time for which amount was Borrowed in months:: \"))\n",
    "    \n",
    "    except ValueError:\n",
    "        print(\"Please Enter the Integer\")\n",
    "    \n",
    "    else:\n",
    "        a = p * (1 + (r/100) *(1/n)) ** (n * (t/12))\n",
    "        unit_time = 'Months'\n",
    "\n",
    "elif choice == '2':\n",
    "    try:\n",
    "        t = int(input(\"Enter the Time for which amount was Borrowed in years:: \"))\n",
    "    \n",
    "    except ValueError:\n",
    "        print(\"Please Enter the Integer\")\n",
    "\n",
    "    else:\n",
    "        a = p * (1 + (r/100) *(1/n)) ** (n * (t))\n",
    "        unit_time = 'Years'\n",
    "\n",
    "elif choice == '3':\n",
    "    try:\n",
    "        t = [int(input(\"Enter the Years:: \")),int(input(\"Enter the Months:: \"))]\n",
    "    \n",
    "    except ValueError:\n",
    "        print(\"Please Enter the Integer\")\n",
    "\n",
    "    else:\n",
    "        a = p * (1 + (r/100) *(1/n)) ** (n * (t[0]+(t[1]/12)))\n",
    "        unit_time = 'Years','Months'\n",
    "\n",
    "print(f\"You have entered principle :: {p}\\nRate :: {r}% per year\\nTime of {t} {unit_time}\")\n",
    "print(f\"Compound Interest is :: {a-p}\\nWhich makes Total Amount owed is-{a}\")"
   ]
  },
  {
   "cell_type": "code",
   "execution_count": null,
   "id": "3ae67df6",
   "metadata": {},
   "outputs": [],
   "source": []
  },
  {
   "cell_type": "markdown",
   "id": "15db8117",
   "metadata": {},
   "source": [
    "### Amstrong Number / Narcissist number\n",
    "\n",
    "Number in any given number base, which forms the total of the same number, when each of its digits is raised to the power of the number of digits in the number.\n",
    "\n",
    " e.g. consider number 153 -> number of digits = 3; the operation -> 1^3 + 5^3 + 3^3 = 1 + 125 + 27 = 153"
   ]
  },
  {
   "cell_type": "code",
   "execution_count": 6,
   "id": "76f4e981",
   "metadata": {},
   "outputs": [
    {
     "name": "stdout",
     "output_type": "stream",
     "text": [
      "the number 0 is Amstrong number\n",
      "the number 1 is Amstrong number\n",
      "the number 2 is Amstrong number\n",
      "the number 3 is Amstrong number\n",
      "the number 4 is Amstrong number\n",
      "the number 5 is Amstrong number\n",
      "the number 6 is Amstrong number\n",
      "the number 7 is Amstrong number\n",
      "the number 8 is Amstrong number\n",
      "the number 9 is Amstrong number\n"
     ]
    }
   ],
   "source": [
    "def gen():\n",
    "    n = 0\n",
    "    while n < 100:\n",
    "        yield n\n",
    "        n+=1\n",
    "        \n",
    "\n",
    "for i in gen():\n",
    "    A = []\n",
    "    i = str(i)\n",
    "    power = len(i)\n",
    "    for k in i:\n",
    "        k = int(k)\n",
    "        A.append(k**power)\n",
    "        \n",
    "        add = 0\n",
    "        for j in A:\n",
    "            j = int(j)\n",
    "            add = add+j\n",
    "\n",
    "        if int(i) == add:\n",
    "            print(f\"the number {i} is Amstrong number\")\n",
    "        else:\n",
    "            pass"
   ]
  },
  {
   "cell_type": "code",
   "execution_count": null,
   "id": "e4c8177d",
   "metadata": {},
   "outputs": [],
   "source": []
  },
  {
   "cell_type": "markdown",
   "id": "4f9e2e19",
   "metadata": {},
   "source": [
    "### Fibonacci Series\n",
    "\n",
    "starting from 0,1 fibonacci series is the addition of prior two numbers so series is like:\n",
    "0,1,1(0+1),2(1+1),3(1+2),5(2+3)...."
   ]
  },
  {
   "cell_type": "code",
   "execution_count": 8,
   "id": "24eb96a0",
   "metadata": {
    "scrolled": true
   },
   "outputs": [
    {
     "name": "stdout",
     "output_type": "stream",
     "text": [
      "Enter the number of digits of fibonnaci series you want:: 10\n",
      "0\n",
      "1\n",
      "1\n",
      "2\n",
      "3\n",
      "5\n",
      "8\n",
      "13\n",
      "21\n",
      "34\n"
     ]
    }
   ],
   "source": [
    "def fn(n):\n",
    "    fn1,fn2 = 0,1\n",
    "    a = 1\n",
    "    while a <= n:\n",
    "        fn3 = fn1+fn2\n",
    "        yield fn1\n",
    "        fn1,fn2 = fn2,fn3\n",
    "        a+=1\n",
    "        \n",
    "n = int(input(\"Enter the number of digits of fibonnaci series you want:: \"))\n",
    "\n",
    "for i in fn(n):\n",
    "    print(i)\n",
    "    \n"
   ]
  },
  {
   "cell_type": "code",
   "execution_count": null,
   "id": "7d4b5325",
   "metadata": {},
   "outputs": [],
   "source": []
  },
  {
   "cell_type": "code",
   "execution_count": 35,
   "id": "db2b1baa",
   "metadata": {},
   "outputs": [
    {
     "name": "stdout",
     "output_type": "stream",
     "text": [
      "2021-11-10\n",
      "<class 'datetime.date'>\n",
      "1992-02-24\n",
      "29\n"
     ]
    }
   ],
   "source": [
    "import datetime\n",
    "# Create your views here.\n",
    "\n",
    "def BioData():\n",
    "    Todays_Date = datetime.date.today()\n",
    "    #Todays_Date = str(Todays_Date)\n",
    "    print(Todays_Date)\n",
    "    dob = datetime.date(1992,2,24)\n",
    "    #dob = str(dob)\n",
    "    print(type(dob))\n",
    "    print(dob)\n",
    "    #age = int(Todays_Date[0:4])-int(dob[0:4]) , 'years' , int(Todays_Date[0:4])-int(dob[0:4])\n",
    "    Age = Todays_Date-dob\n",
    "    a = str(Age).split(' ')\n",
    "    b = str(int(a[0])/365).split('.')[0]\n",
    "    print(b)\n",
    "    Personal_Details = {'firstname':'Shrikrishna','middlename':'Dattatraya','lastname':'Phad'}\n",
    "    Additional_Details = {'gender':'Male','dob':'24/feb/1992','height':'163in','education':'Graduate(Engineering Mechanical)','city':'Pune'}\n",
    "    Personal_Details['Additional_Details'] = Additional_Details\n",
    "    \n",
    "BioData()"
   ]
  },
  {
   "cell_type": "code",
   "execution_count": null,
   "id": "ca48ca35",
   "metadata": {},
   "outputs": [],
   "source": []
  },
  {
   "cell_type": "code",
   "execution_count": null,
   "id": "99ff1e43",
   "metadata": {},
   "outputs": [],
   "source": []
  },
  {
   "cell_type": "code",
   "execution_count": null,
   "id": "9106e11b",
   "metadata": {},
   "outputs": [],
   "source": []
  },
  {
   "cell_type": "code",
   "execution_count": null,
   "id": "cc08080d",
   "metadata": {},
   "outputs": [],
   "source": []
  }
 ],
 "metadata": {
  "kernelspec": {
   "display_name": "Python 3",
   "language": "python",
   "name": "python3"
  },
  "language_info": {
   "codemirror_mode": {
    "name": "ipython",
    "version": 3
   },
   "file_extension": ".py",
   "mimetype": "text/x-python",
   "name": "python",
   "nbconvert_exporter": "python",
   "pygments_lexer": "ipython3",
   "version": "3.8.8"
  }
 },
 "nbformat": 4,
 "nbformat_minor": 5
}
