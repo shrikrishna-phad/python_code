{
 "cells": [
  {
   "cell_type": "markdown",
   "id": "1620eea5",
   "metadata": {},
   "source": [
    "# Logger / logging\n",
    "\n",
    "---> This is the way to traking/logging the what, when and who did what to the code, software.\n",
    "\n",
    "\n",
    "## Logging levels\n",
    "\n",
    "    SR.NO.      NAME               VALUES (Logger Level)                  SERIOUSNESS OF ISSUE\n",
    "    \n",
    "      1.       Critical              50                                    Very serious issue\n",
    "      2.       Error                 40                                    Serious issue\n",
    "      3.       Warning               30                                    Alert the coder\n",
    "      4.       Info                  20                                    Inform the coder\n",
    "      5.       Debug                 10\n",
    "      6.       NotSet/Notused        0\n",
    "      \n",
    "      \n",
    "---> We need to import pre-installed module"
   ]
  },
  {
   "cell_type": "code",
   "execution_count": 1,
   "id": "ad1eb43c",
   "metadata": {},
   "outputs": [],
   "source": [
    "import logging"
   ]
  },
  {
   "cell_type": "code",
   "execution_count": 2,
   "id": "6d699f28",
   "metadata": {},
   "outputs": [
    {
     "name": "stderr",
     "output_type": "stream",
     "text": [
      "CRITICAL:root:This is the Critical\n",
      "ERROR:root:This is the Error\n",
      "WARNING:root:This is the Warning\n"
     ]
    }
   ],
   "source": [
    "logging.basicConfig()\n",
    "\n",
    "logging.critical('This is the Critical')\n",
    "logging.error('This is the Error')\n",
    "logging.warning('This is the Warning')\n",
    "logging.info('This is the Info')\n",
    "logging.debug('This is the Debug')"
   ]
  },
  {
   "cell_type": "code",
   "execution_count": null,
   "id": "2c916fc4",
   "metadata": {},
   "outputs": [],
   "source": []
  },
  {
   "cell_type": "markdown",
   "id": "860c3d74",
   "metadata": {},
   "source": [
    "***Default logger level is set to 30 & above***\n",
    "\n",
    "---> We can set custom logger level"
   ]
  },
  {
   "cell_type": "code",
   "execution_count": 8,
   "id": "d172838f",
   "metadata": {},
   "outputs": [
    {
     "name": "stderr",
     "output_type": "stream",
     "text": [
      "CRITICAL:root:This is the Critical\n",
      "ERROR:root:This is the Error\n",
      "WARNING:root:This is the Warning\n"
     ]
    }
   ],
   "source": [
    "logging.basicConfig(level=logging.DEBUG)\n",
    "\n",
    "logging.critical('This is the Critical')\n",
    "logging.error('This is the Error')\n",
    "logging.warning('This is the Warning')\n",
    "logging.info('This is the Info')\n",
    "logging.debug('This is the Debug')"
   ]
  },
  {
   "cell_type": "code",
   "execution_count": null,
   "id": "9dc284e2",
   "metadata": {},
   "outputs": [],
   "source": []
  },
  {
   "cell_type": "markdown",
   "id": "cf13a9f8",
   "metadata": {},
   "source": [
    "***Default logging massages are set on consol***\n",
    "\n",
    "---> We can set logging to store into '.log' file"
   ]
  },
  {
   "cell_type": "code",
   "execution_count": 12,
   "id": "8634088a",
   "metadata": {},
   "outputs": [
    {
     "name": "stderr",
     "output_type": "stream",
     "text": [
      "CRITICAL:root:This is the Critical\n",
      "ERROR:root:This is the Error\n",
      "WARNING:root:This is the Warning\n"
     ]
    }
   ],
   "source": [
    "logging.basicConfig(level=logging.debug,filename='test.log')\n",
    "\n",
    "logging.critical('This is the Critical')\n",
    "logging.error('This is the Error')\n",
    "logging.warning('This is the Warning')\n",
    "logging.info('This is the Info')\n",
    "logging.debug('This is the Debug')"
   ]
  },
  {
   "cell_type": "code",
   "execution_count": null,
   "id": "19ef8f46",
   "metadata": {},
   "outputs": [],
   "source": []
  },
  {
   "cell_type": "markdown",
   "id": "db3942aa",
   "metadata": {},
   "source": [
    "***Default (.log) file mode is set to append 'a'***\n",
    "---> We can set file mode."
   ]
  },
  {
   "cell_type": "code",
   "execution_count": 2,
   "id": "e6bc8db1",
   "metadata": {},
   "outputs": [],
   "source": [
    "import logging\n",
    "logging.basicConfig(level=logging.DEBUG, filename='test.log', filemode = 'w')\n",
    "\n",
    "logging.critical('This is the Critical')\n",
    "logging.error('This is the Error')\n",
    "logging.warning('This is the Warning')\n",
    "logging.info('This is the Info')\n",
    "logging.debug('This is the Debug')"
   ]
  },
  {
   "cell_type": "code",
   "execution_count": null,
   "id": "5f038cc1",
   "metadata": {},
   "outputs": [],
   "source": []
  },
  {
   "cell_type": "markdown",
   "id": "02e03f37",
   "metadata": {},
   "source": [
    "# Custom Logger\n",
    "\n",
    "---> Create a custom logger object \n",
    "\n",
    "***Can add DATE and TIME to the log***\n",
    "\n",
    "***Can change the format of logging***\n",
    "\n",
    "***Formating parameters***\n",
    "\n",
    "**(levelname)s** ---> To add level_name to log format\n",
    "\n",
    "**(message)s** ---> To add message to log format\n",
    "\n",
    "**(asctime)s** ---> To add time to log format\n",
    "\n",
    "**(name)s** ---> To add file_name to log format"
   ]
  },
  {
   "cell_type": "code",
   "execution_count": 9,
   "id": "87cfd715",
   "metadata": {},
   "outputs": [],
   "source": [
    "import logging\n",
    "logging.basicConfig(filename='test.log', filemode='a', format='%(levelname)s : %(name)s : %(message)s : %(asctime)s', datefmt= '%d/%m/%Y %I:%M:%S')\n",
    "\n",
    "logger = logging.getLogger('looger.pyinb')\n",
    "\n",
    "logger.critical('This is the Critical')\n",
    "logger.error('This is the Error')\n",
    "logger.warning('This is the Warning')\n",
    "logger.info('This is the Info')\n",
    "logger.debug('This is the Debug')"
   ]
  },
  {
   "cell_type": "code",
   "execution_count": null,
   "id": "30ea5575",
   "metadata": {},
   "outputs": [],
   "source": []
  },
  {
   "cell_type": "code",
   "execution_count": null,
   "id": "062b9287",
   "metadata": {},
   "outputs": [],
   "source": []
  },
  {
   "cell_type": "code",
   "execution_count": null,
   "id": "caec2ed7",
   "metadata": {},
   "outputs": [],
   "source": []
  },
  {
   "cell_type": "code",
   "execution_count": null,
   "id": "e0e6f592",
   "metadata": {},
   "outputs": [],
   "source": []
  },
  {
   "cell_type": "code",
   "execution_count": null,
   "id": "773d0a5c",
   "metadata": {},
   "outputs": [],
   "source": []
  }
 ],
 "metadata": {
  "kernelspec": {
   "display_name": "Python 3",
   "language": "python",
   "name": "python3"
  },
  "language_info": {
   "codemirror_mode": {
    "name": "ipython",
    "version": 3
   },
   "file_extension": ".py",
   "mimetype": "text/x-python",
   "name": "python",
   "nbconvert_exporter": "python",
   "pygments_lexer": "ipython3",
   "version": "3.8.8"
  }
 },
 "nbformat": 4,
 "nbformat_minor": 5
}
