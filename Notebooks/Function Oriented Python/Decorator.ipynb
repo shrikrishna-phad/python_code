{
 "cells": [
  {
   "cell_type": "markdown",
   "id": "c5fcc9ed",
   "metadata": {},
   "source": [
    "***Decorator***\n",
    "\n",
    "---> To add aditional functionality to the existing function with out changing its structure."
   ]
  },
  {
   "cell_type": "markdown",
   "id": "24eabdc6",
   "metadata": {},
   "source": [
    "function ---> decorator ---> function with extended functionality"
   ]
  },
  {
   "cell_type": "code",
   "execution_count": null,
   "id": "45781675",
   "metadata": {},
   "outputs": [],
   "source": []
  },
  {
   "cell_type": "code",
   "execution_count": 2,
   "id": "769d7617",
   "metadata": {},
   "outputs": [],
   "source": [
    "def show():\n",
    "    print(\"Hello\")"
   ]
  },
  {
   "cell_type": "code",
   "execution_count": 3,
   "id": "bfcc9748",
   "metadata": {},
   "outputs": [
    {
     "name": "stdout",
     "output_type": "stream",
     "text": [
      "Hello\n"
     ]
    }
   ],
   "source": [
    "show()"
   ]
  },
  {
   "cell_type": "code",
   "execution_count": 4,
   "id": "ffd38118",
   "metadata": {},
   "outputs": [],
   "source": [
    "d = show # function aliasing"
   ]
  },
  {
   "cell_type": "code",
   "execution_count": 5,
   "id": "eed8c111",
   "metadata": {},
   "outputs": [
    {
     "name": "stdout",
     "output_type": "stream",
     "text": [
      "Hello\n"
     ]
    }
   ],
   "source": [
    "d()"
   ]
  },
  {
   "cell_type": "code",
   "execution_count": null,
   "id": "21b9a611",
   "metadata": {},
   "outputs": [],
   "source": []
  },
  {
   "cell_type": "code",
   "execution_count": 6,
   "id": "dd6320cc",
   "metadata": {},
   "outputs": [],
   "source": [
    "def decor(funct):\n",
    "    def inner():\n",
    "        print(\"*\"*8)\n",
    "        funct()\n",
    "        print(\"*\"*8)\n",
    "    return inner"
   ]
  },
  {
   "cell_type": "code",
   "execution_count": 7,
   "id": "bd099119",
   "metadata": {},
   "outputs": [],
   "source": [
    "result = decor(show)"
   ]
  },
  {
   "cell_type": "code",
   "execution_count": 8,
   "id": "ccb2c710",
   "metadata": {},
   "outputs": [
    {
     "name": "stdout",
     "output_type": "stream",
     "text": [
      "********\n",
      "Hello\n",
      "********\n"
     ]
    }
   ],
   "source": [
    "result()"
   ]
  },
  {
   "cell_type": "code",
   "execution_count": 14,
   "id": "9986cf00",
   "metadata": {},
   "outputs": [],
   "source": [
    "@decor\n",
    "def show():\n",
    "    print(\"Hello\")    "
   ]
  },
  {
   "cell_type": "code",
   "execution_count": 15,
   "id": "31fee1e8",
   "metadata": {},
   "outputs": [
    {
     "name": "stdout",
     "output_type": "stream",
     "text": [
      "********\n",
      "Hello\n",
      "********\n"
     ]
    }
   ],
   "source": [
    "show()"
   ]
  },
  {
   "cell_type": "code",
   "execution_count": null,
   "id": "4a6fd1ab",
   "metadata": {},
   "outputs": [],
   "source": []
  },
  {
   "cell_type": "code",
   "execution_count": null,
   "id": "d96ed2ab",
   "metadata": {},
   "outputs": [],
   "source": []
  },
  {
   "cell_type": "code",
   "execution_count": null,
   "id": "3ffb5eea",
   "metadata": {},
   "outputs": [],
   "source": []
  },
  {
   "cell_type": "code",
   "execution_count": null,
   "id": "f1458324",
   "metadata": {},
   "outputs": [],
   "source": []
  },
  {
   "cell_type": "code",
   "execution_count": null,
   "id": "63c7dda2",
   "metadata": {},
   "outputs": [],
   "source": []
  },
  {
   "cell_type": "code",
   "execution_count": 55,
   "id": "568fdeaa",
   "metadata": {},
   "outputs": [],
   "source": [
    "def decor_add(func):\n",
    "    def inner(a,b):\n",
    "        print(\"*\"*5)\n",
    "        func(a,b)\n",
    "        print('add: ',a+b)\n",
    "        print(\"*\"*5)\n",
    "        return a,b\n",
    "    return inner\n",
    "\n",
    "def decor_substract(func):\n",
    "    def inner(a,b):\n",
    "        print(\"#\"*5)\n",
    "        func(a,b)\n",
    "        print('substract: ',a-b)\n",
    "        print(\"#\"*5)\n",
    "        return a,b\n",
    "    return inner\n",
    "\n",
    "def decor_multiply(func):\n",
    "    def inner(a,b):\n",
    "        print(\"@\"*5)\n",
    "        func(a,b)\n",
    "        print('multiply: ',a*b)\n",
    "        print(\"@\"*5)\n",
    "        return a,b\n",
    "    return inner\n",
    "\n",
    "def decor_divide(func):\n",
    "    def inner(a,b):\n",
    "        print(\"$\"*5)\n",
    "        func(a,b)\n",
    "        \n",
    "        if b == 0:\n",
    "            print(\"can't divide by zero'0'\")\n",
    "        else:\n",
    "            print(a/b)\n",
    "        \n",
    "        print(\"$\"*5)\n",
    "    return inner"
   ]
  },
  {
   "cell_type": "code",
   "execution_count": 56,
   "id": "96d808cb",
   "metadata": {},
   "outputs": [],
   "source": [
    "@decor_divide\n",
    "@decor_multiply\n",
    "@decor_substract\n",
    "@decor_add\n",
    "def values(a,b):\n",
    "    pass"
   ]
  },
  {
   "cell_type": "code",
   "execution_count": 57,
   "id": "7e14baea",
   "metadata": {},
   "outputs": [
    {
     "name": "stdout",
     "output_type": "stream",
     "text": [
      "$$$$$\n",
      "@@@@@\n",
      "#####\n",
      "*****\n",
      "add:  10\n",
      "*****\n",
      "substract:  10\n",
      "#####\n",
      "multiply:  0\n",
      "@@@@@\n",
      "can't divide by zero'0'\n",
      "$$$$$\n"
     ]
    }
   ],
   "source": [
    "values(10,0)"
   ]
  },
  {
   "cell_type": "code",
   "execution_count": null,
   "id": "11a85061",
   "metadata": {},
   "outputs": [],
   "source": []
  }
 ],
 "metadata": {
  "kernelspec": {
   "display_name": "Python 3",
   "language": "python",
   "name": "python3"
  },
  "language_info": {
   "codemirror_mode": {
    "name": "ipython",
    "version": 3
   },
   "file_extension": ".py",
   "mimetype": "text/x-python",
   "name": "python",
   "nbconvert_exporter": "python",
   "pygments_lexer": "ipython3",
   "version": "3.8.8"
  }
 },
 "nbformat": 4,
 "nbformat_minor": 5
}
