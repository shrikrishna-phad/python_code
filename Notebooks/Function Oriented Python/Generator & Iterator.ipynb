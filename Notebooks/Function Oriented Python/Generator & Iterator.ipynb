{
 "cells": [
  {
   "cell_type": "markdown",
   "id": "d8906334",
   "metadata": {},
   "source": [
    "***Generator***\n",
    "\n",
    "---> Generator is a function which generates numbers in sequence one by one.\n",
    "\n",
    "---> Normal function has **return** keyword where as generater function has **yeild**.\n",
    "\n",
    "---> If we store numbers in data-structure it consumes memory. But generator generates on the fly(when we need it), so comsumes no memory.\n",
    "\n",
    "---> In generater we need to specify starting and ending points.\n",
    "---> Generater has a pointer which always points at current number and generates next number.\n",
    "---> After complition of sequence (after reaching ending point) it shows **Stopitration** error."
   ]
  },
  {
   "cell_type": "code",
   "execution_count": 2,
   "id": "d214c09f",
   "metadata": {},
   "outputs": [],
   "source": [
    "def gen():\n",
    "    yield 'A'\n",
    "    yield 'B'\n",
    "    yield 'C'"
   ]
  },
  {
   "cell_type": "code",
   "execution_count": 3,
   "id": "e6d1a3de",
   "metadata": {},
   "outputs": [],
   "source": [
    "gen_obj = gen()"
   ]
  },
  {
   "cell_type": "code",
   "execution_count": 4,
   "id": "c37ab483",
   "metadata": {},
   "outputs": [
    {
     "data": {
      "text/plain": [
       "<generator object gen at 0x0000022C985009E0>"
      ]
     },
     "execution_count": 4,
     "metadata": {},
     "output_type": "execute_result"
    }
   ],
   "source": [
    "gen_obj"
   ]
  },
  {
   "cell_type": "code",
   "execution_count": 6,
   "id": "9520b4a6",
   "metadata": {},
   "outputs": [
    {
     "data": {
      "text/plain": [
       "'A'"
      ]
     },
     "execution_count": 6,
     "metadata": {},
     "output_type": "execute_result"
    }
   ],
   "source": [
    "next(gen_obj)"
   ]
  },
  {
   "cell_type": "code",
   "execution_count": 7,
   "id": "165d7e21",
   "metadata": {},
   "outputs": [
    {
     "data": {
      "text/plain": [
       "'B'"
      ]
     },
     "execution_count": 7,
     "metadata": {},
     "output_type": "execute_result"
    }
   ],
   "source": [
    "next(gen_obj)"
   ]
  },
  {
   "cell_type": "code",
   "execution_count": 8,
   "id": "c08906f8",
   "metadata": {},
   "outputs": [
    {
     "data": {
      "text/plain": [
       "'C'"
      ]
     },
     "execution_count": 8,
     "metadata": {},
     "output_type": "execute_result"
    }
   ],
   "source": [
    "next(gen_obj)"
   ]
  },
  {
   "cell_type": "code",
   "execution_count": 9,
   "id": "cd40c21d",
   "metadata": {},
   "outputs": [
    {
     "ename": "StopIteration",
     "evalue": "",
     "output_type": "error",
     "traceback": [
      "\u001b[1;31m---------------------------------------------------------------------------\u001b[0m",
      "\u001b[1;31mStopIteration\u001b[0m                             Traceback (most recent call last)",
      "\u001b[1;32m<ipython-input-9-637dc62bc8bc>\u001b[0m in \u001b[0;36m<module>\u001b[1;34m\u001b[0m\n\u001b[1;32m----> 1\u001b[1;33m \u001b[0mnext\u001b[0m\u001b[1;33m(\u001b[0m\u001b[0mgen_obj\u001b[0m\u001b[1;33m)\u001b[0m\u001b[1;33m\u001b[0m\u001b[1;33m\u001b[0m\u001b[0m\n\u001b[0m",
      "\u001b[1;31mStopIteration\u001b[0m: "
     ]
    }
   ],
   "source": [
    "next(gen_obj)"
   ]
  },
  {
   "cell_type": "code",
   "execution_count": null,
   "id": "40a188ef",
   "metadata": {},
   "outputs": [],
   "source": []
  },
  {
   "cell_type": "code",
   "execution_count": 14,
   "id": "c7d7ed13",
   "metadata": {},
   "outputs": [],
   "source": [
    "def mygen(n):\n",
    "    while n>=0:\n",
    "        yield n\n",
    "        n-=1"
   ]
  },
  {
   "cell_type": "code",
   "execution_count": 20,
   "id": "a9d278e7",
   "metadata": {},
   "outputs": [],
   "source": [
    "g = mygen(100)"
   ]
  },
  {
   "cell_type": "code",
   "execution_count": 21,
   "id": "7c80a65c",
   "metadata": {},
   "outputs": [
    {
     "name": "stdout",
     "output_type": "stream",
     "text": [
      "100 99 98 97 96 95 94 93 92 91 90 89 88 87 86 85 84 83 82 81 80 79 78 77 76 75 74 73 72 71 70 69 68 67 66 65 64 63 62 61 60 59 58 57 56 55 54 53 52 51 50 49 48 47 46 45 44 43 42 41 40 39 38 37 36 35 34 33 32 31 30 29 28 27 26 25 24 23 22 21 20 19 18 17 16 15 14 13 12 11 10 9 8 7 6 5 4 3 2 1 0 "
     ]
    }
   ],
   "source": [
    "for i in g:\n",
    "    print(i,end=\" \")"
   ]
  },
  {
   "cell_type": "code",
   "execution_count": 22,
   "id": "53a6bb5b",
   "metadata": {},
   "outputs": [
    {
     "data": {
      "text/plain": [
       "generator"
      ]
     },
     "execution_count": 22,
     "metadata": {},
     "output_type": "execute_result"
    }
   ],
   "source": [
    "type(g)"
   ]
  },
  {
   "cell_type": "code",
   "execution_count": 920,
   "id": "ac70a125",
   "metadata": {},
   "outputs": [],
   "source": [
    "#Fibonacci series\n",
    "def fib1():\n",
    "    a=0\n",
    "    b=1\n",
    "    while True:\n",
    "        yield a\n",
    "        a,b = b,a+b"
   ]
  },
  {
   "cell_type": "code",
   "execution_count": 921,
   "id": "7beea868",
   "metadata": {},
   "outputs": [],
   "source": [
    "a = fib1()"
   ]
  },
  {
   "cell_type": "code",
   "execution_count": 922,
   "id": "9632e3c3",
   "metadata": {},
   "outputs": [
    {
     "data": {
      "text/plain": [
       "0"
      ]
     },
     "execution_count": 922,
     "metadata": {},
     "output_type": "execute_result"
    }
   ],
   "source": [
    "next(a)"
   ]
  },
  {
   "cell_type": "code",
   "execution_count": 931,
   "id": "38f971eb",
   "metadata": {},
   "outputs": [],
   "source": [
    "def feb():\n",
    "    a,b=0,1\n",
    "    while True:\n",
    "        yield a\n",
    "        a,b = b,a+b"
   ]
  },
  {
   "cell_type": "code",
   "execution_count": 932,
   "id": "27149392",
   "metadata": {},
   "outputs": [],
   "source": [
    "g = feb()"
   ]
  },
  {
   "cell_type": "code",
   "execution_count": 933,
   "id": "cf561151",
   "metadata": {},
   "outputs": [
    {
     "data": {
      "text/plain": [
       "0"
      ]
     },
     "execution_count": 933,
     "metadata": {},
     "output_type": "execute_result"
    }
   ],
   "source": [
    "next(g)"
   ]
  },
  {
   "cell_type": "code",
   "execution_count": 934,
   "id": "b34cd2cc",
   "metadata": {},
   "outputs": [
    {
     "name": "stdout",
     "output_type": "stream",
     "text": [
      "1\n",
      "1\n",
      "2\n",
      "3\n",
      "5\n",
      "8\n",
      "13\n",
      "21\n",
      "34\n",
      "55\n",
      "89\n",
      "144\n",
      "233\n",
      "377\n",
      "610\n",
      "987\n",
      "1597\n"
     ]
    }
   ],
   "source": [
    "import time\n",
    "for i in g:\n",
    "    time.sleep(1)\n",
    "    print(i)\n",
    "    if i >=1000:\n",
    "        break"
   ]
  },
  {
   "cell_type": "code",
   "execution_count": null,
   "id": "32acc85d",
   "metadata": {},
   "outputs": [],
   "source": []
  },
  {
   "cell_type": "markdown",
   "id": "edb1a055",
   "metadata": {},
   "source": [
    "***Itrater***\n",
    "\n",
    "---> Applies on existing sequences only\n",
    "---> As sequence needs to be preasent it creates memory error for the large records."
   ]
  },
  {
   "cell_type": "code",
   "execution_count": 936,
   "id": "e9600a6f",
   "metadata": {},
   "outputs": [
    {
     "name": "stdout",
     "output_type": "stream",
     "text": [
      "[0, 1, 2, 3, 4, 5, 6, 7, 8, 9]\n"
     ]
    }
   ],
   "source": [
    "p = list(range(10))\n",
    "print(p)"
   ]
  },
  {
   "cell_type": "code",
   "execution_count": 937,
   "id": "c9371516",
   "metadata": {},
   "outputs": [],
   "source": [
    "obj = iter(p)"
   ]
  },
  {
   "cell_type": "code",
   "execution_count": 948,
   "id": "be825e9f",
   "metadata": {},
   "outputs": [
    {
     "ename": "StopIteration",
     "evalue": "",
     "output_type": "error",
     "traceback": [
      "\u001b[1;31m---------------------------------------------------------------------------\u001b[0m",
      "\u001b[1;31mStopIteration\u001b[0m                             Traceback (most recent call last)",
      "\u001b[1;32m<ipython-input-948-2e36627a780e>\u001b[0m in \u001b[0;36m<module>\u001b[1;34m\u001b[0m\n\u001b[1;32m----> 1\u001b[1;33m \u001b[0mnext\u001b[0m\u001b[1;33m(\u001b[0m\u001b[0mobj\u001b[0m\u001b[1;33m)\u001b[0m\u001b[1;33m\u001b[0m\u001b[1;33m\u001b[0m\u001b[0m\n\u001b[0m",
      "\u001b[1;31mStopIteration\u001b[0m: "
     ]
    }
   ],
   "source": [
    "next(obj)"
   ]
  },
  {
   "cell_type": "code",
   "execution_count": null,
   "id": "70845c2f",
   "metadata": {},
   "outputs": [],
   "source": []
  }
 ],
 "metadata": {
  "kernelspec": {
   "display_name": "Python 3",
   "language": "python",
   "name": "python3"
  },
  "language_info": {
   "codemirror_mode": {
    "name": "ipython",
    "version": 3
   },
   "file_extension": ".py",
   "mimetype": "text/x-python",
   "name": "python",
   "nbconvert_exporter": "python",
   "pygments_lexer": "ipython3",
   "version": "3.8.8"
  }
 },
 "nbformat": 4,
 "nbformat_minor": 5
}
