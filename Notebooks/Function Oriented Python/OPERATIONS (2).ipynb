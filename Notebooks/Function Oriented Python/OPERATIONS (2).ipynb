{
 "cells": [
  {
   "cell_type": "markdown",
   "metadata": {
    "id": "lqEjoLL_Nbaj"
   },
   "source": [
    "# **Operations in python**\n",
    "\n",
    "**Unary opreator** ---> Operation performed on only one Oparand.\n",
    "\n",
    "**Binary operator** ---> Operation performed on two operand.\n",
    "\n",
    "1. Arithmatic Operator\n",
    "2. Relational Operator\n",
    "3. Assignment Operator\n",
    "4. Membership Operator\n",
    "5. Turnary Operator\n",
    "6. Bitwise Operator"
   ]
  },
  {
   "cell_type": "code",
   "execution_count": null,
   "metadata": {
    "id": "uv9Y3TGwNIPn"
   },
   "outputs": [],
   "source": [
    ""
   ]
  },
  {
   "cell_type": "markdown",
   "metadata": {
    "id": "RXZczB_jPWSC"
   },
   "source": [
    "**Arithmatic Operators**\n",
    "\n",
    "1. **plus & minus** **'+'** & **'-'** \n",
    "                    \n",
    "                    ---> Addition And substraction\n",
    "                             \n",
    "                             int + int\n",
    "                            float + float\n",
    "                            int + float\n",
    "                            str + str\n",
    "**str + str ---> Concatination**\n",
    "\n",
    "**str - str ---> Error**\n",
    "\n",
    "**Can't do between str & int**\n",
    "\n",
    "\n",
    "2. **Multiplication & Division**  **'*'**  &  **'/'**\n",
    "\n",
    "---> can't do it between str-int or str-str"
   ]
  },
  {
   "cell_type": "code",
   "execution_count": 1,
   "metadata": {
    "colab": {
     "base_uri": "https://localhost:8080/"
    },
    "id": "KR0OJrhrNbEa",
    "outputId": "2bcada6b-f213-41fc-adc6-b8cc9945223e"
   },
   "outputs": [
    {
     "name": "stdout",
     "output_type": "stream",
     "text": [
      "30\n",
      "-10\n"
     ]
    }
   ],
   "source": [
    "a = 10 # Int + Int\n",
    "b = 20\n",
    "c = a+b\n",
    "d = a-b\n",
    "print(c)\n",
    "print(d)"
   ]
  },
  {
   "cell_type": "code",
   "execution_count": 2,
   "metadata": {
    "colab": {
     "base_uri": "https://localhost:8080/"
    },
    "id": "ZHd9FizYNbBE",
    "outputId": "97cb6320-66d6-420a-f0a7-ac7b0d584006"
   },
   "outputs": [
    {
     "name": "stdout",
     "output_type": "stream",
     "text": [
      "6.38\n",
      "-1.2599999999999998\n"
     ]
    }
   ],
   "source": [
    "a = 2.56 # Float + Float\n",
    "b = 3.82\n",
    "c = a+b\n",
    "d = a-b\n",
    "print(c)\n",
    "print(d)"
   ]
  },
  {
   "cell_type": "code",
   "execution_count": 3,
   "metadata": {
    "colab": {
     "base_uri": "https://localhost:8080/"
    },
    "id": "E0-XQ9qcNa-L",
    "outputId": "67a00869-ca34-400b-a344-8471c18279e8"
   },
   "outputs": [
    {
     "name": "stdout",
     "output_type": "stream",
     "text": [
      "5.23\n",
      "-0.77\n"
     ]
    }
   ],
   "source": [
    "a = 2.23 # Float + Int\n",
    "b = 3\n",
    "c = a+b\n",
    "d = a-b\n",
    "print(c)\n",
    "print(d)"
   ]
  },
  {
   "cell_type": "code",
   "execution_count": 4,
   "metadata": {
    "colab": {
     "base_uri": "https://localhost:8080/"
    },
    "id": "D0Q3sWM7Na7C",
    "outputId": "015efb7a-8115-40e7-e665-cec79e983b23"
   },
   "outputs": [
    {
     "name": "stdout",
     "output_type": "stream",
     "text": [
      "pythonjava\n"
     ]
    }
   ],
   "source": [
    "a = 'python' # Str + Str\n",
    "b = 'java'\n",
    "c = a+b\n",
    "print(c)"
   ]
  },
  {
   "cell_type": "code",
   "execution_count": 5,
   "metadata": {
    "colab": {
     "base_uri": "https://localhost:8080/",
     "height": 214
    },
    "id": "bWD80EnaNa38",
    "outputId": "dfb80fe6-932e-497d-fe05-59cecd2769a8"
   },
   "outputs": [
    {
     "ename": "TypeError",
     "evalue": "ignored",
     "output_type": "error",
     "traceback": [
      "\u001b[0;31m---------------------------------------------------------------------------\u001b[0m",
      "\u001b[0;31mTypeError\u001b[0m                                 Traceback (most recent call last)",
      "\u001b[0;32m<ipython-input-5-c05d4fc39fb0>\u001b[0m in \u001b[0;36m<module>\u001b[0;34m()\u001b[0m\n\u001b[1;32m      1\u001b[0m \u001b[0ma\u001b[0m \u001b[0;34m=\u001b[0m \u001b[0;34m'python'\u001b[0m \u001b[0;31m# Str - Str ---> Error\u001b[0m\u001b[0;34m\u001b[0m\u001b[0;34m\u001b[0m\u001b[0m\n\u001b[1;32m      2\u001b[0m \u001b[0mb\u001b[0m \u001b[0;34m=\u001b[0m \u001b[0;34m'java'\u001b[0m\u001b[0;34m\u001b[0m\u001b[0;34m\u001b[0m\u001b[0m\n\u001b[0;32m----> 3\u001b[0;31m \u001b[0md\u001b[0m \u001b[0;34m=\u001b[0m \u001b[0ma\u001b[0m\u001b[0;34m-\u001b[0m\u001b[0md\u001b[0m\u001b[0;34m\u001b[0m\u001b[0;34m\u001b[0m\u001b[0m\n\u001b[0m\u001b[1;32m      4\u001b[0m \u001b[0mprint\u001b[0m\u001b[0;34m(\u001b[0m\u001b[0md\u001b[0m\u001b[0;34m)\u001b[0m\u001b[0;34m\u001b[0m\u001b[0;34m\u001b[0m\u001b[0m\n",
      "\u001b[0;31mTypeError\u001b[0m: unsupported operand type(s) for -: 'str' and 'float'"
     ]
    }
   ],
   "source": [
    "a = 'python' # Str - Str ---> Error\n",
    "b = 'java'\n",
    "d = a-d\n",
    "print(d)"
   ]
  },
  {
   "cell_type": "code",
   "execution_count": null,
   "metadata": {
    "id": "Ls6U4rmYNa1X"
   },
   "outputs": [],
   "source": [
    ""
   ]
  },
  {
   "cell_type": "code",
   "execution_count": null,
   "metadata": {
    "id": "xOkOfvm4T-mX"
   },
   "outputs": [],
   "source": [
    "a = 10\n",
    "b = 20\n",
    "c = 5.26\n",
    "d = 6.23\n",
    "\n",
    "e = a*b\n",
    "f = a/b\n",
    "g = a*c\n",
    "h = c*d\n",
    "\n",
    "print(e)\n",
    "print(f)\n",
    "print(g)\n",
    "print(h)"
   ]
  },
  {
   "cell_type": "code",
   "execution_count": null,
   "metadata": {
    "id": "7MXhHyzCVoQE"
   },
   "outputs": [],
   "source": [
    ""
   ]
  },
  {
   "cell_type": "markdown",
   "metadata": {
    "id": "f_PnSnEJVqKQ"
   },
   "source": [
    "**Floor Division**\n",
    "\n",
    "**//**\n",
    "\n",
    "---> If division result is in decimal value then floor division only gives nearest lower int value.\n",
    "\n",
    "---> If dividion result is int then it performes as nornmal division."
   ]
  },
  {
   "cell_type": "code",
   "execution_count": null,
   "metadata": {
    "id": "Yq-FFAKaVoMb"
   },
   "outputs": [],
   "source": [
    "a = 10\n",
    "b = 20\n",
    "c = 5.26\n",
    "d = 6.23\n",
    "\n",
    "e = b/a\n",
    "f = b//a\n",
    "g = d/c\n",
    "h = d//c\n",
    "\n",
    "print(e)\n",
    "print(f)\n",
    "print(g)\n",
    "print(h)"
   ]
  },
  {
   "cell_type": "code",
   "execution_count": null,
   "metadata": {
    "id": "kvSif0hHVoIY"
   },
   "outputs": [],
   "source": [
    "print(75/13)\n",
    "print(75//13)"
   ]
  },
  {
   "cell_type": "code",
   "execution_count": null,
   "metadata": {
    "id": "0AmkT6MjVn_8"
   },
   "outputs": [],
   "source": [
    ""
   ]
  },
  {
   "cell_type": "markdown",
   "metadata": {
    "id": "cPGc4-S-Xrnf"
   },
   "source": [
    "**Modulus**\n",
    "\n",
    "**%**\n",
    "\n",
    "---> To find reminder of division."
   ]
  },
  {
   "cell_type": "code",
   "execution_count": 6,
   "metadata": {
    "colab": {
     "base_uri": "https://localhost:8080/"
    },
    "id": "E2VTOanmXrXm",
    "outputId": "5b0b198b-c3ef-4f25-d343-4eb91801c306"
   },
   "outputs": [
    {
     "data": {
      "text/plain": [
       "1"
      ]
     },
     "execution_count": 6,
     "metadata": {},
     "output_type": "execute_result"
    }
   ],
   "source": [
    "5%2"
   ]
  },
  {
   "cell_type": "code",
   "execution_count": 7,
   "metadata": {
    "colab": {
     "base_uri": "https://localhost:8080/"
    },
    "id": "sBZ-bYb3Xq9c",
    "outputId": "ba50e54f-a181-45e0-9832-62e7f250c37d"
   },
   "outputs": [
    {
     "data": {
      "text/plain": [
       "1.1572519083969466"
      ]
     },
     "execution_count": 7,
     "metadata": {},
     "output_type": "execute_result"
    }
   ],
   "source": [
    "758/655"
   ]
  },
  {
   "cell_type": "code",
   "execution_count": null,
   "metadata": {
    "id": "cnBEpVdfX9-F"
   },
   "outputs": [],
   "source": [
    ""
   ]
  },
  {
   "cell_type": "markdown",
   "metadata": {
    "id": "re5LqIhoX-iM"
   },
   "source": [
    "**Exponant**\n",
    "\n",
    "**\n",
    "\n",
    "---> To find out power."
   ]
  },
  {
   "cell_type": "code",
   "execution_count": 8,
   "metadata": {
    "colab": {
     "base_uri": "https://localhost:8080/"
    },
    "id": "snkszbHpX9ys",
    "outputId": "0f95e59b-5cf6-4ee6-b9a3-af497c2e70ee"
   },
   "outputs": [
    {
     "data": {
      "text/plain": [
       "4"
      ]
     },
     "execution_count": 8,
     "metadata": {},
     "output_type": "execute_result"
    }
   ],
   "source": [
    "2**2"
   ]
  },
  {
   "cell_type": "code",
   "execution_count": 9,
   "metadata": {
    "colab": {
     "base_uri": "https://localhost:8080/"
    },
    "id": "iEiyvKLlZa0t",
    "outputId": "591f5dc8-cf8d-4207-89fa-25d66a45b1e2"
   },
   "outputs": [
    {
     "data": {
      "text/plain": [
       "390625"
      ]
     },
     "execution_count": 9,
     "metadata": {},
     "output_type": "execute_result"
    }
   ],
   "source": [
    "5**8"
   ]
  },
  {
   "cell_type": "code",
   "execution_count": null,
   "metadata": {
    "id": "_tJ5Bv2sZaof"
   },
   "outputs": [],
   "source": [
    ""
   ]
  },
  {
   "cell_type": "markdown",
   "metadata": {
    "id": "NfonTkPATDGe"
   },
   "source": [
    "**Relational Operator**\n",
    "\n",
    "---> To compair two variables.\n",
    "\n",
    "    1. Greater than >\n",
    "    2. Less than    <\n",
    "    3. Greater than or Equal to >=\n",
    "    4. Less than or Equal to <=\n",
    "    5. Is Equal to ==\n",
    "    6. Not Equal to !="
   ]
  },
  {
   "cell_type": "code",
   "execution_count": 10,
   "metadata": {
    "colab": {
     "base_uri": "https://localhost:8080/"
    },
    "id": "CA1QeyKFNayP",
    "outputId": "3397db57-2652-4701-9500-44d32bc9ad8a"
   },
   "outputs": [
    {
     "name": "stdout",
     "output_type": "stream",
     "text": [
      "a>b = False\n",
      "a<b = True\n",
      "a>=b = False\n",
      "a<=b = True\n",
      "a==b = False\n",
      "a==c = True\n",
      "a!=b = True\n",
      "a!=c = False\n"
     ]
    }
   ],
   "source": [
    "a = 10\n",
    "b = 20\n",
    "c = 10\n",
    "\n",
    "print('a>b =',a>b)\n",
    "print('a<b =',a<b)\n",
    "print('a>=b =',a>=b)\n",
    "print('a<=b =',a<=b)\n",
    "print('a==b =',a==b)\n",
    "print('a==c =',a==c)\n",
    "print('a!=b =',a!=b)\n",
    "print('a!=c =',a!=c)"
   ]
  },
  {
   "cell_type": "code",
   "execution_count": null,
   "metadata": {
    "id": "9zQ_0Jm7NavE"
   },
   "outputs": [],
   "source": [
    ""
   ]
  },
  {
   "cell_type": "markdown",
   "metadata": {
    "id": "cdSkmtilnCgh"
   },
   "source": [
    "**Logical Operations**\n",
    "\n",
    "***AND, OR, NOT***\n",
    "\n",
    "                                Truth Table\n",
    "     input                 output\n",
    "    x      y       x and y     x or y\n",
    "    0      0          0          0\n",
    "    0      1          0          1\n",
    "    1      0          0          1\n",
    "    1      1          1          1\n",
    "\n",
    "    input            output\n",
    "    x                 x not\n",
    "    0                  1\n",
    "    1                  0"
   ]
  },
  {
   "cell_type": "code",
   "execution_count": null,
   "metadata": {
    "id": "n7apliMFNar6"
   },
   "outputs": [],
   "source": [
    ""
   ]
  },
  {
   "cell_type": "markdown",
   "metadata": {
    "id": "3ztm9_GHp0tw"
   },
   "source": [
    "***AND***\n",
    "\n",
    "---> If and only if all the conditions are True then the output is True."
   ]
  },
  {
   "cell_type": "code",
   "execution_count": 11,
   "metadata": {
    "id": "Rq1jm435Naox"
   },
   "outputs": [],
   "source": [
    "a = 10\n",
    "b = 20\n",
    "c = 30"
   ]
  },
  {
   "cell_type": "code",
   "execution_count": 12,
   "metadata": {
    "colab": {
     "base_uri": "https://localhost:8080/"
    },
    "id": "MrUtnYmmqsHy",
    "outputId": "e3d8aba7-1600-475d-9aac-c9f4f41ec378"
   },
   "outputs": [
    {
     "name": "stdout",
     "output_type": "stream",
     "text": [
      "a =  10\n",
      "b =  20\n",
      "c =  30\n"
     ]
    }
   ],
   "source": [
    "print('a = ',a)\n",
    "print('b = ',b)\n",
    "print('c = ',c)"
   ]
  },
  {
   "cell_type": "code",
   "execution_count": 13,
   "metadata": {
    "colab": {
     "base_uri": "https://localhost:8080/"
    },
    "id": "pjt2DIpbqr75",
    "outputId": "ff2fa92b-058c-4f79-e01c-afb40e9771d1"
   },
   "outputs": [
    {
     "name": "stdout",
     "output_type": "stream",
     "text": [
      "True\n",
      "False\n",
      "False\n"
     ]
    }
   ],
   "source": [
    "print(a < b and b < c) # First condition is true and second is true.\n",
    "print(a < b and b > c) # First condition is true and second is false.\n",
    "print(a > b and b > c) # First condition is false and second is false."
   ]
  },
  {
   "cell_type": "code",
   "execution_count": 14,
   "metadata": {
    "colab": {
     "base_uri": "https://localhost:8080/"
    },
    "id": "DSO1Fps-qr21",
    "outputId": "aab04541-8253-4985-e354-bfb90eb4f367"
   },
   "outputs": [
    {
     "name": "stdout",
     "output_type": "stream",
     "text": [
      "AND\n",
      "True and True --->  True\n",
      "True and False --->  False\n",
      "False and True --->  False\n",
      "False and False --->  False\n"
     ]
    }
   ],
   "source": [
    "print('AND')\n",
    "print('True and True ---> ',True and True)\n",
    "print('True and False ---> ',True and False)\n",
    "print('False and True ---> ',False and True)\n",
    "print('False and False ---> ',False and False)"
   ]
  },
  {
   "cell_type": "code",
   "execution_count": null,
   "metadata": {
    "id": "EsSpCi1ZunwI"
   },
   "outputs": [],
   "source": [
    ""
   ]
  },
  {
   "cell_type": "markdown",
   "metadata": {
    "id": "akfvfValsgLe"
   },
   "source": [
    "***OR***\n",
    "\n",
    "---> If one of the conditions are True then output is true."
   ]
  },
  {
   "cell_type": "code",
   "execution_count": 15,
   "metadata": {
    "colab": {
     "base_uri": "https://localhost:8080/"
    },
    "id": "uIZj41hHqrw2",
    "outputId": "54703fc7-7015-44ef-cf34-d1cb9fbf9e98"
   },
   "outputs": [
    {
     "name": "stdout",
     "output_type": "stream",
     "text": [
      "True\n",
      "True\n",
      "False\n"
     ]
    }
   ],
   "source": [
    "print(a < b or b < c) # First condition is true and second is false.\n",
    "print(a > b or b < c) # First condition is false and second is true.\n",
    "print(a > b or b > c) # First condition is false and second is false."
   ]
  },
  {
   "cell_type": "code",
   "execution_count": 16,
   "metadata": {
    "colab": {
     "base_uri": "https://localhost:8080/"
    },
    "id": "xfdhodl2qrqj",
    "outputId": "bb25da61-efb3-440e-e4be-622ec8d6bd9e"
   },
   "outputs": [
    {
     "name": "stdout",
     "output_type": "stream",
     "text": [
      "OR\n",
      "True or True --->  True\n",
      "True or False --->  True\n",
      "False or True --->  True\n",
      "False or False --->  False\n"
     ]
    }
   ],
   "source": [
    "print(\"OR\")\n",
    "print('True or True ---> ',True or True)\n",
    "print('True or False ---> ',True or False)\n",
    "print('False or True ---> ',False or True)\n",
    "print('False or False ---> ',False or False)"
   ]
  },
  {
   "cell_type": "code",
   "execution_count": null,
   "metadata": {
    "id": "qHx7ckgXurFl"
   },
   "outputs": [],
   "source": [
    ""
   ]
  },
  {
   "cell_type": "markdown",
   "metadata": {
    "id": "N8xq4m9stexq"
   },
   "source": [
    "***NOT***\n",
    "\n",
    "---> Unioperator (needs only one input)\n",
    "\n",
    "---> Inverse of any desired output."
   ]
  },
  {
   "cell_type": "code",
   "execution_count": 17,
   "metadata": {
    "colab": {
     "base_uri": "https://localhost:8080/"
    },
    "id": "E9HEq6z0qra2",
    "outputId": "19384762-a7ed-4c71-f1df-856e168697d1"
   },
   "outputs": [
    {
     "data": {
      "text/plain": [
       "True"
      ]
     },
     "execution_count": 17,
     "metadata": {},
     "output_type": "execute_result"
    }
   ],
   "source": [
    "not a>b #clearly a is less than b, so not operator is inverse of desired result"
   ]
  },
  {
   "cell_type": "code",
   "execution_count": 18,
   "metadata": {
    "colab": {
     "base_uri": "https://localhost:8080/"
    },
    "id": "VnCaWb_FNak-",
    "outputId": "c6d785c5-0aa6-4b49-bcc0-32eeea7108aa"
   },
   "outputs": [
    {
     "name": "stdout",
     "output_type": "stream",
     "text": [
      "not True --->  False\n",
      "not False --->  True\n"
     ]
    }
   ],
   "source": [
    "print('not True ---> ',not True)\n",
    "print('not False ---> ',not False)"
   ]
  },
  {
   "cell_type": "code",
   "execution_count": null,
   "metadata": {
    "id": "gYOKsj05vs3y"
   },
   "outputs": [],
   "source": [
    ""
   ]
  },
  {
   "cell_type": "markdown",
   "metadata": {
    "id": "CtlO-hAsvtVr"
   },
   "source": [
    "***Assignment Operator***\n",
    "\n",
    "         = Equal to Operator\n",
    "         += Increament & Assignment Operator\n",
    "         -= Decriment & Assignment Operator\n",
    "         *= Multiplication & Assignment Operator\n",
    "         /= Division & Assignment Operator\n",
    "         **= Exponant & Assignment Operator\n",
    "         //= Floor division & Assignment Operator"
   ]
  },
  {
   "cell_type": "code",
   "execution_count": null,
   "metadata": {
    "id": "ms0t7kc7vs0e"
   },
   "outputs": [],
   "source": [
    ""
   ]
  },
  {
   "cell_type": "markdown",
   "metadata": {
    "id": "DSzrARY2yBW9"
   },
   "source": [
    "**= Equal to Operator**"
   ]
  },
  {
   "cell_type": "code",
   "execution_count": 19,
   "metadata": {
    "colab": {
     "base_uri": "https://localhost:8080/"
    },
    "id": "z6Nwhg5Avsv_",
    "outputId": "c07a6748-a41b-4f8e-cfc8-64063e6018c8"
   },
   "outputs": [
    {
     "name": "stdout",
     "output_type": "stream",
     "text": [
      "10\n"
     ]
    }
   ],
   "source": [
    "a = 10\n",
    "print(a)"
   ]
  },
  {
   "cell_type": "code",
   "execution_count": null,
   "metadata": {
    "id": "ovCxxlIzzK3a"
   },
   "outputs": [],
   "source": [
    ""
   ]
  },
  {
   "cell_type": "markdown",
   "metadata": {
    "id": "kiEM3itYyrgR"
   },
   "source": [
    "**+= Increament & Assignment Operator**"
   ]
  },
  {
   "cell_type": "code",
   "execution_count": 20,
   "metadata": {
    "colab": {
     "base_uri": "https://localhost:8080/"
    },
    "id": "A_TYHHSdvsqK",
    "outputId": "8b4f92d0-5be1-4b9e-dd5f-f29435d33f9f"
   },
   "outputs": [
    {
     "name": "stdout",
     "output_type": "stream",
     "text": [
      "11\n"
     ]
    }
   ],
   "source": [
    "a+= 1\n",
    "print(a)"
   ]
  },
  {
   "cell_type": "code",
   "execution_count": 21,
   "metadata": {
    "colab": {
     "base_uri": "https://localhost:8080/"
    },
    "id": "hVyfY2evvsmw",
    "outputId": "d12ada76-7b8f-4b55-8d06-98c2a76b2eb5"
   },
   "outputs": [
    {
     "name": "stdout",
     "output_type": "stream",
     "text": [
      "13\n"
     ]
    }
   ],
   "source": [
    "a+= 2\n",
    "print(a)"
   ]
  },
  {
   "cell_type": "code",
   "execution_count": null,
   "metadata": {
    "id": "IG4IhiFnvsjp"
   },
   "outputs": [],
   "source": [
    ""
   ]
  },
  {
   "cell_type": "markdown",
   "metadata": {
    "id": "CvtxKu__zUbz"
   },
   "source": [
    "**-= Decriment & Assignment Operator**"
   ]
  },
  {
   "cell_type": "code",
   "execution_count": 22,
   "metadata": {
    "colab": {
     "base_uri": "https://localhost:8080/"
    },
    "id": "11OWTXIvvsgc",
    "outputId": "4683db6a-9257-4dfe-ac2d-1ee92a459217"
   },
   "outputs": [
    {
     "name": "stdout",
     "output_type": "stream",
     "text": [
      "12\n"
     ]
    }
   ],
   "source": [
    "a-= 1\n",
    "print(a)"
   ]
  },
  {
   "cell_type": "code",
   "execution_count": 23,
   "metadata": {
    "colab": {
     "base_uri": "https://localhost:8080/"
    },
    "id": "qVI1SnKivsdO",
    "outputId": "54affb1d-1d52-4862-a033-721e569e460c"
   },
   "outputs": [
    {
     "name": "stdout",
     "output_type": "stream",
     "text": [
      "9\n"
     ]
    }
   ],
   "source": [
    "a-= 3\n",
    "print(a)"
   ]
  },
  {
   "cell_type": "code",
   "execution_count": null,
   "metadata": {
    "id": "D2odegmbvsZ5"
   },
   "outputs": [],
   "source": [
    ""
   ]
  },
  {
   "cell_type": "markdown",
   "metadata": {
    "id": "Q-o3NTKTzq4t"
   },
   "source": [
    "***= Multiplication & Assignment Operator**"
   ]
  },
  {
   "cell_type": "code",
   "execution_count": 24,
   "metadata": {
    "colab": {
     "base_uri": "https://localhost:8080/"
    },
    "id": "r_M5Rd-JvsPv",
    "outputId": "fcdffd3f-f7b7-4ab4-adce-f63e63cad1bc"
   },
   "outputs": [
    {
     "name": "stdout",
     "output_type": "stream",
     "text": [
      "18\n"
     ]
    }
   ],
   "source": [
    "a*= 2\n",
    "print(a)"
   ]
  },
  {
   "cell_type": "code",
   "execution_count": 25,
   "metadata": {
    "colab": {
     "base_uri": "https://localhost:8080/"
    },
    "id": "iqBENfF4zxcj",
    "outputId": "653a0ca6-3670-4c56-a4bf-cefa01fa7729"
   },
   "outputs": [
    {
     "name": "stdout",
     "output_type": "stream",
     "text": [
      "54\n"
     ]
    }
   ],
   "source": [
    "a*= 3\n",
    "print(a)"
   ]
  },
  {
   "cell_type": "code",
   "execution_count": null,
   "metadata": {
    "id": "EX6iKQdd0GPO"
   },
   "outputs": [],
   "source": [
    ""
   ]
  },
  {
   "cell_type": "markdown",
   "metadata": {
    "id": "Olngyj1M0G0E"
   },
   "source": [
    "**/= Division & Assignment Operator**"
   ]
  },
  {
   "cell_type": "code",
   "execution_count": 26,
   "metadata": {
    "colab": {
     "base_uri": "https://localhost:8080/"
    },
    "id": "3vXzmg8P0GGw",
    "outputId": "b7f9000b-f2a2-434f-95cf-3b8af5eddd57"
   },
   "outputs": [
    {
     "name": "stdout",
     "output_type": "stream",
     "text": [
      "27.0\n"
     ]
    }
   ],
   "source": [
    "a/= 2\n",
    "print(a)"
   ]
  },
  {
   "cell_type": "code",
   "execution_count": 27,
   "metadata": {
    "colab": {
     "base_uri": "https://localhost:8080/"
    },
    "id": "Zw7RY9ft0F_Y",
    "outputId": "602336be-1aa4-431e-9a08-82dc7bc9619e"
   },
   "outputs": [
    {
     "name": "stdout",
     "output_type": "stream",
     "text": [
      "3.0\n"
     ]
    }
   ],
   "source": [
    "a/= 9\n",
    "print(a)"
   ]
  },
  {
   "cell_type": "code",
   "execution_count": null,
   "metadata": {
    "id": "sRiwyruR0F7o"
   },
   "outputs": [],
   "source": [
    ""
   ]
  },
  {
   "cell_type": "markdown",
   "metadata": {
    "id": "jde5u_hG0Z9v"
   },
   "source": [
    "****= Exponant & Assignment Operator**"
   ]
  },
  {
   "cell_type": "code",
   "execution_count": 28,
   "metadata": {
    "colab": {
     "base_uri": "https://localhost:8080/"
    },
    "id": "xoP3wuHs0F2e",
    "outputId": "776bdf1c-4853-43d9-c1a5-51d39f11a259"
   },
   "outputs": [
    {
     "name": "stdout",
     "output_type": "stream",
     "text": [
      "9.0\n"
     ]
    }
   ],
   "source": [
    "a**= 2\n",
    "print(a)"
   ]
  },
  {
   "cell_type": "code",
   "execution_count": 29,
   "metadata": {
    "colab": {
     "base_uri": "https://localhost:8080/"
    },
    "id": "4uf04LuC0f-D",
    "outputId": "f16fb770-6646-4d8d-e926-c54d7f231231"
   },
   "outputs": [
    {
     "name": "stdout",
     "output_type": "stream",
     "text": [
      "729.0\n"
     ]
    }
   ],
   "source": [
    "a**= 3\n",
    "print(a)"
   ]
  },
  {
   "cell_type": "code",
   "execution_count": null,
   "metadata": {
    "id": "Ida7KkSR0j8h"
   },
   "outputs": [],
   "source": [
    ""
   ]
  },
  {
   "cell_type": "markdown",
   "metadata": {
    "id": "48jQFtAZ0o5A"
   },
   "source": [
    "**//= Floor division & Assignment Operator**"
   ]
  },
  {
   "cell_type": "code",
   "execution_count": 30,
   "metadata": {
    "colab": {
     "base_uri": "https://localhost:8080/"
    },
    "id": "rXyQCaBp0lx1",
    "outputId": "88c9a2a2-4f12-4ffe-f0ec-dcbde93586f3"
   },
   "outputs": [
    {
     "name": "stdout",
     "output_type": "stream",
     "text": [
      "81.0\n"
     ]
    }
   ],
   "source": [
    "a//= 9\n",
    "print(a)"
   ]
  },
  {
   "cell_type": "code",
   "execution_count": 31,
   "metadata": {
    "colab": {
     "base_uri": "https://localhost:8080/"
    },
    "id": "-UdGUt910lu-",
    "outputId": "39a438e6-cc5a-4e1f-dc29-48b4758758d7"
   },
   "outputs": [
    {
     "name": "stdout",
     "output_type": "stream",
     "text": [
      "10.0\n"
     ]
    }
   ],
   "source": [
    "a//= 8\n",
    "print(a)"
   ]
  },
  {
   "cell_type": "code",
   "execution_count": null,
   "metadata": {
    "id": "ViW2jelf0lsM"
   },
   "outputs": [],
   "source": [
    ""
   ]
  },
  {
   "cell_type": "markdown",
   "metadata": {
    "id": "2HKWcTXx0-X8"
   },
   "source": [
    "***Membership Operator***\n",
    "\n",
    "**IN , NOT IN**\n",
    "\n",
    "**IN** ---> To check if the element is member of given sequence.\n",
    "\n",
    "---> True if element is member.\n",
    "\n",
    "**NOT IN** ---> To check if the element is member of given sequence.\n",
    "\n",
    "---> True if element is not member."
   ]
  },
  {
   "cell_type": "code",
   "execution_count": 32,
   "metadata": {
    "colab": {
     "base_uri": "https://localhost:8080/"
    },
    "id": "EMMysUGL0lma",
    "outputId": "cba06683-9708-4699-f8b4-e6b0b4007e5f"
   },
   "outputs": [
    {
     "name": "stdout",
     "output_type": "stream",
     "text": [
      "[1, 2, 3, 5, 4, 8]\n"
     ]
    }
   ],
   "source": [
    "a = [1, 2, 3, 5, 4, 8]\n",
    "print(a)"
   ]
  },
  {
   "cell_type": "code",
   "execution_count": 33,
   "metadata": {
    "colab": {
     "base_uri": "https://localhost:8080/"
    },
    "id": "WugzxnGl0lju",
    "outputId": "df6a1e63-56dc-453b-8718-60d4698aa19c"
   },
   "outputs": [
    {
     "name": "stdout",
     "output_type": "stream",
     "text": [
      "False\n",
      "True\n"
     ]
    }
   ],
   "source": [
    "print(25 in a)\n",
    "\n",
    "print(5 in a)"
   ]
  },
  {
   "cell_type": "code",
   "execution_count": 34,
   "metadata": {
    "colab": {
     "base_uri": "https://localhost:8080/"
    },
    "id": "8VpLP1FO2Mx1",
    "outputId": "280f9263-60e7-4268-cdbb-3616366a67d8"
   },
   "outputs": [
    {
     "name": "stdout",
     "output_type": "stream",
     "text": [
      "True\n",
      "False\n"
     ]
    }
   ],
   "source": [
    "print(25 not in a)\n",
    "print(5 not in a)"
   ]
  },
  {
   "cell_type": "code",
   "execution_count": 35,
   "metadata": {
    "colab": {
     "base_uri": "https://localhost:8080/"
    },
    "id": "ssDg3BkA2hz6",
    "outputId": "4b14d2ce-8cc8-463d-b1d3-869d03ee52a2"
   },
   "outputs": [
    {
     "name": "stdout",
     "output_type": "stream",
     "text": [
      "25 is not in a\n"
     ]
    }
   ],
   "source": [
    "if 25 in a:\n",
    "  print('25 is in a')\n",
    "else:\n",
    "  print('25 is not in a')"
   ]
  },
  {
   "cell_type": "code",
   "execution_count": null,
   "metadata": {
    "id": "2jf_YtVtR1SA"
   },
   "outputs": [],
   "source": [
    ""
   ]
  },
  {
   "cell_type": "markdown",
   "metadata": {
    "id": "YUVnFoN0R4PT"
   },
   "source": [
    "***Identity Operator***\n",
    "\n",
    "---> To check if the id of variable is same or not.\n",
    "\n",
    "**'=='** Is a value based operator.\n",
    "\n",
    "**'is'** Is a **Refrance based** operator."
   ]
  },
  {
   "cell_type": "code",
   "execution_count": 36,
   "metadata": {
    "colab": {
     "base_uri": "https://localhost:8080/"
    },
    "id": "PCt_h-PdR1F7",
    "outputId": "125d7dbe-f880-4014-e3d2-fcd4cee574ce"
   },
   "outputs": [
    {
     "name": "stdout",
     "output_type": "stream",
     "text": [
      "94419247016736\n",
      "94419247016736\n"
     ]
    }
   ],
   "source": [
    "a = 10\n",
    "b = 10\n",
    "print(id(a))\n",
    "print(id(b))"
   ]
  },
  {
   "cell_type": "code",
   "execution_count": 37,
   "metadata": {
    "colab": {
     "base_uri": "https://localhost:8080/"
    },
    "id": "hNXbkNsdR0-X",
    "outputId": "373ed183-896d-4257-fa9b-fbefcc7ae544"
   },
   "outputs": [
    {
     "name": "stdout",
     "output_type": "stream",
     "text": [
      "True\n",
      "True\n"
     ]
    }
   ],
   "source": [
    "print(a==b)\n",
    "print(a is b)"
   ]
  },
  {
   "cell_type": "code",
   "execution_count": 40,
   "metadata": {
    "colab": {
     "base_uri": "https://localhost:8080/"
    },
    "id": "c0c7LOpOR0zp",
    "outputId": "4d2f2e1b-0246-4ad8-b3b0-5f2c6c13a057"
   },
   "outputs": [
    {
     "name": "stdout",
     "output_type": "stream",
     "text": [
      "140245741234544\n",
      "140245741235856\n"
     ]
    }
   ],
   "source": [
    "a = 300\n",
    "b = 300\n",
    "print(id(a))\n",
    "print(id(b))"
   ]
  },
  {
   "cell_type": "code",
   "execution_count": 41,
   "metadata": {
    "colab": {
     "base_uri": "https://localhost:8080/"
    },
    "id": "8uwtn5BQ2x-7",
    "outputId": "943d41c5-eaf5-426b-b417-a476bd11f507"
   },
   "outputs": [
    {
     "name": "stdout",
     "output_type": "stream",
     "text": [
      "True\n",
      "False\n"
     ]
    }
   ],
   "source": [
    "print(a==b)\n",
    "print(a is b)"
   ]
  },
  {
   "cell_type": "code",
   "execution_count": 41,
   "metadata": {
    "id": "kHcCASCuTP9j"
   },
   "outputs": [],
   "source": [
    ""
   ]
  },
  {
   "cell_type": "markdown",
   "metadata": {
    "id": "AJytC6e8TUow"
   },
   "source": [
    "***Bitwise Operator***\n",
    "\n",
    "**& , | , << , >>**\n",
    "\n",
    "---> To manipulate the binary values.\n",
    "\n",
    "**&** ---> Same as logical and.\n",
    "      \n",
    "  ---> If both binary values are 1 then 1 else 0.\n",
    "\n",
    "**|** ---> Same as logical or.\n",
    "  \n",
    "  ---> If one of the values are 1 then 1 if both are 0 then 0.\n",
    "\n",
    "**<<** ---> Left shift\n",
    "\n",
    "  ---> Adds 0's on the right side of binary value.\n",
    "  ---> Value is shifted towards left\n",
    "\n",
    "**>>** ---> Right shift\n",
    "\n",
    "  ---> Adds 0's on the left side of binary value.\n",
    "\n",
    "  ---> Value is shifted towards right."
   ]
  },
  {
   "cell_type": "code",
   "execution_count": null,
   "metadata": {
    "id": "nAG9s0PqTTUc"
   },
   "outputs": [],
   "source": [
    ""
   ]
  },
  {
   "cell_type": "markdown",
   "metadata": {
    "id": "TwpqHL2GVo49"
   },
   "source": [
    "**&** ---> Same as logical and.\n",
    "      \n",
    "  ---> If both binary values are 1 then 1 else 0.\n",
    "\n",
    "     a = 10                  2^7 2^6 2^5 2^4 2^3 2^2 2^1 2^0\n",
    "     b = 20                  128 64   32  16  8   4   2   1\n",
    "                    10-->                  0  1   0   1   0\n",
    "                    20-->                  1  0   1   0   0\n",
    "          10&20 == a&b-->                  0  0   0   0   0 == 0\n",
    "     a = 10\n",
    "     b = 30\n",
    "                    10-->                  0   1   0   1   0\n",
    "                    30-->                  1   1   1   1   0\n",
    "          10&30 == a&b-->                  0   1   0   1   0 == 10"
   ]
  },
  {
   "cell_type": "code",
   "execution_count": 43,
   "metadata": {
    "colab": {
     "base_uri": "https://localhost:8080/"
    },
    "id": "veB6H9l4TTIj",
    "outputId": "f01a078e-0870-4951-9037-f468f514e2d4"
   },
   "outputs": [
    {
     "name": "stdout",
     "output_type": "stream",
     "text": [
      "0\n"
     ]
    }
   ],
   "source": [
    "a = 10\n",
    "b = 20\n",
    "print(a & b)"
   ]
  },
  {
   "cell_type": "code",
   "execution_count": 45,
   "metadata": {
    "colab": {
     "base_uri": "https://localhost:8080/"
    },
    "id": "NP8GfRP-VyWs",
    "outputId": "7e296fe2-2205-4b15-aad3-4946aea69203"
   },
   "outputs": [
    {
     "name": "stdout",
     "output_type": "stream",
     "text": [
      "10\n"
     ]
    }
   ],
   "source": [
    "a = 10\n",
    "b = 30\n",
    "print(a & b)"
   ]
  },
  {
   "cell_type": "code",
   "execution_count": null,
   "metadata": {
    "id": "vEymw7hyTTE1"
   },
   "outputs": [],
   "source": [
    ""
   ]
  },
  {
   "cell_type": "markdown",
   "metadata": {
    "id": "LC9GPBJbYRBD"
   },
   "source": [
    "**|** ---> Same as logical or.\n",
    "  \n",
    "  ---> If one of the values are 1 then 1 if both are 0 then 0.\n",
    "  \n",
    "     a = 10                  2^7 2^6 2^5 2^4 2^3 2^2 2^1 2^0\n",
    "     b = 20                  128 64   32  16  8   4   2   1\n",
    "                    10-->                  0  1   0   1   0\n",
    "                    20-->                  1  0   1   0   0\n",
    "          10|20 == a|b-->                  1  1   1   1   0  == 30\n",
    "     a = 10\n",
    "     b = 30\n",
    "                    10-->                  0   1   0   1   0\n",
    "                    30-->                  1   1   1   1   0\n",
    "          10|30 == a|b-->                  1   1   1   1   0 == 30"
   ]
  },
  {
   "cell_type": "code",
   "execution_count": 50,
   "metadata": {
    "colab": {
     "base_uri": "https://localhost:8080/"
    },
    "id": "IB_LRo-2YRp0",
    "outputId": "7f8d529e-896e-4f01-d5f8-e78936139605"
   },
   "outputs": [
    {
     "name": "stdout",
     "output_type": "stream",
     "text": [
      "30\n"
     ]
    }
   ],
   "source": [
    "a = 10\n",
    "b = 20\n",
    "print(a|b)"
   ]
  },
  {
   "cell_type": "code",
   "execution_count": 51,
   "metadata": {
    "colab": {
     "base_uri": "https://localhost:8080/"
    },
    "id": "3wMQt_X_YSJb",
    "outputId": "2b4df8e4-ee1c-4a16-c2c7-ed7c6f57b924"
   },
   "outputs": [
    {
     "name": "stdout",
     "output_type": "stream",
     "text": [
      "30\n"
     ]
    }
   ],
   "source": [
    "a = 10\n",
    "b = 30\n",
    "print(a | b)"
   ]
  },
  {
   "cell_type": "code",
   "execution_count": null,
   "metadata": {
    "id": "I6ZtcrmoYTDb"
   },
   "outputs": [],
   "source": [
    ""
   ]
  },
  {
   "cell_type": "markdown",
   "metadata": {
    "id": "PSh44iIHba4e"
   },
   "source": [
    "**<<** ---> Left shift\n",
    "\n",
    "  ---> Adds 0's on the right side of binary value.\n",
    "  ---> Value is shifted towards left\n",
    "\n",
    "                     2^7 2^6 2^5 2^4 2^3 2^2 2^1 2^0\n",
    "                      128 64   32  16  8   4   2   1\n",
    "         a = 10-->                  0  1   0   1   0\n",
    "         a<<2                   1   0  1   0   0   0 == 40\n",
    "                               32      8             == 40\n",
    "\n",
    "         a = 20-->                  1  0   1   0   0\n",
    "        a << 20-->          1   0   1  0   0   0   0 == 80\n",
    "                           64      16                == 80"
   ]
  },
  {
   "cell_type": "code",
   "execution_count": 57,
   "metadata": {
    "colab": {
     "base_uri": "https://localhost:8080/"
    },
    "id": "8Rts2SkEYS_y",
    "outputId": "753f6d63-3419-46ca-91bc-1c7f195521ba"
   },
   "outputs": [
    {
     "data": {
      "text/plain": [
       "40"
      ]
     },
     "execution_count": 57,
     "metadata": {},
     "output_type": "execute_result"
    }
   ],
   "source": [
    "a = 10\n",
    "a<<2"
   ]
  },
  {
   "cell_type": "code",
   "execution_count": 58,
   "metadata": {
    "colab": {
     "base_uri": "https://localhost:8080/"
    },
    "id": "b70tVd8hYS9G",
    "outputId": "a06054ea-105a-4f25-93c5-ef35d3ec0200"
   },
   "outputs": [
    {
     "data": {
      "text/plain": [
       "80"
      ]
     },
     "execution_count": 58,
     "metadata": {},
     "output_type": "execute_result"
    }
   ],
   "source": [
    "a = 20\n",
    "a<<2"
   ]
  },
  {
   "cell_type": "code",
   "execution_count": null,
   "metadata": {
    "id": "YWT1_ZxZYS6Y"
   },
   "outputs": [],
   "source": [
    ""
   ]
  },
  {
   "cell_type": "markdown",
   "metadata": {
    "id": "zaFS3h3Mg6EJ"
   },
   "source": [
    "**>>** ---> Right shift\n",
    "\n",
    "  ---> Adds 0's on the left side of binary value.\n",
    "\n",
    "  ---> Value is shifted towards right.\n",
    "\n",
    "                     2^7 2^6 2^5 2^4 2^3 2^2 2^1 2^0\n",
    "                      128 64   32  16  8   4   2   1\n",
    "         a = 10-->                  0  1   0   1   0  discard these\n",
    "         a>>2                          0   0   1   0   0   0 == 2\n",
    "\n",
    "         a = 20-->                  1  0   1   0   0  discard these\n",
    "         a >> 2-->                  0  0   1   0   1   0   0   0 == 5\n"
   ]
  },
  {
   "cell_type": "code",
   "execution_count": 59,
   "metadata": {
    "colab": {
     "base_uri": "https://localhost:8080/"
    },
    "id": "m5grnjSfYS3a",
    "outputId": "584c64d5-7b4d-4e42-e11f-428d29218214"
   },
   "outputs": [
    {
     "data": {
      "text/plain": [
       "2"
      ]
     },
     "execution_count": 59,
     "metadata": {},
     "output_type": "execute_result"
    }
   ],
   "source": [
    "a = 10\n",
    "a>>2"
   ]
  },
  {
   "cell_type": "code",
   "execution_count": 60,
   "metadata": {
    "colab": {
     "base_uri": "https://localhost:8080/"
    },
    "id": "ogNVawGBYSyB",
    "outputId": "2cc5b418-5e4d-4c94-e50c-5e445045de7e"
   },
   "outputs": [
    {
     "data": {
      "text/plain": [
       "5"
      ]
     },
     "execution_count": 60,
     "metadata": {},
     "output_type": "execute_result"
    }
   ],
   "source": [
    "a = 20\n",
    "a>>2"
   ]
  },
  {
   "cell_type": "code",
   "execution_count": null,
   "metadata": {
    "id": "aMiCPfBKYSfl"
   },
   "outputs": [],
   "source": [
    ""
   ]
  },
  {
   "cell_type": "code",
   "execution_count": null,
   "metadata": {
    "id": "tuXLzl1VYQlC"
   },
   "outputs": [],
   "source": [
    ""
   ]
  }
 ],
 "metadata": {
  "colab": {
   "name": "OPERATIONS.ipynb",
   "provenance": []
  },
  "kernelspec": {
   "display_name": "Python 3",
   "name": "python3"
  },
  "language_info": {
   "name": "python"
  }
 },
 "nbformat": 4,
 "nbformat_minor": 0
}
