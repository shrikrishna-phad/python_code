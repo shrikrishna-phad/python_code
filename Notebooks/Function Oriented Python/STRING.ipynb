{
 "cells": [
  {
   "cell_type": "markdown",
   "metadata": {
    "id": "-BM-2L05n8va"
   },
   "source": [
    "### ***STRING***\n",
    "\n",
    "1.  Collection of character in some meaningful order.\n",
    "\n",
    "2. Immutable data type (Can't change once defined).\n",
    "\n",
    "3. Ordered data type (indexing possible)."
   ]
  },
  {
   "cell_type": "code",
   "execution_count": null,
   "metadata": {
    "id": "bmlWmyo2tCEh"
   },
   "outputs": [],
   "source": [
    ""
   ]
  },
  {
   "cell_type": "markdown",
   "metadata": {
    "id": "F7Ohlg4ctCii"
   },
   "source": [
    "***How to create / Define string***\n",
    "\n",
    "1. Single **'Single quote'**.\n",
    "\n",
    "2. Single **\"Double quote\"**.\n",
    "\n",
    "3. Triple **'''Single quote'''**.\n",
    "\n",
    "4. Triple **\"\"\"Double quote\"\"\"**."
   ]
  },
  {
   "cell_type": "code",
   "execution_count": 1,
   "metadata": {
    "colab": {
     "base_uri": "https://localhost:8080/"
    },
    "id": "LytIXc3kkkiH",
    "outputId": "d42a5277-b87b-4a09-ea70-27e70a0c00fc"
   },
   "outputs": [
    {
     "name": "stdout",
     "output_type": "stream",
     "text": [
      "<class 'str'>\n"
     ]
    }
   ],
   "source": [
    "a1 = 'python' # single single quote\n",
    "print(type(a1))"
   ]
  },
  {
   "cell_type": "code",
   "execution_count": 2,
   "metadata": {
    "colab": {
     "base_uri": "https://localhost:8080/"
    },
    "id": "MtwVXOoSmFmQ",
    "outputId": "a8a2d5c8-2784-48c6-a026-6a1eab4bbf4a"
   },
   "outputs": [
    {
     "name": "stdout",
     "output_type": "stream",
     "text": [
      "<class 'str'>\n"
     ]
    }
   ],
   "source": [
    "a2 = '''python''' # Triple single quote\n",
    "print(type(a2))"
   ]
  },
  {
   "cell_type": "code",
   "execution_count": 3,
   "metadata": {
    "colab": {
     "base_uri": "https://localhost:8080/"
    },
    "id": "DbFQxKgqmFfz",
    "outputId": "66a4d811-5683-453e-af92-1ea54df28086"
   },
   "outputs": [
    {
     "name": "stdout",
     "output_type": "stream",
     "text": [
      "<class 'str'>\n"
     ]
    }
   ],
   "source": [
    "a3 = \"python\" # single double quote\n",
    "print(type(a3))"
   ]
  },
  {
   "cell_type": "code",
   "execution_count": 4,
   "metadata": {
    "colab": {
     "base_uri": "https://localhost:8080/"
    },
    "id": "ZrC2ewsmmFiy",
    "outputId": "cb8fc471-c20e-496f-bef1-00dfaa67588e"
   },
   "outputs": [
    {
     "name": "stdout",
     "output_type": "stream",
     "text": [
      "<class 'str'>\n"
     ]
    }
   ],
   "source": [
    "a4 = \"\"\"python\"\"\" # Triple double quote\n",
    "print(type(a4))"
   ]
  },
  {
   "cell_type": "code",
   "execution_count": null,
   "metadata": {
    "id": "qIBqZ7fXmFcy"
   },
   "outputs": [],
   "source": [
    ""
   ]
  },
  {
   "cell_type": "code",
   "execution_count": 11,
   "metadata": {
    "colab": {
     "base_uri": "https://localhost:8080/",
     "height": 129
    },
    "id": "3TrlnDgymFZi",
    "outputId": "35113536-630f-4a39-9ce7-d6f728502379"
   },
   "outputs": [
    {
     "ename": "SyntaxError",
     "evalue": "ignored",
     "output_type": "error",
     "traceback": [
      "\u001b[0;36m  File \u001b[0;32m\"<ipython-input-11-893d5f6ffd97>\"\u001b[0;36m, line \u001b[0;32m1\u001b[0m\n\u001b[0;31m    a5 = ''python'' # Double single quote not allowed\u001b[0m\n\u001b[0m                ^\u001b[0m\n\u001b[0;31mSyntaxError\u001b[0m\u001b[0;31m:\u001b[0m invalid syntax\n"
     ]
    }
   ],
   "source": [
    "a5 = ''python'' # Double single quote not allowed\n",
    "print(type(a5))"
   ]
  },
  {
   "cell_type": "code",
   "execution_count": 12,
   "metadata": {
    "colab": {
     "base_uri": "https://localhost:8080/",
     "height": 129
    },
    "id": "kjQjMNcmmFWD",
    "outputId": "0b1cb3da-f665-40cc-eed9-bbfa9e978a27"
   },
   "outputs": [
    {
     "ename": "SyntaxError",
     "evalue": "ignored",
     "output_type": "error",
     "traceback": [
      "\u001b[0;36m  File \u001b[0;32m\"<ipython-input-12-27f145cfb1e4>\"\u001b[0;36m, line \u001b[0;32m1\u001b[0m\n\u001b[0;31m    a6 = \"\"python\"\" #double double quote not allowed\u001b[0m\n\u001b[0m                ^\u001b[0m\n\u001b[0;31mSyntaxError\u001b[0m\u001b[0;31m:\u001b[0m invalid syntax\n"
     ]
    }
   ],
   "source": [
    "a6 = \"\"python\"\" #double double quote not allowed\n",
    "print(type(a6))"
   ]
  },
  {
   "cell_type": "code",
   "execution_count": null,
   "metadata": {
    "id": "qYCRRw1HmFSn"
   },
   "outputs": [],
   "source": [
    ""
   ]
  },
  {
   "cell_type": "markdown",
   "metadata": {
    "id": "K2AZsxVYyy_z"
   },
   "source": [
    "***Why triple single & triple double quotes ?***"
   ]
  },
  {
   "cell_type": "code",
   "execution_count": 13,
   "metadata": {
    "colab": {
     "base_uri": "https://localhost:8080/",
     "height": 129
    },
    "id": "oyqFPhLgmFPg",
    "outputId": "f85f614d-104b-4399-882e-d163f769522d"
   },
   "outputs": [
    {
     "ename": "SyntaxError",
     "evalue": "ignored",
     "output_type": "error",
     "traceback": [
      "\u001b[0;36m  File \u001b[0;32m\"<ipython-input-13-cd7bc2c9b832>\"\u001b[0;36m, line \u001b[0;32m1\u001b[0m\n\u001b[0;31m    a7 = 'python is very strong in web devlopment and ML it's having more DS'\u001b[0m\n\u001b[0m                                                            ^\u001b[0m\n\u001b[0;31mSyntaxError\u001b[0m\u001b[0;31m:\u001b[0m invalid syntax\n"
     ]
    }
   ],
   "source": [
    "a7 = 'python is very strong in web devlopment and ML it's having more DS'\n",
    "print(a7) # python interpreter can't understand where single quote starts and where it ends."
   ]
  },
  {
   "cell_type": "code",
   "execution_count": 14,
   "metadata": {
    "colab": {
     "base_uri": "https://localhost:8080/"
    },
    "id": "GE5WDJVOmFNA",
    "outputId": "f936f9d8-2c8a-486e-d3b6-e9c69d62cbc5"
   },
   "outputs": [
    {
     "name": "stdout",
     "output_type": "stream",
     "text": [
      "python is very strong in web devlopment and ML it's having more DS\n"
     ]
    }
   ],
   "source": [
    "a8 = \"python is very strong in web devlopment and ML it's having more DS\"\n",
    "print(a8)"
   ]
  },
  {
   "cell_type": "code",
   "execution_count": 15,
   "metadata": {
    "colab": {
     "base_uri": "https://localhost:8080/"
    },
    "id": "Z1_xS_s7mFJd",
    "outputId": "086e2c86-141b-4e52-c7b2-7fcc20261c08"
   },
   "outputs": [
    {
     "name": "stdout",
     "output_type": "stream",
     "text": [
      "python is very strong in web devlopment and ML it's having more DS\n"
     ]
    }
   ],
   "source": [
    "a9 = \"python is very strong in web devlopment and ML it's having more DS\"\n",
    "print(a9)"
   ]
  },
  {
   "cell_type": "code",
   "execution_count": 16,
   "metadata": {
    "colab": {
     "base_uri": "https://localhost:8080/",
     "height": 129
    },
    "id": "DCm70UbwmFGj",
    "outputId": "f972ae08-b2ce-4130-9888-9a849d8b4918"
   },
   "outputs": [
    {
     "ename": "SyntaxError",
     "evalue": "ignored",
     "output_type": "error",
     "traceback": [
      "\u001b[0;36m  File \u001b[0;32m\"<ipython-input-16-3eaf11d040d4>\"\u001b[0;36m, line \u001b[0;32m1\u001b[0m\n\u001b[0;31m    a10 = \"python is very strong in \"web devlopment\" and ML it's having more DS\"\u001b[0m\n\u001b[0m                                       ^\u001b[0m\n\u001b[0;31mSyntaxError\u001b[0m\u001b[0;31m:\u001b[0m invalid syntax\n"
     ]
    }
   ],
   "source": [
    "a10 = \"python is very strong in \"web devlopment\" and ML it's having more DS\"\n",
    "print(a10) # python interpreter can't understand where double quote starts and where it ends."
   ]
  },
  {
   "cell_type": "code",
   "execution_count": 17,
   "metadata": {
    "colab": {
     "base_uri": "https://localhost:8080/"
    },
    "id": "wgXfPhbhmFDJ",
    "outputId": "50165b7f-756a-4034-fd0c-02b5d13ae11c"
   },
   "outputs": [
    {
     "name": "stdout",
     "output_type": "stream",
     "text": [
      "python is very strong in web devlopment and ML it's having more DS\n"
     ]
    }
   ],
   "source": [
    "a11 = '''python is very strong in web devlopment and ML it's having more DS'''\n",
    "print(a11)"
   ]
  },
  {
   "cell_type": "code",
   "execution_count": 18,
   "metadata": {
    "colab": {
     "base_uri": "https://localhost:8080/"
    },
    "id": "U_yFMLljmE_a",
    "outputId": "bcdabfec-f1e0-42a6-c13b-2c1f9cd87dad"
   },
   "outputs": [
    {
     "name": "stdout",
     "output_type": "stream",
     "text": [
      "python is very strong in web devlopment and ML it's having more DS\n"
     ]
    }
   ],
   "source": [
    "a12 = \"\"\"python is very strong in web devlopment and ML it's having more DS\"\"\"\n",
    "print(a12)"
   ]
  },
  {
   "cell_type": "markdown",
   "metadata": {
    "id": "cvvCTLJ2-7je"
   },
   "source": [
    "***For multiline string only triple single or triple double quotes should be used***\n"
   ]
  },
  {
   "cell_type": "code",
   "execution_count": 19,
   "metadata": {
    "id": "L9rupbNLmE8H"
   },
   "outputs": [],
   "source": [
    "a13 = '''Python is an interpreted high-level general-purpose programming language.\n",
    "Pythons design philosophy emphasizes code readability with its notable use of significant indentation.\n",
    "Its language constructs as well as its object-oriented approach aim to help programmers write clear, logical code for small and large-scale projects.\n",
    "Python is dynamically-typed and garbage-collected. It supports multiple programming paradigms, including'''"
   ]
  },
  {
   "cell_type": "code",
   "execution_count": null,
   "metadata": {
    "id": "5gNzcrz9mE4t"
   },
   "outputs": [],
   "source": [
    ""
   ]
  },
  {
   "cell_type": "markdown",
   "metadata": {
    "id": "ZVGNAc0zFc_1"
   },
   "source": [
    "***Indexing***"
   ]
  },
  {
   "cell_type": "code",
   "execution_count": 20,
   "metadata": {
    "colab": {
     "base_uri": "https://localhost:8080/"
    },
    "id": "RNLlHxL4mEut",
    "outputId": "5fb10659-0369-4612-be53-182912e08cdc"
   },
   "outputs": [
    {
     "name": "stdout",
     "output_type": "stream",
     "text": [
      "python is very strong in web devlopment and ML it's having more DS\n"
     ]
    }
   ],
   "source": [
    "print(a12)"
   ]
  },
  {
   "cell_type": "code",
   "execution_count": 21,
   "metadata": {
    "colab": {
     "base_uri": "https://localhost:8080/"
    },
    "id": "6bVOAX6JFwqG",
    "outputId": "a075cb83-1c55-41d5-b029-05f293ac9d5d"
   },
   "outputs": [
    {
     "name": "stdout",
     "output_type": "stream",
     "text": [
      "t\n"
     ]
    }
   ],
   "source": [
    "print(a12[2])"
   ]
  },
  {
   "cell_type": "code",
   "execution_count": 22,
   "metadata": {
    "colab": {
     "base_uri": "https://localhost:8080/"
    },
    "id": "PzfS7iwDF2-s",
    "outputId": "f76beee6-9e53-46da-94fc-f1539356317b"
   },
   "outputs": [
    {
     "name": "stdout",
     "output_type": "stream",
     "text": [
      " \n"
     ]
    }
   ],
   "source": [
    "print(a12[6])"
   ]
  },
  {
   "cell_type": "code",
   "execution_count": 23,
   "metadata": {
    "colab": {
     "base_uri": "https://localhost:8080/"
    },
    "id": "PO2jynvnF2zF",
    "outputId": "d433ac86-7b59-4ad7-84cd-2532680b3aa9"
   },
   "outputs": [
    {
     "name": "stdout",
     "output_type": "stream",
     "text": [
      "S\n"
     ]
    }
   ],
   "source": [
    "print(a12[65])"
   ]
  },
  {
   "cell_type": "code",
   "execution_count": 24,
   "metadata": {
    "colab": {
     "base_uri": "https://localhost:8080/"
    },
    "id": "4p_Co-OcF2wC",
    "outputId": "9f34274d-0383-48eb-849e-b71e1af6525e"
   },
   "outputs": [
    {
     "name": "stdout",
     "output_type": "stream",
     "text": [
      "w\n"
     ]
    }
   ],
   "source": [
    "print(a12[25])"
   ]
  },
  {
   "cell_type": "code",
   "execution_count": 25,
   "metadata": {
    "colab": {
     "base_uri": "https://localhost:8080/"
    },
    "id": "Ukb0zC-HF2tQ",
    "outputId": "f89fc533-8636-4fcd-e28a-72720ea93696"
   },
   "outputs": [
    {
     "name": "stdout",
     "output_type": "stream",
     "text": [
      "S\n"
     ]
    }
   ],
   "source": [
    "print(a12[-1])"
   ]
  },
  {
   "cell_type": "code",
   "execution_count": null,
   "metadata": {
    "id": "QshJA-KQF2qR"
   },
   "outputs": [],
   "source": [
    ""
   ]
  },
  {
   "cell_type": "markdown",
   "metadata": {
    "id": "LfqygPxUGd6L"
   },
   "source": [
    "***FUNCTIONS IN PYTHON***\n",
    "\n",
    "1. **Capitalize** **str_name.capitalize()**\n",
    "       ---> First letter in string is capitalized every other tetter will be lowercased.\n",
    "       ---> Does not update original string, new result can be stored in the new veriable.\n",
    "2.  **Upper** **str_name.upper()**\n",
    "        ---> Capitalize every letter in string.\n",
    "        ---> Does not update original string, new result can be stored in the new veriable.\n",
    "3.  **Lower** **str_name.lower()**\n",
    "        ---> Lowercase every letter in the string.\n",
    "        ---> Does not update original string, new result can be stored in the new veriable.\n",
    "4.  **Replace** **str_name.replace('charecters to be replaced', replacing charecters)**\n",
    "        ---> Replaces given charecters with replacing charecters.\n",
    "        ---> letters must be adjecent to eachother.\n",
    "        ---> Does not update original string, new result can be stored in the new veriable.\n",
    "5.  **Count** **str_name.count('element')**\n",
    "        ---> Count the number of occurance of perticular element.\n",
    "6.  **Case fold** **str_name.casefold**\n",
    "        ---> Only Upper case to Lower case conversion.\n",
    "7.  **Swap case** **str_name.swapcase()**\n",
    "        ---> From Upper case to Lower case & from Lower case to Upper case.\n",
    "8.  **Ends with** **str_name.endswith(element)**\n",
    "        ---> To check the string if the it ends with perticular charecter or charecters.\n",
    "        ---> Only boolean values returned.\n",
    "9.  **Starts with** **str_name.startswith(element)**\n",
    "        ---> To check the string if the it starts with perticular charecter or charecters.\n",
    "        ---> Only boolean values returned.\n",
    "10.  **Split** **str_name.split(seprator_element,how many splits)**\n",
    "         ---> To split the string in perticular manner.\n",
    "         ---> Spllited elements are stored in list formate.\n",
    "         ---> Default split is from left to right.\n",
    "         ---> Default split whole string (if how many splits not given).\n",
    "         \n",
    "         str_name.rsplit(seprator_element,how many splits)\n",
    "         ---> To split from Right to left.\n",
    "11.  **Strip** **str_name.split()**\n",
    "         ---> To remove whits spaces.\n",
    "         ---> Default Removes spaces from both sides.\n",
    "\n",
    "         str_name.lsplit()\n",
    "         ---> Only strips from Left side.\n",
    "\n",
    "         str_name.rsplit()\n",
    "         ---> Only strips from Right side.\n",
    "12.  **Find** **str_name.find(element)**\n",
    "         ---> To find the index of perticular element.\n",
    "         ---> Diffrent from indexing.\n",
    "              ---> **Indexing** ---> can be forword (from left to right) or reverse (from right to left).\n",
    "              ---> **Find** ---> can only be from left to right.\n",
    "              ---> If element is not preasent **indexing** ---> error\n",
    "                                                  **find** ---> -1\n",
    "         ---> will return only 1st occurance of element.\n",
    "13.  **Format** **'in what format'.format(elements)**\n",
    "         ---> To print results in specific format.\n",
    "         ---> {} (curly brackets) are called as place holders.\n",
    "14.  **Partition** **str_name.partition(element)**\n",
    "         ---> Alwaya shows three partitions.\n",
    "              ---> 1st Before match.\n",
    "              ---> 2nd Matched element.\n",
    "              ---> 3rd After match.\n",
    "         ---> Always shows results in Tuple.\n",
    "         ---> If given partition element is not present it will make \n",
    "         whole string as 1st partition in tuple and 2nd and 3rd elements are empty.\n",
    "         ---> Always checks from left to right.\n",
    "         ---> If more than one partition are present it will take \n",
    "         1st element from left and partition as based an that.\n",
    "15.  **Join** **\"element\".join(tuplt_name/list_name/dict_name)**\n",
    "         ---> to join elements in list or tuple or dict or string together."
   ]
  },
  {
   "cell_type": "code",
   "execution_count": null,
   "metadata": {
    "id": "xIpbHQnIHiI-"
   },
   "outputs": [],
   "source": [
    ""
   ]
  },
  {
   "cell_type": "markdown",
   "metadata": {
    "id": "UKALzR-sHiol"
   },
   "source": [
    "**Capitalize**\n",
    "\n",
    "**str_name.capitalize()**\n",
    "\n",
    "---> First letter in string is capitalized every other tetter will be lowercased.\n",
    "\n",
    "---> Does not update original string, new result can be stored in the new veriable."
   ]
  },
  {
   "cell_type": "code",
   "execution_count": 26,
   "metadata": {
    "colab": {
     "base_uri": "https://localhost:8080/"
    },
    "id": "wVGHGU6sGdha",
    "outputId": "567829a4-8b5f-4551-b6f5-81527fca4f09"
   },
   "outputs": [
    {
     "name": "stdout",
     "output_type": "stream",
     "text": [
      "this is THe way\n"
     ]
    }
   ],
   "source": [
    "b = 'this is THe way'\n",
    "print(b)"
   ]
  },
  {
   "cell_type": "code",
   "execution_count": 27,
   "metadata": {
    "colab": {
     "base_uri": "https://localhost:8080/",
     "height": 35
    },
    "id": "X_Hj8rmzF2mw",
    "outputId": "014ed619-3373-4273-d095-a66769a807e0"
   },
   "outputs": [
    {
     "data": {
      "application/vnd.google.colaboratory.intrinsic+json": {
       "type": "string"
      },
      "text/plain": [
       "'This is the way'"
      ]
     },
     "execution_count": 27,
     "metadata": {
      "tags": []
     },
     "output_type": "execute_result"
    }
   ],
   "source": [
    "b.capitalize()"
   ]
  },
  {
   "cell_type": "code",
   "execution_count": 28,
   "metadata": {
    "colab": {
     "base_uri": "https://localhost:8080/"
    },
    "id": "LzVMLvqJF2jC",
    "outputId": "ffc5ec86-027d-42c0-cb6f-5ec0c0b2a212"
   },
   "outputs": [
    {
     "name": "stdout",
     "output_type": "stream",
     "text": [
      "this is THe way\n"
     ]
    }
   ],
   "source": [
    "print(b)"
   ]
  },
  {
   "cell_type": "code",
   "execution_count": 29,
   "metadata": {
    "colab": {
     "base_uri": "https://localhost:8080/"
    },
    "id": "JxNujaZBF2Wf",
    "outputId": "08ce8dbd-bd89-46d2-c4c5-6bc218aeaccc"
   },
   "outputs": [
    {
     "name": "stdout",
     "output_type": "stream",
     "text": [
      "this is THe way\n",
      "This is the way\n"
     ]
    }
   ],
   "source": [
    "c = b.capitalize()\n",
    "print(b)\n",
    "print(c)"
   ]
  },
  {
   "cell_type": "code",
   "execution_count": null,
   "metadata": {
    "id": "GSePjBNHIiHX"
   },
   "outputs": [],
   "source": [
    ""
   ]
  },
  {
   "cell_type": "markdown",
   "metadata": {
    "id": "2lZ5hPQaJFmy"
   },
   "source": [
    "**Upper**\n",
    "\n",
    "**str_name.upper()**\n",
    "\n",
    "---> Capitalize every letter in string.\n",
    "\n",
    "---> Does not update original string, new result can be stored in the new veriable."
   ]
  },
  {
   "cell_type": "code",
   "execution_count": 30,
   "metadata": {
    "id": "J3d5Tat9IiCM"
   },
   "outputs": [],
   "source": [
    "d = b.upper()"
   ]
  },
  {
   "cell_type": "code",
   "execution_count": 31,
   "metadata": {
    "colab": {
     "base_uri": "https://localhost:8080/"
    },
    "id": "PckyceGGIh8r",
    "outputId": "10563ade-affe-4bd3-f0ab-b447fd46804e"
   },
   "outputs": [
    {
     "name": "stdout",
     "output_type": "stream",
     "text": [
      "this is THe way\n"
     ]
    }
   ],
   "source": [
    "print(b)"
   ]
  },
  {
   "cell_type": "code",
   "execution_count": 32,
   "metadata": {
    "colab": {
     "base_uri": "https://localhost:8080/"
    },
    "id": "iaoJcJp9Ihwl",
    "outputId": "c677f66f-d5b2-4dd8-a927-e14c22cbe1e3"
   },
   "outputs": [
    {
     "name": "stdout",
     "output_type": "stream",
     "text": [
      "THIS IS THE WAY\n"
     ]
    }
   ],
   "source": [
    "print(d)"
   ]
  },
  {
   "cell_type": "code",
   "execution_count": null,
   "metadata": {
    "id": "AFBQSGwKIht2"
   },
   "outputs": [],
   "source": [
    ""
   ]
  },
  {
   "cell_type": "markdown",
   "metadata": {
    "id": "BJ2kXFu3Knp8"
   },
   "source": [
    "**Lower**\n",
    "\n",
    "**str_name.lower()**\n",
    "\n",
    "---> Lowercase every letter in the string.\n",
    "\n",
    "---> Does not update original string, new result can be stored in the new veriable."
   ]
  },
  {
   "cell_type": "code",
   "execution_count": 33,
   "metadata": {
    "id": "0bBTPB9vIhq-"
   },
   "outputs": [],
   "source": [
    "e = b.lower()"
   ]
  },
  {
   "cell_type": "code",
   "execution_count": 34,
   "metadata": {
    "colab": {
     "base_uri": "https://localhost:8080/"
    },
    "id": "acfMX7xHIhns",
    "outputId": "ca5d4ffe-b8c8-4611-b674-488fd937b284"
   },
   "outputs": [
    {
     "name": "stdout",
     "output_type": "stream",
     "text": [
      "this is THe way\n"
     ]
    }
   ],
   "source": [
    "print(b)"
   ]
  },
  {
   "cell_type": "code",
   "execution_count": 35,
   "metadata": {
    "colab": {
     "base_uri": "https://localhost:8080/"
    },
    "id": "6rggC4sBIhkb",
    "outputId": "40813a45-add6-47cd-b851-298a345e3e1d"
   },
   "outputs": [
    {
     "name": "stdout",
     "output_type": "stream",
     "text": [
      "this is the way\n"
     ]
    }
   ],
   "source": [
    "print(e)"
   ]
  },
  {
   "cell_type": "code",
   "execution_count": null,
   "metadata": {
    "id": "VIjbCH-0Ihgu"
   },
   "outputs": [],
   "source": [
    ""
   ]
  },
  {
   "cell_type": "markdown",
   "metadata": {
    "id": "gBX84pfDMvNl"
   },
   "source": [
    "**Replace**\n",
    "\n",
    "**str_name.replace('charecters to be replaced', replacing charecters)**\n",
    "\n",
    "---> Replaces given charecters with replacing charecters.\n",
    "\n",
    "---> letters must be adjecent to eachother.\n",
    "\n",
    "---> Does not update original string, new result can be stored in the new veriable.\n",
    "\n",
    "---> Python is case sensetive."
   ]
  },
  {
   "cell_type": "code",
   "execution_count": 36,
   "metadata": {
    "colab": {
     "base_uri": "https://localhost:8080/"
    },
    "id": "iyO4CVo5Mu0P",
    "outputId": "60cbfa57-f622-4cfd-d10e-c693e14e236e"
   },
   "outputs": [
    {
     "name": "stdout",
     "output_type": "stream",
     "text": [
      "this is THe way\n"
     ]
    }
   ],
   "source": [
    "print(b)"
   ]
  },
  {
   "cell_type": "code",
   "execution_count": 37,
   "metadata": {
    "id": "y9G67TX7Ihdw"
   },
   "outputs": [],
   "source": [
    "f = b.replace('t','D')"
   ]
  },
  {
   "cell_type": "code",
   "execution_count": 38,
   "metadata": {
    "colab": {
     "base_uri": "https://localhost:8080/"
    },
    "id": "KYiPmXUoIhNU",
    "outputId": "ec2bc7d6-d837-4890-b202-1d8aeffd2136"
   },
   "outputs": [
    {
     "name": "stdout",
     "output_type": "stream",
     "text": [
      "Dhis is THe way\n"
     ]
    }
   ],
   "source": [
    "print(f) # as python is case sensetive t is replaced but not T"
   ]
  },
  {
   "cell_type": "code",
   "execution_count": 39,
   "metadata": {
    "id": "g_Pjbv0lIfid"
   },
   "outputs": [],
   "source": [
    "g = b.replace('THe','str')"
   ]
  },
  {
   "cell_type": "code",
   "execution_count": 40,
   "metadata": {
    "colab": {
     "base_uri": "https://localhost:8080/"
    },
    "id": "CYFRXHwLNZpv",
    "outputId": "025a56b5-012e-46bc-c4f2-2f6ebbc51e37"
   },
   "outputs": [
    {
     "name": "stdout",
     "output_type": "stream",
     "text": [
      "this is str way\n"
     ]
    }
   ],
   "source": [
    "print(g)"
   ]
  },
  {
   "cell_type": "code",
   "execution_count": null,
   "metadata": {
    "id": "OCBVwUo5Na_X"
   },
   "outputs": [],
   "source": [
    ""
   ]
  },
  {
   "cell_type": "markdown",
   "metadata": {
    "id": "A8oOMp--ryZp"
   },
   "source": [
    "**Count**\n",
    "\n",
    "**str_name.count('element')**\n",
    "\n",
    "--->Count the number of occurance of perticular element."
   ]
  },
  {
   "cell_type": "code",
   "execution_count": 41,
   "metadata": {
    "colab": {
     "base_uri": "https://localhost:8080/"
    },
    "id": "a1Vd7nI0d6KF",
    "outputId": "1d121e3e-a552-45b8-8809-416b5f0611e6"
   },
   "outputs": [
    {
     "name": "stdout",
     "output_type": "stream",
     "text": [
      "to count the number of occurances of perticular charecter\n"
     ]
    }
   ],
   "source": [
    "a = 'to count the number of occurances of perticular charecter'\n",
    "print(a)"
   ]
  },
  {
   "cell_type": "code",
   "execution_count": 42,
   "metadata": {
    "colab": {
     "base_uri": "https://localhost:8080/"
    },
    "id": "XehF5W__d6C6",
    "outputId": "5445e7aa-403d-43d2-bdb8-476e1048ba86"
   },
   "outputs": [
    {
     "data": {
      "text/plain": [
       "3"
      ]
     },
     "execution_count": 42,
     "metadata": {
      "tags": []
     },
     "output_type": "execute_result"
    }
   ],
   "source": [
    "a.count('a')"
   ]
  },
  {
   "cell_type": "code",
   "execution_count": 43,
   "metadata": {
    "colab": {
     "base_uri": "https://localhost:8080/"
    },
    "id": "L7BFUxHCd52G",
    "outputId": "786408ae-2f13-4fed-d137-41714965bd38"
   },
   "outputs": [
    {
     "data": {
      "text/plain": [
       "6"
      ]
     },
     "execution_count": 43,
     "metadata": {
      "tags": []
     },
     "output_type": "execute_result"
    }
   ],
   "source": [
    "a.count('e')"
   ]
  },
  {
   "cell_type": "code",
   "execution_count": null,
   "metadata": {
    "id": "wJJ5TYVXd5yx"
   },
   "outputs": [],
   "source": [
    ""
   ]
  },
  {
   "cell_type": "markdown",
   "metadata": {
    "id": "5tVfJH1Js_2O"
   },
   "source": [
    "**Case fold**\n",
    "\n",
    "**str_name.casefold**\n",
    "\n",
    "---> Only Upper case to Lower case conversion."
   ]
  },
  {
   "cell_type": "code",
   "execution_count": 44,
   "metadata": {
    "colab": {
     "base_uri": "https://localhost:8080/"
    },
    "id": "i-Zk8auJd5ut",
    "outputId": "73ef2b89-c322-4936-ca64-40f20106a898"
   },
   "outputs": [
    {
     "name": "stdout",
     "output_type": "stream",
     "text": [
      "Only uPPer case To lower Case\n"
     ]
    }
   ],
   "source": [
    "a = 'Only uPPer case To lower Case'\n",
    "print(a)"
   ]
  },
  {
   "cell_type": "code",
   "execution_count": 45,
   "metadata": {
    "colab": {
     "base_uri": "https://localhost:8080/",
     "height": 35
    },
    "id": "8d3T-5SWd5qq",
    "outputId": "c190e5d6-2fca-45b2-f820-b324eecc7f79"
   },
   "outputs": [
    {
     "data": {
      "application/vnd.google.colaboratory.intrinsic+json": {
       "type": "string"
      },
      "text/plain": [
       "'only upper case to lower case'"
      ]
     },
     "execution_count": 45,
     "metadata": {
      "tags": []
     },
     "output_type": "execute_result"
    }
   ],
   "source": [
    "a.casefold()"
   ]
  },
  {
   "cell_type": "code",
   "execution_count": null,
   "metadata": {
    "id": "YO3SNIRlte6s"
   },
   "outputs": [],
   "source": [
    ""
   ]
  },
  {
   "cell_type": "markdown",
   "metadata": {
    "id": "3DoYigSYtjXa"
   },
   "source": [
    "**Swap case**\n",
    "\n",
    "**str_name.swapcase()**\n",
    "\n",
    "---> From Upper case to Lower case & from Lower case to Upper case."
   ]
  },
  {
   "cell_type": "code",
   "execution_count": 46,
   "metadata": {
    "colab": {
     "base_uri": "https://localhost:8080/"
    },
    "id": "tUEsUYwltezM",
    "outputId": "fd5977e5-c0d8-4e46-ac40-bd6861284545"
   },
   "outputs": [
    {
     "name": "stdout",
     "output_type": "stream",
     "text": [
      " From UPPER case to lower CASE & from LOWER case to upper Case\n"
     ]
    }
   ],
   "source": [
    "a = ' From UPPER case to lower CASE & from LOWER case to upper Case'\n",
    "print(a)"
   ]
  },
  {
   "cell_type": "code",
   "execution_count": 47,
   "metadata": {
    "colab": {
     "base_uri": "https://localhost:8080/",
     "height": 35
    },
    "id": "2J3Rl4KUteua",
    "outputId": "6c93bb43-e743-4489-f78b-495ace15e8d9"
   },
   "outputs": [
    {
     "data": {
      "application/vnd.google.colaboratory.intrinsic+json": {
       "type": "string"
      },
      "text/plain": [
       "' fROM upper CASE TO LOWER case & FROM lower CASE TO UPPER cASE'"
      ]
     },
     "execution_count": 47,
     "metadata": {
      "tags": []
     },
     "output_type": "execute_result"
    }
   ],
   "source": [
    "a.swapcase()"
   ]
  },
  {
   "cell_type": "code",
   "execution_count": null,
   "metadata": {
    "id": "jAaJpgxwtemE"
   },
   "outputs": [],
   "source": [
    ""
   ]
  },
  {
   "cell_type": "markdown",
   "metadata": {
    "id": "3h1omqqUuIdi"
   },
   "source": [
    "**Ends with**\n",
    "\n",
    "**str_name.endswith(element)**\n",
    "\n",
    "---> To check the string if the it ends with perticular charecter or charecters.\n",
    "\n",
    "---> Only boolean values returned."
   ]
  },
  {
   "cell_type": "code",
   "execution_count": 48,
   "metadata": {
    "colab": {
     "base_uri": "https://localhost:8080/"
    },
    "id": "6BZS_eTCtefS",
    "outputId": "b534f41e-1a40-4d1c-ddad-9f6f5f757710"
   },
   "outputs": [
    {
     "name": "stdout",
     "output_type": "stream",
     "text": [
      "abc@gmail\n",
      "pqr@gmail.com\n",
      "xyz@gmail.com\n"
     ]
    }
   ],
   "source": [
    "a = 'abc@gmail'\n",
    "b = 'pqr@gmail.com'\n",
    "c = 'xyz@gmail.com'\n",
    "print(a)\n",
    "print(b)\n",
    "print(c)"
   ]
  },
  {
   "cell_type": "code",
   "execution_count": 49,
   "metadata": {
    "colab": {
     "base_uri": "https://localhost:8080/"
    },
    "id": "UhY52NsRteZ_",
    "outputId": "b9652f88-b34e-4613-9df1-54d6ee65cae2"
   },
   "outputs": [
    {
     "name": "stdout",
     "output_type": "stream",
     "text": [
      "False\n",
      "True\n",
      "True\n"
     ]
    }
   ],
   "source": [
    "print(a.endswith('.com'))\n",
    "print(b.endswith('.com'))\n",
    "print(c.endswith('.com'))"
   ]
  },
  {
   "cell_type": "code",
   "execution_count": null,
   "metadata": {
    "id": "vNvnYtPJteUC"
   },
   "outputs": [],
   "source": [
    ""
   ]
  },
  {
   "cell_type": "markdown",
   "metadata": {
    "id": "L74_E7FuvEqJ"
   },
   "source": [
    "**Starts with**\n",
    "\n",
    "**str_name.startswith(element)**\n",
    "\n",
    "---> To check the string if the it starts with perticular charecter or charecters.\n",
    "\n",
    "---> Only boolean values returned."
   ]
  },
  {
   "cell_type": "code",
   "execution_count": 165,
   "metadata": {
    "colab": {
     "base_uri": "https://localhost:8080/"
    },
    "id": "gHC4Xq3iteP0",
    "outputId": "696e75b8-e75c-484b-da5b-3d81207c01b2"
   },
   "outputs": [
    {
     "name": "stdout",
     "output_type": "stream",
     "text": [
      "card no. - yfgfgfwdkj\n",
      "pan no. - kugffhkjr\n",
      "card no. - igfirfgkrhfg\n"
     ]
    }
   ],
   "source": [
    "a = 'card no. - yfgfgfwdkj'\n",
    "b = 'pan no. - kugffhkjr'\n",
    "c = 'card no. - igfirfgkrhfg'\n",
    "print(a)\n",
    "print(b)\n",
    "print(c)"
   ]
  },
  {
   "cell_type": "code",
   "execution_count": 167,
   "metadata": {
    "colab": {
     "base_uri": "https://localhost:8080/"
    },
    "id": "FQkWt3SYteFx",
    "outputId": "9547fb9d-64b4-43d8-919a-91d37e79f1ae"
   },
   "outputs": [
    {
     "name": "stdout",
     "output_type": "stream",
     "text": [
      "True\n",
      "False\n",
      "True\n"
     ]
    }
   ],
   "source": [
    "print(a.startswith('card no.'))\n",
    "print(b.startswith('card no.'))\n",
    "print(c.startswith('card no.'))"
   ]
  },
  {
   "cell_type": "code",
   "execution_count": null,
   "metadata": {
    "id": "FgjOCDrgd5hg"
   },
   "outputs": [],
   "source": [
    ""
   ]
  },
  {
   "cell_type": "markdown",
   "metadata": {
    "id": "6cw1he1pxiGW"
   },
   "source": [
    "**Split**\n",
    "\n",
    "**str_name.split(seprator_element,how many splits)**\n",
    "\n",
    "---> To split the string in perticular manner.\n",
    "\n",
    "---> Spllited elements are stored in list formate.\n",
    "\n",
    "---> Default split is from left to right.\n",
    "\n",
    "---> Default split whole string (if how many splits not given).\n",
    "         \n",
    "**str_name.rsplit(seprator_element,how many splits)**\n",
    "\n",
    "---> To split from Right to left."
   ]
  },
  {
   "cell_type": "code",
   "execution_count": 52,
   "metadata": {
    "colab": {
     "base_uri": "https://localhost:8080/"
    },
    "id": "nHG8XyHVxhzm",
    "outputId": "22c8ba09-bea2-427b-8d3d-6c1cce1b4e7f"
   },
   "outputs": [
    {
     "name": "stdout",
     "output_type": "stream",
     "text": [
      "data science is an demanding technology\n"
     ]
    }
   ],
   "source": [
    "a = 'data science is an demanding technology'\n",
    "print(a)"
   ]
  },
  {
   "cell_type": "code",
   "execution_count": 53,
   "metadata": {
    "id": "mPdNQc1mxhwG"
   },
   "outputs": [],
   "source": [
    "b = a.split(' ')"
   ]
  },
  {
   "cell_type": "code",
   "execution_count": 54,
   "metadata": {
    "colab": {
     "base_uri": "https://localhost:8080/"
    },
    "id": "SfKlXCShxhsM",
    "outputId": "e4866f47-c3c1-447b-a8dd-e603b0694306"
   },
   "outputs": [
    {
     "name": "stdout",
     "output_type": "stream",
     "text": [
      "['data', 'science', 'is', 'an', 'demanding', 'technology']\n"
     ]
    }
   ],
   "source": [
    "print(b)"
   ]
  },
  {
   "cell_type": "code",
   "execution_count": 55,
   "metadata": {
    "id": "KeHwvlplxhoV"
   },
   "outputs": [],
   "source": [
    "c = a.split('a',2)"
   ]
  },
  {
   "cell_type": "code",
   "execution_count": 56,
   "metadata": {
    "colab": {
     "base_uri": "https://localhost:8080/"
    },
    "id": "uQsR1n9XxhUJ",
    "outputId": "a360e149-cbcb-4ff8-837b-2ed56a7c9e8d"
   },
   "outputs": [
    {
     "name": "stdout",
     "output_type": "stream",
     "text": [
      "['d', 't', ' science is an demanding technology']\n"
     ]
    }
   ],
   "source": [
    "print(c)"
   ]
  },
  {
   "cell_type": "code",
   "execution_count": 57,
   "metadata": {
    "colab": {
     "base_uri": "https://localhost:8080/"
    },
    "id": "PZ2Hu-4OxhQy",
    "outputId": "3584ccdb-2451-47a4-eb45-6f01867a82ba"
   },
   "outputs": [
    {
     "name": "stdout",
     "output_type": "stream",
     "text": [
      "['data sci', 'nc', ' is an d', 'manding t', 'chnology']\n"
     ]
    }
   ],
   "source": [
    "d = a.split('e')\n",
    "print(d)"
   ]
  },
  {
   "cell_type": "code",
   "execution_count": 58,
   "metadata": {
    "colab": {
     "base_uri": "https://localhost:8080/"
    },
    "id": "Wcj1GI23xhKy",
    "outputId": "0835d3fe-ebf4-43d5-d75b-3827a116b730"
   },
   "outputs": [
    {
     "name": "stdout",
     "output_type": "stream",
     "text": [
      "['data sci', 'nc', ' is an d', 'manding technology']\n"
     ]
    }
   ],
   "source": [
    "e = a.split('e',3)\n",
    "print(e)"
   ]
  },
  {
   "cell_type": "code",
   "execution_count": null,
   "metadata": {
    "id": "UbSWUQyWxhEM"
   },
   "outputs": [],
   "source": [
    ""
   ]
  },
  {
   "cell_type": "code",
   "execution_count": 59,
   "metadata": {
    "colab": {
     "base_uri": "https://localhost:8080/"
    },
    "id": "Mdq244HIzaY2",
    "outputId": "565c1491-ea5a-4081-b7e6-973e6f0fdfa6"
   },
   "outputs": [
    {
     "data": {
      "text/plain": [
       "['data science is an', 'demanding', 'technology']"
      ]
     },
     "execution_count": 59,
     "metadata": {
      "tags": []
     },
     "output_type": "execute_result"
    }
   ],
   "source": [
    "a.rsplit(' ',2)"
   ]
  },
  {
   "cell_type": "code",
   "execution_count": null,
   "metadata": {
    "id": "C2JCXe1nznaj"
   },
   "outputs": [],
   "source": [
    ""
   ]
  },
  {
   "cell_type": "markdown",
   "metadata": {
    "id": "8A8rGBrKzEMe"
   },
   "source": [
    "**Strip**\n",
    "\n",
    "**str_name.split()**\n",
    "\n",
    "---> To remove whits spaces.\n",
    "\n",
    "---> Default Removes spaces from both sides.\n",
    "\n",
    "**str_name.lsplit()**\n",
    "\n",
    "---> Only strips from Left side.\n",
    "\n",
    "**str_name.rsplit()**\n",
    "\n",
    "---> Only strips from Right side."
   ]
  },
  {
   "cell_type": "code",
   "execution_count": 60,
   "metadata": {
    "colab": {
     "base_uri": "https://localhost:8080/"
    },
    "id": "QGHCkNFLxhAl",
    "outputId": "0dc0d0c6-7be0-4d31-c6ac-68dabf1bd16f"
   },
   "outputs": [
    {
     "name": "stdout",
     "output_type": "stream",
     "text": [
      "     ML     \n"
     ]
    }
   ],
   "source": [
    "a = '     ML     '\n",
    "print(a)"
   ]
  },
  {
   "cell_type": "code",
   "execution_count": 61,
   "metadata": {
    "colab": {
     "base_uri": "https://localhost:8080/"
    },
    "id": "bEjyWhq2xg8-",
    "outputId": "ef675511-a8e1-48be-e337-a5eb57dafda1"
   },
   "outputs": [
    {
     "name": "stdout",
     "output_type": "stream",
     "text": [
      "ML\n"
     ]
    }
   ],
   "source": [
    "print(a.strip())"
   ]
  },
  {
   "cell_type": "code",
   "execution_count": 62,
   "metadata": {
    "colab": {
     "base_uri": "https://localhost:8080/"
    },
    "id": "uek_9C1Hxg5p",
    "outputId": "cbffcf59-094d-488a-f8eb-c26352f63d54"
   },
   "outputs": [
    {
     "name": "stdout",
     "output_type": "stream",
     "text": [
      "ML     \n"
     ]
    }
   ],
   "source": [
    "print(a.lstrip())"
   ]
  },
  {
   "cell_type": "code",
   "execution_count": 63,
   "metadata": {
    "colab": {
     "base_uri": "https://localhost:8080/"
    },
    "id": "-Nx1QjQMxg1i",
    "outputId": "074177e3-2d4d-4037-bb97-58d7a5bbe3a8"
   },
   "outputs": [
    {
     "name": "stdout",
     "output_type": "stream",
     "text": [
      "     ML\n"
     ]
    }
   ],
   "source": [
    "print(a.rstrip())"
   ]
  },
  {
   "cell_type": "code",
   "execution_count": null,
   "metadata": {
    "id": "I1udjXHSxgrQ"
   },
   "outputs": [],
   "source": [
    ""
   ]
  },
  {
   "cell_type": "markdown",
   "metadata": {
    "id": "iz_8mDwRcHp8"
   },
   "source": [
    "**Find**\n",
    "\n",
    "**str_name.find(element)**\n",
    "\n",
    "---> To find the index of perticular element.\n",
    "\n",
    "---> Diffrent from indexing.\n",
    "\n",
    "---> will return only 1st occurance of element.\n",
    "\n",
    "              ---> **Indexing** ---> can be forword (from left to right) or reverse (from right to left).\n",
    "\n",
    "              ---> **Find** ---> can only be from left to right.\n",
    "\n",
    "              ---> If element is not preasent **indexing** ---> error\n",
    "                                                  **find** ---> -1"
   ]
  },
  {
   "cell_type": "code",
   "execution_count": 64,
   "metadata": {
    "colab": {
     "base_uri": "https://localhost:8080/"
    },
    "id": "s1oWctK0ZMRX",
    "outputId": "cd89f460-fd96-4a9b-ee02-9bc610e6e893"
   },
   "outputs": [
    {
     "name": "stdout",
     "output_type": "stream",
     "text": [
      "python is very importent in 2021\n"
     ]
    }
   ],
   "source": [
    "s = 'python is very importent in 2021'\n",
    "print(s)"
   ]
  },
  {
   "cell_type": "code",
   "execution_count": 65,
   "metadata": {
    "colab": {
     "base_uri": "https://localhost:8080/"
    },
    "id": "1HER-7LKZODr",
    "outputId": "129b37e4-89a9-46a6-c99b-156edbcf393d"
   },
   "outputs": [
    {
     "name": "stdout",
     "output_type": "stream",
     "text": [
      "4\n",
      "7\n",
      "-1\n"
     ]
    }
   ],
   "source": [
    "a = s.find('o') # first occurance\n",
    "b = s.find('i')\n",
    "c = s.find('z') # not preasent so -1.\n",
    "print(a)\n",
    "print(b)\n",
    "print(c)"
   ]
  },
  {
   "cell_type": "code",
   "execution_count": 66,
   "metadata": {
    "colab": {
     "base_uri": "https://localhost:8080/"
    },
    "id": "ZySwVZH_ZOAF",
    "outputId": "5c922cb7-d357-4042-b5af-b83c136a758a"
   },
   "outputs": [
    {
     "name": "stdout",
     "output_type": "stream",
     "text": [
      "4\n",
      "7\n"
     ]
    }
   ],
   "source": [
    "a = s.index('o') # first occurance\n",
    "b = s.index('i')\n",
    "print(a)\n",
    "print(b)"
   ]
  },
  {
   "cell_type": "code",
   "execution_count": 67,
   "metadata": {
    "colab": {
     "base_uri": "https://localhost:8080/",
     "height": 180
    },
    "id": "oBAAXt4YZN9G",
    "outputId": "f576b51e-a702-4a03-e500-1234c0539ebb"
   },
   "outputs": [
    {
     "ename": "ValueError",
     "evalue": "ignored",
     "output_type": "error",
     "traceback": [
      "\u001b[0;31m---------------------------------------------------------------------------\u001b[0m",
      "\u001b[0;31mValueError\u001b[0m                                Traceback (most recent call last)",
      "\u001b[0;32m<ipython-input-67-1169cc54d11d>\u001b[0m in \u001b[0;36m<module>\u001b[0;34m()\u001b[0m\n\u001b[0;32m----> 1\u001b[0;31m \u001b[0ms\u001b[0m\u001b[0;34m.\u001b[0m\u001b[0mindex\u001b[0m\u001b[0;34m(\u001b[0m\u001b[0;34m'z'\u001b[0m\u001b[0;34m)\u001b[0m \u001b[0;31m# not preasent so error.\u001b[0m\u001b[0;34m\u001b[0m\u001b[0;34m\u001b[0m\u001b[0m\n\u001b[0m\u001b[1;32m      2\u001b[0m \u001b[0mprint\u001b[0m\u001b[0;34m(\u001b[0m\u001b[0mc\u001b[0m\u001b[0;34m)\u001b[0m\u001b[0;34m\u001b[0m\u001b[0;34m\u001b[0m\u001b[0m\n",
      "\u001b[0;31mValueError\u001b[0m: substring not found"
     ]
    }
   ],
   "source": [
    "s.index('z') # not preasent so error.\n",
    "print(c)"
   ]
  },
  {
   "cell_type": "code",
   "execution_count": 68,
   "metadata": {
    "colab": {
     "base_uri": "https://localhost:8080/"
    },
    "id": "MrRJ2XvgZN6r",
    "outputId": "9730e22d-a0c3-412f-db3b-0bdb65e4bae1"
   },
   "outputs": [
    {
     "name": "stdout",
     "output_type": "stream",
     "text": [
      "python is very importent in 2021\n"
     ]
    }
   ],
   "source": [
    "print(s)"
   ]
  },
  {
   "cell_type": "code",
   "execution_count": 69,
   "metadata": {
    "colab": {
     "base_uri": "https://localhost:8080/"
    },
    "id": "SyKl4TQXZN39",
    "outputId": "a13fdff6-3174-4da7-ae57-8d77206624e7"
   },
   "outputs": [
    {
     "name": "stdout",
     "output_type": "stream",
     "text": [
      "Enter the substringp\n",
      "SubString found\n"
     ]
    }
   ],
   "source": [
    "x = input('Enter the substring')\n",
    "if s.find(x) == -1:\n",
    "      print('Given substring is not in the string.')\n",
    "else:\n",
    "      print('SubString found')"
   ]
  },
  {
   "cell_type": "code",
   "execution_count": null,
   "metadata": {
    "id": "nf-kEn0NZN1U"
   },
   "outputs": [],
   "source": [
    ""
   ]
  },
  {
   "cell_type": "markdown",
   "metadata": {
    "id": "a5bKsr_Hi56q"
   },
   "source": [
    "**Format**\n",
    "\n",
    "**'in what format'.format(elements)**\n",
    "\n",
    "---> To print results in specific format.\n",
    "\n",
    "---> {} (curly brackets) are called as place holders."
   ]
  },
  {
   "cell_type": "code",
   "execution_count": 70,
   "metadata": {
    "colab": {
     "base_uri": "https://localhost:8080/"
    },
    "id": "VIr97KEDZNx7",
    "outputId": "5a69243c-82ca-4e71-fb19-f9e45ac36710"
   },
   "outputs": [
    {
     "name": "stdout",
     "output_type": "stream",
     "text": [
      "Addition of 10 and 20 is 30\n",
      "Addition of 10 & 20 is 30\n"
     ]
    }
   ],
   "source": [
    "a = 10\n",
    "b = 20\n",
    "print('Addition of {} and {} is {}'.format(a,b,a+b))\n",
    "\n",
    "print(f'Addition of {a} & {b} is {a+b}')"
   ]
  },
  {
   "cell_type": "code",
   "execution_count": 71,
   "metadata": {
    "colab": {
     "base_uri": "https://localhost:8080/"
    },
    "id": "BAd7mqQBZNvN",
    "outputId": "20abf17f-3041-42dd-e008-ab1209ebc4b4"
   },
   "outputs": [
    {
     "name": "stdout",
     "output_type": "stream",
     "text": [
      "Enter number1: 5\n",
      "Enter number2: 25\n",
      "Addition of 5 and 25 is ---> 30\n",
      "Multiplication of 5 and 25 is ---> 125\n"
     ]
    }
   ],
   "source": [
    "a = int(input('Enter number1: '))\n",
    "b = int(input('Enter number2: '))\n",
    "c = a+b\n",
    "d = a*b\n",
    "print('Addition of {} and {} is ---> {}'.format(a,b,c))\n",
    "\n",
    "print(f'Multiplication of {a} and {b} is ---> {d}')"
   ]
  },
  {
   "cell_type": "code",
   "execution_count": null,
   "metadata": {
    "id": "gGads3K-ZNl6"
   },
   "outputs": [],
   "source": [
    ""
   ]
  },
  {
   "cell_type": "code",
   "execution_count": 72,
   "metadata": {
    "colab": {
     "base_uri": "https://localhost:8080/",
     "height": 52
    },
    "id": "327yQPcTZNjE",
    "outputId": "d08a446b-09e1-4cec-e2ff-06b5037c6da5"
   },
   "outputs": [
    {
     "name": "stdout",
     "output_type": "stream",
     "text": [
      "Enter the name:-sdp\n"
     ]
    },
    {
     "data": {
      "application/vnd.google.colaboratory.intrinsic+json": {
       "type": "string"
      },
      "text/plain": [
       "'This is to certify that sdp has done todays homework'"
      ]
     },
     "execution_count": 72,
     "metadata": {
      "tags": []
     },
     "output_type": "execute_result"
    }
   ],
   "source": [
    "a = input('Enter the name:-')\n",
    "'This is to certify that {} has done todays homework'.format(a)"
   ]
  },
  {
   "cell_type": "code",
   "execution_count": 72,
   "metadata": {
    "id": "sQ5TnKHpZNfg"
   },
   "outputs": [],
   "source": [
    ""
   ]
  },
  {
   "cell_type": "markdown",
   "metadata": {
    "id": "YC8vFvDVqRog"
   },
   "source": [
    "**Partition**\n",
    "\n",
    "**str_name.partition(element)**\n",
    "\n",
    "---> Alwaya shows three partitions.\n",
    "        \n",
    "        ---> 1st Before match.\n",
    "        ---> 2nd Matched element.\n",
    "        ---> 3rd After match.\n",
    "---> Always shows results in Tuple.\n",
    "\n",
    "---> If given partition element is not present it will make whole string as 1st partition in tuple and 2nd and 3rd elements are empty.\n",
    "\n",
    "---> Always checks from left to right.\n",
    "\n",
    "---> If more than one partition are present it will take 1st element from left and partition as based an that."
   ]
  },
  {
   "cell_type": "code",
   "execution_count": 73,
   "metadata": {
    "id": "PW1Ulhe5ZNc0"
   },
   "outputs": [],
   "source": [
    "s = 'DS and ML are very importent in 2021'"
   ]
  },
  {
   "cell_type": "code",
   "execution_count": 74,
   "metadata": {
    "colab": {
     "base_uri": "https://localhost:8080/"
    },
    "id": "Eb6e3FQtZNZN",
    "outputId": "38bb86a1-7bc6-4174-a304-3b2e4079e861"
   },
   "outputs": [
    {
     "data": {
      "text/plain": [
       "('DS and ML are ', 'very', ' importent in 2021')"
      ]
     },
     "execution_count": 74,
     "metadata": {
      "tags": []
     },
     "output_type": "execute_result"
    }
   ],
   "source": [
    "s.partition('very')"
   ]
  },
  {
   "cell_type": "code",
   "execution_count": 75,
   "metadata": {
    "colab": {
     "base_uri": "https://localhost:8080/"
    },
    "id": "WHMPRz-IZNVC",
    "outputId": "d00def30-80d8-4af7-b650-f15ef6e9dcb4"
   },
   "outputs": [
    {
     "data": {
      "text/plain": [
       "('DS', ' ', 'and ML are very importent in 2021')"
      ]
     },
     "execution_count": 75,
     "metadata": {
      "tags": []
     },
     "output_type": "execute_result"
    }
   ],
   "source": [
    "s.partition(' ')"
   ]
  },
  {
   "cell_type": "code",
   "execution_count": 76,
   "metadata": {
    "colab": {
     "base_uri": "https://localhost:8080/"
    },
    "id": "l63DSMyAZNQ-",
    "outputId": "10df8c40-7a68-4111-c385-0596688fe697"
   },
   "outputs": [
    {
     "data": {
      "text/plain": [
       "('DS and ', 'ML', ' are very importent in 2021')"
      ]
     },
     "execution_count": 76,
     "metadata": {
      "tags": []
     },
     "output_type": "execute_result"
    }
   ],
   "source": [
    "s.partition('ML')"
   ]
  },
  {
   "cell_type": "code",
   "execution_count": null,
   "metadata": {
    "id": "O6p3DXgQr1eg"
   },
   "outputs": [],
   "source": [
    ""
   ]
  },
  {
   "cell_type": "markdown",
   "metadata": {
    "id": "sMte8TK2tFch"
   },
   "source": [
    "**Join**\n",
    "\n",
    "**\"element\".join(tuplt_name/list_name/dict_name)**\n",
    "\n",
    "---> to join elements in list or tuple or dict or string together."
   ]
  },
  {
   "cell_type": "code",
   "execution_count": 77,
   "metadata": {
    "colab": {
     "base_uri": "https://localhost:8080/"
    },
    "id": "ilmIhLapr1Sf",
    "outputId": "ebd3d486-18a8-42a1-8818-4a9aed911bf9"
   },
   "outputs": [
    {
     "name": "stdout",
     "output_type": "stream",
     "text": [
      "a@ @b@ @c@ @d@ @e\n",
      "python#java#c++\n",
      "python$c++$java\n"
     ]
    }
   ],
   "source": [
    "py_string = 'a b c d e'\n",
    "py_tuple = ('python','java','c++')\n",
    "py_list = ['python', 'c++', 'java']\n",
    "\n",
    "x = '@'.join(py_string)\n",
    "print(x)\n",
    "\n",
    "y = '#'.join(py_tuple)\n",
    "print(y)\n",
    "\n",
    "z = '$'.join(py_list)\n",
    "print(z)"
   ]
  },
  {
   "cell_type": "code",
   "execution_count": null,
   "metadata": {
    "id": "KL_M69KNr1Lp"
   },
   "outputs": [],
   "source": [
    ""
   ]
  },
  {
   "cell_type": "markdown",
   "metadata": {
    "id": "JMZ1D1jBu9V4"
   },
   "source": [
    "### **CONDITIONAL METHOD**\n",
    "\n",
    "---> always boolean values\n",
    "\n",
    "1.  **Is Upper** **string_name.isupper**\n",
    "        ---> To check if string is in **upper case**.\n",
    "2.  **Is Lower** **string_name.islower**\n",
    "        ---> To check if string is in **lower case**.\n",
    "3.  **Is numerical** **string_name.isnumeric**\n",
    "        ---> To check if string is **numeric**.\n",
    "4.  **Is digital** **string_name.isdigit**\n",
    "        ---> For encoded massages.\n",
    "        ---> To check if string is **digit**.\n",
    "5.  **Is alphabetical or numerical** **string_name.isalnum**\n",
    "        ---> To check if string is alphabetical + numerical.\n",
    "6.  **Is Alphabetical** **string_name.isalpha**\n",
    "        ---> To check if string is alphabetical."
   ]
  },
  {
   "cell_type": "code",
   "execution_count": 77,
   "metadata": {
    "id": "HHChxh5XyZyt"
   },
   "outputs": [],
   "source": [
    ""
   ]
  },
  {
   "cell_type": "markdown",
   "metadata": {
    "id": "v0BSSN7IyaVA"
   },
   "source": [
    "**IS UPPER**\n",
    "\n",
    "**str_name.isupper**"
   ]
  },
  {
   "cell_type": "code",
   "execution_count": 78,
   "metadata": {
    "colab": {
     "base_uri": "https://localhost:8080/"
    },
    "id": "977088uHr1GA",
    "outputId": "e81b25dc-3f8f-4940-f0b3-7491676e231b"
   },
   "outputs": [
    {
     "name": "stdout",
     "output_type": "stream",
     "text": [
      "True\n",
      "False\n",
      "False\n"
     ]
    }
   ],
   "source": [
    "a = 'ABC'\n",
    "b = 'abc'\n",
    "c = 'AbC'\n",
    "\n",
    "print(a.isupper())\n",
    "print(b.isupper())\n",
    "print(c.isupper())"
   ]
  },
  {
   "cell_type": "code",
   "execution_count": 78,
   "metadata": {
    "id": "8QBk7WJ_r1Bv"
   },
   "outputs": [],
   "source": [
    ""
   ]
  },
  {
   "cell_type": "markdown",
   "metadata": {
    "id": "0iuYY4Ysygnk"
   },
   "source": [
    "**IS LOWER**\n",
    "\n",
    "**str_name.islower()**"
   ]
  },
  {
   "cell_type": "code",
   "execution_count": 79,
   "metadata": {
    "colab": {
     "base_uri": "https://localhost:8080/"
    },
    "id": "KloRy4QOr061",
    "outputId": "032d1517-dc7a-4862-a7c5-8cd9cb8e6f39"
   },
   "outputs": [
    {
     "name": "stdout",
     "output_type": "stream",
     "text": [
      "False\n",
      "True\n",
      "False\n"
     ]
    }
   ],
   "source": [
    "print(a.islower())\n",
    "print(b.islower())\n",
    "print(c.islower())"
   ]
  },
  {
   "cell_type": "code",
   "execution_count": 79,
   "metadata": {
    "id": "NsUELZUHr02Q"
   },
   "outputs": [],
   "source": [
    ""
   ]
  },
  {
   "cell_type": "markdown",
   "metadata": {
    "id": "bqHGyN0DzqFw"
   },
   "source": [
    "**IS NUMERICAL**\n",
    "\n",
    "\n",
    "**str_name.isnumeric()**\n",
    "\n",
    "---> **0 to 9**\n",
    "\n",
    "---> **Sbuscript** h```2```O\n",
    "\n",
    "---> **Superscript** $x^{2}$\n",
    "\n",
    "---> **Numbers in any langauge**\n",
    "\n",
    "---> **~Float~**"
   ]
  },
  {
   "cell_type": "code",
   "execution_count": 86,
   "metadata": {
    "colab": {
     "base_uri": "https://localhost:8080/"
    },
    "id": "ZoR7eJPRr0dp",
    "outputId": "9c0612e8-f1b0-4290-b788-70a463802be4"
   },
   "outputs": [
    {
     "name": "stdout",
     "output_type": "stream",
     "text": [
      "False\n",
      "False\n",
      "True\n",
      "False\n"
     ]
    }
   ],
   "source": [
    "a = 'ABC'\n",
    "b = '10c'\n",
    "c = '10'\n",
    "d = '25.8'\n",
    "print(a.isnumeric())\n",
    "print(b.isnumeric())\n",
    "print(c.isnumeric())\n",
    "print(d.isnumeric())"
   ]
  },
  {
   "cell_type": "code",
   "execution_count": 80,
   "metadata": {
    "id": "OzDX6CEr0IKP"
   },
   "outputs": [],
   "source": [
    ""
   ]
  },
  {
   "cell_type": "markdown",
   "metadata": {
    "id": "rTY1pkJY0Jdw"
   },
   "source": [
    "**IS DIGIT**\n",
    "\n",
    "**str_name.isdigit()**\n",
    "\n",
    "\n",
    "---> **0 to 9**\n",
    "\n",
    "---> **Sbuscript** h```2```O\n",
    "\n",
    "---> **Superscript** $x^{2}$\n",
    "\n",
    "---> **~Float~**"
   ]
  },
  {
   "cell_type": "code",
   "execution_count": 81,
   "metadata": {
    "id": "QX-13-4p0H_f"
   },
   "outputs": [],
   "source": [
    "# FOR CODED MASSAGES"
   ]
  },
  {
   "cell_type": "code",
   "execution_count": 81,
   "metadata": {
    "id": "qK5jXAFE0H1E"
   },
   "outputs": [],
   "source": [
    ""
   ]
  },
  {
   "cell_type": "markdown",
   "metadata": {
    "id": "9lUX3QT3t0hS"
   },
   "source": [
    "**IS DECIMAL**\n",
    "\n",
    "**str_name.isdecimal()**"
   ]
  },
  {
   "cell_type": "code",
   "execution_count": 85,
   "metadata": {
    "colab": {
     "base_uri": "https://localhost:8080/"
    },
    "id": "lW4_AdMYuNNx",
    "outputId": "e0e1e289-d527-4455-b7b6-7cf3f630e3f0"
   },
   "outputs": [
    {
     "name": "stdout",
     "output_type": "stream",
     "text": [
      "True\n",
      "False\n",
      "False\n"
     ]
    }
   ],
   "source": [
    "a = '10'\n",
    "b = '10a'\n",
    "c = '2.1'\n",
    "\n",
    "print(a.isdecimal())\n",
    "print(b.isdecimal())\n",
    "print(c.isdecimal())"
   ]
  },
  {
   "cell_type": "code",
   "execution_count": null,
   "metadata": {
    "id": "B2_QJpq3uM4x"
   },
   "outputs": [],
   "source": [
    ""
   ]
  },
  {
   "cell_type": "code",
   "execution_count": null,
   "metadata": {
    "id": "Y_TvUlNguMrm"
   },
   "outputs": [],
   "source": [
    ""
   ]
  },
  {
   "cell_type": "markdown",
   "metadata": {
    "id": "GiTr-X480XRJ"
   },
   "source": [
    "**IS ALPHABETICAL + NUMERICAL**\n",
    "\n",
    "**str_name.isalnum**"
   ]
  },
  {
   "cell_type": "code",
   "execution_count": 82,
   "metadata": {
    "colab": {
     "base_uri": "https://localhost:8080/"
    },
    "id": "HFJXf5VB0Wx1",
    "outputId": "48600ccb-cb57-484c-d3de-7606eae8ea91"
   },
   "outputs": [
    {
     "name": "stdout",
     "output_type": "stream",
     "text": [
      "True\n",
      "True\n",
      "True\n",
      "False\n"
     ]
    }
   ],
   "source": [
    "a = 'ABC'\n",
    "b = '10c'\n",
    "c = '10'\n",
    "d = '$$^%$^%$'\n",
    "\n",
    "print(a.isalnum())\n",
    "print(b.isalnum())\n",
    "print(c.isalnum())\n",
    "print(d.isalnum())"
   ]
  },
  {
   "cell_type": "code",
   "execution_count": 82,
   "metadata": {
    "id": "JCRsV9fJ0Ha6"
   },
   "outputs": [],
   "source": [
    ""
   ]
  },
  {
   "cell_type": "markdown",
   "metadata": {
    "id": "a4L725ws1CiG"
   },
   "source": [
    "**IS ALPHABETICAL**\n",
    "\n",
    "**str_name.isalpha**"
   ]
  },
  {
   "cell_type": "code",
   "execution_count": 83,
   "metadata": {
    "colab": {
     "base_uri": "https://localhost:8080/"
    },
    "id": "oNuV6KpsZMrI",
    "outputId": "34a89e9a-ebe5-478b-ff24-3a36ba27d19e"
   },
   "outputs": [
    {
     "name": "stdout",
     "output_type": "stream",
     "text": [
      "True\n",
      "False\n",
      "False\n"
     ]
    }
   ],
   "source": [
    "a = 'ABC'\n",
    "b = '10c'\n",
    "c = '10'\n",
    "\n",
    "print(a.isalpha())\n",
    "print(b.isalpha())\n",
    "print(c.isalpha())"
   ]
  },
  {
   "cell_type": "code",
   "execution_count": null,
   "metadata": {
    "id": "KzQ9-vMSnAay"
   },
   "outputs": [],
   "source": [
    ""
   ]
  },
  {
   "cell_type": "markdown",
   "metadata": {
    "id": "1NGZhPdXnCA2"
   },
   "source": [
    "**IS IDENTIFIRES**\n",
    "\n",
    "**str_name.isidentifier()**\n",
    "\n",
    "---> Tocheck if the string can be used as identifier."
   ]
  },
  {
   "cell_type": "code",
   "execution_count": 91,
   "metadata": {
    "colab": {
     "base_uri": "https://localhost:8080/"
    },
    "id": "nnyG6q5cnAOr",
    "outputId": "4fefcd8b-33e1-4637-89ae-683385878042"
   },
   "outputs": [
    {
     "name": "stdout",
     "output_type": "stream",
     "text": [
      "False\n",
      "True\n",
      "True\n"
     ]
    }
   ],
   "source": [
    "a = '10'\n",
    "b = 'python'\n",
    "c = '_'\n",
    "\n",
    "print(a.isidentifier())\n",
    "print(b.isidentifier())\n",
    "print(c.isidentifier())"
   ]
  },
  {
   "cell_type": "code",
   "execution_count": null,
   "metadata": {
    "id": "H4KFa4uCnAJW"
   },
   "outputs": [],
   "source": [
    ""
   ]
  },
  {
   "cell_type": "markdown",
   "metadata": {
    "id": "HX_qAwxTwpVK"
   },
   "source": [
    "**IS ASCII**\n",
    "\n",
    "**str_name_isascii()**\n",
    "\n",
    "---> To find out if the string has ascii coded value."
   ]
  },
  {
   "cell_type": "code",
   "execution_count": 93,
   "metadata": {
    "colab": {
     "base_uri": "https://localhost:8080/"
    },
    "id": "l4c49-QbnAEJ",
    "outputId": "d21dbbd1-9206-49db-bc32-9c89cb3b28aa"
   },
   "outputs": [
    {
     "name": "stdout",
     "output_type": "stream",
     "text": [
      "True\n",
      "True\n",
      "True\n"
     ]
    }
   ],
   "source": [
    "a = 'h'\n",
    "b = '$'\n",
    "c = '~'\n",
    "print(a.isascii())\n",
    "print(b.isascii())\n",
    "print(c.isascii())"
   ]
  },
  {
   "cell_type": "code",
   "execution_count": null,
   "metadata": {
    "id": "1b7otACBm_5f"
   },
   "outputs": [],
   "source": [
    ""
   ]
  },
  {
   "cell_type": "markdown",
   "metadata": {
    "id": "vfz-LNLazTQR"
   },
   "source": [
    "**CENTER**\n",
    "\n",
    "**str_name.center**\n",
    "\n",
    "---> Display the strung in center.\n"
   ]
  },
  {
   "cell_type": "code",
   "execution_count": 94,
   "metadata": {
    "colab": {
     "base_uri": "https://localhost:8080/"
    },
    "id": "mjuMKeOAm_Xu",
    "outputId": "b4846784-9141-456b-893c-a5bd59ed1c3c"
   },
   "outputs": [
    {
     "name": "stdout",
     "output_type": "stream",
     "text": [
      "python\n"
     ]
    }
   ],
   "source": [
    "a = 'python'\n",
    "print(a)"
   ]
  },
  {
   "cell_type": "code",
   "execution_count": 98,
   "metadata": {
    "colab": {
     "base_uri": "https://localhost:8080/"
    },
    "id": "Gada0U65z2fv",
    "outputId": "a5ee0d0d-79bc-4738-ac8b-b1a55822f692"
   },
   "outputs": [
    {
     "name": "stdout",
     "output_type": "stream",
     "text": [
      "                      python                      \n"
     ]
    }
   ],
   "source": [
    "b = (a.center(50))\n",
    "print(b)"
   ]
  },
  {
   "cell_type": "code",
   "execution_count": 99,
   "metadata": {
    "colab": {
     "base_uri": "https://localhost:8080/"
    },
    "id": "K5XKgUoPz9oL",
    "outputId": "6e2e310a-2075-4999-b8ea-07acaaabf878"
   },
   "outputs": [
    {
     "data": {
      "text/plain": [
       "50"
      ]
     },
     "execution_count": 99,
     "metadata": {
      "tags": []
     },
     "output_type": "execute_result"
    }
   ],
   "source": [
    "len(b)"
   ]
  },
  {
   "cell_type": "code",
   "execution_count": null,
   "metadata": {
    "id": "_FrC4yLE0LQY"
   },
   "outputs": [],
   "source": [
    ""
   ]
  },
  {
   "cell_type": "markdown",
   "metadata": {
    "id": "UMxCmUs951fx"
   },
   "source": [
    "**Zfill**\n",
    "\n",
    "**str_name.zfill(required length)**\n",
    "\n",
    "---> To add zeros before string to match lenth.\n",
    "\n",
    "---> lenth of string - numbers of zeros"
   ]
  },
  {
   "cell_type": "code",
   "execution_count": 114,
   "metadata": {
    "id": "-PbTq5k30LJX"
   },
   "outputs": [],
   "source": [
    "a = 'python'\n",
    "b = (a.zfill(2))"
   ]
  },
  {
   "cell_type": "code",
   "execution_count": 116,
   "metadata": {
    "colab": {
     "base_uri": "https://localhost:8080/"
    },
    "id": "BEuJd_EB0K95",
    "outputId": "6e2c8721-7d22-456d-a0ed-84f1864f353b"
   },
   "outputs": [
    {
     "name": "stdout",
     "output_type": "stream",
     "text": [
      "python\n"
     ]
    },
    {
     "data": {
      "text/plain": [
       "6"
      ]
     },
     "execution_count": 116,
     "metadata": {
      "tags": []
     },
     "output_type": "execute_result"
    }
   ],
   "source": [
    "print(a.zfill(2))\n",
    "len(b)"
   ]
  },
  {
   "cell_type": "code",
   "execution_count": 118,
   "metadata": {
    "colab": {
     "base_uri": "https://localhost:8080/"
    },
    "id": "FYhMIBjI0K5l",
    "outputId": "08e0bf0e-11e3-44b9-e406-00509d89f913"
   },
   "outputs": [
    {
     "name": "stdout",
     "output_type": "stream",
     "text": [
      "0000python\n"
     ]
    },
    {
     "data": {
      "text/plain": [
       "10"
      ]
     },
     "execution_count": 118,
     "metadata": {
      "tags": []
     },
     "output_type": "execute_result"
    }
   ],
   "source": [
    "c = (a.zfill(10))\n",
    "print(c)\n",
    "len(c)"
   ]
  },
  {
   "cell_type": "code",
   "execution_count": 118,
   "metadata": {
    "id": "O4blySxj0K1L"
   },
   "outputs": [],
   "source": [
    ""
   ]
  },
  {
   "cell_type": "markdown",
   "metadata": {
    "id": "dPTHsw5w7kKW"
   },
   "source": [
    "**Split lines**\n",
    "\n",
    "**str_name.splitlines()**\n",
    "\n",
    "---> To split based on lines."
   ]
  },
  {
   "cell_type": "code",
   "execution_count": 119,
   "metadata": {
    "colab": {
     "base_uri": "https://localhost:8080/"
    },
    "id": "98vKaKtH0Kri",
    "outputId": "825f8161-c8a8-4356-b6f7-c9ea2ce204f7"
   },
   "outputs": [
    {
     "name": "stdout",
     "output_type": "stream",
     "text": [
      "python java \n",
      " hadoop c++\n"
     ]
    }
   ],
   "source": [
    "a = 'python java \\n hadoop c++'\n",
    "print(a)"
   ]
  },
  {
   "cell_type": "code",
   "execution_count": 120,
   "metadata": {
    "colab": {
     "base_uri": "https://localhost:8080/"
    },
    "id": "nCVBEJBW0KQE",
    "outputId": "a40ec477-4aa2-4a13-fd18-4ce4f7e5cef8"
   },
   "outputs": [
    {
     "name": "stdout",
     "output_type": "stream",
     "text": [
      "python java \n",
      " hadoop c++\n"
     ]
    }
   ],
   "source": [
    "a = \"python java \\n hadoop c++\"\n",
    "print(a)"
   ]
  },
  {
   "cell_type": "code",
   "execution_count": 121,
   "metadata": {
    "colab": {
     "base_uri": "https://localhost:8080/"
    },
    "id": "3klj513T0IIj",
    "outputId": "241f0d6d-d01a-4cfe-a6ec-08b974417a00"
   },
   "outputs": [
    {
     "name": "stdout",
     "output_type": "stream",
     "text": [
      "['python java ', ' hadoop c++']\n"
     ]
    }
   ],
   "source": [
    "print(a.splitlines())"
   ]
  },
  {
   "cell_type": "code",
   "execution_count": null,
   "metadata": {
    "id": "tQnTeW0X8h1U"
   },
   "outputs": [],
   "source": [
    ""
   ]
  },
  {
   "cell_type": "markdown",
   "metadata": {
    "id": "P4UCh7_38iXr"
   },
   "source": [
    "**ORD**\n",
    "\n",
    "**ord('charecter')**\n",
    "\n",
    "---> To convert charecters to ASCII code."
   ]
  },
  {
   "cell_type": "code",
   "execution_count": 125,
   "metadata": {
    "colab": {
     "base_uri": "https://localhost:8080/"
    },
    "id": "KqlzYSq48hrp",
    "outputId": "89dfa1cb-ea39-4999-82b9-8c5d73817cee"
   },
   "outputs": [
    {
     "name": "stdout",
     "output_type": "stream",
     "text": [
      "65\n",
      "97\n",
      "40\n"
     ]
    }
   ],
   "source": [
    "print(ord('A'))\n",
    "print(ord('a'))\n",
    "print(ord('('))"
   ]
  },
  {
   "cell_type": "code",
   "execution_count": null,
   "metadata": {
    "id": "CLrD_Mot8hiu"
   },
   "outputs": [],
   "source": [
    ""
   ]
  },
  {
   "cell_type": "markdown",
   "metadata": {
    "id": "Zj_E687q9kYt"
   },
   "source": [
    "**CHR**\n",
    "\n",
    "**chr(ASCII CODE)**\n",
    "\n",
    "---> To convert ASCII code to charecters."
   ]
  },
  {
   "cell_type": "code",
   "execution_count": 126,
   "metadata": {
    "colab": {
     "base_uri": "https://localhost:8080/"
    },
    "id": "wcu7ii3E8hY2",
    "outputId": "7487bbec-1005-4fe2-ae32-c2346b508efe"
   },
   "outputs": [
    {
     "name": "stdout",
     "output_type": "stream",
     "text": [
      "A\n",
      "a\n",
      "(\n"
     ]
    }
   ],
   "source": [
    "print(chr(65))\n",
    "print(chr(97))\n",
    "print(chr(40))"
   ]
  },
  {
   "cell_type": "code",
   "execution_count": null,
   "metadata": {
    "id": "bUrj8ctF-Uv_"
   },
   "outputs": [],
   "source": [
    ""
   ]
  },
  {
   "cell_type": "markdown",
   "metadata": {
    "id": "7llBfsAa-WN6"
   },
   "source": [
    "**Translation or Maketraslation**\n",
    "\n",
    "**str_name.maketrans(tuple/list/dict on which code is based)**\n",
    "\n",
    "---> To translate charecters in string.\n",
    "\n",
    "---> Creats maping tuple of what to translate."
   ]
  },
  {
   "cell_type": "code",
   "execution_count": 127,
   "metadata": {
    "id": "_Vob3roh-Ujv"
   },
   "outputs": [],
   "source": [
    "a = 'python'\n",
    "d = {'p':'j'}"
   ]
  },
  {
   "cell_type": "code",
   "execution_count": 129,
   "metadata": {
    "colab": {
     "base_uri": "https://localhost:8080/"
    },
    "id": "R6xh9BLT-UWJ",
    "outputId": "5e557cb2-d984-465d-a344-12f1ae408692"
   },
   "outputs": [
    {
     "name": "stdout",
     "output_type": "stream",
     "text": [
      "{112: 'j'}\n"
     ]
    }
   ],
   "source": [
    "table = a.maketrans(d)\n",
    "print(table)"
   ]
  },
  {
   "cell_type": "code",
   "execution_count": 130,
   "metadata": {
    "colab": {
     "base_uri": "https://localhost:8080/"
    },
    "id": "4TA6qlPt-UMu",
    "outputId": "e2535cf8-79c7-472d-b614-c6c272a27b06"
   },
   "outputs": [
    {
     "name": "stdout",
     "output_type": "stream",
     "text": [
      "112\n"
     ]
    }
   ],
   "source": [
    "print(ord('p'))"
   ]
  },
  {
   "cell_type": "code",
   "execution_count": 131,
   "metadata": {
    "colab": {
     "base_uri": "https://localhost:8080/",
     "height": 35
    },
    "id": "a01D6aPp-UEH",
    "outputId": "5f487401-b936-4d1a-ff67-34ee418e8d4d"
   },
   "outputs": [
    {
     "data": {
      "application/vnd.google.colaboratory.intrinsic+json": {
       "type": "string"
      },
      "text/plain": [
       "'jython'"
      ]
     },
     "execution_count": 131,
     "metadata": {
      "tags": []
     },
     "output_type": "execute_result"
    }
   ],
   "source": [
    "a.translate(table)"
   ]
  },
  {
   "cell_type": "code",
   "execution_count": 132,
   "metadata": {
    "colab": {
     "base_uri": "https://localhost:8080/"
    },
    "id": "CR0YPl7W-T7F",
    "outputId": "0b876adb-5109-4b1e-d950-da7502baf8f3"
   },
   "outputs": [
    {
     "name": "stdout",
     "output_type": "stream",
     "text": [
      "{'y': 'd', 'o': 'c'}\n"
     ]
    }
   ],
   "source": [
    "d = {'y':'d','o':'c'}\n",
    "print(d)"
   ]
  },
  {
   "cell_type": "code",
   "execution_count": 136,
   "metadata": {
    "colab": {
     "base_uri": "https://localhost:8080/"
    },
    "id": "h92tkOgy-TfN",
    "outputId": "51a43b6d-6a78-4d3b-90c1-1b4b54bf38f2"
   },
   "outputs": [
    {
     "name": "stdout",
     "output_type": "stream",
     "text": [
      "{121: 'd', 111: 'c'}\n"
     ]
    }
   ],
   "source": [
    "c = a.maketrans(d)\n",
    "print(c)"
   ]
  },
  {
   "cell_type": "code",
   "execution_count": 138,
   "metadata": {
    "colab": {
     "base_uri": "https://localhost:8080/",
     "height": 35
    },
    "id": "tExTEPhK-TVb",
    "outputId": "6201a541-a82b-4f46-b0f0-bf46155c4a91"
   },
   "outputs": [
    {
     "data": {
      "application/vnd.google.colaboratory.intrinsic+json": {
       "type": "string"
      },
      "text/plain": [
       "'pdthcn'"
      ]
     },
     "execution_count": 138,
     "metadata": {
      "tags": []
     },
     "output_type": "execute_result"
    }
   ],
   "source": [
    "a.translate(c)"
   ]
  },
  {
   "cell_type": "code",
   "execution_count": null,
   "metadata": {
    "id": "zGDw45bKB1Zy"
   },
   "outputs": [],
   "source": [
    ""
   ]
  },
  {
   "cell_type": "markdown",
   "metadata": {
    "id": "TSpoqjgAB2FU"
   },
   "source": [
    "**TYPE CASTING**"
   ]
  },
  {
   "cell_type": "code",
   "execution_count": 148,
   "metadata": {
    "colab": {
     "base_uri": "https://localhost:8080/"
    },
    "id": "9bZsvCJiB1Lx",
    "outputId": "054c9535-c313-447e-cb44-602f4e278cc9"
   },
   "outputs": [
    {
     "name": "stdout",
     "output_type": "stream",
     "text": [
      "10\n",
      "<class 'int'>\n",
      "10\n",
      "<class 'str'>\n"
     ]
    }
   ],
   "source": [
    "a = 10\n",
    "print(a)\n",
    "print(type(a))\n",
    "\n",
    "b = str(a)\n",
    "print(b)\n",
    "print(type(b))"
   ]
  },
  {
   "cell_type": "code",
   "execution_count": 151,
   "metadata": {
    "colab": {
     "base_uri": "https://localhost:8080/"
    },
    "id": "wh9_LEzMB1B0",
    "outputId": "0fb7d2a2-a565-402c-b365-2bad9130bc0d"
   },
   "outputs": [
    {
     "name": "stdout",
     "output_type": "stream",
     "text": [
      "(10, 20, 30)\n",
      "<class 'tuple'>\n",
      "[10, 20, 30]\n",
      "<class 'list'>\n",
      "{10, 20, 30}\n",
      "<class 'set'>\n"
     ]
    }
   ],
   "source": [
    "c = (10, 20, 30)\n",
    "print(c)\n",
    "print(type(c))\n",
    "\n",
    "d = list(c)\n",
    "e = set(c)\n",
    "print(d)\n",
    "print(type(d))\n",
    "print(e)\n",
    "print(type(e))"
   ]
  },
  {
   "cell_type": "code",
   "execution_count": 151,
   "metadata": {
    "id": "dZHodx2-B0k6"
   },
   "outputs": [],
   "source": [
    ""
   ]
  },
  {
   "cell_type": "markdown",
   "metadata": {
    "id": "izYEY1xrIEpc"
   },
   "source": [
    "**FROZENSET**\n",
    "\n",
    "---> IMMUTABLE\n",
    "\n",
    "---> Can't do editable operations on frozensrt"
   ]
  },
  {
   "cell_type": "code",
   "execution_count": 155,
   "metadata": {
    "colab": {
     "base_uri": "https://localhost:8080/"
    },
    "id": "vZgLVx6N8hM2",
    "outputId": "97f6d88d-8af1-43a1-9f58-a81349a184ce"
   },
   "outputs": [
    {
     "name": "stdout",
     "output_type": "stream",
     "text": [
      "frozenset({10, 20, 30})\n"
     ]
    }
   ],
   "source": [
    "s = frozenset({10,20,30})\n",
    "print(s)"
   ]
  },
  {
   "cell_type": "code",
   "execution_count": null,
   "metadata": {
    "id": "flYGWtJXKXQ4"
   },
   "outputs": [],
   "source": [
    ""
   ]
  },
  {
   "cell_type": "code",
   "execution_count": null,
   "metadata": {
    "id": "HOeByi2IKZdC"
   },
   "outputs": [],
   "source": [
    ""
   ]
  },
  {
   "cell_type": "code",
   "execution_count": 158,
   "metadata": {
    "colab": {
     "base_uri": "https://localhost:8080/"
    },
    "id": "8prwqF0AKZRj",
    "outputId": "284b5320-c112-4dfa-e815-b7d9fe5c26ec"
   },
   "outputs": [
    {
     "name": "stdout",
     "output_type": "stream",
     "text": [
      "<class 'str'>\n"
     ]
    }
   ],
   "source": [
    "p = \"python 100 200 300 java\"\n",
    "print(type(p))"
   ]
  },
  {
   "cell_type": "code",
   "execution_count": 159,
   "metadata": {
    "colab": {
     "base_uri": "https://localhost:8080/"
    },
    "id": "0ymJK-vQKZE1",
    "outputId": "5df4460f-43d6-40ae-f97b-ac598dab72f4"
   },
   "outputs": [
    {
     "name": "stdout",
     "output_type": "stream",
     "text": [
      "['p', 'y', 't', 'h', 'o', 'n', ' ', '1', '0', '0', ' ', '2', '0', '0', ' ', '3', '0', '0', ' ', 'j', 'a', 'v', 'a']\n",
      "('p', 'y', 't', 'h', 'o', 'n', ' ', '1', '0', '0', ' ', '2', '0', '0', ' ', '3', '0', '0', ' ', 'j', 'a', 'v', 'a')\n"
     ]
    }
   ],
   "source": [
    "l = list(p)\n",
    "print(l)\n",
    "\n",
    "t = tuple(p)\n",
    "print(t)"
   ]
  },
  {
   "cell_type": "code",
   "execution_count": 160,
   "metadata": {
    "colab": {
     "base_uri": "https://localhost:8080/"
    },
    "id": "ia1J5sBYLB2N",
    "outputId": "e601ec6e-2c59-4473-f199-6cfa8047bc40"
   },
   "outputs": [
    {
     "name": "stdout",
     "output_type": "stream",
     "text": [
      "['python', '100', '200', '300', 'java']\n"
     ]
    }
   ],
   "source": [
    "split = p.split(' ')\n",
    "print(split)"
   ]
  },
  {
   "cell_type": "code",
   "execution_count": 162,
   "metadata": {
    "colab": {
     "base_uri": "https://localhost:8080/"
    },
    "id": "fYEWbkKKLzFw",
    "outputId": "9a094992-a2de-4dc3-eb4e-ab7be8eba7d6"
   },
   "outputs": [
    {
     "name": "stdout",
     "output_type": "stream",
     "text": [
      "python\n",
      "100\n",
      "200\n",
      "300\n",
      "java\n"
     ]
    }
   ],
   "source": [
    "a,b,c,d,e = split\n",
    "print(a)\n",
    "print(b)\n",
    "print(c)\n",
    "print(d)\n",
    "print(e)"
   ]
  },
  {
   "cell_type": "code",
   "execution_count": 194,
   "metadata": {
    "colab": {
     "base_uri": "https://localhost:8080/"
    },
    "id": "gUTsbLD_L8kl",
    "outputId": "11548cbb-a93d-44e4-f136-e2d6a5f07f0e"
   },
   "outputs": [
    {
     "name": "stdout",
     "output_type": "stream",
     "text": [
      "['100', '200', '300']\n"
     ]
    }
   ],
   "source": [
    "split[0].isnumeric()\n",
    "numbers = []\n",
    "for i in split:\n",
    "    if i.isnumeric():\n",
    "       numbers.append(i)\n",
    "\n",
    "print(numbers)"
   ]
  },
  {
   "cell_type": "code",
   "execution_count": 188,
   "metadata": {
    "colab": {
     "base_uri": "https://localhost:8080/"
    },
    "id": "OYabQ0unNZ4m",
    "outputId": "76dfe72a-99dd-472f-9c49-011cdd9362b7"
   },
   "outputs": [
    {
     "name": "stdout",
     "output_type": "stream",
     "text": [
      "['100', '200', '300']\n"
     ]
    }
   ],
   "source": [
    "print(numbers)"
   ]
  },
  {
   "cell_type": "code",
   "execution_count": null,
   "metadata": {
    "id": "3EFqDgZQNZrW"
   },
   "outputs": [],
   "source": [
    ""
   ]
  },
  {
   "cell_type": "code",
   "execution_count": null,
   "metadata": {
    "id": "6AMRvae8NZfT"
   },
   "outputs": [],
   "source": [
    ""
   ]
  },
  {
   "cell_type": "code",
   "execution_count": null,
   "metadata": {
    "id": "ok58NAAbNZYU"
   },
   "outputs": [],
   "source": [
    ""
   ]
  }
 ],
 "metadata": {
  "colab": {
   "name": "STRING.ipynb",
   "provenance": []
  },
  "kernelspec": {
   "display_name": "Python 3",
   "name": "python3"
  },
  "language_info": {
   "name": "python"
  }
 },
 "nbformat": 4,
 "nbformat_minor": 0
}
