{
 "cells": [
  {
   "cell_type": "markdown",
   "id": "5b053027",
   "metadata": {},
   "source": [
    "# Machine Learning\n",
    "\n",
    "is a type of AI ( artificial inteligence ) that allows software application to become more accurate at pridicting outcome without being explicitly programmed to do so.\n",
    "\n",
    "\n",
    "### OLTP\n",
    "***Online Transaction processing***\n",
    "\n",
    "    ---> OLTP system captures and maintains transational data in the database.\n",
    "    ---> Contains operational current data.\n",
    "    ---> Each Transaction involves individual database record.\n",
    "    ---> Fast process.\n",
    "    ---> written and updated continously/frequently.\n",
    "    \n",
    "### OLAP\n",
    "***Online Analytics processing***\n",
    "\n",
    "    ---> Contains Historical data.\n",
    "    ---> Huge data size.\n",
    "    ---> Subject orieted data, used for data mining, Analytics, desicion making.\n",
    "    \n",
    "    \n",
    "### EDA\n",
    "***Exploratory Data Analytics***\n",
    "\n",
    "\n",
    "\n",
    "## Types of Machine Learning Algorithms\n",
    "\n",
    "    1. Supervised\n",
    "\n",
    "       a. Classification\n",
    "       b. Regration\n",
    "    \n",
    "    2. Unsupervised\n",
    "    \n",
    "       a. Clustering\n",
    "    \n",
    "    3. Reinforecment\n",
    "    \n",
    "       a. Self learning model\n",
    "       \n",
    "## Steps to ML\n",
    "\n",
    "    Step I) Finding Outliers\n",
    "        ---> Finding Exceptional/Wrongly entered values.\n",
    "        \n",
    "    Step II) Data Imputation\n",
    "        ---> Removing/Replacing Outliers and null values.\n",
    "        \n",
    "    Step III) Feature Selection\n",
    "        ---> Finding usefull features (columns)\n",
    "        \n",
    "    Step IV) Spliting DataSet into Training and Testing set"
   ]
  },
  {
   "cell_type": "code",
   "execution_count": null,
   "id": "8ccbd430",
   "metadata": {},
   "outputs": [],
   "source": []
  },
  {
   "cell_type": "code",
   "execution_count": null,
   "id": "fa98e6a7",
   "metadata": {},
   "outputs": [],
   "source": []
  },
  {
   "cell_type": "code",
   "execution_count": 1,
   "id": "dc39fb6a",
   "metadata": {},
   "outputs": [],
   "source": []
  },
  {
   "cell_type": "code",
   "execution_count": null,
   "id": "365d5d49",
   "metadata": {},
   "outputs": [],
   "source": []
  },
  {
   "cell_type": "code",
   "execution_count": null,
   "id": "ca2a0be4",
   "metadata": {},
   "outputs": [],
   "source": []
  },
  {
   "cell_type": "code",
   "execution_count": null,
   "id": "820c45a0",
   "metadata": {},
   "outputs": [],
   "source": []
  }
 ],
 "metadata": {
  "kernelspec": {
   "display_name": "Python 3",
   "language": "python",
   "name": "python3"
  },
  "language_info": {
   "codemirror_mode": {
    "name": "ipython",
    "version": 3
   },
   "file_extension": ".py",
   "mimetype": "text/x-python",
   "name": "python",
   "nbconvert_exporter": "python",
   "pygments_lexer": "ipython3",
   "version": "3.8.8"
  }
 },
 "nbformat": 4,
 "nbformat_minor": 5
}
