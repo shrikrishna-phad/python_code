{
 "cells": [
  {
   "cell_type": "markdown",
   "id": "5cbe6036",
   "metadata": {},
   "source": [
    "# Class\n",
    "\n",
    "1. Object\n",
    "2. Class\n",
    "3. Inheritance\n",
    "4. Polymorphism\n",
    "5. Abstraction\n",
    "6. Encapsulation\n",
    "\n",
    "***What is class?***\n",
    "\n",
    "---> Blueprint & Collection of Objects\n",
    "\n",
    "---> Once class is created we can create any number of objects\n",
    "\n",
    "\n",
    "***METHOD & FUNCTION***\n",
    "\n",
    "**Method** is a function which is defined into a class.\n",
    "\n",
    "**Function** is a function which is defined outside a class."
   ]
  },
  {
   "cell_type": "code",
   "execution_count": null,
   "id": "e4cf891d",
   "metadata": {},
   "outputs": [],
   "source": []
  },
  {
   "cell_type": "code",
   "execution_count": 3,
   "id": "59cf0239",
   "metadata": {},
   "outputs": [
    {
     "name": "stdout",
     "output_type": "stream",
     "text": [
      "john 56\n"
     ]
    }
   ],
   "source": [
    "class student:                       # Creation of class.\n",
    "    def __init__(self,n,a):          # Dendor method.\n",
    "        self.name = n                # Decleretion of objects (with self as a referance).\n",
    "        self.age = a\n",
    "        \n",
    "    def display(self):\n",
    "        print(self.name,self.age)\n",
    "        \n",
    "s1 = student('john',56)              # Object creation.\n",
    "s1.display()                         # Calling Method(function inside class)."
   ]
  },
  {
   "cell_type": "markdown",
   "id": "1aa0e1c5",
   "metadata": {},
   "source": [
    "    self \n",
    "         --> is just an ojbect referance\n",
    "\n",
    "    __init__ \n",
    "             --> is a constructor.\n",
    "             --> Gets automatically called on object creation.\n",
    "             --> also called as MAJIC METHOD\n",
    "                             or DENDOR METHOD"
   ]
  },
  {
   "cell_type": "code",
   "execution_count": 4,
   "id": "0ef92ece",
   "metadata": {},
   "outputs": [
    {
     "name": "stdout",
     "output_type": "stream",
     "text": [
      "10 40\n",
      "50\n"
     ]
    }
   ],
   "source": [
    "class test:\n",
    "    def __init__(self,a,b):\n",
    "        self.a = a\n",
    "        self.b = b\n",
    "        print(self.a,self.b)\n",
    "        print(self.a+self.b)\n",
    "        \n",
    "t1 = test(10,40) # __init__ got called automatically."
   ]
  },
  {
   "cell_type": "code",
   "execution_count": null,
   "id": "cf3513d6",
   "metadata": {},
   "outputs": [],
   "source": []
  },
  {
   "cell_type": "code",
   "execution_count": 8,
   "id": "6745bd15",
   "metadata": {},
   "outputs": [
    {
     "name": "stdout",
     "output_type": "stream",
     "text": [
      "loggedin successfully\n"
     ]
    }
   ],
   "source": [
    "class login:\n",
    "    def __init__(self,un,pa):\n",
    "        self.username = un\n",
    "        self.password = pa\n",
    "        \n",
    "    def check(self):\n",
    "        if self.username == 'admin':\n",
    "            if self.password == 'admin@123':\n",
    "                print('loggedin successfully')\n",
    "            else:\n",
    "                print('Incorrect password')\n",
    "        else:\n",
    "            print('incorrect username')\n",
    "            \n",
    "p = login('admin','admin@123')\n",
    "p.check()"
   ]
  },
  {
   "cell_type": "code",
   "execution_count": null,
   "id": "74639618",
   "metadata": {},
   "outputs": [],
   "source": []
  },
  {
   "cell_type": "code",
   "execution_count": 9,
   "id": "6cb63c5f",
   "metadata": {},
   "outputs": [
    {
     "name": "stdout",
     "output_type": "stream",
     "text": [
      "Enter your employee id: 101\n",
      "Enter your name: s\n",
      "enter your salary: 52000\n",
      "You are aligible for 30% i.e15600.0 hike\n",
      "Gross salary = \n",
      "                    67600.0\n",
      "Enter 'y' to enter another record, enter any other key to exity\n",
      "Enter your employee id: 102\n",
      "Enter your name: h\n",
      "enter your salary: 1200\n",
      "You are aligible for 10% i.e120.0 hike\n",
      "Gross salary = \n",
      "                   1320.0\n",
      "Enter 'y' to enter another record, enter any other key to exit2\n",
      "Thank you\n"
     ]
    }
   ],
   "source": [
    "class employee:\n",
    "    def __init__(self,id,name,salary):\n",
    "        self.id = id\n",
    "        self.name = name\n",
    "        self.salary = salary\n",
    "        \n",
    "    def bonouscal(self):\n",
    "        if self.salary >= 50000:\n",
    "            self.bonous30 = self.salary*0.30\n",
    "            print(f'''You are aligible for 30% i.e{self.bonous30} hike\\nGross salary = \n",
    "                   ''', self.salary+self.bonous30)\n",
    "        else:\n",
    "            self.bonous10 = self.salary*0.10\n",
    "            print(f'''You are aligible for 10% i.e{self.bonous10} hike\\nGross salary = \n",
    "                  ''', self.salary+self.bonous10)\n",
    "            \n",
    "flag = True\n",
    "while flag:\n",
    "    a = [int(input(\"Enter your employee id: \")), input(\"Enter your name: \"), \n",
    "         int(input(\"enter your salary: \"))]\n",
    "    \n",
    "    emp = employee(a[0],a[1],a[2])\n",
    "    emp.bonouscal()\n",
    "    \n",
    "    f = input(\"Enter 'y' to enter another record, enter any other key to exit\")\n",
    "    if f == 'y':\n",
    "        flag = True\n",
    "        continue\n",
    "    else:\n",
    "        break\n",
    "\n",
    "print(\"Thank you\")"
   ]
  },
  {
   "cell_type": "code",
   "execution_count": null,
   "id": "30aad017",
   "metadata": {},
   "outputs": [],
   "source": []
  },
  {
   "cell_type": "markdown",
   "id": "27d60b04",
   "metadata": {},
   "source": [
    "# Variables\n",
    "\n",
    "1. Instance variable\n",
    "2. Static variable / Class Variable\n",
    "3. Local variable\n",
    "\n",
    "**Instance Variable**\n",
    "\n",
    "---> Variable which are defined in an instance method (function) in a class.\n",
    "\n",
    "---> Defined with *self.variable_name*\n",
    "\n",
    "---> Value of these Variable changes from instance to instance.\n",
    "\n",
    "---> Can call variable throughout class with *self.variable_name*\n",
    "\n",
    "\n",
    "\n",
    "**Static variable / Class Variable**\n",
    "\n",
    "---> Variable which are defined in a class but outside instance method (function).\n",
    "\n",
    "---> Not With *self.variable_name*\n",
    "\n",
    "---> Value of these Variable remains constant throughout the class (from instance to instance).\n",
    "\n",
    "---> We could say that these are global variable for that perticular class.\n",
    "\n",
    "---> Can call variable throughout class without *class_name.variable_name*\n",
    "\n",
    "\n",
    "\n",
    "**Local Variable**\n",
    "\n",
    "---> Variable which are defined in an instance method (function) in a class.\n",
    "\n",
    "---> Not With *self.*\n",
    "\n",
    "---> These are just usefull in that perticular instance.\n",
    "\n",
    "---> can't call these variable in other instance."
   ]
  },
  {
   "cell_type": "code",
   "execution_count": 3,
   "id": "f9e3007f",
   "metadata": {},
   "outputs": [
    {
     "name": "stdout",
     "output_type": "stream",
     "text": [
      "john\n",
      "56\n",
      "python\n",
      "name =  john\n",
      "age =  56\n",
      "python\n",
      "rohan\n",
      "48\n",
      "python\n",
      "name =  rohan\n",
      "age =  48\n",
      "python\n"
     ]
    }
   ],
   "source": [
    "class student:\n",
    "    cource_name = 'python'\n",
    "    def __init__(self,name,age):\n",
    "        self.name = name\n",
    "        self.age = age\n",
    "        \n",
    "    def display(self):\n",
    "        print(self.name)\n",
    "        print(self.age)\n",
    "        print(student.cource_name)\n",
    "        \n",
    "    def show(self):\n",
    "        print('name = ', self.name)\n",
    "        print('age = ', self.age)\n",
    "        print(student.cource_name)\n",
    "        \n",
    "        \n",
    "s1 = student('john',56)\n",
    "s1.display()\n",
    "s1.show()\n",
    "\n",
    "s2 = student('rohan',48)\n",
    "s2.display()\n",
    "s2.show()\n"
   ]
  },
  {
   "cell_type": "code",
   "execution_count": null,
   "id": "d728df37",
   "metadata": {},
   "outputs": [],
   "source": []
  },
  {
   "cell_type": "markdown",
   "id": "2363628e",
   "metadata": {},
   "source": [
    "***We Can call Variables defined in class outside of class also***"
   ]
  },
  {
   "cell_type": "code",
   "execution_count": 4,
   "id": "6399fa45",
   "metadata": {},
   "outputs": [
    {
     "data": {
      "text/plain": [
       "'python'"
      ]
     },
     "execution_count": 4,
     "metadata": {},
     "output_type": "execute_result"
    }
   ],
   "source": [
    "student.cource_name"
   ]
  },
  {
   "cell_type": "code",
   "execution_count": 6,
   "id": "d56fc411",
   "metadata": {},
   "outputs": [
    {
     "data": {
      "text/plain": [
       "'john'"
      ]
     },
     "execution_count": 6,
     "metadata": {},
     "output_type": "execute_result"
    }
   ],
   "source": [
    "s1.name"
   ]
  },
  {
   "cell_type": "code",
   "execution_count": 7,
   "id": "9d24369e",
   "metadata": {},
   "outputs": [
    {
     "data": {
      "text/plain": [
       "56"
      ]
     },
     "execution_count": 7,
     "metadata": {},
     "output_type": "execute_result"
    }
   ],
   "source": [
    "s1.age"
   ]
  },
  {
   "cell_type": "code",
   "execution_count": 8,
   "id": "d131c177",
   "metadata": {},
   "outputs": [
    {
     "data": {
      "text/plain": [
       "48"
      ]
     },
     "execution_count": 8,
     "metadata": {},
     "output_type": "execute_result"
    }
   ],
   "source": [
    "s2.age"
   ]
  },
  {
   "cell_type": "code",
   "execution_count": 9,
   "id": "c04d1a9a",
   "metadata": {},
   "outputs": [
    {
     "data": {
      "text/plain": [
       "'rohan'"
      ]
     },
     "execution_count": 9,
     "metadata": {},
     "output_type": "execute_result"
    }
   ],
   "source": [
    "s2.name"
   ]
  },
  {
   "cell_type": "code",
   "execution_count": null,
   "id": "b069144b",
   "metadata": {},
   "outputs": [],
   "source": []
  },
  {
   "cell_type": "markdown",
   "id": "00a9ac15",
   "metadata": {},
   "source": [
    "# Methods\n",
    "\n",
    "1. Instance Method\n",
    "2. Class Method\n",
    "3. Static Method\n",
    "\n",
    "\n",
    "1. ***INSTANCE METHOD***\n",
    "\n",
    "---> Uses instance variable.\n",
    "\n",
    "---> In this value of variables(instance variables) changes from instance to instance.\n",
    "\n",
    "---> *Does not need any decorator*.\n",
    "\n",
    "---> Instance method has *self* parameter.\n",
    "\n",
    "2. ***CLASS METHOD***\n",
    "\n",
    "---> Uses class variable. Recomended way to do operations on class variable.\n",
    "\n",
    "---> Value of class variable does not change from method to method unless done an specific action.\n",
    "\n",
    "---> Needs system defined (inbuild) decorator *@classmethod*\n",
    "\n",
    "---> Class method has *cls* parameter.\n",
    "\n",
    "3. ***STATIC METHOD***\n",
    "\n",
    "---> Uses local variable.\n",
    "\n",
    "---> Variable can't be accessed outside method.\n",
    "\n",
    "---> Needs system defined (inbuild) decorator *@staticmethod*.\n",
    "\n",
    "---> Static method has no pre-defined parameters."
   ]
  },
  {
   "cell_type": "code",
   "execution_count": null,
   "id": "61f91c10",
   "metadata": {},
   "outputs": [],
   "source": []
  },
  {
   "cell_type": "code",
   "execution_count": 8,
   "id": "cb717a16",
   "metadata": {},
   "outputs": [],
   "source": [
    "class EmpolyeeBonus:\n",
    "    Company_name = 'IBM'\n",
    "    def __init__(self,name,age,sal):\n",
    "        self.name = name\n",
    "        self.age = age\n",
    "        self.sal = sal\n",
    "        \n",
    "    def show(self):\n",
    "        print(self.bonus+self.sal)\n",
    "        \n",
    "    def bonuscal(self):\n",
    "        self.bonus = self.sal*0.5\n",
    "        self.show()\n",
    "        \n",
    "    @classmethod\n",
    "    def company(cls):\n",
    "        print(cls.Company_name)\n",
    "        print(EmpolyeeBonus.Company_name)\n",
    "        \n",
    "    @staticmethod\n",
    "    def cal(x,y):\n",
    "        print(x+y)"
   ]
  },
  {
   "cell_type": "code",
   "execution_count": null,
   "id": "2bc8ce59",
   "metadata": {
    "collapsed": true
   },
   "outputs": [],
   "source": []
  },
  {
   "cell_type": "code",
   "execution_count": 9,
   "id": "5a7b038b",
   "metadata": {},
   "outputs": [],
   "source": [
    "obj = EmpolyeeBonus('sdp',29,50000)"
   ]
  },
  {
   "cell_type": "code",
   "execution_count": 10,
   "id": "33dd8293",
   "metadata": {},
   "outputs": [
    {
     "name": "stdout",
     "output_type": "stream",
     "text": [
      "75000.0\n"
     ]
    }
   ],
   "source": [
    "obj.bonuscal()"
   ]
  },
  {
   "cell_type": "code",
   "execution_count": 12,
   "id": "79ecd700",
   "metadata": {},
   "outputs": [
    {
     "name": "stdout",
     "output_type": "stream",
     "text": [
      "75000.0\n"
     ]
    }
   ],
   "source": [
    "obj.show()"
   ]
  },
  {
   "cell_type": "code",
   "execution_count": 14,
   "id": "bb7dbcd8",
   "metadata": {},
   "outputs": [
    {
     "name": "stdout",
     "output_type": "stream",
     "text": [
      "30\n"
     ]
    }
   ],
   "source": [
    "obj.cal(10,20)"
   ]
  },
  {
   "cell_type": "code",
   "execution_count": 15,
   "id": "ab82a01f",
   "metadata": {},
   "outputs": [
    {
     "name": "stdout",
     "output_type": "stream",
     "text": [
      "IBM\n",
      "IBM\n"
     ]
    }
   ],
   "source": [
    "obj.company()"
   ]
  },
  {
   "cell_type": "code",
   "execution_count": null,
   "id": "bf768772",
   "metadata": {},
   "outputs": [],
   "source": []
  },
  {
   "cell_type": "markdown",
   "id": "7d76fc83",
   "metadata": {},
   "source": [
    "# Inner Class\n",
    "\n",
    "---> Class inside other class.\n",
    "\n",
    "---> Can not open inner untill we make object of outer class.\n",
    "\n",
    "---> "
   ]
  },
  {
   "cell_type": "code",
   "execution_count": null,
   "id": "d449daa4",
   "metadata": {},
   "outputs": [],
   "source": []
  },
  {
   "cell_type": "code",
   "execution_count": 2,
   "id": "b3446e71",
   "metadata": {},
   "outputs": [],
   "source": [
    "class Company:\n",
    "    def __init__(self):\n",
    "        print(\"in company class\")\n",
    "        \n",
    "        \n",
    "    class Employee:\n",
    "        def __init__(self,name,sal):\n",
    "            self.name = name\n",
    "            self.sal = sal\n",
    "        \n",
    "        def show(self):\n",
    "            print(self.name,self.sal)"
   ]
  },
  {
   "cell_type": "code",
   "execution_count": 4,
   "id": "2cb9fb68",
   "metadata": {},
   "outputs": [
    {
     "ename": "NameError",
     "evalue": "name 'Employee' is not defined",
     "output_type": "error",
     "traceback": [
      "\u001b[1;31m---------------------------------------------------------------------------\u001b[0m",
      "\u001b[1;31mNameError\u001b[0m                                 Traceback (most recent call last)",
      "\u001b[1;32m<ipython-input-4-385dee1a622f>\u001b[0m in \u001b[0;36m<module>\u001b[1;34m\u001b[0m\n\u001b[1;32m----> 1\u001b[1;33m \u001b[0mobj\u001b[0m\u001b[1;33m=\u001b[0m \u001b[0mEmployee\u001b[0m\u001b[1;33m(\u001b[0m\u001b[1;33m)\u001b[0m\u001b[1;33m\u001b[0m\u001b[1;33m\u001b[0m\u001b[0m\n\u001b[0m",
      "\u001b[1;31mNameError\u001b[0m: name 'Employee' is not defined"
     ]
    }
   ],
   "source": [
    "obj= Employee()"
   ]
  },
  {
   "cell_type": "code",
   "execution_count": 5,
   "id": "b512d6d3",
   "metadata": {},
   "outputs": [
    {
     "name": "stdout",
     "output_type": "stream",
     "text": [
      "in company class\n"
     ]
    }
   ],
   "source": [
    "obj = Company()"
   ]
  },
  {
   "cell_type": "code",
   "execution_count": 8,
   "id": "7d0141e0",
   "metadata": {},
   "outputs": [],
   "source": [
    "obj2 = obj.Employee('asd',125)"
   ]
  },
  {
   "cell_type": "code",
   "execution_count": 9,
   "id": "4a55a9a5",
   "metadata": {},
   "outputs": [
    {
     "name": "stdout",
     "output_type": "stream",
     "text": [
      "asd 125\n"
     ]
    }
   ],
   "source": [
    "obj2.show()"
   ]
  },
  {
   "cell_type": "code",
   "execution_count": null,
   "id": "12467fc0",
   "metadata": {},
   "outputs": [],
   "source": []
  },
  {
   "cell_type": "code",
   "execution_count": null,
   "id": "5fa1850f",
   "metadata": {},
   "outputs": [],
   "source": []
  },
  {
   "cell_type": "code",
   "execution_count": null,
   "id": "11a6fa89",
   "metadata": {},
   "outputs": [],
   "source": []
  },
  {
   "cell_type": "code",
   "execution_count": null,
   "id": "4c71df9c",
   "metadata": {},
   "outputs": [],
   "source": []
  },
  {
   "cell_type": "code",
   "execution_count": null,
   "id": "1d75e69e",
   "metadata": {},
   "outputs": [],
   "source": []
  },
  {
   "cell_type": "code",
   "execution_count": null,
   "id": "be6fe37d",
   "metadata": {},
   "outputs": [],
   "source": []
  }
 ],
 "metadata": {
  "kernelspec": {
   "display_name": "Python 3",
   "language": "python",
   "name": "python3"
  },
  "language_info": {
   "codemirror_mode": {
    "name": "ipython",
    "version": 3
   },
   "file_extension": ".py",
   "mimetype": "text/x-python",
   "name": "python",
   "nbconvert_exporter": "python",
   "pygments_lexer": "ipython3",
   "version": "3.8.8"
  }
 },
 "nbformat": 4,
 "nbformat_minor": 5
}
