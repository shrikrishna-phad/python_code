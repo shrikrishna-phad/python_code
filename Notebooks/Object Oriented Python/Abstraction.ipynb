{
 "cells": [
  {
   "cell_type": "markdown",
   "id": "fb5d0523",
   "metadata": {},
   "source": [
    "# Abstraction\n",
    "\n",
    "---> Used to hide the internal functionality of function from user.\n",
    "\n",
    "---> It inhances security.\n",
    "\n",
    "---> Achieved in python by Inheriting \"Abstraction Based Class\"\n",
    "\n",
    "---> We can't create the object of abstract class.\n",
    "\n",
    "---> Provides guidance for project."
   ]
  },
  {
   "cell_type": "code",
   "execution_count": null,
   "id": "d33f072a",
   "metadata": {},
   "outputs": [],
   "source": []
  },
  {
   "cell_type": "code",
   "execution_count": 2,
   "id": "554558ed",
   "metadata": {},
   "outputs": [
    {
     "name": "stdout",
     "output_type": "stream",
     "text": [
      "In m1\n"
     ]
    }
   ],
   "source": [
    "from abc import *\n",
    "\n",
    "class Sample(ABC):\n",
    "    def m1(self):\n",
    "        print(\"In m1\")\n",
    "        \n",
    "obj = Sample()\n",
    "obj.m1()"
   ]
  },
  {
   "cell_type": "code",
   "execution_count": null,
   "id": "cc6c39bd",
   "metadata": {},
   "outputs": [],
   "source": []
  },
  {
   "cell_type": "code",
   "execution_count": 4,
   "id": "77948f6a",
   "metadata": {},
   "outputs": [
    {
     "ename": "TypeError",
     "evalue": "Can't instantiate abstract class Sample with abstract methods m1",
     "output_type": "error",
     "traceback": [
      "\u001b[1;31m---------------------------------------------------------------------------\u001b[0m",
      "\u001b[1;31mTypeError\u001b[0m                                 Traceback (most recent call last)",
      "\u001b[1;32m<ipython-input-4-3e6d989eb9be>\u001b[0m in \u001b[0;36m<module>\u001b[1;34m\u001b[0m\n\u001b[0;32m      6\u001b[0m         \u001b[0mprint\u001b[0m\u001b[1;33m(\u001b[0m\u001b[1;34m\"In m1\"\u001b[0m\u001b[1;33m)\u001b[0m\u001b[1;33m\u001b[0m\u001b[1;33m\u001b[0m\u001b[0m\n\u001b[0;32m      7\u001b[0m \u001b[1;33m\u001b[0m\u001b[0m\n\u001b[1;32m----> 8\u001b[1;33m \u001b[0mobj\u001b[0m \u001b[1;33m=\u001b[0m \u001b[0mSample\u001b[0m\u001b[1;33m(\u001b[0m\u001b[1;33m)\u001b[0m\u001b[1;33m\u001b[0m\u001b[1;33m\u001b[0m\u001b[0m\n\u001b[0m\u001b[0;32m      9\u001b[0m \u001b[0mobj\u001b[0m\u001b[1;33m.\u001b[0m\u001b[0mm1\u001b[0m\u001b[1;33m(\u001b[0m\u001b[1;33m)\u001b[0m\u001b[1;33m\u001b[0m\u001b[1;33m\u001b[0m\u001b[0m\n",
      "\u001b[1;31mTypeError\u001b[0m: Can't instantiate abstract class Sample with abstract methods m1"
     ]
    }
   ],
   "source": [
    "from abc import *\n",
    "\n",
    "class Sample(ABC):\n",
    "    @abstractmethod\n",
    "    def m1(self):\n",
    "        print(\"In m1\")\n",
    "        \n",
    "obj = Sample()\n",
    "obj.m1()"
   ]
  },
  {
   "cell_type": "code",
   "execution_count": null,
   "id": "a0795608",
   "metadata": {},
   "outputs": [],
   "source": []
  },
  {
   "cell_type": "markdown",
   "id": "345a7578",
   "metadata": {},
   "source": [
    "### ***Object Created because to make class a abstraction class there has to be at lest one abstract method in it.***\n",
    "\n",
    "To create abstract class.\n",
    "\n",
    "    1. Class should Inherit *ABC* (Abstract Base Class).\n",
    "\n",
    "    2. Class Should have at lest one abstract method.\n",
    "\n",
    "    3. To make method a abstract method we need to use inbuilt decorator *@abstractmethod*\n",
    "    \n",
    "    4. There should be atlest one executable method in calss."
   ]
  },
  {
   "cell_type": "code",
   "execution_count": null,
   "id": "71cdb163",
   "metadata": {},
   "outputs": [],
   "source": []
  },
  {
   "cell_type": "code",
   "execution_count": 7,
   "id": "e5dc7be7",
   "metadata": {},
   "outputs": [],
   "source": [
    "class Sample():\n",
    "    @abstractmethod\n",
    "    def add(self):\n",
    "        pass\n",
    "    @abstractmethod\n",
    "    def sub(self):\n",
    "        pass\n",
    "    \n",
    "obj = Sample()\n",
    "obj.add()\n",
    "obj.sub()"
   ]
  },
  {
   "cell_type": "code",
   "execution_count": 12,
   "id": "ed7755ff",
   "metadata": {},
   "outputs": [
    {
     "ename": "TypeError",
     "evalue": "Can't instantiate abstract class Sample with abstract methods add, sub",
     "output_type": "error",
     "traceback": [
      "\u001b[1;31m---------------------------------------------------------------------------\u001b[0m",
      "\u001b[1;31mTypeError\u001b[0m                                 Traceback (most recent call last)",
      "\u001b[1;32m<ipython-input-12-bb558a2f7675>\u001b[0m in \u001b[0;36m<module>\u001b[1;34m\u001b[0m\n\u001b[0;32m      7\u001b[0m         \u001b[0mprint\u001b[0m\u001b[1;33m(\u001b[0m\u001b[1;34m\"iii\"\u001b[0m\u001b[1;33m)\u001b[0m\u001b[1;33m\u001b[0m\u001b[1;33m\u001b[0m\u001b[0m\n\u001b[0;32m      8\u001b[0m \u001b[1;33m\u001b[0m\u001b[0m\n\u001b[1;32m----> 9\u001b[1;33m \u001b[0mobj\u001b[0m \u001b[1;33m=\u001b[0m \u001b[0mSample\u001b[0m\u001b[1;33m(\u001b[0m\u001b[1;33m)\u001b[0m\u001b[1;33m\u001b[0m\u001b[1;33m\u001b[0m\u001b[0m\n\u001b[0m\u001b[0;32m     10\u001b[0m \u001b[0mobj\u001b[0m\u001b[1;33m.\u001b[0m\u001b[0madd\u001b[0m\u001b[1;33m(\u001b[0m\u001b[1;33m)\u001b[0m\u001b[1;33m\u001b[0m\u001b[1;33m\u001b[0m\u001b[0m\n\u001b[0;32m     11\u001b[0m \u001b[0mobj\u001b[0m\u001b[1;33m.\u001b[0m\u001b[0msub\u001b[0m\u001b[1;33m(\u001b[0m\u001b[1;33m)\u001b[0m\u001b[1;33m\u001b[0m\u001b[1;33m\u001b[0m\u001b[0m\n",
      "\u001b[1;31mTypeError\u001b[0m: Can't instantiate abstract class Sample with abstract methods add, sub"
     ]
    }
   ],
   "source": [
    "class Sample(ABC):\n",
    "    @abstractmethod\n",
    "    def add(self):\n",
    "        pass\n",
    "    @abstractmethod\n",
    "    def sub(self):\n",
    "        print(\"iii\")\n",
    "    \n",
    "obj = Sample()\n",
    "obj.add()\n",
    "obj.sub()"
   ]
  },
  {
   "cell_type": "code",
   "execution_count": null,
   "id": "5778bdac",
   "metadata": {},
   "outputs": [],
   "source": []
  },
  {
   "cell_type": "code",
   "execution_count": null,
   "id": "f5adf94f",
   "metadata": {},
   "outputs": [],
   "source": []
  }
 ],
 "metadata": {
  "kernelspec": {
   "display_name": "Python 3",
   "language": "python",
   "name": "python3"
  },
  "language_info": {
   "codemirror_mode": {
    "name": "ipython",
    "version": 3
   },
   "file_extension": ".py",
   "mimetype": "text/x-python",
   "name": "python",
   "nbconvert_exporter": "python",
   "pygments_lexer": "ipython3",
   "version": "3.8.8"
  }
 },
 "nbformat": 4,
 "nbformat_minor": 5
}
