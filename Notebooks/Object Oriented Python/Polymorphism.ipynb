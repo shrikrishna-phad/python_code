{
 "cells": [
  {
   "cell_type": "markdown",
   "id": "db756b9e",
   "metadata": {},
   "source": [
    "# PolyMorphism\n",
    "\n",
    "***Poly          ---> Many / Multiple***\n",
    "\n",
    "***Morphism ---> Name/Form***\n",
    "\n",
    "---> Same Method can be used for miltiple things\n",
    "\n",
    "                                     TYPES\n",
    "    OVERLOADING                                     OVERRIDING\n",
    "    \n",
    "    1. Operator Overloading                        1. Method Overriding\n",
    "    2. Method Overloading                           2. Construction Overriding\n",
    "    3. Costruction Overloading\n",
    "    \n",
    "\n",
    "## DUNDER METHOD\n",
    "\n",
    "        OPERATIONS               OPERATORS               DUNDER METHOD\n",
    "     1. Addition                     +                      __add__\n",
    "     2. Substraction                 -                      __sub__\n",
    "     3. Multiplication               *                      __mul__\n",
    "     4. Division                     /                      __truediv__\n",
    "     5. Power                        **                     __pow__\n",
    "     6. Less-Than                    <                      __lt__\n",
    "     7. Greater-Than                 >                      __gt__\n",
    "     8. Less-Than Equal-to           <=                     __le__\n",
    "     9. Greater-Than Equal-to        >=                     __ge__\n",
    "    10. Equal to                     ==                     __eq__\n",
    "    11. Not Equal to                 !=                     __ne__\n",
    "    12. Floor Division               //                     __floordiv__\n",
    "    13. Modulus                      %                      __mod__"
   ]
  },
  {
   "cell_type": "code",
   "execution_count": null,
   "id": "54bc335a",
   "metadata": {},
   "outputs": [],
   "source": []
  },
  {
   "cell_type": "code",
   "execution_count": 32,
   "id": "565f46cd",
   "metadata": {},
   "outputs": [],
   "source": [
    "class Overload:\n",
    "    def __init__(self,a):\n",
    "        self.a = a\n",
    "        \n",
    "    def __add__(self,other):\n",
    "        return self.a + other.a\n",
    "    \n",
    "    def __sub__(self,other):\n",
    "        return self.a - other.a\n",
    "    \n",
    "    def __mul__(self,other):\n",
    "        return self.a * other.a\n",
    "    \n",
    "    def __truediv__(self,other):\n",
    "        return self.a / other.a\n",
    "    \n",
    "    def __pow__(self,other):\n",
    "        return self.a ** other.a\n",
    "    \n",
    "    def __lt__(self,other):\n",
    "        return self.a < other.a\n",
    "    \n",
    "    def __gt__(self,other):\n",
    "        return self.a > other.a\n",
    "    \n",
    "    def __le__(self,other):\n",
    "        return self.a <= other.a\n",
    "    \n",
    "    def __ge__(self,other):\n",
    "        return self.a >= other.a\n",
    "    \n",
    "    def __eq__(self,other):\n",
    "        return self.a == other.a\n",
    "    \n",
    "    def __ne__(self,other):\n",
    "        return self.a != other.a\n",
    "    \n",
    "    def __floordiv__(self,other):\n",
    "        return self.a // other.a\n",
    "    \n",
    "    def __mod__(self,other):\n",
    "        return self.a % other.a"
   ]
  },
  {
   "cell_type": "code",
   "execution_count": 33,
   "id": "45814ccb",
   "metadata": {},
   "outputs": [
    {
     "name": "stdout",
     "output_type": "stream",
     "text": [
      "Addition ::  103\n",
      "Substraction ::  97\n",
      "Multiplication ::  300\n",
      "Division ::  33.333333333333336\n",
      "Power ::  1000000\n",
      "Less Than ::  False\n",
      "Greater Than ::  True\n",
      "Less Than Equal to ::  False\n",
      "Greater Than Equal to ::  True\n",
      "Equal to ::  False\n",
      "Not Equal to ::  True\n",
      "Modulus ::  1\n",
      "Floor Division ::  33\n"
     ]
    }
   ],
   "source": [
    "obj1 = Overload(100)\n",
    "obj2 = Overload(3)\n",
    "\n",
    "print(\"Addition :: \", obj1 + obj2)\n",
    "print(\"Substraction :: \", obj1 - obj2)\n",
    "print(\"Multiplication :: \", obj1 * obj2)\n",
    "print(\"Division :: \", obj1 / obj2)\n",
    "print(\"Power :: \", obj1 ** obj2)\n",
    "print(\"Less Than :: \", obj1 < obj2)\n",
    "print(\"Greater Than :: \", obj1 > obj2)\n",
    "print(\"Less Than Equal to :: \", obj1 <= obj2)\n",
    "print(\"Greater Than Equal to :: \", obj1 >= obj2)\n",
    "print(\"Equal to :: \", obj1 == obj2)\n",
    "print(\"Not Equal to :: \", obj1 != obj2)\n",
    "print(\"Modulus :: \", obj1 % obj2)           # Works in Python PyCharm not in the notebook\n",
    "print(\"Floor Division :: \", obj1 // obj2)   # Works in Python PyCharm not in the notebook"
   ]
  },
  {
   "cell_type": "code",
   "execution_count": null,
   "id": "487e3749",
   "metadata": {},
   "outputs": [],
   "source": []
  },
  {
   "cell_type": "markdown",
   "id": "8cff8f04",
   "metadata": {},
   "source": [
    "# Method Overloading\n",
    "\n",
    "---> ***By default python takes the latest method***\n",
    "\n",
    "---> ***Method overloading is not possible in python*** Because python is *Dynamicaly typed* langauge."
   ]
  },
  {
   "cell_type": "code",
   "execution_count": null,
   "id": "55810f85",
   "metadata": {},
   "outputs": [],
   "source": []
  },
  {
   "cell_type": "code",
   "execution_count": 34,
   "id": "fb56dc9c",
   "metadata": {},
   "outputs": [],
   "source": [
    "class Test:\n",
    "    def show(self):\n",
    "        print('Show One')\n",
    "        \n",
    "    def show(self,a):\n",
    "        print('Show Two')\n",
    "        \n",
    "    def show(self,a,b):\n",
    "        print('Show Three')"
   ]
  },
  {
   "cell_type": "code",
   "execution_count": 35,
   "id": "aa1e9c16",
   "metadata": {},
   "outputs": [],
   "source": [
    "t = Test()"
   ]
  },
  {
   "cell_type": "code",
   "execution_count": 36,
   "id": "731aac70",
   "metadata": {},
   "outputs": [
    {
     "ename": "TypeError",
     "evalue": "show() missing 2 required positional arguments: 'a' and 'b'",
     "output_type": "error",
     "traceback": [
      "\u001b[1;31m---------------------------------------------------------------------------\u001b[0m",
      "\u001b[1;31mTypeError\u001b[0m                                 Traceback (most recent call last)",
      "\u001b[1;32m<ipython-input-36-e244f76da033>\u001b[0m in \u001b[0;36m<module>\u001b[1;34m\u001b[0m\n\u001b[1;32m----> 1\u001b[1;33m \u001b[0mt\u001b[0m\u001b[1;33m.\u001b[0m\u001b[0mshow\u001b[0m\u001b[1;33m(\u001b[0m\u001b[1;33m)\u001b[0m\u001b[1;33m\u001b[0m\u001b[1;33m\u001b[0m\u001b[0m\n\u001b[0m",
      "\u001b[1;31mTypeError\u001b[0m: show() missing 2 required positional arguments: 'a' and 'b'"
     ]
    }
   ],
   "source": [
    "t.show()"
   ]
  },
  {
   "cell_type": "code",
   "execution_count": 37,
   "id": "68535c00",
   "metadata": {},
   "outputs": [
    {
     "ename": "TypeError",
     "evalue": "show() missing 1 required positional argument: 'b'",
     "output_type": "error",
     "traceback": [
      "\u001b[1;31m---------------------------------------------------------------------------\u001b[0m",
      "\u001b[1;31mTypeError\u001b[0m                                 Traceback (most recent call last)",
      "\u001b[1;32m<ipython-input-37-1a1acaaed079>\u001b[0m in \u001b[0;36m<module>\u001b[1;34m\u001b[0m\n\u001b[1;32m----> 1\u001b[1;33m \u001b[0mt\u001b[0m\u001b[1;33m.\u001b[0m\u001b[0mshow\u001b[0m\u001b[1;33m(\u001b[0m\u001b[1;36m10\u001b[0m\u001b[1;33m)\u001b[0m\u001b[1;33m\u001b[0m\u001b[1;33m\u001b[0m\u001b[0m\n\u001b[0m",
      "\u001b[1;31mTypeError\u001b[0m: show() missing 1 required positional argument: 'b'"
     ]
    }
   ],
   "source": [
    "t.show(10)"
   ]
  },
  {
   "cell_type": "code",
   "execution_count": 38,
   "id": "0c9ed79c",
   "metadata": {},
   "outputs": [
    {
     "name": "stdout",
     "output_type": "stream",
     "text": [
      "Show Three\n"
     ]
    }
   ],
   "source": [
    "t.show(10,20)"
   ]
  },
  {
   "cell_type": "code",
   "execution_count": null,
   "id": "61b6d502",
   "metadata": {},
   "outputs": [],
   "source": []
  },
  {
   "cell_type": "markdown",
   "id": "7f780a71",
   "metadata": {},
   "source": [
    "***This is not over loading but if we want to make method which can take number of arguments we can pass a default values***"
   ]
  },
  {
   "cell_type": "code",
   "execution_count": 39,
   "id": "4d0c4662",
   "metadata": {},
   "outputs": [
    {
     "name": "stdout",
     "output_type": "stream",
     "text": [
      "0\n",
      "10\n",
      "30\n",
      "60\n"
     ]
    }
   ],
   "source": [
    "class Test:\n",
    "    def show(self,a=0,b=0,c=0):\n",
    "        print(a+b+c)\n",
    "        \n",
    "t = Test()\n",
    "t.show()\n",
    "t.show(10)\n",
    "t.show(10,20)\n",
    "t.show(10,20,30)"
   ]
  },
  {
   "cell_type": "code",
   "execution_count": null,
   "id": "bd7155b4",
   "metadata": {},
   "outputs": [],
   "source": []
  },
  {
   "cell_type": "markdown",
   "id": "cb30ca86",
   "metadata": {},
   "source": [
    "# Construction Overloading\n",
    "\n",
    "---> ***By default python takes the latest Construction***\n",
    "\n",
    "---> ***Construction overloading is not possible in python*** Because python is *Dynamicaly typed* langauge."
   ]
  },
  {
   "cell_type": "code",
   "execution_count": 40,
   "id": "a38c94ab",
   "metadata": {},
   "outputs": [],
   "source": [
    "class Test:\n",
    "    def __init__(self):\n",
    "        print(\"In init 1\")\n",
    "        \n",
    "    def __init__(self,a):\n",
    "        print(\"In init 2\")"
   ]
  },
  {
   "cell_type": "code",
   "execution_count": 41,
   "id": "2621f2c2",
   "metadata": {},
   "outputs": [
    {
     "ename": "TypeError",
     "evalue": "__init__() missing 1 required positional argument: 'a'",
     "output_type": "error",
     "traceback": [
      "\u001b[1;31m---------------------------------------------------------------------------\u001b[0m",
      "\u001b[1;31mTypeError\u001b[0m                                 Traceback (most recent call last)",
      "\u001b[1;32m<ipython-input-41-72dd69f18cf1>\u001b[0m in \u001b[0;36m<module>\u001b[1;34m\u001b[0m\n\u001b[1;32m----> 1\u001b[1;33m \u001b[0mt1\u001b[0m \u001b[1;33m=\u001b[0m \u001b[0mTest\u001b[0m\u001b[1;33m(\u001b[0m\u001b[1;33m)\u001b[0m\u001b[1;33m\u001b[0m\u001b[1;33m\u001b[0m\u001b[0m\n\u001b[0m",
      "\u001b[1;31mTypeError\u001b[0m: __init__() missing 1 required positional argument: 'a'"
     ]
    }
   ],
   "source": [
    "t1 = Test()"
   ]
  },
  {
   "cell_type": "code",
   "execution_count": 42,
   "id": "cf54bfb3",
   "metadata": {},
   "outputs": [
    {
     "name": "stdout",
     "output_type": "stream",
     "text": [
      "In init 2\n"
     ]
    }
   ],
   "source": [
    "t2 = Test(10)"
   ]
  },
  {
   "cell_type": "code",
   "execution_count": null,
   "id": "ef268a69",
   "metadata": {},
   "outputs": [],
   "source": []
  },
  {
   "cell_type": "markdown",
   "id": "786c78dc",
   "metadata": {},
   "source": [
    "# Overriding\n",
    "\n",
    "\n",
    "---> ***Method & Construction overloading are not possible in python***\n",
    "\n",
    "---> ***Because python is Dynamically typed langauge***"
   ]
  },
  {
   "cell_type": "code",
   "execution_count": 45,
   "id": "e02806da",
   "metadata": {},
   "outputs": [
    {
     "name": "stdout",
     "output_type": "stream",
     "text": [
      "In Test1 init\n",
      "In Test1 m1\n"
     ]
    }
   ],
   "source": [
    "class Test:\n",
    "    def __init__(self):\n",
    "        print(\"In Test init\")\n",
    "        \n",
    "    def m1(self):\n",
    "        print(\"In Test m1\")\n",
    "        \n",
    "class Test1(Test):\n",
    "    def __init__(self):\n",
    "        print(\"In Test1 init\")\n",
    "\n",
    "    def m1(self):\n",
    "        print(\"In Test1 m1\")\n",
    "\n",
    "obj = Test1()\n",
    "obj.m1()\n"
   ]
  },
  {
   "cell_type": "code",
   "execution_count": null,
   "id": "190e8dae",
   "metadata": {},
   "outputs": [],
   "source": []
  }
 ],
 "metadata": {
  "kernelspec": {
   "display_name": "Python 3",
   "language": "python",
   "name": "python3"
  },
  "language_info": {
   "codemirror_mode": {
    "name": "ipython",
    "version": 3
   },
   "file_extension": ".py",
   "mimetype": "text/x-python",
   "name": "python",
   "nbconvert_exporter": "python",
   "pygments_lexer": "ipython3",
   "version": "3.8.8"
  }
 },
 "nbformat": 4,
 "nbformat_minor": 5
}
