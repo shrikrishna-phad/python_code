{
 "cells": [
  {
   "cell_type": "markdown",
   "id": "a8cf7e49",
   "metadata": {},
   "source": [
    "### 1. Public Variable\n",
    "\n",
    "---> To create public variable we just need to declear variable like normal.\n",
    "\n",
    "---> By default all variables are public access variables unless decleared otherwise.\n",
    "\n",
    "---> Easily accessible for public (Everybody)\n",
    "\n",
    "ex. a = 100\n",
    "\n",
    "### 2. Protected Variable\n",
    "\n",
    "---> To create protected variable we need to declear variable by puting one underscore '_' before variable name.\n",
    "\n",
    "---> Only accessible to a class it is decleared in and to a class derived from it (Inherit the class in which the variable is defined).\n",
    "\n",
    "ex. _a = 100\n",
    "\n",
    "### 2. Private Variable\n",
    "\n",
    "---> To create private variable we need to declear variable by puting two underscores '__' before variable name.\n",
    "\n",
    "---> Only accessible to a class it is decleared in.\n",
    "\n",
    "ex. __a = 100\n"
   ]
  },
  {
   "cell_type": "code",
   "execution_count": null,
   "id": "e6259109",
   "metadata": {},
   "outputs": [],
   "source": []
  },
  {
   "cell_type": "markdown",
   "id": "6ffa749f",
   "metadata": {},
   "source": [
    "***Name Mangling ---> Technique to access private members of class outside class***"
   ]
  },
  {
   "cell_type": "code",
   "execution_count": null,
   "id": "1dcbb659",
   "metadata": {},
   "outputs": [],
   "source": []
  },
  {
   "cell_type": "code",
   "execution_count": 6,
   "id": "1f76f2a3",
   "metadata": {},
   "outputs": [],
   "source": [
    "class Employee:\n",
    "    company_name = 'IBM'  # ---> Public Variable\n",
    "    _Location = 'Pune'    # ---> Protected Variable\n",
    "    __Salary = 75000      # ---> Private Variable\n",
    "    \n",
    "    def show(self):\n",
    "        print(Employee.company_name)\n",
    "        print(Employee._Location)\n",
    "        print(Employee.__Salary)"
   ]
  },
  {
   "cell_type": "code",
   "execution_count": 7,
   "id": "44497583",
   "metadata": {},
   "outputs": [
    {
     "name": "stdout",
     "output_type": "stream",
     "text": [
      "IBM\n",
      "Pune\n",
      "75000\n"
     ]
    }
   ],
   "source": [
    "obj = Employee()\n",
    "obj.show()"
   ]
  },
  {
   "cell_type": "code",
   "execution_count": 5,
   "id": "dd9f4521",
   "metadata": {},
   "outputs": [
    {
     "name": "stdout",
     "output_type": "stream",
     "text": [
      "IBM\n",
      "Pune\n"
     ]
    },
    {
     "ename": "AttributeError",
     "evalue": "type object 'Employee' has no attribute '__Salary'",
     "output_type": "error",
     "traceback": [
      "\u001b[1;31m---------------------------------------------------------------------------\u001b[0m",
      "\u001b[1;31mAttributeError\u001b[0m                            Traceback (most recent call last)",
      "\u001b[1;32m<ipython-input-5-e51311e11d11>\u001b[0m in \u001b[0;36m<module>\u001b[1;34m\u001b[0m\n\u001b[0;32m      1\u001b[0m \u001b[0mprint\u001b[0m\u001b[1;33m(\u001b[0m\u001b[0mEmployee\u001b[0m\u001b[1;33m.\u001b[0m\u001b[0mcompany_name\u001b[0m\u001b[1;33m)\u001b[0m \u001b[1;31m# Executed successfully\u001b[0m\u001b[1;33m\u001b[0m\u001b[1;33m\u001b[0m\u001b[0m\n\u001b[0;32m      2\u001b[0m \u001b[0mprint\u001b[0m\u001b[1;33m(\u001b[0m\u001b[0mEmployee\u001b[0m\u001b[1;33m.\u001b[0m\u001b[0m_Location\u001b[0m\u001b[1;33m)\u001b[0m    \u001b[1;31m# Executed successfully\u001b[0m\u001b[1;33m\u001b[0m\u001b[1;33m\u001b[0m\u001b[0m\n\u001b[1;32m----> 3\u001b[1;33m \u001b[0mprint\u001b[0m\u001b[1;33m(\u001b[0m\u001b[0mEmployee\u001b[0m\u001b[1;33m.\u001b[0m\u001b[0m__Salary\u001b[0m\u001b[1;33m)\u001b[0m     \u001b[1;31m# AttributeError: type object 'Employee' has no attribute '__Salary'\u001b[0m\u001b[1;33m\u001b[0m\u001b[1;33m\u001b[0m\u001b[0m\n\u001b[0m",
      "\u001b[1;31mAttributeError\u001b[0m: type object 'Employee' has no attribute '__Salary'"
     ]
    }
   ],
   "source": [
    "print(Employee.company_name) # Executed successfully\n",
    "print(Employee._Location)    # Executed successfully\n",
    "print(Employee.__Salary)     # AttributeError: type object 'Employee' has no attribute '__Salary'"
   ]
  },
  {
   "cell_type": "code",
   "execution_count": null,
   "id": "b0b16b74",
   "metadata": {},
   "outputs": [],
   "source": []
  }
 ],
 "metadata": {
  "kernelspec": {
   "display_name": "Python 3",
   "language": "python",
   "name": "python3"
  },
  "language_info": {
   "codemirror_mode": {
    "name": "ipython",
    "version": 3
   },
   "file_extension": ".py",
   "mimetype": "text/x-python",
   "name": "python",
   "nbconvert_exporter": "python",
   "pygments_lexer": "ipython3",
   "version": "3.8.8"
  }
 },
 "nbformat": 4,
 "nbformat_minor": 5
}
