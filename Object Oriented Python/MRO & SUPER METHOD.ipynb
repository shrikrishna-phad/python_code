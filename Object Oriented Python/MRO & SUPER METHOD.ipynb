{
 "cells": [
  {
   "attachments": {
    "MRO-2.png": {
     "image/png": "[encoded data removed]"
    }
   },
   "cell_type": "markdown",
   "id": "c6788748",
   "metadata": {},
   "source": [
    "# MRO\n",
    "\n",
    "***Method Resolution Order***\n",
    "\n",
    "---> It is the order in which python programming langauge resolve a method or attribute in case of inheritance.\n",
    "\n",
    "![MRO-2.png](attachment:MRO-2.png)\n",
    "\n",
    "---> In this method python always checks *Left* parent first.\n",
    "\n",
    "MRO(A) ---> A-->B-->D-->G-->H-->E-->C-->F-->I"
   ]
  },
  {
   "cell_type": "code",
   "execution_count": 1,
   "id": "a2375c9c",
   "metadata": {},
   "outputs": [
    {
     "name": "stdout",
     "output_type": "stream",
     "text": [
      "in A\n"
     ]
    }
   ],
   "source": [
    "class I:\n",
    "    def m1(self):\n",
    "        print(\"in I\")\n",
    "class H:\n",
    "    def m1(self):\n",
    "        print(\"in H\")\n",
    "class G:\n",
    "    def m1(self):\n",
    "        print(\"in G\")\n",
    "class F(I):\n",
    "    def m1(self):\n",
    "        print(\"in F\")\n",
    "class E:\n",
    "    def m1(self):\n",
    "        print(\"in E\")\n",
    "class D(G, H):\n",
    "    def m1(self):\n",
    "        print(\"in D\")\n",
    "class C(F):\n",
    "    def m1(self):\n",
    "        print(\"in C\")\n",
    "class B(D, E):\n",
    "    def m1(self):\n",
    "        print(\"in B\")\n",
    "class A(B, C):\n",
    "    def m1(self):\n",
    "        print(\"in A\")\n",
    "o = A()\n",
    "o.m1()"
   ]
  },
  {
   "cell_type": "code",
   "execution_count": null,
   "id": "3124a363",
   "metadata": {},
   "outputs": [],
   "source": []
  },
  {
   "cell_type": "markdown",
   "id": "db708f40",
   "metadata": {},
   "source": [
    "# SUPER METHOD\n",
    "\n",
    "---> If we want to access method.\n",
    "\n",
    "---> To access the methods and functionality of parent class or sibling class in child class.\n",
    "\n",
    "       1. __init__ method.\n",
    "       2. Method of same name.\n",
    "       3. Want to call method without creating object.       "
   ]
  },
  {
   "cell_type": "code",
   "execution_count": 3,
   "id": "53c7a0e2",
   "metadata": {},
   "outputs": [],
   "source": [
    "class A:\n",
    "    def __init__(self):\n",
    "        print(\"In init A\")\n",
    "    \n",
    "    def m1(self):\n",
    "        print(\"In m1 A\")\n",
    "        \n",
    "class B(A):\n",
    "    def __init__(self):\n",
    "        print(\"In init B\")\n",
    "    \n",
    "    def m1(self):\n",
    "        print(\"In m1 B\")\n",
    "        \n",
    "class C(B):\n",
    "    def __init__(self):\n",
    "        print(\"In init C\")\n",
    "    \n",
    "    def m1(self):\n",
    "        print(\"In m1 C\")"
   ]
  },
  {
   "cell_type": "code",
   "execution_count": 4,
   "id": "78c44734",
   "metadata": {},
   "outputs": [
    {
     "name": "stdout",
     "output_type": "stream",
     "text": [
      "In init C\n",
      "In m1 C\n"
     ]
    }
   ],
   "source": [
    "obj = C()\n",
    "obj.m1()"
   ]
  },
  {
   "cell_type": "code",
   "execution_count": null,
   "id": "95a4f109",
   "metadata": {},
   "outputs": [],
   "source": []
  },
  {
   "cell_type": "code",
   "execution_count": 16,
   "id": "edeb9ea2",
   "metadata": {},
   "outputs": [],
   "source": [
    "class A:\n",
    "    def __init__(self):\n",
    "        print(\"In init A\")\n",
    "    \n",
    "    def m1(self):\n",
    "        print(\"In m1 A\")\n",
    "        \n",
    "class B(A):\n",
    "    def __init__(self):\n",
    "        print(\"In init B\")\n",
    "    \n",
    "    def m1(self):\n",
    "        print(\"In m1 B\")\n",
    "        \n",
    "class C(B):\n",
    "    def __init__(self):\n",
    "        print(\"In init C\")\n",
    "    \n",
    "    def m1(self):\n",
    "        print(\"In m1 C\")\n",
    "        super().m1()\n",
    "        super().__init__()"
   ]
  },
  {
   "cell_type": "code",
   "execution_count": 17,
   "id": "7d03a78b",
   "metadata": {},
   "outputs": [
    {
     "name": "stdout",
     "output_type": "stream",
     "text": [
      "In init C\n",
      "In m1 C\n",
      "In m1 B\n",
      "In init B\n"
     ]
    }
   ],
   "source": [
    "obj = C()\n",
    "obj.m1()"
   ]
  },
  {
   "cell_type": "code",
   "execution_count": null,
   "id": "8e168732",
   "metadata": {},
   "outputs": [],
   "source": []
  },
  {
   "cell_type": "code",
   "execution_count": 20,
   "id": "baa7733d",
   "metadata": {},
   "outputs": [],
   "source": [
    "class A:\n",
    "    def __init__(self):\n",
    "        print(\"In init A\")\n",
    "    \n",
    "    def m1(self):\n",
    "        print(\"In m1 A\")\n",
    "        \n",
    "class B(A):\n",
    "    def __init__(self):\n",
    "        print(\"In init B\")\n",
    "    \n",
    "    def m1(self):\n",
    "        print(\"In m1 B\")\n",
    "        super().__init__()\n",
    "        super().m1()\n",
    "        \n",
    "class C(B):\n",
    "    def __init__(self):\n",
    "        print(\"In init C\")\n",
    "    \n",
    "    def m1(self):\n",
    "        print(\"In m1 C\")\n",
    "        super().m1()\n",
    "        super().__init__()"
   ]
  },
  {
   "cell_type": "code",
   "execution_count": 21,
   "id": "3975c4bd",
   "metadata": {},
   "outputs": [
    {
     "name": "stdout",
     "output_type": "stream",
     "text": [
      "In init C\n",
      "In m1 C\n",
      "In m1 B\n",
      "In init A\n",
      "In m1 A\n",
      "In init B\n"
     ]
    }
   ],
   "source": [
    "obj = C()\n",
    "obj.m1()"
   ]
  },
  {
   "cell_type": "code",
   "execution_count": null,
   "id": "e660e072",
   "metadata": {},
   "outputs": [],
   "source": []
  },
  {
   "cell_type": "code",
   "execution_count": 5,
   "id": "b53d2644",
   "metadata": {},
   "outputs": [
    {
     "name": "stdout",
     "output_type": "stream",
     "text": [
      "Arun\n",
      "56\n",
      "Male\n"
     ]
    }
   ],
   "source": [
    "class PersonalDetails:\n",
    "    def __init__(self,name,age):\n",
    "        self.name = name\n",
    "        self.age = age\n",
    "        \n",
    "    def m1(self):\n",
    "        print(self.name)\n",
    "        print(self.age)\n",
    "        \n",
    "        \n",
    "class AddDetails(PersonalDetails):\n",
    "    def __init__(self,name,age,gender):\n",
    "        super().__init__(name,age)\n",
    "        self.gender = gender\n",
    "        \n",
    "    def show(self):\n",
    "        super().m1()\n",
    "        print(self.gender)\n",
    "        \n",
    "        \n",
    "obj = AddDetails('Arun',56,'Male')\n",
    "obj.show()"
   ]
  },
  {
   "cell_type": "code",
   "execution_count": null,
   "id": "ac6a2299",
   "metadata": {},
   "outputs": [],
   "source": []
  },
  {
   "cell_type": "code",
   "execution_count": null,
   "id": "194c4165",
   "metadata": {},
   "outputs": [],
   "source": []
  },
  {
   "cell_type": "code",
   "execution_count": null,
   "id": "ba96cda5",
   "metadata": {},
   "outputs": [],
   "source": []
  },
  {
   "cell_type": "code",
   "execution_count": null,
   "id": "8fb9bb57",
   "metadata": {},
   "outputs": [],
   "source": []
  },
  {
   "cell_type": "code",
   "execution_count": null,
   "id": "1a51189f",
   "metadata": {},
   "outputs": [],
   "source": []
  },
  {
   "cell_type": "code",
   "execution_count": null,
   "id": "b8e5157a",
   "metadata": {},
   "outputs": [],
   "source": []
  },
  {
   "cell_type": "code",
   "execution_count": null,
   "id": "e3acc389",
   "metadata": {},
   "outputs": [],
   "source": []
  },
  {
   "cell_type": "code",
   "execution_count": null,
   "id": "c9ccc135",
   "metadata": {},
   "outputs": [],
   "source": []
  }
 ],
 "metadata": {
  "kernelspec": {
   "display_name": "Python 3",
   "language": "python",
   "name": "python3"
  },
  "language_info": {
   "codemirror_mode": {
    "name": "ipython",
    "version": 3
   },
   "file_extension": ".py",
   "mimetype": "text/x-python",
   "name": "python",
   "nbconvert_exporter": "python",
   "pygments_lexer": "ipython3",
   "version": "3.8.8"
  }
 },
 "nbformat": 4,
 "nbformat_minor": 5
}
