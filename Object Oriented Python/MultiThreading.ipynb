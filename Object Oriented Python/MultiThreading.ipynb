{
 "cells": [
  {
   "cell_type": "markdown",
   "id": "b597eb6d",
   "metadata": {},
   "source": [
    "# MultiThreading\n",
    "\n",
    "**Thread** ---> Thread is a Part of Process.\n",
    "\n",
    "---> By this method we can Execute multiple parts of the program at the same time(Simultenously)\n",
    "\n",
    "1. Process based Multithreading\n",
    "2. Thread based Multithreading\n",
    "\n",
    "-> It is light weight process.\n",
    "\n",
    "-> Only Independent Codes can be Compartmentalised and can be Execute that Thread successfully.\n",
    "\n",
    "-> There is always MainThread(inbuilt) that runs codes if any custom thread is not defined & If there is any code outside the defined thread/s that is also runned by MainThread.\n",
    "\n",
    "\n",
    "        Process            \n",
    "      -----------\n",
    "      ----Code---\n",
    "      -----------\n",
    "      Thread1\n",
    "                                  }- This perticular process has Three Threads\n",
    "      Thread2                        1. MainThread\n",
    "      -----------                    2. Thread1\n",
    "      ----Code---                    3. Thread2\n",
    "      -----------\n",
    "      \n",
    "***---> To do Multithreading we need to inherit Thread class from threading module***"
   ]
  },
  {
   "cell_type": "code",
   "execution_count": null,
   "id": "a1b3c523",
   "metadata": {},
   "outputs": [],
   "source": []
  },
  {
   "cell_type": "markdown",
   "id": "df42e21b",
   "metadata": {},
   "source": [
    "***There are three ways for creating threading***\n",
    "\n",
    "1. Creating thread without using any class.\n",
    "2. Creating thread by Extending thread class.\n",
    "3. Creating thread without Extending thread class."
   ]
  },
  {
   "cell_type": "markdown",
   "id": "5e9e5a13",
   "metadata": {},
   "source": [
    "### Multithreading Does not work in notebook"
   ]
  },
  {
   "cell_type": "markdown",
   "id": "f53bc9e5",
   "metadata": {},
   "source": [
    "**Creating thread without using any class**"
   ]
  },
  {
   "cell_type": "code",
   "execution_count": null,
   "id": "8ee17b5c",
   "metadata": {},
   "outputs": [],
   "source": []
  },
  {
   "cell_type": "code",
   "execution_count": 12,
   "id": "48e2e607",
   "metadata": {},
   "outputs": [
    {
     "name": "stdout",
     "output_type": "stream",
     "text": [
      "0\n",
      "110\n",
      "11\n",
      "12\n",
      "\n",
      "2\n",
      "3\n",
      "4\n",
      "5\n",
      "613\n",
      "14\n",
      "15\n",
      "16\n",
      "17\n",
      "18\n",
      "19\n",
      "20\n",
      "21\n",
      "\n",
      "7\n",
      "8\n",
      "9\n",
      "22\n",
      "23\n",
      "24\n",
      "25\n",
      "26\n",
      "27\n",
      "28\n",
      "29\n"
     ]
    }
   ],
   "source": [
    "from threading import *\n",
    "\n",
    "def show():\n",
    "    for i in range(0,10):\n",
    "        print(i)\n",
    "        \n",
    "t = Thread(target=show)\n",
    "t.start()\n",
    "\n",
    "for i in range(10,20):\n",
    "    print(i)\n",
    "    \n",
    "def display():\n",
    "    for i in range(20,30):\n",
    "        print(i)\n",
    "        \n",
    "t1 = Thread(target=display)\n",
    "t1.start()\n",
    "\n"
   ]
  },
  {
   "cell_type": "code",
   "execution_count": null,
   "id": "1647ffc4",
   "metadata": {},
   "outputs": [],
   "source": []
  },
  {
   "cell_type": "markdown",
   "id": "4b324299",
   "metadata": {},
   "source": [
    "***Creating thread by Extending thread class***\n",
    "\n",
    "---> Have to write the code we want to *Thread* in the inherited *Thread* class"
   ]
  },
  {
   "cell_type": "code",
   "execution_count": null,
   "id": "04b2e204",
   "metadata": {},
   "outputs": [],
   "source": []
  },
  {
   "cell_type": "code",
   "execution_count": 13,
   "id": "f7f8dccb",
   "metadata": {},
   "outputs": [
    {
     "name": "stdout",
     "output_type": "stream",
     "text": [
      "HI\n",
      "HI\n",
      "HI\n",
      "BYEHI\n",
      "HI\n",
      "BYE\n",
      "BYE\n",
      "BYE\n",
      "\n",
      "HI\n",
      "HI\n",
      "BYE\n",
      "HI\n",
      "HI\n",
      "HI\n",
      "BYE\n",
      "BYE\n",
      "BYE\n",
      "BYE\n",
      "BYE\n"
     ]
    }
   ],
   "source": [
    "from threading import *\n",
    "class TestTread(Thread):\n",
    "    def run(self):\n",
    "        for i in range(10):\n",
    "            print(\"HI\")\n",
    "            \n",
    "t = TestTread()\n",
    "t.start()\n",
    "\n",
    "for i in range(10):\n",
    "    print(\"BYE\")"
   ]
  },
  {
   "cell_type": "code",
   "execution_count": null,
   "id": "7b829d6d",
   "metadata": {},
   "outputs": [],
   "source": []
  },
  {
   "cell_type": "markdown",
   "id": "fd40eded",
   "metadata": {},
   "source": [
    "***Creating Thread by without Extending Thread class***\n",
    "\n"
   ]
  },
  {
   "cell_type": "code",
   "execution_count": 4,
   "id": "f5328cc8",
   "metadata": {},
   "outputs": [
    {
     "name": "stdout",
     "output_type": "stream",
     "text": [
      "Current Thread:: Thread-8\n",
      "Current Thread:: Thread-8\n",
      "Current Thread:: Current Thread:: MainThread\n",
      "Thread-8\n",
      "Current Thread:: Thread-8Current Thread:: MainThread\n",
      "Current Thread::\n",
      " MainThread\n",
      "Current Thread:: MainThread\n",
      "Current Thread:: MainThread\n",
      "Current Thread:: MainThread\n",
      "Current Thread:: MainThread\n",
      "Current Thread:: MainThread\n",
      "Current Thread:: MainThread\n",
      "Current Thread:: MainThreadCurrent Thread::\n",
      " Thread-8\n",
      "Current Thread:: Thread-8\n",
      "Current Thread:: Thread-8\n",
      "Current Thread:: Thread-8\n",
      "Current Thread:: Thread-8\n",
      "Current Thread:: Thread-8\n"
     ]
    }
   ],
   "source": [
    "import threading\n",
    "from threading import *\n",
    "class Test:\n",
    "    def sample(self):\n",
    "        for i in range(10):\n",
    "            print(\"Current Thread::\",threading.currentThread().getName())\n",
    "            \n",
    "obj = Test()\n",
    "t1 = Thread(target=obj.sample)\n",
    "t1.start()\n",
    "\n",
    "for i in range(10):\n",
    "    print(\"Current Thread::\",threading.currentThread().getName())"
   ]
  },
  {
   "cell_type": "code",
   "execution_count": 3,
   "id": "c743f573",
   "metadata": {},
   "outputs": [
    {
     "data": {
      "text/plain": [
       "'C:\\\\Users\\\\shrik\\\\Object Oriented Python'"
      ]
     },
     "execution_count": 3,
     "metadata": {},
     "output_type": "execute_result"
    }
   ],
   "source": [
    "pwd"
   ]
  },
  {
   "cell_type": "code",
   "execution_count": null,
   "id": "0d50f03f",
   "metadata": {},
   "outputs": [],
   "source": []
  },
  {
   "cell_type": "markdown",
   "id": "9619637b",
   "metadata": {},
   "source": [
    "# Join\n",
    "\n",
    "---> Join makes main thread wait for custom threads to exicute first. so as main thread executes at last.\n",
    "\n",
    "---> To Give parameters in thred we need give than in tuple."
   ]
  },
  {
   "cell_type": "code",
   "execution_count": null,
   "id": "81267aaa",
   "metadata": {},
   "outputs": [],
   "source": []
  },
  {
   "cell_type": "code",
   "execution_count": 8,
   "id": "deba6928",
   "metadata": {},
   "outputs": [
    {
     "name": "stdout",
     "output_type": "stream",
     "text": [
      "0\n",
      "1\n",
      "8\n",
      "27\n",
      "64\n",
      "125\n",
      "216\n",
      "343\n",
      "512\n",
      "729\n",
      "0\n",
      "1\n",
      "4\n",
      "9\n",
      "16\n",
      "25\n",
      "36\n",
      "49\n",
      "64\n",
      "81\n",
      "Total Time taken :: 20.16244387626648\n"
     ]
    }
   ],
   "source": [
    "import threading\n",
    "import time\n",
    "\n",
    "def cube(p):\n",
    "    for i in p:\n",
    "        time.sleep(1)\n",
    "        print(i**3)\n",
    "        \n",
    "def sqr(p):\n",
    "    for i in p:\n",
    "        time.sleep(1)\n",
    "        print(i**2)\n",
    "   \n",
    "n = list(range(10))\n",
    "\n",
    "Start_Time = time.time()\n",
    "cube(n)\n",
    "sqr(n)\n",
    "End_Time = time.time()\n",
    "\n",
    "Total_Time = (End_Time-Start_Time)\n",
    "\n",
    "print(\"Total Time taken ::\",Total_Time)"
   ]
  },
  {
   "cell_type": "code",
   "execution_count": null,
   "id": "00e0f179",
   "metadata": {},
   "outputs": [],
   "source": []
  },
  {
   "cell_type": "code",
   "execution_count": 9,
   "id": "ae9f9ff4",
   "metadata": {},
   "outputs": [
    {
     "name": "stdout",
     "output_type": "stream",
     "text": [
      "0\n",
      "0\n",
      "11\n",
      "\n",
      "8\n",
      "4\n",
      "279\n",
      "\n",
      "6416\n",
      "\n",
      "12525\n",
      "\n",
      "36216\n",
      "\n",
      "34349\n",
      "\n",
      "64512\n",
      "\n",
      "72981\n",
      "\n",
      "Total Time taken :: 10.08516526222229\n"
     ]
    }
   ],
   "source": [
    "import threading\n",
    "import time\n",
    "\n",
    "def cube(p):\n",
    "    for i in p:\n",
    "        time.sleep(1)\n",
    "        print(i**3)\n",
    "        \n",
    "def sqr(p):\n",
    "    for i in p:\n",
    "        time.sleep(1)\n",
    "        print(i**2)\n",
    "   \n",
    "n = list(range(10))\n",
    "\n",
    "Start_Time = time.time()\n",
    "# cube(n)\n",
    "# sqr(n)\n",
    "t1 = Thread(target=cube,args=(n,))  # To Give parameters in thred we need give than in tuple\n",
    "t2 = Thread(target=sqr,args=(n,))\n",
    "\n",
    "t1.start()\n",
    "t2.start()\n",
    "\n",
    "t1.join()  # Main Thread waits for join() thread executed.\n",
    "t2.join()  # Main Thread waits for join() thread executed.\n",
    "\n",
    "End_Time = time.time()\n",
    "\n",
    "Total_Time = (End_Time-Start_Time)\n",
    "\n",
    "print(\"Total Time taken ::\",Total_Time)"
   ]
  },
  {
   "cell_type": "code",
   "execution_count": null,
   "id": "ed804bfc",
   "metadata": {},
   "outputs": [],
   "source": []
  },
  {
   "cell_type": "code",
   "execution_count": 10,
   "id": "22705b35",
   "metadata": {},
   "outputs": [
    {
     "name": "stdout",
     "output_type": "stream",
     "text": [
      "0\n",
      "1\n",
      "4\n",
      "9\n",
      "16\n",
      "25\n",
      "36\n",
      "49\n",
      "64\n",
      "81\n",
      "0\n",
      "1\n",
      "8\n",
      "27\n",
      "64\n",
      "125\n",
      "216\n",
      "343\n",
      "512\n",
      "729\n",
      "Total Time taken :: 20.11986517906189\n"
     ]
    }
   ],
   "source": [
    "import threading\n",
    "import time\n",
    "\n",
    "\n",
    "class Thr(threading.Thread):\n",
    "    def __init__(self, p):\n",
    "        super().__init__()\n",
    "        self.p = p\n",
    "\n",
    "    def cube(self):\n",
    "        for i in self.p:\n",
    "            time.sleep(1)\n",
    "            print(i ** 3)\n",
    "\n",
    "    def sqr(self):\n",
    "        for i in self.p:\n",
    "            time.sleep(1)\n",
    "            print(i ** 2)\n",
    "\n",
    "\n",
    "\n",
    "n = list(range(10))\n",
    "\n",
    "Start_Time = time.time()\n",
    "# cube(n)\n",
    "# sqr(n)\n",
    "obj = Thr(n)\n",
    "obj.sqr()\n",
    "obj.cube()\n",
    "obj.start()\n",
    "obj.join()  # Main Thread waits for join() thread executed.\n",
    "\n",
    "End_Time = time.time()\n",
    "\n",
    "Total_Time = (End_Time - Start_Time)\n",
    "\n",
    "print(\"Total Time taken ::\", Total_Time)"
   ]
  },
  {
   "cell_type": "code",
   "execution_count": null,
   "id": "7e898afa",
   "metadata": {},
   "outputs": [],
   "source": []
  },
  {
   "cell_type": "code",
   "execution_count": 11,
   "id": "1beab97d",
   "metadata": {},
   "outputs": [
    {
     "name": "stdout",
     "output_type": "stream",
     "text": [
      "0\n",
      "1\n",
      "4\n",
      "9\n",
      "16\n",
      "25\n",
      "36\n",
      "49\n",
      "64\n",
      "81\n",
      "0\n",
      "1\n",
      "8\n",
      "27\n",
      "64\n",
      "125\n",
      "216\n",
      "343\n",
      "512\n",
      "729\n",
      "Total Time taken :: 20.154316186904907\n"
     ]
    }
   ],
   "source": [
    "import threading\n",
    "import time\n",
    "\n",
    "\n",
    "class Thr1(threading.Thread):\n",
    "    def __init__(self, p):\n",
    "        super().__init__()\n",
    "        self.p = p\n",
    "\n",
    "    def sqr(self):\n",
    "        for i in self.p:\n",
    "            time.sleep(1)\n",
    "            print(i ** 2)\n",
    "\n",
    "\n",
    "class Thr2(threading.Thread):\n",
    "    def __init__(self, p):\n",
    "        super().__init__()\n",
    "        self.p = p\n",
    "\n",
    "    def cube(self):\n",
    "        for i in self.p:\n",
    "            time.sleep(1)\n",
    "            print(i ** 3)\n",
    "\n",
    "\n",
    "n = list(range(10))\n",
    "\n",
    "Start_Time = time.time()\n",
    "\n",
    "obj1 = Thr1(n)\n",
    "obj2 = Thr2(n)\n",
    "\n",
    "obj1.sqr()\n",
    "obj2.cube()\n",
    "\n",
    "obj1.start()\n",
    "obj2.start()\n",
    "\n",
    "obj1.join()  # Main Thread waits for join() thread executed.\n",
    "obj2.join()\n",
    "\n",
    "\n",
    "End_Time = time.time()\n",
    "\n",
    "Total_Time = (End_Time - Start_Time)\n",
    "\n",
    "print(\"Total Time taken ::\", Total_Time)"
   ]
  },
  {
   "cell_type": "code",
   "execution_count": null,
   "id": "87b55ccf",
   "metadata": {},
   "outputs": [],
   "source": []
  },
  {
   "cell_type": "markdown",
   "id": "c301ac48",
   "metadata": {},
   "source": [
    "***To change name of current Tread***"
   ]
  },
  {
   "cell_type": "code",
   "execution_count": 9,
   "id": "d4cfdd51",
   "metadata": {},
   "outputs": [
    {
     "name": "stdout",
     "output_type": "stream",
     "text": [
      "Python_Thread\n"
     ]
    }
   ],
   "source": [
    "import threading\n",
    "threading.currentThread().setName('Python_Thread')\n",
    "print(threading.currentThread().getName())"
   ]
  },
  {
   "cell_type": "code",
   "execution_count": null,
   "id": "90eb81cb",
   "metadata": {},
   "outputs": [],
   "source": []
  },
  {
   "cell_type": "code",
   "execution_count": null,
   "id": "03717bd5",
   "metadata": {},
   "outputs": [],
   "source": []
  },
  {
   "cell_type": "code",
   "execution_count": null,
   "id": "7c7b068a",
   "metadata": {},
   "outputs": [],
   "source": []
  },
  {
   "cell_type": "code",
   "execution_count": null,
   "id": "e4ba81cd",
   "metadata": {},
   "outputs": [],
   "source": []
  }
 ],
 "metadata": {
  "kernelspec": {
   "display_name": "Python 3",
   "language": "python",
   "name": "python3"
  },
  "language_info": {
   "codemirror_mode": {
    "name": "ipython",
    "version": 3
   },
   "file_extension": ".py",
   "mimetype": "text/x-python",
   "name": "python",
   "nbconvert_exporter": "python",
   "pygments_lexer": "ipython3",
   "version": "3.8.8"
  }
 },
 "nbformat": 4,
 "nbformat_minor": 5
}
