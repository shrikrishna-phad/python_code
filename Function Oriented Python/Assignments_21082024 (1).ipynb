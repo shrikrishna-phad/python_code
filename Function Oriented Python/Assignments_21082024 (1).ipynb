{
 "cells": [
  {
   "cell_type": "markdown",
   "id": "6de1fb56",
   "metadata": {},
   "source": [
    "### Prime number:"
   ]
  },
  {
   "cell_type": "code",
   "execution_count": 86,
   "id": "52bcc3da",
   "metadata": {},
   "outputs": [
    {
     "name": "stdout",
     "output_type": "stream",
     "text": [
      "2  3  5  7  11  13  17  19  23  29  31  37  41  43  47  53  59  61  67  71  73  79  83  89  97  "
     ]
    }
   ],
   "source": [
    "for i in range(1,101):\n",
    "    count = 0\n",
    "    for j in range(1,i+1):\n",
    "        if i%j == 0:\n",
    "            count += 1\n",
    "    if count == 2:\n",
    "        print(i, end='  ')"
   ]
  },
  {
   "cell_type": "code",
   "execution_count": 82,
   "id": "7ed5270b",
   "metadata": {},
   "outputs": [
    {
     "name": "stdout",
     "output_type": "stream",
     "text": [
      "2  3  5  7  11  13  17  19  23  29  31  37  41  43  47  53  59  61  67  71  73  79  83  89  97  "
     ]
    }
   ],
   "source": [
    "for primeno in range(1, 101):\n",
    "    count = 0\n",
    "    for i in range(2, (primeno // 2 + 1)):\n",
    "        if (primeno % i == 0):\n",
    "            count = count + 1\n",
    "            break\n",
    "    \n",
    "    if (count == 0 and primeno != 1):\n",
    "        print(\"%d\" % primeno, end='  ')"
   ]
  },
  {
   "cell_type": "markdown",
   "id": "1d59d407",
   "metadata": {},
   "source": [
    "### Even number:"
   ]
  },
  {
   "cell_type": "code",
   "execution_count": 77,
   "id": "81bd0ea6",
   "metadata": {},
   "outputs": [
    {
     "name": "stdout",
     "output_type": "stream",
     "text": [
      "0 2 4 6 8 10 12 14 16 18 20 22 24 26 28 30 32 34 36 38 40 42 44 46 48 50 52 54 56 58 60 62 64 66 68 70 72 74 76 78 80 82 84 86 88 90 92 94 96 98 100 "
     ]
    }
   ],
   "source": [
    "for i in range(0,101):\n",
    "    if i%2 == 0:\n",
    "        print(i, end=' ')"
   ]
  },
  {
   "cell_type": "code",
   "execution_count": 80,
   "id": "8e162593",
   "metadata": {},
   "outputs": [
    {
     "data": {
      "text/plain": [
       "[2,\n",
       " 4,\n",
       " 6,\n",
       " 8,\n",
       " 10,\n",
       " 12,\n",
       " 14,\n",
       " 16,\n",
       " 18,\n",
       " 20,\n",
       " 22,\n",
       " 24,\n",
       " 26,\n",
       " 28,\n",
       " 30,\n",
       " 32,\n",
       " 34,\n",
       " 36,\n",
       " 38,\n",
       " 40,\n",
       " 42,\n",
       " 44,\n",
       " 46,\n",
       " 48,\n",
       " 50,\n",
       " 52,\n",
       " 54,\n",
       " 56,\n",
       " 58,\n",
       " 60,\n",
       " 62,\n",
       " 64,\n",
       " 66,\n",
       " 68,\n",
       " 70,\n",
       " 72,\n",
       " 74,\n",
       " 76,\n",
       " 78,\n",
       " 80,\n",
       " 82,\n",
       " 84,\n",
       " 86,\n",
       " 88,\n",
       " 90,\n",
       " 92,\n",
       " 94,\n",
       " 96,\n",
       " 98,\n",
       " 100]"
      ]
     },
     "execution_count": 80,
     "metadata": {},
     "output_type": "execute_result"
    }
   ],
   "source": [
    "list(range(2,101,2))"
   ]
  },
  {
   "cell_type": "markdown",
   "id": "045178e7",
   "metadata": {},
   "source": [
    "### ODD numbers:"
   ]
  },
  {
   "cell_type": "code",
   "execution_count": 78,
   "id": "26bb7aa4",
   "metadata": {},
   "outputs": [
    {
     "name": "stdout",
     "output_type": "stream",
     "text": [
      "1 3 5 7 9 11 13 15 17 19 21 23 25 27 29 31 33 35 37 39 41 43 45 47 49 51 53 55 57 59 61 63 65 67 69 71 73 75 77 79 81 83 85 87 89 91 93 95 97 99 "
     ]
    }
   ],
   "source": [
    "for i in range(0,101):\n",
    "    if i%2 != 0:\n",
    "        print(i, end=' ')"
   ]
  },
  {
   "cell_type": "code",
   "execution_count": 81,
   "id": "e443c527",
   "metadata": {},
   "outputs": [
    {
     "data": {
      "text/plain": [
       "[1,\n",
       " 3,\n",
       " 5,\n",
       " 7,\n",
       " 9,\n",
       " 11,\n",
       " 13,\n",
       " 15,\n",
       " 17,\n",
       " 19,\n",
       " 21,\n",
       " 23,\n",
       " 25,\n",
       " 27,\n",
       " 29,\n",
       " 31,\n",
       " 33,\n",
       " 35,\n",
       " 37,\n",
       " 39,\n",
       " 41,\n",
       " 43,\n",
       " 45,\n",
       " 47,\n",
       " 49,\n",
       " 51,\n",
       " 53,\n",
       " 55,\n",
       " 57,\n",
       " 59,\n",
       " 61,\n",
       " 63,\n",
       " 65,\n",
       " 67,\n",
       " 69,\n",
       " 71,\n",
       " 73,\n",
       " 75,\n",
       " 77,\n",
       " 79,\n",
       " 81,\n",
       " 83,\n",
       " 85,\n",
       " 87,\n",
       " 89,\n",
       " 91,\n",
       " 93,\n",
       " 95,\n",
       " 97,\n",
       " 99]"
      ]
     },
     "execution_count": 81,
     "metadata": {},
     "output_type": "execute_result"
    }
   ],
   "source": [
    "list(range(1,101,2))"
   ]
  },
  {
   "cell_type": "markdown",
   "id": "44e2af76",
   "metadata": {},
   "source": [
    "### Duplicate elements from list"
   ]
  },
  {
   "cell_type": "code",
   "execution_count": 74,
   "id": "b560c7cb",
   "metadata": {},
   "outputs": [
    {
     "name": "stdout",
     "output_type": "stream",
     "text": [
      "dup: ['a', 'b', 'c', 'b']\n",
      "l: ['a', 'b', 'c', 'd']\n",
      "[('a', 1), ('b', 2), ('c', 1)]\n"
     ]
    }
   ],
   "source": [
    "l = ['a','b','c','d','a','b','b','c']\n",
    "dup = []\n",
    "for i in l:\n",
    "    count = 0\n",
    "    index = 0\n",
    "    for j in l:\n",
    "        index += 1\n",
    "        if i == j:\n",
    "            count += 1\n",
    "            if count > 1:\n",
    "                dup.append(j)\n",
    "                del l[index-1]\n",
    "print('dup:',dup)\n",
    "print('l:',l)\n",
    "count_list = []\n",
    "\n",
    "for c in dup:\n",
    "    count = dup.count(c)\n",
    "    t_count = (c, count)\n",
    "    if count_list.count(t_count) < 1:\n",
    "        count_list.append(t_count)\n",
    "print(count_list)"
   ]
  },
  {
   "cell_type": "code",
   "execution_count": null,
   "id": "6a00e7a9",
   "metadata": {},
   "outputs": [],
   "source": [
    "from collections import Counter\n",
    "\n",
    "list1 = [0,11,8,45,0,45,2,1,2,3,4,5,1,1,2,5,6,7,8,9,9]\n",
    "d = Counter(list1)\n",
    "print(d)\n",
    "\n",
    "duplitam = list([item for item in d if d[item]>1])\n",
    "print(duplitam)"
   ]
  },
  {
   "cell_type": "code",
   "execution_count": 88,
   "id": "3513c784",
   "metadata": {},
   "outputs": [
    {
     "name": "stdout",
     "output_type": "stream",
     "text": [
      "{'nitin': 2, 'sumit': 1, 76: 2, 89: 1, 'horse': 2}\n",
      "nitin : 2\n",
      "76 : 2\n",
      "horse : 2\n"
     ]
    }
   ],
   "source": [
    "#duplicates element from list\n",
    "#2.duplicates element from list\n",
    "#3.duplicates element count from the list\n",
    "#4.duplciate element count from list display like\n",
    "#e.g. {1:count,2:count}\n",
    "lis=[]\n",
    "dec={}\n",
    "a=[\"nitin\",\"sumit\",76,89,\"horse\",\"horse\",76,\"nitin\"]\n",
    "for i in a:\n",
    "    dec[i]=a.count(i)\n",
    "    #dec.append(i)\n",
    "    #print(f\"{i}:{a.count(i)}\")\n",
    "    if a.count(i)>1:\n",
    "        lis.append(i)\n",
    "       # print(f\"{i}:{a.count(i)}\")\n",
    "#print(lis)\n",
    "print(dec)\n",
    "\n",
    "for key,value in dec.items():\n",
    "    if int(value)>1:\n",
    "        print(f\"{key} : {value}\")"
   ]
  },
  {
   "cell_type": "markdown",
   "id": "d11162c2",
   "metadata": {},
   "source": [
    "### Count of Duplicate elements from list: in dict - {'a':count,'b':count,....}"
   ]
  },
  {
   "cell_type": "code",
   "execution_count": 28,
   "id": "b1f7950f",
   "metadata": {},
   "outputs": [
    {
     "name": "stdout",
     "output_type": "stream",
     "text": [
      "{'a': 2, 'b': 3, 'c': 2, 'd': 1}\n"
     ]
    }
   ],
   "source": [
    "l = ['a','b','c','d','a','b','b','c']\n",
    "d = dict.fromkeys(l)\n",
    "for i in l:\n",
    "    d[i] = l.count(i)   \n",
    "print(d)"
   ]
  },
  {
   "cell_type": "markdown",
   "id": "48a5d0d3",
   "metadata": {},
   "source": [
    "### Can we define list in tuple and viceversa"
   ]
  },
  {
   "cell_type": "code",
   "execution_count": 59,
   "id": "c15ac0ef",
   "metadata": {},
   "outputs": [
    {
     "name": "stdout",
     "output_type": "stream",
     "text": [
      "['a', 'b', ('c', 'd', 'a'), 'b', 'b', 'c']\n",
      "('a', 'b', ['c', 'd', 'a'], 'b', 'b', 'c')\n"
     ]
    }
   ],
   "source": [
    "l = ['a','b',('c','d','a'),'b','b','c']\n",
    "print(l)\n",
    "t = ('a','b',['c','d','a'],'b','b','c')\n",
    "print(t)"
   ]
  },
  {
   "cell_type": "markdown",
   "id": "429de903",
   "metadata": {},
   "source": [
    "### Can we perform UDI operation on list which is inside tuple and viceversa"
   ]
  },
  {
   "cell_type": "code",
   "execution_count": 60,
   "id": "c9653f3c",
   "metadata": {},
   "outputs": [
    {
     "ename": "TypeError",
     "evalue": "'tuple' object does not support item assignment",
     "output_type": "error",
     "traceback": [
      "\u001b[1;31m---------------------------------------------------------------------------\u001b[0m",
      "\u001b[1;31mTypeError\u001b[0m                                 Traceback (most recent call last)",
      "\u001b[1;32m<ipython-input-60-e74ff06e3368>\u001b[0m in \u001b[0;36m<module>\u001b[1;34m\u001b[0m\n\u001b[0;32m      1\u001b[0m \u001b[0ml\u001b[0m \u001b[1;33m=\u001b[0m \u001b[1;33m[\u001b[0m\u001b[1;34m'a'\u001b[0m\u001b[1;33m,\u001b[0m\u001b[1;34m'b'\u001b[0m\u001b[1;33m,\u001b[0m\u001b[1;33m(\u001b[0m\u001b[1;34m'c'\u001b[0m\u001b[1;33m,\u001b[0m\u001b[1;34m'd'\u001b[0m\u001b[1;33m,\u001b[0m\u001b[1;34m'a'\u001b[0m\u001b[1;33m)\u001b[0m\u001b[1;33m,\u001b[0m\u001b[1;34m'b'\u001b[0m\u001b[1;33m,\u001b[0m\u001b[1;34m'b'\u001b[0m\u001b[1;33m,\u001b[0m\u001b[1;34m'c'\u001b[0m\u001b[1;33m]\u001b[0m\u001b[1;33m\u001b[0m\u001b[1;33m\u001b[0m\u001b[0m\n\u001b[1;32m----> 2\u001b[1;33m \u001b[0ml\u001b[0m\u001b[1;33m[\u001b[0m\u001b[1;36m2\u001b[0m\u001b[1;33m]\u001b[0m\u001b[1;33m[\u001b[0m\u001b[1;36m1\u001b[0m\u001b[1;33m]\u001b[0m \u001b[1;33m=\u001b[0m \u001b[1;34m'f'\u001b[0m\u001b[1;33m\u001b[0m\u001b[1;33m\u001b[0m\u001b[0m\n\u001b[0m\u001b[0;32m      3\u001b[0m \u001b[0mprint\u001b[0m\u001b[1;33m(\u001b[0m\u001b[0ml\u001b[0m\u001b[1;33m)\u001b[0m\u001b[1;33m\u001b[0m\u001b[1;33m\u001b[0m\u001b[0m\n\u001b[0;32m      4\u001b[0m \u001b[0mt\u001b[0m \u001b[1;33m=\u001b[0m \u001b[1;33m(\u001b[0m\u001b[1;34m'a'\u001b[0m\u001b[1;33m,\u001b[0m\u001b[1;34m'b'\u001b[0m\u001b[1;33m,\u001b[0m\u001b[1;33m[\u001b[0m\u001b[1;34m'c'\u001b[0m\u001b[1;33m,\u001b[0m\u001b[1;34m'd'\u001b[0m\u001b[1;33m,\u001b[0m\u001b[1;34m'a'\u001b[0m\u001b[1;33m]\u001b[0m\u001b[1;33m,\u001b[0m\u001b[1;34m'b'\u001b[0m\u001b[1;33m,\u001b[0m\u001b[1;34m'b'\u001b[0m\u001b[1;33m,\u001b[0m\u001b[1;34m'c'\u001b[0m\u001b[1;33m)\u001b[0m\u001b[1;33m\u001b[0m\u001b[1;33m\u001b[0m\u001b[0m\n\u001b[0;32m      5\u001b[0m \u001b[0mprint\u001b[0m\u001b[1;33m(\u001b[0m\u001b[0mt\u001b[0m\u001b[1;33m)\u001b[0m\u001b[1;33m\u001b[0m\u001b[1;33m\u001b[0m\u001b[0m\n",
      "\u001b[1;31mTypeError\u001b[0m: 'tuple' object does not support item assignment"
     ]
    }
   ],
   "source": [
    "l = ['a','b',('c','d','a'),'b','b','c']\n",
    "l[2][1] = 'f'\n",
    "print(l)"
   ]
  },
  {
   "cell_type": "code",
   "execution_count": 61,
   "id": "3010c27c",
   "metadata": {},
   "outputs": [
    {
     "name": "stdout",
     "output_type": "stream",
     "text": [
      "('a', 'b', ['c', 'f', 'a'], 'b', 'b', 'c')\n"
     ]
    }
   ],
   "source": [
    "t = ('a','b',['c','d','a'],'b','b','c')\n",
    "t[2][1] = 'f'\n",
    "print(t)"
   ]
  },
  {
   "cell_type": "markdown",
   "id": "6706ec14",
   "metadata": {},
   "source": [
    "### Count Char from string - in dict {'a':count,'b':count,....)"
   ]
  },
  {
   "cell_type": "code",
   "execution_count": 89,
   "id": "2d58fc1b",
   "metadata": {},
   "outputs": [
    {
     "name": "stdout",
     "output_type": "stream",
     "text": [
      "{'p': 1, 'y': 2, 't': 2, 'h': 1, 'o': 2, 'n': 2, ' ': 4, 'i': 1, 's': 2, 'e': 2, 'a': 2, 'l': 1, 'r': 1}\n"
     ]
    }
   ],
   "source": [
    "l = 'python is easy to learn'\n",
    "d = dict.fromkeys(l)\n",
    "for i in l:\n",
    "    d[i] = l.count(i)   \n",
    "print(d)"
   ]
  },
  {
   "cell_type": "code",
   "execution_count": 91,
   "id": "8ab111e5",
   "metadata": {},
   "outputs": [
    {
     "name": "stdout",
     "output_type": "stream",
     "text": [
      "{'p': 2, 'y': 2, 't': 2, 'h': 1, 'o': 2, 'n': 1}\n"
     ]
    },
    {
     "data": {
      "text/plain": [
       "dict"
      ]
     },
     "execution_count": 91,
     "metadata": {},
     "output_type": "execute_result"
    }
   ],
   "source": [
    "a = 'ppyytthoon'\n",
    "z = {}\n",
    "for i in a:\n",
    "    z[i] = a.count(i)\n",
    "print(z)"
   ]
  },
  {
   "cell_type": "code",
   "execution_count": 92,
   "id": "3d58ca69",
   "metadata": {},
   "outputs": [
    {
     "name": "stdout",
     "output_type": "stream",
     "text": [
      "['c', 'o', 'n', 't', ' ', 'c', 'r', ' ', 'r', 'o', ' ', 't', 'r', 'n']\n",
      "Counter({' ': 3, 'r': 3, 'c': 2, 'o': 2, 'n': 2, 't': 2})\n"
     ]
    }
   ],
   "source": [
    "from collections import Counter\n",
    "string1 = \"count char from string\"\n",
    "\n",
    "Duplicates = []\n",
    "for char in string1:\n",
    "    if string1.count(char) > 1:\n",
    "        Duplicates.append(char)\n",
    "print(Duplicates)\n",
    "dict1 = Counter(Duplicates)\n",
    "print(dict1)"
   ]
  },
  {
   "cell_type": "markdown",
   "id": "ea74f0a4",
   "metadata": {},
   "source": [
    "### Reverse string with using inbuilt function"
   ]
  },
  {
   "cell_type": "code",
   "execution_count": 62,
   "id": "771a4ebc",
   "metadata": {},
   "outputs": [
    {
     "data": {
      "text/plain": [
       "'nohtyP'"
      ]
     },
     "execution_count": 62,
     "metadata": {},
     "output_type": "execute_result"
    }
   ],
   "source": [
    "s = 'Python'\n",
    "s[::-1]"
   ]
  },
  {
   "cell_type": "code",
   "execution_count": null,
   "id": "0514725b",
   "metadata": {},
   "outputs": [],
   "source": [
    "s = 'Python'\n"
   ]
  },
  {
   "cell_type": "markdown",
   "id": "d14dc444",
   "metadata": {},
   "source": [
    "### Reverse string without using inbuilt function"
   ]
  },
  {
   "cell_type": "code",
   "execution_count": 95,
   "id": "104260f8",
   "metadata": {},
   "outputs": [
    {
     "data": {
      "text/plain": [
       "'nohtyP'"
      ]
     },
     "execution_count": 95,
     "metadata": {},
     "output_type": "execute_result"
    }
   ],
   "source": [
    "str1 = 'Python'\n",
    "str2 = \"\" \n",
    "for i in s:  \n",
    "    str2 = i + str2\n",
    "str2 "
   ]
  },
  {
   "cell_type": "markdown",
   "id": "6224cb42",
   "metadata": {},
   "source": [
    "### Write a program to give hike to employees based on their current grade.\n",
    "Grade          Salar         Hike\n",
    "  A            90K+          15%\n",
    "  B          70K - 90K       12%\n",
    "  C          50K - 70K       10%"
   ]
  },
  {
   "cell_type": "code",
   "execution_count": 96,
   "id": "d9692931",
   "metadata": {},
   "outputs": [
    {
     "name": "stdout",
     "output_type": "stream",
     "text": [
      "Please enter your salary: 91000\n",
      "Please enter your Grade:  A\n",
      "Your hike is 15% and new salary is 104650.0\n"
     ]
    }
   ],
   "source": [
    "salary = int(input('Please enter your salary: '))\n",
    "grade  = input('Please enter your Grade:  ')\n",
    "if salary > 90000 and grade == 'A':\n",
    "    hike = 15\n",
    "    new_salary = salary * (100 + hike) / 100\n",
    "    print(f\"Your hike is {hike}% and new salary is {new_salary}\")\n",
    "elif 90000 > salary > 70000 and grade == 'B':\n",
    "    hike = 12\n",
    "    new_salary = salary * (100 + hike) / 100\n",
    "    print(f\"Your hike is {hike}% and new salary is {new_salary}\")\n",
    "elif 70000 > salary > 50000 and grade == 'C':\n",
    "    hike = 11\n",
    "    new_salary = salary * (100 + hike) / 100\n",
    "    print(f\"Your hike is {hike}% and new salary is {new_salary}\")\n",
    "else:\n",
    "    print(\"You entered invalid combination\")\n"
   ]
  },
  {
   "cell_type": "markdown",
   "id": "998dff12",
   "metadata": {},
   "source": [
    "### Write a program to find largest number in list without using inbuilt function."
   ]
  },
  {
   "cell_type": "code",
   "execution_count": 97,
   "id": "1319ebd2",
   "metadata": {},
   "outputs": [
    {
     "name": "stdout",
     "output_type": "stream",
     "text": [
      "100\n"
     ]
    }
   ],
   "source": [
    "a=[1,5,67,32,7,40,89,0,100,6]\n",
    "temp=1\n",
    "for i in a:\n",
    "    if i>temp:\n",
    "        temp=i\n",
    "print(temp)"
   ]
  },
  {
   "cell_type": "code",
   "execution_count": 98,
   "id": "3297a3d8",
   "metadata": {},
   "outputs": [
    {
     "name": "stdout",
     "output_type": "stream",
     "text": [
      "97\n"
     ]
    }
   ],
   "source": [
    "l = [3,5,3,4,7,89,97,55,]\n",
    "m = 0\n",
    "for i in l:\n",
    "    if i > m:\n",
    "        for j in l:\n",
    "            if i > j:\n",
    "                m = i\n",
    "            else:\n",
    "                m = j    \n",
    "print(m)"
   ]
  },
  {
   "cell_type": "code",
   "execution_count": null,
   "id": "946274c9",
   "metadata": {},
   "outputs": [],
   "source": []
  },
  {
   "cell_type": "code",
   "execution_count": 3,
   "id": "119ca3bf",
   "metadata": {},
   "outputs": [
    {
     "data": {
      "text/plain": [
       "[1, 5, 67, 32, 7, 40, 89, 0, 100, 6]"
      ]
     },
     "execution_count": 3,
     "metadata": {},
     "output_type": "execute_result"
    }
   ],
   "source": [
    "a=[1,5,67,32,7,40,89,0,100,6]\n",
    "sorted(a)\n",
    "a"
   ]
  },
  {
   "cell_type": "code",
   "execution_count": null,
   "id": "764f22dd",
   "metadata": {},
   "outputs": [],
   "source": []
  },
  {
   "cell_type": "code",
   "execution_count": 7,
   "id": "f5fd9879",
   "metadata": {},
   "outputs": [],
   "source": [
    "a = [0,25,50,100]\n",
    "b = [1,1,1,1,]\n",
    "#b = [1, 26, 51, 101]\n"
   ]
  },
  {
   "cell_type": "code",
   "execution_count": 8,
   "id": "67538051",
   "metadata": {},
   "outputs": [
    {
     "data": {
      "text/plain": [
       "[1, 26, 51, 101]"
      ]
     },
     "execution_count": 8,
     "metadata": {},
     "output_type": "execute_result"
    }
   ],
   "source": [
    "b = []\n",
    "for i in a:\n",
    "    i=i+1\n",
    "    b.append(i)\n",
    "b"
   ]
  },
  {
   "cell_type": "code",
   "execution_count": 12,
   "id": "18d8f173",
   "metadata": {},
   "outputs": [
    {
     "data": {
      "text/plain": [
       "[1, 26, 51, 101]"
      ]
     },
     "execution_count": 12,
     "metadata": {},
     "output_type": "execute_result"
    }
   ],
   "source": [
    "a = [0,25,50,100]\n",
    "b = [1,1,1,1,]\n",
    "#b = [1, 26, 51, 101]\n",
    "b = [(i+1) for i in a]\n",
    "b"
   ]
  },
  {
   "cell_type": "code",
   "execution_count": 14,
   "id": "f0dabe90",
   "metadata": {},
   "outputs": [
    {
     "data": {
      "text/plain": [
       "{1, 26, 51, 101}"
      ]
     },
     "execution_count": 14,
     "metadata": {},
     "output_type": "execute_result"
    }
   ],
   "source": [
    "a = [0,25,50,100]\n",
    "b = [1,1,1,1,]\n",
    "#b = [1, 26, 51, 101]\n",
    "\n",
    "c = []\n",
    "for i in a:\n",
    "    for j in b:\n",
    "        k = i+j\n",
    "        c.append(k)\n",
    "        \n",
    "c = set(c)\n",
    "c"
   ]
  },
  {
   "cell_type": "code",
   "execution_count": 20,
   "id": "fa3e3517",
   "metadata": {},
   "outputs": [
    {
     "name": "stdout",
     "output_type": "stream",
     "text": [
      "400100200400\n"
     ]
    }
   ],
   "source": [
    "a = [400,100,200,400]\n",
    "print(*a,sep='')"
   ]
  },
  {
   "cell_type": "code",
   "execution_count": 16,
   "id": "26665211",
   "metadata": {},
   "outputs": [
    {
     "data": {
      "text/plain": [
       "'400100200400'"
      ]
     },
     "execution_count": 16,
     "metadata": {},
     "output_type": "execute_result"
    }
   ],
   "source": [
    "a = ['400','100','200','400']\n",
    "c=a[0]+a[1]+a[2]+a[3]\n",
    "c"
   ]
  },
  {
   "cell_type": "code",
   "execution_count": null,
   "id": "142d5dc1",
   "metadata": {},
   "outputs": [],
   "source": []
  },
  {
   "cell_type": "code",
   "execution_count": 23,
   "id": "e970a24a",
   "metadata": {},
   "outputs": [
    {
     "data": {
      "text/plain": [
       "4"
      ]
     },
     "execution_count": 23,
     "metadata": {},
     "output_type": "execute_result"
    }
   ],
   "source": [
    "a = ['400','100','200','400']\n",
    "n = 0\n",
    "for i in a:\n",
    "    n+=1\n",
    "    \n",
    "n"
   ]
  },
  {
   "cell_type": "code",
   "execution_count": null,
   "id": "1824046d",
   "metadata": {},
   "outputs": [],
   "source": []
  },
  {
   "cell_type": "code",
   "execution_count": 24,
   "id": "4fc06486",
   "metadata": {},
   "outputs": [
    {
     "ename": "SyntaxError",
     "evalue": "invalid syntax (<ipython-input-24-aa98c8e8677b>, line 4)",
     "output_type": "error",
     "traceback": [
      "\u001b[1;36m  File \u001b[1;32m\"<ipython-input-24-aa98c8e8677b>\"\u001b[1;36m, line \u001b[1;32m4\u001b[0m\n\u001b[1;33m    if k = i:\u001b[0m\n\u001b[1;37m         ^\u001b[0m\n\u001b[1;31mSyntaxError\u001b[0m\u001b[1;31m:\u001b[0m invalid syntax\n"
     ]
    }
   ],
   "source": []
  },
  {
   "cell_type": "code",
   "execution_count": null,
   "id": "b049d3d4",
   "metadata": {},
   "outputs": [],
   "source": []
  },
  {
   "cell_type": "code",
   "execution_count": null,
   "id": "073316b9",
   "metadata": {},
   "outputs": [],
   "source": []
  },
  {
   "cell_type": "code",
   "execution_count": null,
   "id": "a4f74bfc",
   "metadata": {},
   "outputs": [],
   "source": []
  }
 ],
 "metadata": {
  "kernelspec": {
   "display_name": "Python 3",
   "language": "python",
   "name": "python3"
  },
  "language_info": {
   "codemirror_mode": {
    "name": "ipython",
    "version": 3
   },
   "file_extension": ".py",
   "mimetype": "text/x-python",
   "name": "python",
   "nbconvert_exporter": "python",
   "pygments_lexer": "ipython3",
   "version": "3.8.8"
  }
 },
 "nbformat": 4,
 "nbformat_minor": 5
}
