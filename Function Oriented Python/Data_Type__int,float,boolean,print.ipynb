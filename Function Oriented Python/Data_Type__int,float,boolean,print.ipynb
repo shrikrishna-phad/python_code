{
 "cells": [
  {
   "cell_type": "markdown",
   "metadata": {
    "id": "3xS2QPTWaQ86"
   },
   "source": [
    "**DATA TYPES**"
   ]
  },
  {
   "cell_type": "markdown",
   "metadata": {
    "id": "PLmtOzKEaeN4"
   },
   "source": [
    "INTEGER\n",
    "    digit values\n",
    "\n",
    "syntax---int()"
   ]
  },
  {
   "cell_type": "code",
   "execution_count": 1,
   "metadata": {
    "id": "VR5Vb33nXBjF"
   },
   "outputs": [],
   "source": [
    "a = 10"
   ]
  },
  {
   "cell_type": "code",
   "execution_count": 2,
   "metadata": {
    "colab": {
     "base_uri": "https://localhost:8080/"
    },
    "id": "wLufYzAGXY8R",
    "outputId": "81262d40-2d1c-4bd0-efdf-93bd8520aee5"
   },
   "outputs": [
    {
     "name": "stdout",
     "output_type": "stream",
     "text": [
      "a\n"
     ]
    }
   ],
   "source": [
    "print('a')"
   ]
  },
  {
   "cell_type": "code",
   "execution_count": 13,
   "metadata": {
    "colab": {
     "base_uri": "https://localhost:8080/"
    },
    "id": "FsTqOFD9aG8b",
    "outputId": "97d3302e-f039-440d-d69c-cbe420092aae"
   },
   "outputs": [
    {
     "name": "stdout",
     "output_type": "stream",
     "text": [
      "10\n"
     ]
    }
   ],
   "source": [
    "print(a)"
   ]
  },
  {
   "cell_type": "markdown",
   "metadata": {
    "id": "qhneJISxa1aX"
   },
   "source": [
    "**can't find index of int variable**"
   ]
  },
  {
   "cell_type": "code",
   "execution_count": 3,
   "metadata": {
    "colab": {
     "base_uri": "https://localhost:8080/",
     "height": 163
    },
    "id": "p-vNhaG6XeHI",
    "outputId": "265cf9fa-3387-44f3-fd28-582c3eca13a9"
   },
   "outputs": [
    {
     "ename": "AttributeError",
     "evalue": "ignored",
     "output_type": "error",
     "traceback": [
      "\u001b[0;31m---------------------------------------------------------------------------\u001b[0m",
      "\u001b[0;31mAttributeError\u001b[0m                            Traceback (most recent call last)",
      "\u001b[0;32m<ipython-input-3-4cb73546dbcc>\u001b[0m in \u001b[0;36m<module>\u001b[0;34m()\u001b[0m\n\u001b[0;32m----> 1\u001b[0;31m \u001b[0ma\u001b[0m\u001b[0;34m.\u001b[0m\u001b[0mindex\u001b[0m\u001b[0;34m(\u001b[0m\u001b[0;36m1\u001b[0m\u001b[0;34m)\u001b[0m\u001b[0;34m\u001b[0m\u001b[0;34m\u001b[0m\u001b[0m\n\u001b[0m",
      "\u001b[0;31mAttributeError\u001b[0m: 'int' object has no attribute 'index'"
     ]
    }
   ],
   "source": [
    "a.index(1)"
   ]
  },
  {
   "cell_type": "code",
   "execution_count": 4,
   "metadata": {
    "colab": {
     "base_uri": "https://localhost:8080/",
     "height": 180
    },
    "id": "p7S_P8uMYG-x",
    "outputId": "8283e844-bac3-4ce2-dbe9-7bd5b2746494"
   },
   "outputs": [
    {
     "ename": "TypeError",
     "evalue": "ignored",
     "output_type": "error",
     "traceback": [
      "\u001b[0;31m---------------------------------------------------------------------------\u001b[0m",
      "\u001b[0;31mTypeError\u001b[0m                                 Traceback (most recent call last)",
      "\u001b[0;32m<ipython-input-4-cf05bf16c281>\u001b[0m in \u001b[0;36m<module>\u001b[0;34m()\u001b[0m\n\u001b[1;32m      1\u001b[0m \u001b[0mb\u001b[0m \u001b[0;34m=\u001b[0m \u001b[0;36m50\u001b[0m\u001b[0;34m\u001b[0m\u001b[0;34m\u001b[0m\u001b[0m\n\u001b[0;32m----> 2\u001b[0;31m \u001b[0mc\u001b[0m \u001b[0;34m=\u001b[0m \u001b[0;34m'a'\u001b[0m \u001b[0;34m*\u001b[0m \u001b[0;34m'b'\u001b[0m\u001b[0;34m\u001b[0m\u001b[0;34m\u001b[0m\u001b[0m\n\u001b[0m",
      "\u001b[0;31mTypeError\u001b[0m: can't multiply sequence by non-int of type 'str'"
     ]
    }
   ],
   "source": [
    "b = 50\n",
    "c = 'a' * 'b'"
   ]
  },
  {
   "cell_type": "code",
   "execution_count": 5,
   "metadata": {
    "colab": {
     "base_uri": "https://localhost:8080/",
     "height": 163
    },
    "id": "Bq9nDhLyYIRp",
    "outputId": "a491517c-67bb-4ff6-99ab-16aab7489057"
   },
   "outputs": [
    {
     "ename": "ValueError",
     "evalue": "ignored",
     "output_type": "error",
     "traceback": [
      "\u001b[0;31m---------------------------------------------------------------------------\u001b[0m",
      "\u001b[0;31mValueError\u001b[0m                                Traceback (most recent call last)",
      "\u001b[0;32m<ipython-input-5-fb141140e97d>\u001b[0m in \u001b[0;36m<module>\u001b[0;34m()\u001b[0m\n\u001b[0;32m----> 1\u001b[0;31m \u001b[0mc\u001b[0m \u001b[0;34m=\u001b[0m \u001b[0mint\u001b[0m\u001b[0;34m(\u001b[0m\u001b[0;34m'a'\u001b[0m\u001b[0;34m)\u001b[0m \u001b[0;34m*\u001b[0m \u001b[0mint\u001b[0m\u001b[0;34m(\u001b[0m\u001b[0;34m'b'\u001b[0m\u001b[0;34m)\u001b[0m\u001b[0;34m\u001b[0m\u001b[0;34m\u001b[0m\u001b[0m\n\u001b[0m",
      "\u001b[0;31mValueError\u001b[0m: invalid literal for int() with base 10: 'a'"
     ]
    }
   ],
   "source": [
    "c = int('a') * int('b')"
   ]
  },
  {
   "cell_type": "code",
   "execution_count": 12,
   "metadata": {
    "colab": {
     "base_uri": "https://localhost:8080/"
    },
    "id": "yhpsN_VYYI-w",
    "outputId": "df386927-f0e4-4036-e393-7a7b0bedda3a"
   },
   "outputs": [
    {
     "name": "stdout",
     "output_type": "stream",
     "text": [
      "500\n"
     ]
    }
   ],
   "source": [
    "c = int(a) * int(b)\n",
    "print(c)"
   ]
  },
  {
   "cell_type": "markdown",
   "metadata": {
    "id": "PjPCCu24bZI4"
   },
   "source": [
    "**float**\n",
    "\n",
    "if we wrongly identify float as an integer then python will consider value only before decimal point."
   ]
  },
  {
   "cell_type": "code",
   "execution_count": 15,
   "metadata": {
    "colab": {
     "base_uri": "https://localhost:8080/"
    },
    "id": "QVPcIxOQYJtH",
    "outputId": "b7ccfc4f-6521-4086-bbc1-c8adb257479d"
   },
   "outputs": [
    {
     "name": "stdout",
     "output_type": "stream",
     "text": [
      "96\n"
     ]
    }
   ],
   "source": [
    "a = 12.35\n",
    "b = 8\n",
    "c = int(a) * int(b)\n",
    "print(c)  # result shows as c = 96 which is clearly wrong"
   ]
  },
  {
   "cell_type": "markdown",
   "metadata": {
    "id": "hJIVqeE5dRlj"
   },
   "source": [
    "**can represent float as an integer but not integer as float**"
   ]
  },
  {
   "cell_type": "code",
   "execution_count": 16,
   "metadata": {
    "colab": {
     "base_uri": "https://localhost:8080/"
    },
    "id": "hYu9o5wvYKfE",
    "outputId": "7df1c875-260a-4014-c712-29a38cc7ff20"
   },
   "outputs": [
    {
     "name": "stdout",
     "output_type": "stream",
     "text": [
      "98.8\n"
     ]
    }
   ],
   "source": [
    "c = float(a) * float(b)\n",
    "print(c)"
   ]
  },
  {
   "cell_type": "markdown",
   "metadata": {
    "id": "R5ol5dHqfyh0"
   },
   "source": [
    "**COMPLEX**\n",
    "\n",
    "number wich includs imaginary number\n",
    "\n",
    "Representation \"j\""
   ]
  },
  {
   "cell_type": "code",
   "execution_count": 19,
   "metadata": {
    "colab": {
     "base_uri": "https://localhost:8080/"
    },
    "id": "h4RpoLmIYKzK",
    "outputId": "ccbbd2ab-9a88-4fef-82e2-fdf5c851744d"
   },
   "outputs": [
    {
     "name": "stdout",
     "output_type": "stream",
     "text": [
      "(100+200j)\n",
      "(20+20j)\n",
      "20j\n",
      "(1+2j)\n"
     ]
    }
   ],
   "source": [
    "a = 10+20j\n",
    "b = 10\n",
    "c = complex(a) * int(b)\n",
    "d = complex(a) + int(b)\n",
    "e = complex(a) - int(b)\n",
    "f = complex(a) / int(b)\n",
    "print(c)\n",
    "print(d)\n",
    "print(e)\n",
    "print(f)"
   ]
  },
  {
   "cell_type": "markdown",
   "metadata": {
    "id": "yQp1C9Ojgrqy"
   },
   "source": [
    "can't convert complex in to integer"
   ]
  },
  {
   "cell_type": "code",
   "execution_count": 18,
   "metadata": {
    "colab": {
     "base_uri": "https://localhost:8080/",
     "height": 180
    },
    "id": "tzGKssdRYLky",
    "outputId": "93244423-253e-4288-9357-f79d5d5371a6"
   },
   "outputs": [
    {
     "ename": "TypeError",
     "evalue": "ignored",
     "output_type": "error",
     "traceback": [
      "\u001b[0;31m---------------------------------------------------------------------------\u001b[0m",
      "\u001b[0;31mTypeError\u001b[0m                                 Traceback (most recent call last)",
      "\u001b[0;32m<ipython-input-18-6e084f50f4ad>\u001b[0m in \u001b[0;36m<module>\u001b[0;34m()\u001b[0m\n\u001b[0;32m----> 1\u001b[0;31m \u001b[0mc\u001b[0m \u001b[0;34m=\u001b[0m \u001b[0mint\u001b[0m\u001b[0;34m(\u001b[0m\u001b[0ma\u001b[0m\u001b[0;34m)\u001b[0m \u001b[0;34m*\u001b[0m \u001b[0mint\u001b[0m\u001b[0;34m(\u001b[0m\u001b[0mb\u001b[0m\u001b[0;34m)\u001b[0m\u001b[0;34m\u001b[0m\u001b[0;34m\u001b[0m\u001b[0m\n\u001b[0m\u001b[1;32m      2\u001b[0m \u001b[0mprint\u001b[0m\u001b[0;34m(\u001b[0m\u001b[0mc\u001b[0m\u001b[0;34m)\u001b[0m\u001b[0;34m\u001b[0m\u001b[0;34m\u001b[0m\u001b[0m\n",
      "\u001b[0;31mTypeError\u001b[0m: can't convert complex to int"
     ]
    }
   ],
   "source": [
    "c = int(a) * int(b)\n",
    "print(c)"
   ]
  },
  {
   "cell_type": "markdown",
   "metadata": {
    "id": "M_6KVDCchnkf"
   },
   "source": [
    "### **Boolean**\n",
    "\n",
    "**True** or **False**\n",
    "\n",
    "in python T in True and F in False is always capital\n",
    "\n",
    "in python False = 0 & True = 1"
   ]
  },
  {
   "cell_type": "code",
   "execution_count": 60,
   "metadata": {
    "colab": {
     "base_uri": "https://localhost:8080/"
    },
    "id": "bMf8XC4x1cNY",
    "outputId": "3bcdc9d8-f98b-4abc-adf2-b338f798003e"
   },
   "outputs": [
    {
     "name": "stdout",
     "output_type": "stream",
     "text": [
      "2 0 0 152 0\n"
     ]
    }
   ],
   "source": [
    "x = True + True # 1 + 1 = 2\n",
    "y = True - True # 1 - 1 = 0\n",
    "z = True * False # 1 * 0 =0\n",
    "xx = 152 * True # 152 * 1 = 152\n",
    "yy = 152 * False # 152 * 0 = 0\n",
    "\n",
    "print(x, y, z, xx, yy,)"
   ]
  },
  {
   "cell_type": "code",
   "execution_count": 27,
   "metadata": {
    "id": "9OgbOx1aYLy_"
   },
   "outputs": [],
   "source": [
    "a = 10\n",
    "b = 20\n",
    "c = 10"
   ]
  },
  {
   "cell_type": "code",
   "execution_count": 29,
   "metadata": {
    "colab": {
     "base_uri": "https://localhost:8080/"
    },
    "id": "JenAQEuGYMl3",
    "outputId": "e465ba54-2152-4f03-debd-fe7067aead1b"
   },
   "outputs": [
    {
     "data": {
      "text/plain": [
       "False"
      ]
     },
     "execution_count": 29,
     "metadata": {
      "tags": []
     },
     "output_type": "execute_result"
    }
   ],
   "source": [
    "a == b"
   ]
  },
  {
   "cell_type": "code",
   "execution_count": 30,
   "metadata": {
    "colab": {
     "base_uri": "https://localhost:8080/"
    },
    "id": "7KCLnAGXr32y",
    "outputId": "cd324606-1f98-40ac-d088-8c7dfb7c501c"
   },
   "outputs": [
    {
     "data": {
      "text/plain": [
       "True"
      ]
     },
     "execution_count": 30,
     "metadata": {
      "tags": []
     },
     "output_type": "execute_result"
    }
   ],
   "source": [
    "a == c"
   ]
  },
  {
   "cell_type": "code",
   "execution_count": 31,
   "metadata": {
    "colab": {
     "base_uri": "https://localhost:8080/"
    },
    "id": "b3o7FK_HsCDd",
    "outputId": "0844c6c9-3e63-4dad-8d7f-f002bf45a5a5"
   },
   "outputs": [
    {
     "data": {
      "text/plain": [
       "False"
      ]
     },
     "execution_count": 31,
     "metadata": {
      "tags": []
     },
     "output_type": "execute_result"
    }
   ],
   "source": [
    "b == c"
   ]
  },
  {
   "cell_type": "code",
   "execution_count": 32,
   "metadata": {
    "colab": {
     "base_uri": "https://localhost:8080/"
    },
    "id": "xzvShkYAsShb",
    "outputId": "1a7b916c-f5f8-4601-a541-2e01c8537b62"
   },
   "outputs": [
    {
     "data": {
      "text/plain": [
       "True"
      ]
     },
     "execution_count": 32,
     "metadata": {
      "tags": []
     },
     "output_type": "execute_result"
    }
   ],
   "source": [
    "a != b"
   ]
  },
  {
   "cell_type": "code",
   "execution_count": 33,
   "metadata": {
    "colab": {
     "base_uri": "https://localhost:8080/"
    },
    "id": "3bIemyllsXBk",
    "outputId": "af9a1cb7-28f2-403d-df1a-cdde2525e45b"
   },
   "outputs": [
    {
     "data": {
      "text/plain": [
       "True"
      ]
     },
     "execution_count": 33,
     "metadata": {
      "tags": []
     },
     "output_type": "execute_result"
    }
   ],
   "source": [
    "a < b"
   ]
  },
  {
   "cell_type": "code",
   "execution_count": 34,
   "metadata": {
    "colab": {
     "base_uri": "https://localhost:8080/"
    },
    "id": "EuD8ooF-sZq4",
    "outputId": "213d0335-6316-4a1c-89d5-e6baeacd7344"
   },
   "outputs": [
    {
     "data": {
      "text/plain": [
       "False"
      ]
     },
     "execution_count": 34,
     "metadata": {
      "tags": []
     },
     "output_type": "execute_result"
    }
   ],
   "source": [
    "a > b"
   ]
  },
  {
   "cell_type": "code",
   "execution_count": 35,
   "metadata": {
    "colab": {
     "base_uri": "https://localhost:8080/"
    },
    "id": "9ejSMkrfsc4K",
    "outputId": "3c8ba19f-7a64-4379-c6b8-8d9c713c91e4"
   },
   "outputs": [
    {
     "data": {
      "text/plain": [
       "False"
      ]
     },
     "execution_count": 35,
     "metadata": {
      "tags": []
     },
     "output_type": "execute_result"
    }
   ],
   "source": [
    "b < c"
   ]
  },
  {
   "cell_type": "code",
   "execution_count": 37,
   "metadata": {
    "colab": {
     "base_uri": "https://localhost:8080/"
    },
    "id": "-BjGuoP0sh0e",
    "outputId": "420f30fb-db13-4a67-b2ad-aa27b298e825"
   },
   "outputs": [
    {
     "data": {
      "text/plain": [
       "True"
      ]
     },
     "execution_count": 37,
     "metadata": {
      "tags": []
     },
     "output_type": "execute_result"
    }
   ],
   "source": [
    "b > c"
   ]
  },
  {
   "cell_type": "markdown",
   "metadata": {
    "id": "SQwnDRfhtEan"
   },
   "source": [
    "**PRINT FUNCTION**\n",
    "\n",
    "represention -- **print()**\n",
    "\n",
    "    PARAMETERS\n",
    "        **END** -- **end**\n",
    "        To eliminate or add seprate lines for diffrent print functions (press enter after seprate print function)\n",
    "\n",
    "        **seprate** -- **sep**  \n",
    "        To seprate the results of same print functions with any charecter"
   ]
  },
  {
   "cell_type": "code",
   "execution_count": 45,
   "metadata": {
    "colab": {
     "base_uri": "https://localhost:8080/"
    },
    "id": "f5PpvHT5sk3O",
    "outputId": "1d626920-5a2d-498d-b041-5a097a8ef92d"
   },
   "outputs": [
    {
     "name": "stdout",
     "output_type": "stream",
     "text": [
      "(100+200j)\n",
      "(20+20j)\n",
      "20j\n",
      "(1+2j)\n",
      "(10+0j)\n"
     ]
    }
   ],
   "source": [
    "a = 10+20j\n",
    "b = 10\n",
    "c = complex(a) * int(b)\n",
    "d = complex(a) + int(b)\n",
    "e = complex(a) - int(b)\n",
    "f = complex(a) / int(b)\n",
    "g = complex(a) + int(b) - complex(a)\n",
    "print(c)\n",
    "print(d)\n",
    "print(e)\n",
    "print(f)\n",
    "print(g)"
   ]
  },
  {
   "cell_type": "code",
   "execution_count": 50,
   "metadata": {
    "colab": {
     "base_uri": "https://localhost:8080/"
    },
    "id": "oWP-hL7YsrT_",
    "outputId": "366f8c8f-b9ca-4bfc-e845-1be19aa78fcc"
   },
   "outputs": [
    {
     "name": "stdout",
     "output_type": "stream",
     "text": [
      "(100+200j)(20+20j)   20j_(1+2j)&&&(10+0j)***"
     ]
    }
   ],
   "source": [
    "print(c,end='') # end with nothing\n",
    "print(d,end='   ') # end with three spaces\n",
    "print(e,end='_') # end with under score\n",
    "print(f,end='&&&') # end with &\n",
    "print(g,end='***') # end with *"
   ]
  },
  {
   "cell_type": "code",
   "execution_count": 52,
   "metadata": {
    "colab": {
     "base_uri": "https://localhost:8080/"
    },
    "id": "6BlvJjS6ssHo",
    "outputId": "eb8c7697-6601-4fb4-a14b-4eca3012dab2"
   },
   "outputs": [
    {
     "name": "stdout",
     "output_type": "stream",
     "text": [
      "(100+200j) (20+20j) 20j (1+2j) (10+0j)\n"
     ]
    }
   ],
   "source": [
    "print(c, d, e, f, g)"
   ]
  },
  {
   "cell_type": "code",
   "execution_count": 56,
   "metadata": {
    "colab": {
     "base_uri": "https://localhost:8080/"
    },
    "id": "kTf24qLysscd",
    "outputId": "bedb2b7f-24b1-4168-db67-ee6884f62752"
   },
   "outputs": [
    {
     "name": "stdout",
     "output_type": "stream",
     "text": [
      "(100+200j)(20+20j)20j(1+2j)(10+0j)(100+200j)   (20+20j)   20j   (1+2j)   (10+0j)\u0002(100+200j)***(20+20j)***20j***(1+2j)***(10+0j)\n",
      "(100+200j)&&&(20+20j)&&&20j&&&(1+2j)&&&(10+0j)\n"
     ]
    }
   ],
   "source": [
    "print(c, d, e, f, g,sep='',end='')\n",
    "print(c, d, e, f, g,sep='   ',end='\\2')\n",
    "print(c, d, e, f, g,sep='***')\n",
    "print(c, d, e, f, g,sep='&&&')"
   ]
  },
  {
   "cell_type": "code",
   "execution_count": null,
   "metadata": {
    "id": "RiPQBEVZsssi"
   },
   "outputs": [],
   "source": [
    ""
   ]
  },
  {
   "cell_type": "code",
   "execution_count": null,
   "metadata": {
    "id": "JJLbweqFss63"
   },
   "outputs": [],
   "source": [
    ""
   ]
  },
  {
   "cell_type": "code",
   "execution_count": null,
   "metadata": {
    "id": "G7tgUgNastIk"
   },
   "outputs": [],
   "source": [
    ""
   ]
  },
  {
   "cell_type": "code",
   "execution_count": null,
   "metadata": {
    "id": "Ud7l-qujsty1"
   },
   "outputs": [],
   "source": [
    ""
   ]
  },
  {
   "cell_type": "code",
   "execution_count": null,
   "metadata": {
    "id": "7pt4V6O0suAT"
   },
   "outputs": [],
   "source": [
    ""
   ]
  }
 ],
 "metadata": {
  "colab": {
   "collapsed_sections": [],
   "name": "Data Type_ int,float,boolean,print.ipynb",
   "provenance": []
  },
  "kernelspec": {
   "display_name": "Python 3",
   "name": "python3"
  },
  "language_info": {
   "name": "python"
  }
 },
 "nbformat": 4,
 "nbformat_minor": 0
}
