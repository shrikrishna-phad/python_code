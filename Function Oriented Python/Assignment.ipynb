{
 "cells": [
  {
   "cell_type": "markdown",
   "id": "860b6598",
   "metadata": {},
   "source": [
    "# In Email seprate username and domain name"
   ]
  },
  {
   "cell_type": "code",
   "execution_count": 3,
   "id": "1a4f1a99",
   "metadata": {},
   "outputs": [],
   "source": [
    "list_emails = ['scoodenpythonclass@gmail.com', 'sumaiya.mujawar1998@gmail.com', 'sachinp339@gmail.com', 'dhokanelikesh88@gmail.com', 'jyotikilledar37@gmail.com', 'jagrutibhavsar26@gmail.com', 'vaibhavranejtm@gmail.com', 'subhashish.9@gmail.com', 'shubhamkarale880@gmail.com', 'nitinsayshe@gmail.com', 'ram.sherepatil@gmail.com', 'amarbiradar999@gmail.com', 'sasha00007@gmail.com', 'abhiyadav289@gmail.com', 'suhail.konnur01@gmail.com', 'poojakakulate1@gmail.com', 'shrikrishna.phad@gmail.com', 'abhijitiratkar@gmail.com', 'awad.supriya5@gmail.com', 'mayuthakare@gmail.com', 'shubhamjagtap528@gmail.com', 'ankitabansod66@gmail.com', 'swaralishete25@gmail.com', 'shwetadugga@gmail.com', 'dnyaneshwarpawar5551@gmail.com', 'omkeshm90@gmail.com', 'bhagwatpanjali@gmail.com', 'priyanka27suryavanshi@gmail.com', 'pranavkanholikar@gmail.com', 'jagdishnainani1997@gmail.com', 'ganesh.n.mandape@gmail.com', 'shrikantpatil2341@gmail.com', 'shahv124@gmail.com', 'shubham.memane06@gmail.com', 'poojapatil6884@gmail.com', 'shraddhasarode15@gmail.com', 'akashshirke1995@gmail.com', 'abirmeshram147@gmail.com', 'chirangidhabale04@gmail.com']"
   ]
  },
  {
   "cell_type": "code",
   "execution_count": 4,
   "id": "a3dddc05",
   "metadata": {},
   "outputs": [
    {
     "data": {
      "text/plain": [
       "39"
      ]
     },
     "execution_count": 4,
     "metadata": {},
     "output_type": "execute_result"
    }
   ],
   "source": [
    "len(list_emails)"
   ]
  },
  {
   "cell_type": "code",
   "execution_count": 5,
   "id": "df45e1bb",
   "metadata": {},
   "outputs": [
    {
     "name": "stdout",
     "output_type": "stream",
     "text": [
      "user_name: ['scoodenpythonclass', 'sumaiya.mujawar1998', 'sachinp339', 'dhokanelikesh88', 'jyotikilledar37', 'jagrutibhavsar26', 'vaibhavranejtm', 'subhashish.9', 'shubhamkarale880', 'nitinsayshe', 'ram.sherepatil', 'amarbiradar999', 'sasha00007', 'abhiyadav289', 'suhail.konnur01', 'poojakakulate1', 'shrikrishna.phad', 'abhijitiratkar', 'awad.supriya5', 'mayuthakare', 'shubhamjagtap528', 'ankitabansod66', 'swaralishete25', 'shwetadugga', 'dnyaneshwarpawar5551', 'omkeshm90', 'bhagwatpanjali', 'priyanka27suryavanshi', 'pranavkanholikar', 'jagdishnainani1997', 'ganesh.n.mandape', 'shrikantpatil2341', 'shahv124', 'shubham.memane06', 'poojapatil6884', 'shraddhasarode15', 'akashshirke1995', 'abirmeshram147', 'chirangidhabale04']\n",
      "----------------------------------------------------------------------------------------------------\n",
      "domain_name: ['gmail.com', 'gmail.com', 'gmail.com', 'gmail.com', 'gmail.com', 'gmail.com', 'gmail.com', 'gmail.com', 'gmail.com', 'gmail.com', 'gmail.com', 'gmail.com', 'gmail.com', 'gmail.com', 'gmail.com', 'gmail.com', 'gmail.com', 'gmail.com', 'gmail.com', 'gmail.com', 'gmail.com', 'gmail.com', 'gmail.com', 'gmail.com', 'gmail.com', 'gmail.com', 'gmail.com', 'gmail.com', 'gmail.com', 'gmail.com', 'gmail.com', 'gmail.com', 'gmail.com', 'gmail.com', 'gmail.com', 'gmail.com', 'gmail.com', 'gmail.com', 'gmail.com']\n"
     ]
    }
   ],
   "source": [
    "user_name = []\n",
    "domain_name = []\n",
    "for i in list_emails:\n",
    "    s = i.split('@')\n",
    "    user_name.append(s[0])\n",
    "    domain_name.append(s[1])\n",
    "print(f\"user_name: {user_name}\")\n",
    "print(\"-\"*100)\n",
    "print(f\"domain_name: {domain_name}\")"
   ]
  },
  {
   "cell_type": "code",
   "execution_count": 6,
   "id": "6685f7d8",
   "metadata": {},
   "outputs": [
    {
     "name": "stdout",
     "output_type": "stream",
     "text": [
      "s / u / m / a / i / y / a / . / m / u / j / a / w / a / r / 1 9 9 8 {0, 1, 2, 3, 4, 5, 6, 7, 8, 9} "
     ]
    }
   ],
   "source": [
    "a = 'sumaiya.mujawar1998'\n",
    "for i in a:\n",
    "    if i in {'0','1','2','3','4','5','6','7','8','9'}:\n",
    "        print(i,end=\" \")\n",
    "    else:\n",
    "        print(i,end=\" / \")\n",
    "print(set(range(10)),end=\" \")"
   ]
  },
  {
   "cell_type": "code",
   "execution_count": 7,
   "id": "748ca14c",
   "metadata": {},
   "outputs": [
    {
     "ename": "IndexError",
     "evalue": "list index out of range",
     "output_type": "error",
     "traceback": [
      "\u001b[1;31m---------------------------------------------------------------------------\u001b[0m",
      "\u001b[1;31mIndexError\u001b[0m                                Traceback (most recent call last)",
      "\u001b[1;32m<ipython-input-7-bfd4e2d0565c>\u001b[0m in \u001b[0;36m<module>\u001b[1;34m\u001b[0m\n\u001b[0;32m      5\u001b[0m     \u001b[0ms\u001b[0m \u001b[1;33m=\u001b[0m \u001b[0mi\u001b[0m\u001b[1;33m.\u001b[0m\u001b[0msplit\u001b[0m\u001b[1;33m(\u001b[0m\u001b[1;34m\".\"\u001b[0m\u001b[1;33m)\u001b[0m\u001b[1;33m\u001b[0m\u001b[1;33m\u001b[0m\u001b[0m\n\u001b[0;32m      6\u001b[0m     \u001b[1;32mfor\u001b[0m \u001b[0mj\u001b[0m \u001b[1;32min\u001b[0m \u001b[0ms\u001b[0m\u001b[1;33m[\u001b[0m\u001b[1;36m0\u001b[0m\u001b[1;33m]\u001b[0m\u001b[1;33m:\u001b[0m\u001b[1;33m\u001b[0m\u001b[1;33m\u001b[0m\u001b[0m\n\u001b[1;32m----> 7\u001b[1;33m         \u001b[1;32mfor\u001b[0m \u001b[0mk\u001b[0m \u001b[1;32min\u001b[0m \u001b[0ms\u001b[0m\u001b[1;33m[\u001b[0m\u001b[1;36m1\u001b[0m\u001b[1;33m]\u001b[0m\u001b[1;33m:\u001b[0m\u001b[1;33m\u001b[0m\u001b[1;33m\u001b[0m\u001b[0m\n\u001b[0m\u001b[0;32m      8\u001b[0m             \u001b[1;32mif\u001b[0m \u001b[1;34m'0'\u001b[0m \u001b[1;32min\u001b[0m \u001b[0mj\u001b[0m \u001b[1;32mand\u001b[0m \u001b[0mk\u001b[0m\u001b[1;33m:\u001b[0m\u001b[1;33m\u001b[0m\u001b[1;33m\u001b[0m\u001b[0m\n\u001b[0;32m      9\u001b[0m                 \u001b[0mc\u001b[0m \u001b[1;33m=\u001b[0m \u001b[1;32mTrue\u001b[0m\u001b[1;33m\u001b[0m\u001b[1;33m\u001b[0m\u001b[0m\n",
      "\u001b[1;31mIndexError\u001b[0m: list index out of range"
     ]
    }
   ],
   "source": [
    "user_name_withoutnumber = []\n",
    "user_name_withnumber = []\n",
    "c = False\n",
    "for i in user_name:\n",
    "    s = i.split(\".\")\n",
    "    for j in s[0]:\n",
    "        for k in s[1]:\n",
    "            if '0' in j and k:\n",
    "                c = True\n",
    "            elif '1' in j and k:\n",
    "                c = True\n",
    "            elif '2' in j and k:\n",
    "                c = True\n",
    "            elif '3' in j and k:\n",
    "                c = True\n",
    "            elif '4' in j and k:\n",
    "                c = True\n",
    "            elif '5' in j and k:\n",
    "                c = True\n",
    "            elif '6' in j and k:\n",
    "                c = True\n",
    "            elif '7' in j and k:\n",
    "                c = True\n",
    "            elif '8' in j and k:\n",
    "                c = True\n",
    "            elif '9' in j and k:\n",
    "                c = True\n",
    "    if c:\n",
    "        user_name_withnumber.append(i)\n",
    "    else:\n",
    "        user_name_withoutnumber.append(i)\n",
    "        \n",
    "print(user_name_withoutnumber)\n",
    "print(user_name_withnumber)"
   ]
  },
  {
   "cell_type": "code",
   "execution_count": 35,
   "id": "ea048337",
   "metadata": {},
   "outputs": [
    {
     "ename": "IndexError",
     "evalue": "list index out of range",
     "output_type": "error",
     "traceback": [
      "\u001b[1;31m---------------------------------------------------------------------------\u001b[0m",
      "\u001b[1;31mIndexError\u001b[0m                                Traceback (most recent call last)",
      "\u001b[1;32m<ipython-input-35-247a525d7803>\u001b[0m in \u001b[0;36m<module>\u001b[1;34m\u001b[0m\n\u001b[0;32m      4\u001b[0m \u001b[1;32mfor\u001b[0m \u001b[0mi\u001b[0m \u001b[1;32min\u001b[0m \u001b[0muser_name\u001b[0m\u001b[1;33m:\u001b[0m\u001b[1;33m\u001b[0m\u001b[1;33m\u001b[0m\u001b[0m\n\u001b[0;32m      5\u001b[0m     \u001b[0ms\u001b[0m \u001b[1;33m=\u001b[0m \u001b[0mi\u001b[0m\u001b[1;33m.\u001b[0m\u001b[0msplit\u001b[0m\u001b[1;33m(\u001b[0m\u001b[1;34m\".\"\u001b[0m\u001b[1;33m)\u001b[0m\u001b[1;33m\u001b[0m\u001b[1;33m\u001b[0m\u001b[0m\n\u001b[1;32m----> 6\u001b[1;33m     \u001b[1;32mif\u001b[0m \u001b[1;34m'0'\u001b[0m \u001b[1;32min\u001b[0m \u001b[0ms\u001b[0m\u001b[1;33m[\u001b[0m\u001b[1;36m0\u001b[0m\u001b[1;33m]\u001b[0m \u001b[1;32mor\u001b[0m \u001b[0ms\u001b[0m\u001b[1;33m[\u001b[0m\u001b[1;36m1\u001b[0m\u001b[1;33m]\u001b[0m\u001b[1;33m:\u001b[0m\u001b[1;33m\u001b[0m\u001b[1;33m\u001b[0m\u001b[0m\n\u001b[0m\u001b[0;32m      7\u001b[0m         \u001b[0mc\u001b[0m \u001b[1;33m=\u001b[0m \u001b[1;32mTrue\u001b[0m\u001b[1;33m\u001b[0m\u001b[1;33m\u001b[0m\u001b[0m\n\u001b[0;32m      8\u001b[0m     \u001b[1;32mif\u001b[0m \u001b[0mc\u001b[0m\u001b[1;33m:\u001b[0m\u001b[1;33m\u001b[0m\u001b[1;33m\u001b[0m\u001b[0m\n",
      "\u001b[1;31mIndexError\u001b[0m: list index out of range"
     ]
    }
   ],
   "source": [
    "user_name_withoutnumber = []\n",
    "user_name_withnumber = []\n",
    "c = False\n",
    "for i in user_name:\n",
    "    s = i.split(\".\")\n",
    "    if '0' in s[0] or s[1]:\n",
    "        c = True\n",
    "    if c:\n",
    "        user_name_withnumber.append(i)\n",
    "    else:\n",
    "        user_name_withoutnumber.append(i)\n",
    "\n",
    "\n",
    "            \n",
    "print(user_name_withnumber)\n",
    "print(\" \")\n",
    "print(user_name_withoutnumber)"
   ]
  },
  {
   "cell_type": "code",
   "execution_count": 8,
   "id": "595d6d3a",
   "metadata": {},
   "outputs": [
    {
     "ename": "SyntaxError",
     "evalue": "invalid syntax (<ipython-input-8-628a1473a9f5>, line 3)",
     "output_type": "error",
     "traceback": [
      "\u001b[1;36m  File \u001b[1;32m\"<ipython-input-8-628a1473a9f5>\"\u001b[1;36m, line \u001b[1;32m3\u001b[0m\n\u001b[1;33m    if i.\u001b[0m\n\u001b[1;37m         ^\u001b[0m\n\u001b[1;31mSyntaxError\u001b[0m\u001b[1;31m:\u001b[0m invalid syntax\n"
     ]
    }
   ],
   "source": [
    "users_of_gmail = []\n",
    "for i in domain_name:\n",
    "    if i."
   ]
  },
  {
   "cell_type": "code",
   "execution_count": 18,
   "id": "a6f2aa65",
   "metadata": {},
   "outputs": [
    {
     "name": "stdout",
     "output_type": "stream",
     "text": [
      "{'ram.sherepatil', 'akashshirke1995', 'mayuthakare', 'shraddhasarode15', 'jagrutibhavsar26', 'nitinsayshe', 'shrikrishna.phad', 'suhail.konnur01', 'shubhamkarale880', 'swaralishete25', 'shahv124', 'dnyaneshwarpawar5551', 'sasha00007', 'pranavkanholikar', 'abhijitiratkar', 'shrikantpatil2341', 'shubham.memane06', 'poojapatil6884', 'vaibhavranejtm', 'chirangidhabale04', 'awad.supriya5', 'ganesh.n.mandape', 'dhokanelikesh88', 'shwetadugga', 'amarbiradar999', 'bhagwatpanjali', 'subhashish.9', 'jagdishnainani1997', 'abirmeshram147', 'sumaiya.mujawar1998', 'abhiyadav289', 'poojakakulate1', 'sachinp339', 'priyanka27suryavanshi', 'omkeshm90', 'ankitabansod66', 'shubhamjagtap528', 'jyotikilledar37'}\n",
      " \n",
      "{'sumaiya.mujawar1998', 'scoodenpythonclass'}\n"
     ]
    }
   ],
   "source": [
    "user_name_withoutnumber = []\n",
    "user_name_withnumber = []\n",
    "c = False\n",
    "for i in user_name:\n",
    "    for j in i:\n",
    "        if str(j).isnumeric():\n",
    "            c = True\n",
    "        if c:\n",
    "            user_name_withnumber.append(i)\n",
    "        else:\n",
    "            user_name_withoutnumber.append(i)\n",
    "\n",
    "\n",
    "user_name_withnumber = set(user_name_withnumber)\n",
    "user_name_withoutnumber = set(user_name_withoutnumber)\n",
    "print(user_name_withnumber)\n",
    "print(\" \")\n",
    "print(user_name_withoutnumber)"
   ]
  },
  {
   "cell_type": "code",
   "execution_count": null,
   "id": "a1a17f73",
   "metadata": {},
   "outputs": [],
   "source": []
  },
  {
   "cell_type": "code",
   "execution_count": null,
   "id": "e1ab3992",
   "metadata": {},
   "outputs": [],
   "source": []
  },
  {
   "cell_type": "markdown",
   "id": "2868ec24",
   "metadata": {},
   "source": [
    "***Seprate ids w/o alphabet***"
   ]
  },
  {
   "cell_type": "code",
   "execution_count": 1,
   "id": "1d231bec",
   "metadata": {},
   "outputs": [
    {
     "name": "stdout",
     "output_type": "stream",
     "text": [
      "['12546', '43334', '835434']\n"
     ]
    }
   ],
   "source": [
    "prod_id = ['ab1025','cd2564','12546','43334','kgh146','ggkuf64564','835434']\n",
    "numeric = []\n",
    "def only_numeric(x):\n",
    "    for i in x:\n",
    "        if i.isnumeric():\n",
    "            numeric.append(i)\n",
    "    print(numeric)\n",
    "\n",
    "only_numeric(prod_id)"
   ]
  }
 ],
 "metadata": {
  "kernelspec": {
   "display_name": "Python 3",
   "language": "python",
   "name": "python3"
  },
  "language_info": {
   "codemirror_mode": {
    "name": "ipython",
    "version": 3
   },
   "file_extension": ".py",
   "mimetype": "text/x-python",
   "name": "python",
   "nbconvert_exporter": "python",
   "pygments_lexer": "ipython3",
   "version": "3.8.8"
  }
 },
 "nbformat": 4,
 "nbformat_minor": 5
}
