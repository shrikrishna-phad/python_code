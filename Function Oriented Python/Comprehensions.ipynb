{
 "cells": [
  {
   "cell_type": "markdown",
   "id": "f495be1a",
   "metadata": {},
   "source": [
    "## # ***Comprehension***\n",
    "\n",
    "---> List comprehension is most importent among all comprehensions.\n",
    "---> It just reduces the number of lines of code.\n",
    "---> Comprehension can be done on --> List\n",
    "                                  --> Set\n",
    "                                  --> Dict\n",
    "---> **Tuple** comprehension is **not possible**.\n",
    "---> If we tried it will generate a **Generater object**\n",
    "\n",
    "[Output_Veriable for loop sequence if condition]\n",
    "     \\             \\___>___/  \\____>___/  /\n",
    "      \\                                  /\n",
    "       \\_______________<________________/\n"
   ]
  },
  {
   "cell_type": "code",
   "execution_count": 1,
   "id": "096e7d7c",
   "metadata": {},
   "outputs": [],
   "source": [
    "p = list(range(1,25)) # Extract even numbers"
   ]
  },
  {
   "cell_type": "code",
   "execution_count": 3,
   "id": "dfa101bd",
   "metadata": {},
   "outputs": [
    {
     "name": "stdout",
     "output_type": "stream",
     "text": [
      "[2, 4, 6, 8, 10, 12, 14, 16, 18, 20, 22, 24]\n"
     ]
    }
   ],
   "source": [
    "# By regular method\n",
    "\n",
    "even = []\n",
    "for i in p:\n",
    "    if i%2 == 0:\n",
    "        even.append(i)\n",
    "\n",
    "print(even)"
   ]
  },
  {
   "cell_type": "code",
   "execution_count": 48,
   "id": "7538c713",
   "metadata": {},
   "outputs": [
    {
     "name": "stdout",
     "output_type": "stream",
     "text": [
      "[2, 4, 6, 8, 10, 12, 14, 16, 18, 20, 22, 24]\n"
     ]
    }
   ],
   "source": [
    "# By list Comprehension\n",
    "\n",
    "even = [i for i in p if i%2==0]\n",
    "print(even)"
   ]
  },
  {
   "cell_type": "code",
   "execution_count": null,
   "id": "7ecae7f7",
   "metadata": {},
   "outputs": [],
   "source": []
  },
  {
   "cell_type": "markdown",
   "id": "371d2dfa",
   "metadata": {},
   "source": [
    "*Set Comprehension*"
   ]
  },
  {
   "cell_type": "code",
   "execution_count": 52,
   "id": "fa780d9a",
   "metadata": {},
   "outputs": [
    {
     "name": "stdout",
     "output_type": "stream",
     "text": [
      "{2, 4, 6, 8, 10, 12, 14, 16, 18, 20, 22, 24}\n",
      "{2, 4, 6, 8, 10, 12, 14, 16, 18, 20, 22, 24}\n"
     ]
    }
   ],
   "source": [
    "even = {i for i in p if i%2==0} # Saves result in set, just like *Type Casting*\n",
    "print(even)\n",
    "\n",
    "# OR\n",
    "\n",
    "s = set(range(1,25))\n",
    "even_set = {i for i in s if i%2==0}\n",
    "print(even_set)"
   ]
  },
  {
   "cell_type": "code",
   "execution_count": null,
   "id": "ea7f4bc2",
   "metadata": {},
   "outputs": [],
   "source": []
  },
  {
   "cell_type": "markdown",
   "id": "b333066a",
   "metadata": {},
   "source": [
    "*Dict Comprehension*"
   ]
  },
  {
   "cell_type": "code",
   "execution_count": 69,
   "id": "f1e59e74",
   "metadata": {},
   "outputs": [
    {
     "name": "stdout",
     "output_type": "stream",
     "text": [
      "{2: 2, 4: 4, 6: 6, 8: 8, 10: 10, 12: 12, 14: 14, 16: 16, 18: 18, 20: 20, 22: 22, 24: 24}\n",
      "{1: None, 2: None, 3: None, 4: None, 5: None, 6: None, 7: None, 8: None, 9: None}\n",
      "{2: 2, 4: 4, 6: 6, 8: 8}\n"
     ]
    }
   ],
   "source": [
    "even = {i:i for i in p if i%2==0} # Saves result in dict, like *Type Casting*\n",
    "print(even)\n",
    "\n",
    "d = dict.fromkeys(range(1,10))\n",
    "print(d)\n",
    "even_dict = {i:i for i in d if i%2==0}\n",
    "print(even_dict)\n"
   ]
  },
  {
   "cell_type": "code",
   "execution_count": 70,
   "id": "ef37d28a",
   "metadata": {},
   "outputs": [
    {
     "ename": "TypeError",
     "evalue": "cannot unpack non-iterable int object",
     "output_type": "error",
     "traceback": [
      "\u001b[1;31m---------------------------------------------------------------------------\u001b[0m",
      "\u001b[1;31mTypeError\u001b[0m                                 Traceback (most recent call last)",
      "\u001b[1;32m<ipython-input-70-ffc6750abf8b>\u001b[0m in \u001b[0;36m<module>\u001b[1;34m\u001b[0m\n\u001b[1;32m----> 1\u001b[1;33m \u001b[0mz\u001b[0m \u001b[1;33m=\u001b[0m \u001b[1;33m{\u001b[0m\u001b[0mi\u001b[0m\u001b[1;33m:\u001b[0m\u001b[0mj\u001b[0m \u001b[1;32mfor\u001b[0m \u001b[0mi\u001b[0m\u001b[1;33m,\u001b[0m\u001b[0mj\u001b[0m \u001b[1;32min\u001b[0m \u001b[0meven_dict\u001b[0m \u001b[1;32mif\u001b[0m \u001b[0mi\u001b[0m\u001b[1;33m%\u001b[0m\u001b[1;36m2\u001b[0m\u001b[1;33m==\u001b[0m\u001b[1;36m0\u001b[0m \u001b[1;32mor\u001b[0m \u001b[0mj\u001b[0m\u001b[1;33m%\u001b[0m\u001b[1;36m2\u001b[0m\u001b[1;33m==\u001b[0m\u001b[1;36m0\u001b[0m\u001b[1;33m}\u001b[0m\u001b[1;33m\u001b[0m\u001b[1;33m\u001b[0m\u001b[0m\n\u001b[0m\u001b[0;32m      2\u001b[0m \u001b[0mprint\u001b[0m\u001b[1;33m(\u001b[0m\u001b[0mz\u001b[0m\u001b[1;33m)\u001b[0m\u001b[1;33m\u001b[0m\u001b[1;33m\u001b[0m\u001b[0m\n",
      "\u001b[1;32m<ipython-input-70-ffc6750abf8b>\u001b[0m in \u001b[0;36m<dictcomp>\u001b[1;34m(.0)\u001b[0m\n\u001b[1;32m----> 1\u001b[1;33m \u001b[0mz\u001b[0m \u001b[1;33m=\u001b[0m \u001b[1;33m{\u001b[0m\u001b[0mi\u001b[0m\u001b[1;33m:\u001b[0m\u001b[0mj\u001b[0m \u001b[1;32mfor\u001b[0m \u001b[0mi\u001b[0m\u001b[1;33m,\u001b[0m\u001b[0mj\u001b[0m \u001b[1;32min\u001b[0m \u001b[0meven_dict\u001b[0m \u001b[1;32mif\u001b[0m \u001b[0mi\u001b[0m\u001b[1;33m%\u001b[0m\u001b[1;36m2\u001b[0m\u001b[1;33m==\u001b[0m\u001b[1;36m0\u001b[0m \u001b[1;32mor\u001b[0m \u001b[0mj\u001b[0m\u001b[1;33m%\u001b[0m\u001b[1;36m2\u001b[0m\u001b[1;33m==\u001b[0m\u001b[1;36m0\u001b[0m\u001b[1;33m}\u001b[0m\u001b[1;33m\u001b[0m\u001b[1;33m\u001b[0m\u001b[0m\n\u001b[0m\u001b[0;32m      2\u001b[0m \u001b[0mprint\u001b[0m\u001b[1;33m(\u001b[0m\u001b[0mz\u001b[0m\u001b[1;33m)\u001b[0m\u001b[1;33m\u001b[0m\u001b[1;33m\u001b[0m\u001b[0m\n",
      "\u001b[1;31mTypeError\u001b[0m: cannot unpack non-iterable int object"
     ]
    }
   ],
   "source": [
    "z = {i:j for i,j in even_dict if i%2==0 or j%2==0}\n",
    "print(z)"
   ]
  },
  {
   "cell_type": "code",
   "execution_count": 80,
   "id": "519cf4ce",
   "metadata": {},
   "outputs": [
    {
     "name": "stdout",
     "output_type": "stream",
     "text": [
      "{1: 1, 2: 2, 3: 3, 4: 4, 5: 5, 6: 6, 7: 7, 8: 8, 9: 9, 10: 10, 11: 11, 12: 12, 13: 13, 14: 14, 15: 15, 16: 16, 17: 17, 18: 18, 19: 19, 20: 20, 21: 21, 22: 22, 23: 23, 24: 24, 25: 25}\n"
     ]
    }
   ],
   "source": [
    "f = {i:i for i in range(1,26)}\n",
    "print(f)"
   ]
  },
  {
   "cell_type": "code",
   "execution_count": 92,
   "id": "2c7bf476",
   "metadata": {},
   "outputs": [
    {
     "name": "stdout",
     "output_type": "stream",
     "text": [
      "{2: 2, 3: 4, 4: 6, 5: 8, 6: 10, 7: 12, 8: 14, 9: 16, 10: 18, 11: 20, 12: 22, 13: 24, 14: 26, 15: 28, 16: 30, 17: 32, 18: 34, 19: 36, 20: 38, 21: 40, 22: 42, 23: 44, 24: 46, 25: 48, 26: 50}\n"
     ]
    }
   ],
   "source": [
    "f = {i+1:i*2 for i in range(1,26)}\n",
    "print(f)"
   ]
  },
  {
   "cell_type": "code",
   "execution_count": null,
   "id": "402c71fd",
   "metadata": {},
   "outputs": [],
   "source": []
  },
  {
   "cell_type": "code",
   "execution_count": 90,
   "id": "d27f504d",
   "metadata": {},
   "outputs": [
    {
     "name": "stdout",
     "output_type": "stream",
     "text": [
      "[(1, 5, 10), (1, 5, 20), (1, 5, 30), (1, 5, 40), (1, 6, 10), (1, 6, 20), (1, 6, 30), (1, 6, 40), (1, 7, 10), (1, 7, 20), (1, 7, 30), (1, 7, 40), (1, 8, 10), (1, 8, 20), (1, 8, 30), (1, 8, 40), (2, 5, 10), (2, 5, 20), (2, 5, 30), (2, 5, 40), (2, 6, 10), (2, 6, 20), (2, 6, 30), (2, 6, 40), (2, 7, 10), (2, 7, 20), (2, 7, 30), (2, 7, 40), (2, 8, 10), (2, 8, 20), (2, 8, 30), (2, 8, 40), (3, 5, 10), (3, 5, 20), (3, 5, 30), (3, 5, 40), (3, 6, 10), (3, 6, 20), (3, 6, 30), (3, 6, 40), (3, 7, 10), (3, 7, 20), (3, 7, 30), (3, 7, 40), (3, 8, 10), (3, 8, 20), (3, 8, 30), (3, 8, 40), (4, 5, 10), (4, 5, 20), (4, 5, 30), (4, 5, 40), (4, 6, 10), (4, 6, 20), (4, 6, 30), (4, 6, 40), (4, 7, 10), (4, 7, 20), (4, 7, 30), (4, 7, 40), (4, 8, 10), (4, 8, 20), (4, 8, 30), (4, 8, 40)]\n"
     ]
    }
   ],
   "source": [
    "p = [1,2,3,4]\n",
    "q = [5,6,7,8]\n",
    "\n",
    "o = [(i,j,k) for i in p for j in q for k in [10,20,30,40]]\n",
    "print(o)"
   ]
  },
  {
   "cell_type": "code",
   "execution_count": 93,
   "id": "fef757ef",
   "metadata": {},
   "outputs": [
    {
     "name": "stdout",
     "output_type": "stream",
     "text": [
      "[{1, 10, 5}, {1, 20, 5}, {1, 5, 30}, {40, 1, 5}, {1, 10, 6}, {1, 20, 6}, {1, 6, 30}, {40, 1, 6}, {1, 10, 7}, {1, 20, 7}, {1, 30, 7}, {40, 1, 7}, {8, 1, 10}, {8, 1, 20}, {8, 1, 30}, {8, 1, 40}, {2, 10, 5}, {2, 20, 5}, {2, 5, 30}, {40, 2, 5}, {2, 10, 6}, {2, 20, 6}, {2, 6, 30}, {40, 2, 6}, {2, 10, 7}, {2, 20, 7}, {2, 30, 7}, {40, 2, 7}, {8, 2, 10}, {8, 2, 20}, {8, 2, 30}, {8, 2, 40}, {10, 3, 5}, {3, 20, 5}, {3, 5, 30}, {40, 3, 5}, {10, 3, 6}, {3, 20, 6}, {3, 6, 30}, {40, 3, 6}, {10, 3, 7}, {3, 20, 7}, {3, 30, 7}, {40, 3, 7}, {8, 10, 3}, {8, 3, 20}, {8, 3, 30}, {8, 40, 3}, {10, 4, 5}, {20, 4, 5}, {4, 5, 30}, {40, 4, 5}, {10, 4, 6}, {4, 20, 6}, {4, 6, 30}, {40, 4, 6}, {10, 4, 7}, {4, 20, 7}, {4, 30, 7}, {40, 4, 7}, {8, 10, 4}, {8, 4, 20}, {8, 4, 30}, {8, 40, 4}]\n"
     ]
    }
   ],
   "source": [
    "o = [{i,j,k} for i in p for j in q for k in [10,20,30,40]]\n",
    "print(o)"
   ]
  },
  {
   "cell_type": "code",
   "execution_count": 94,
   "id": "8daf1f06",
   "metadata": {},
   "outputs": [
    {
     "name": "stdout",
     "output_type": "stream",
     "text": [
      "[[1, 5, 10], [1, 5, 20], [1, 5, 30], [1, 5, 40], [1, 6, 10], [1, 6, 20], [1, 6, 30], [1, 6, 40], [1, 7, 10], [1, 7, 20], [1, 7, 30], [1, 7, 40], [1, 8, 10], [1, 8, 20], [1, 8, 30], [1, 8, 40], [2, 5, 10], [2, 5, 20], [2, 5, 30], [2, 5, 40], [2, 6, 10], [2, 6, 20], [2, 6, 30], [2, 6, 40], [2, 7, 10], [2, 7, 20], [2, 7, 30], [2, 7, 40], [2, 8, 10], [2, 8, 20], [2, 8, 30], [2, 8, 40], [3, 5, 10], [3, 5, 20], [3, 5, 30], [3, 5, 40], [3, 6, 10], [3, 6, 20], [3, 6, 30], [3, 6, 40], [3, 7, 10], [3, 7, 20], [3, 7, 30], [3, 7, 40], [3, 8, 10], [3, 8, 20], [3, 8, 30], [3, 8, 40], [4, 5, 10], [4, 5, 20], [4, 5, 30], [4, 5, 40], [4, 6, 10], [4, 6, 20], [4, 6, 30], [4, 6, 40], [4, 7, 10], [4, 7, 20], [4, 7, 30], [4, 7, 40], [4, 8, 10], [4, 8, 20], [4, 8, 30], [4, 8, 40]]\n"
     ]
    }
   ],
   "source": [
    "o = [[i,j,k] for i in p for j in q for k in [10,20,30,40]]\n",
    "print(o)"
   ]
  },
  {
   "cell_type": "code",
   "execution_count": 100,
   "id": "312247ce",
   "metadata": {},
   "outputs": [
    {
     "name": "stdout",
     "output_type": "stream",
     "text": [
      "[{1: 5}, {1: 6}, {1: 7}, {1: 8}, {2: 5}, {2: 6}, {2: 7}, {2: 8}, {3: 5}, {3: 6}, {3: 7}, {3: 8}, {4: 5}, {4: 6}, {4: 7}, {4: 8}]\n"
     ]
    }
   ],
   "source": [
    "o = [{i:j} for i in p for j in q ]\n",
    "print(o)"
   ]
  },
  {
   "cell_type": "code",
   "execution_count": 102,
   "id": "f6644888",
   "metadata": {},
   "outputs": [],
   "source": [
    "city = ['pune','banglore','chennai','baroda']"
   ]
  },
  {
   "cell_type": "code",
   "execution_count": 103,
   "id": "e2556466",
   "metadata": {},
   "outputs": [
    {
     "name": "stdout",
     "output_type": "stream",
     "text": [
      "['pune', 'chennai', 'baroda']\n"
     ]
    }
   ],
   "source": [
    "d = [c for c in city if c not in ['banglore']]\n",
    "print(d)"
   ]
  },
  {
   "cell_type": "markdown",
   "id": "e0cfda82",
   "metadata": {},
   "source": [
    "***Questions Assignment***"
   ]
  },
  {
   "cell_type": "markdown",
   "id": "0e44c623",
   "metadata": {},
   "source": [
    "Q1. Print cubes of odd numbers between 1 to 50."
   ]
  },
  {
   "cell_type": "code",
   "execution_count": 106,
   "id": "53d0dae6",
   "metadata": {},
   "outputs": [
    {
     "name": "stdout",
     "output_type": "stream",
     "text": [
      "[1, 27, 125, 343, 729, 1331, 2197, 3375, 4913, 6859, 9261, 12167, 15625, 19683, 24389, 29791, 35937, 42875, 50653, 59319, 68921, 79507, 91125, 103823, 117649]\n"
     ]
    }
   ],
   "source": [
    "odd_no = [i**3 for i in range(1,51) if i%2!=0]\n",
    "print(odd_no)"
   ]
  },
  {
   "cell_type": "code",
   "execution_count": null,
   "id": "0c443e4a",
   "metadata": {},
   "outputs": [],
   "source": []
  },
  {
   "cell_type": "markdown",
   "id": "db38eaf3",
   "metadata": {},
   "source": [
    "Q2. In city list extract length of city."
   ]
  },
  {
   "cell_type": "code",
   "execution_count": 108,
   "id": "7a02218c",
   "metadata": {},
   "outputs": [
    {
     "name": "stdout",
     "output_type": "stream",
     "text": [
      "[4, 8, 7, 6]\n"
     ]
    }
   ],
   "source": [
    "len_city = [len(i) for i in city]\n",
    "print(len_city)"
   ]
  },
  {
   "cell_type": "code",
   "execution_count": null,
   "id": "f2dff60a",
   "metadata": {},
   "outputs": [],
   "source": []
  },
  {
   "cell_type": "markdown",
   "id": "6c5da82b",
   "metadata": {},
   "source": [
    "Q3. In city list print {'city_name':length}."
   ]
  },
  {
   "cell_type": "code",
   "execution_count": 109,
   "id": "46b5aa58",
   "metadata": {},
   "outputs": [
    {
     "name": "stdout",
     "output_type": "stream",
     "text": [
      "{'pune': 4, 'banglore': 8, 'chennai': 7, 'baroda': 6}\n"
     ]
    }
   ],
   "source": [
    "len_city1 = {i:len(i) for i in city}\n",
    "print(len_city1)"
   ]
  },
  {
   "cell_type": "code",
   "execution_count": 110,
   "id": "82a4c7a7",
   "metadata": {},
   "outputs": [],
   "source": [
    "location = ['pune','banglore','chennai','baroda','ahmedabad','europe','odisha','indore','uranus','dadario','faridabad','goa','hariyana','zambia']"
   ]
  },
  {
   "cell_type": "code",
   "execution_count": 112,
   "id": "1c2056e3",
   "metadata": {},
   "outputs": [
    {
     "name": "stdout",
     "output_type": "stream",
     "text": [
      "{'pune': 4, 'banglore': 8, 'chennai': 7, 'baroda': 6, 'ahmedabad': 9, 'europe': 6, 'odisha': 6, 'indore': 6, 'uranus': 6, 'dadario': 7, 'faridabad': 9, 'goa': 3, 'hariyana': 8, 'zambia': 6}\n"
     ]
    }
   ],
   "source": [
    "len_city2 = {i:len(i) for i in location}\n",
    "print(len_city2)"
   ]
  },
  {
   "cell_type": "code",
   "execution_count": null,
   "id": "dcec7728",
   "metadata": {},
   "outputs": [],
   "source": []
  },
  {
   "cell_type": "markdown",
   "id": "32d70cf0",
   "metadata": {},
   "source": [
    "Q4. Only the strings that starts with 'a','e','i','o' & 'u'."
   ]
  },
  {
   "cell_type": "code",
   "execution_count": 118,
   "id": "1478abde",
   "metadata": {},
   "outputs": [
    {
     "name": "stdout",
     "output_type": "stream",
     "text": [
      "['ahmedabad', 'europe', 'odisha', 'indore', 'uranus']\n"
     ]
    }
   ],
   "source": [
    "nonvoval = [i for i in location if i.startswith('a') or i.startswith('e') or i.startswith('i') or i.startswith('o') or i.startswith('u')]\n",
    "print(nonvoval)"
   ]
  },
  {
   "cell_type": "code",
   "execution_count": 122,
   "id": "27aa6d44",
   "metadata": {},
   "outputs": [
    {
     "name": "stdout",
     "output_type": "stream",
     "text": [
      "['ahmedabad', 'europe', 'odisha', 'indore', 'uranus']\n"
     ]
    }
   ],
   "source": [
    "a = ('a','e','i','o','u')\n",
    "nonvoval = [i for i in location if i.startswith(a)]\n",
    "print(nonvoval)"
   ]
  },
  {
   "cell_type": "code",
   "execution_count": null,
   "id": "f654932f",
   "metadata": {},
   "outputs": [],
   "source": []
  },
  {
   "cell_type": "markdown",
   "id": "ce2a1852",
   "metadata": {},
   "source": [
    "Q.5 In list (range(1,100)) ignore 1,7,33,77."
   ]
  },
  {
   "cell_type": "code",
   "execution_count": 123,
   "id": "587fa7ab",
   "metadata": {},
   "outputs": [
    {
     "name": "stdout",
     "output_type": "stream",
     "text": [
      "[2, 3, 4, 5, 6, 8, 9, 10, 11, 12, 13, 14, 15, 16, 17, 18, 19, 20, 21, 22, 23, 24, 25, 26, 27, 28, 29, 30, 31, 32, 34, 35, 36, 37, 38, 39, 40, 41, 42, 43, 44, 45, 46, 47, 48, 49, 50, 51, 52, 53, 54, 55, 56, 57, 58, 59, 60, 61, 62, 63, 64, 65, 66, 67, 68, 69, 70, 71, 72, 73, 74, 75, 76, 78, 79, 80, 81, 82, 83, 84, 85, 86, 87, 88, 89, 90, 91, 92, 93, 94, 95, 96, 97, 98, 99]\n"
     ]
    }
   ],
   "source": [
    "z = [i for i in range(1,100) if i not in [1,7,33,77]]\n",
    "print(z)"
   ]
  },
  {
   "cell_type": "code",
   "execution_count": null,
   "id": "d8d438ef",
   "metadata": {},
   "outputs": [],
   "source": []
  },
  {
   "cell_type": "markdown",
   "id": "22f7b339",
   "metadata": {},
   "source": [
    "Q6. Print only first letter of string in capitalcase."
   ]
  },
  {
   "cell_type": "code",
   "execution_count": 128,
   "id": "40e690f2",
   "metadata": {},
   "outputs": [
    {
     "name": "stdout",
     "output_type": "stream",
     "text": [
      "['P', 'B', 'C', 'B', 'A', 'E', 'O', 'I', 'U', 'D', 'F', 'G', 'H', 'Z']\n"
     ]
    }
   ],
   "source": [
    "capital = [i[0].upper() for i in location]\n",
    "print(capital)"
   ]
  },
  {
   "cell_type": "code",
   "execution_count": null,
   "id": "99019945",
   "metadata": {},
   "outputs": [],
   "source": []
  }
 ],
 "metadata": {
  "kernelspec": {
   "display_name": "Python 3",
   "language": "python",
   "name": "python3"
  },
  "language_info": {
   "codemirror_mode": {
    "name": "ipython",
    "version": 3
   },
   "file_extension": ".py",
   "mimetype": "text/x-python",
   "name": "python",
   "nbconvert_exporter": "python",
   "pygments_lexer": "ipython3",
   "version": "3.8.8"
  }
 },
 "nbformat": 4,
 "nbformat_minor": 5
}
