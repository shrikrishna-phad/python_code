{
 "cells": [
  {
   "cell_type": "markdown",
   "metadata": {
    "id": "0UPw7MHxSh0o"
   },
   "source": [
    "***CONTROL STATMENTS***\n",
    "\n",
    "---> There are three type of control statements.\n",
    "1. **Conditional**\n",
    "      1. simple **if** ---> For Only one condition either True or False\n",
    "      2. **if-else** ---> For two conditions\n",
    "      3. **if-else ladder** ---> For more than two conditions \n",
    "      4. **Nested if-else** ---> For more than two conditions\n",
    "2. **Transfer**\n",
    "      1. **break**\n",
    "      2. **continue**\n",
    "      3. **pass**\n",
    "3. **Iterative**\n",
    "      1. **for**\n",
    "      2. **while**"
   ]
  },
  {
   "cell_type": "code",
   "execution_count": null,
   "metadata": {
    "id": "zgj9Ai9_jirz"
   },
   "outputs": [],
   "source": [
    ""
   ]
  },
  {
   "cell_type": "markdown",
   "metadata": {
    "id": "ihswJaoNlISn"
   },
   "source": [
    "***Simple IF***\n",
    "\n",
    "    if condition:\n",
    "       statement\n",
    "---> Checks if condition satisfies if it does then and then only exicutes statement."
   ]
  },
  {
   "cell_type": "code",
   "execution_count": null,
   "metadata": {
    "colab": {
     "base_uri": "https://localhost:8080/"
    },
    "id": "k0tP5vYOlHx1",
    "outputId": "69e40dd8-94b1-4c77-e47a-24cab6a92e0a"
   },
   "outputs": [
    {
     "name": "stdout",
     "output_type": "stream",
     "text": [
      "Welcome to Vaccine Detection\n",
      "Enter your age: 25\n",
      "Thanks for using our services\n"
     ]
    }
   ],
   "source": [
    "print('Welcome to Vaccine Detection')\n",
    "age = int(input('Enter your age: '))\n",
    "if age>=45:\n",
    "  print(f'your age is {age} which is more than 45 so you are on the priority')\n",
    "print('Thanks for using our services')"
   ]
  },
  {
   "cell_type": "code",
   "execution_count": null,
   "metadata": {
    "colab": {
     "base_uri": "https://localhost:8080/"
    },
    "id": "oYhmHGuGlHjV",
    "outputId": "14216721-b35a-45a0-d3cf-af5a8de84c25"
   },
   "outputs": [
    {
     "name": "stdout",
     "output_type": "stream",
     "text": [
      "Welcome to Vaccine Detection\n",
      "Enter your age: 65\n",
      "your age is 65 which is more than 45 so you are on the priority\n",
      "Thanks for using our services\n"
     ]
    }
   ],
   "source": [
    "print('Welcome to Vaccine Detection')\n",
    "age = int(input('Enter your age: '))\n",
    "if age>=45:\n",
    "  print(f'your age is {age} which is more than 45 so you are on the priority')\n",
    "print('Thanks for using our services')"
   ]
  },
  {
   "cell_type": "code",
   "execution_count": null,
   "metadata": {
    "id": "wrpWa0UylHf0"
   },
   "outputs": [],
   "source": [
    ""
   ]
  },
  {
   "cell_type": "markdown",
   "metadata": {
    "id": "MRbFE6SPg9-1"
   },
   "source": [
    "***if-else***\n",
    "\n",
    "---> For two conditions True and False.\n",
    "\n",
    "---> When if is True, else is false.\n",
    "\n",
    "---> when else is True, if is False.\n",
    "\n",
    "    if condition: (True|False)\n",
    "    else: (False|True)\n",
    "---> else does not have any condition it is default when if condition is not satisfied."
   ]
  },
  {
   "cell_type": "code",
   "execution_count": null,
   "metadata": {
    "colab": {
     "base_uri": "https://localhost:8080/"
    },
    "id": "Eq9pB22Zg9sJ",
    "outputId": "dec91c16-6929-4507-a59e-e02790ad23cb"
   },
   "outputs": [
    {
     "name": "stdout",
     "output_type": "stream",
     "text": [
      "else block\n"
     ]
    }
   ],
   "source": [
    "x = 10\n",
    "if x>10:\n",
    "  print('if block')\n",
    "else:\n",
    "  print('else block')"
   ]
  },
  {
   "cell_type": "code",
   "execution_count": null,
   "metadata": {
    "colab": {
     "base_uri": "https://localhost:8080/"
    },
    "id": "UKXVpa8QlHT_",
    "outputId": "f50d69d2-ac6a-460e-b42c-344b0be9ecd4"
   },
   "outputs": [
    {
     "name": "stdout",
     "output_type": "stream",
     "text": [
      "Welcome to Vaccine Detection\n",
      "Enter your age: 544\n",
      "your age is 544 which is more than 45 so you are on the priority\n",
      "Thanks for using our services\n"
     ]
    }
   ],
   "source": [
    "print('Welcome to Vaccine Detection')\n",
    "age = int(input('Enter your age: '))\n",
    "if age>=45:\n",
    "  print(f'your age is {age} which is more than 45 so you are on the priority')\n",
    "else:\n",
    "  print(f'your age is {age} which is less than 45, wait for your turn')\n",
    "\n",
    "print('Thanks for using our services')"
   ]
  },
  {
   "cell_type": "code",
   "execution_count": null,
   "metadata": {
    "id": "EUrxkP4tlHQh"
   },
   "outputs": [],
   "source": [
    ""
   ]
  },
  {
   "cell_type": "markdown",
   "metadata": {
    "id": "YM_UpoEIjEbp"
   },
   "source": [
    "***if-else ladder***\n",
    "\n",
    "---> For more than two conditions.\n",
    "\n",
    "\n",
    "---> There can be only one else statement in if-else ladder.\n",
    "\n",
    "                              if condition 1:\n",
    "                              elif condition 2:\n",
    "                                  statement\n",
    "                              elif condition 3:\n",
    "                                  statement\n",
    "                              elif condition 4:\n",
    "                                  statement\n",
    "                              elif condition n:\n",
    "                                  statement\n",
    "                              else:\n",
    "                                  statement"
   ]
  },
  {
   "cell_type": "code",
   "execution_count": null,
   "metadata": {
    "colab": {
     "base_uri": "https://localhost:8080/"
    },
    "id": "yhTSflZUlHNa",
    "outputId": "ae900243-f86e-4173-d82a-4dda5b0d72d8"
   },
   "outputs": [
    {
     "name": "stdout",
     "output_type": "stream",
     "text": [
      "Product handaling Quantity Assignment\n",
      "Enter the Quantity : 28\n",
      "Assigned to unit 3\n"
     ]
    }
   ],
   "source": [
    "print('Product handaling Quantity Assignment')\n",
    "qty = int(input('Enter the Quantity : '))\n",
    "if qty < 10:\n",
    "  print('Assigned to unit 1')\n",
    "elif qty >= 10 and qty < 20:\n",
    "  print('Assigned to unit 2')\n",
    "elif qty >= 20 and qty < 30:\n",
    "  print('Assigned to unit 3')\n",
    "elif qty >= 30 and qty < 40:\n",
    "  print('Assigned to unit 4')\n",
    "else:\n",
    "  print('Assigned to unit 5')"
   ]
  },
  {
   "cell_type": "code",
   "execution_count": null,
   "metadata": {
    "colab": {
     "base_uri": "https://localhost:8080/"
    },
    "id": "PZkCYTTQlHIg",
    "outputId": "d326ca09-84b5-4222-c328-229e32b4b0d4"
   },
   "outputs": [
    {
     "name": "stdout",
     "output_type": "stream",
     "text": [
      "Welcome to the Aruthmatic Operations\n",
      "1.Addition\n",
      "2.Substraction\n",
      "3.Multiplication\n",
      "4.Division\n",
      "5.exponant\n",
      "6.Modulus\n",
      "please enter the choice for operation: 5\n",
      "Enter the 1st number: 2\n",
      "enter the 2nd number: 25\n",
      "33554432\n"
     ]
    }
   ],
   "source": [
    "print('Welcome to the Aruthmatic Operations')\n",
    "print('1.Addition\\n2.Substraction\\n3.Multiplication\\n4.Division\\n5.exponant\\n6.Modulus')\n",
    "choice = input('please enter the choice for operation: ')\n",
    "a = int(input('Enter the 1st number: '))\n",
    "b = int(input('enter the 2nd number: '))\n",
    "if choice == '1':\n",
    "  z = a+b\n",
    "  print(z)\n",
    "elif choice == '2':\n",
    "  z = a-b\n",
    "  print(z)\n",
    "elif choice == '3':\n",
    "  z = a*b\n",
    "  print(z)\n",
    "elif choice == '4':\n",
    "  z = a/b\n",
    "  print(z)\n",
    "elif choice == '5':\n",
    "  z = a**b\n",
    "  print(z)\n",
    "elif choice == '6':\n",
    "  z = a%b\n",
    "  print(z)\n",
    "else:\n",
    "  print('please choose correct option')"
   ]
  },
  {
   "cell_type": "code",
   "execution_count": null,
   "metadata": {
    "id": "r3RuL_gflHFA"
   },
   "outputs": [],
   "source": [
    ""
   ]
  },
  {
   "cell_type": "markdown",
   "metadata": {
    "id": "dc8keik73xyS"
   },
   "source": [
    "***nested if-else***\n",
    "\n",
    "---> For more then two conditions.\n",
    "\n",
    "---> Multiple else statements are allowed.\n",
    "\n",
    "                                 if condition:\n",
    "                                    if condition:\n",
    "                                       if condition:\n",
    "                                       else:\n",
    "                                    else:\n",
    "                                 else:"
   ]
  },
  {
   "cell_type": "code",
   "execution_count": null,
   "metadata": {
    "colab": {
     "base_uri": "https://localhost:8080/"
    },
    "id": "SZhAHnwhlG5f",
    "outputId": "9ab815b4-e6f8-41c4-e2db-3643b1aa5094"
   },
   "outputs": [
    {
     "name": "stdout",
     "output_type": "stream",
     "text": [
      "Welcome to Vaccine detection\n",
      "Please enter your age: 23\n",
      "You have entered age 23\n",
      "Is your vaccination registration complete?:[yes|no] no\n",
      "Please complete your registration.\n"
     ]
    }
   ],
   "source": [
    "print(\"Welcome to Vaccine detection\")\n",
    "age = int(input(\"Please enter your age: \"))\n",
    "if age >= 45:\n",
    "  print(f'You have entered age {age}, you are in priority age range.')\n",
    "  medical_condition = input(\"Do you have any pri-existing medical condition?:[yes|no] \").lower()\n",
    "  disability = input(\"Are you a disable person under disability act 2006?:[yes|no] \").lower()\n",
    "  if medical_condition == 'yes':\n",
    "    print(\"Please contact your physician before taking vaccine.\")\n",
    "  else:\n",
    "    if disability == 'yes':\n",
    "      print(\"Please take advantage of our drive-in system.\")\n",
    "    else:\n",
    "      print(\"Please go to your nearest vaccination center\")\n",
    "    print('please take vaccine as soon as possible.')\n",
    "elif age < 45 and age >= 21:\n",
    "  print(f'You have entered age {age}')\n",
    "  medical_reg = input(\"Is your vaccination registration complete?:[yes|no] \").lower()\n",
    "  if medical_reg == 'yes':\n",
    "    print('As you are not in priority age range please wait for slot to available.')\n",
    "  else:\n",
    "    print(\"Please complete your registration.\")\n",
    "elif age < 21:\n",
    "  print(\"Vaccines which are available are not tested for your age group, so hang tight.\")\n",
    "else:\n",
    "  print(\"please enter correct responce.\")"
   ]
  },
  {
   "cell_type": "code",
   "execution_count": null,
   "metadata": {
    "id": "R32LIUrS-c9C"
   },
   "outputs": [],
   "source": [
    ""
   ]
  },
  {
   "cell_type": "code",
   "execution_count": null,
   "metadata": {
    "colab": {
     "base_uri": "https://localhost:8080/"
    },
    "id": "hUekcgYU-c1k",
    "outputId": "7fa9d038-9533-40d3-afb3-e9c87cee5b00"
   },
   "outputs": [
    {
     "name": "stdout",
     "output_type": "stream",
     "text": [
      "How did you did in your exams\n",
      "Enter your percentage: 75\n",
      "You have passed with distinction\n"
     ]
    }
   ],
   "source": [
    "print(\"How did you did in your exams\")\n",
    "per = input(\"Enter your percentage: \")\n",
    "per.isnumeric()\n",
    "if per.isnumeric():\n",
    "  per = int(per)\n",
    "  if per >= 70:\n",
    "    print(\"You have passed with distinction\")\n",
    "  elif per >= 60 and per < 70:\n",
    "    print(\"you have passed with 1st class\")\n",
    "  elif per >=50 and per < 60:\n",
    "    print(\"you have passed with 2nd class\")\n",
    "  elif per >= 40 and per < 50:\n",
    "    print(\"you have passed with 3rd class\")\n",
    "  elif per >=35 and per <40:\n",
    "    print(\"You have passed in pass class\")\n",
    "  elif per >= 0 and per< 35:\n",
    "    print(\"you are unable to pass this time, better luck next time\")\n",
    "  else:\n",
    "    print(\"Please enter valid input\")\n",
    "else:\n",
    "    print(\"Please enter valid input1\")"
   ]
  },
  {
   "cell_type": "code",
   "execution_count": null,
   "metadata": {
    "id": "frzsRbno-cuU"
   },
   "outputs": [],
   "source": [
    ""
   ]
  },
  {
   "cell_type": "markdown",
   "metadata": {
    "id": "3AoH57mLZs0c"
   },
   "source": [
    "***range***\n",
    "\n",
    "**range(start point , end point+1, step)**\n",
    "\n",
    "---> Range is a data strcture used to generate sequence of numbers.\n",
    "\n",
    "---> If **start** point is not specified, **Default** is **0**.\n",
    "\n",
    "---> We have to specify end point.\n",
    "\n",
    "---> If **step** is not specified **Default** is **1**.\n",
    "\n",
    "***sequencial Data structures***\n",
    "\n",
    "                                   list()\n",
    "                                   tuple()\n",
    "                                   set()\n",
    "                                   dict()\n",
    "                                   frozenset()\n",
    "                                   string()\n",
    "                                   range()"
   ]
  },
  {
   "cell_type": "code",
   "execution_count": null,
   "metadata": {
    "colab": {
     "base_uri": "https://localhost:8080/"
    },
    "id": "LsmPdKmYasj4",
    "outputId": "e2af0bf4-ecc0-49be-9832-ea6144cbfed1"
   },
   "outputs": [
    {
     "name": "stdout",
     "output_type": "stream",
     "text": [
      "[1, 2, 3, 4, 5, 6, 7, 8, 9]\n"
     ]
    }
   ],
   "source": [
    "a = list(range(1,10)) #step no specified, Default 1.\n",
    "print(a)"
   ]
  },
  {
   "cell_type": "code",
   "execution_count": null,
   "metadata": {
    "colab": {
     "base_uri": "https://localhost:8080/"
    },
    "id": "A1yloiryat9W",
    "outputId": "7a5df2c3-b672-4cac-9dd9-95c8926cc79d"
   },
   "outputs": [
    {
     "name": "stdout",
     "output_type": "stream",
     "text": [
      "[1, 6, 11, 16, 21, 26, 31, 36, 41, 46]\n"
     ]
    }
   ],
   "source": [
    "a = list(range(1,51,5))\n",
    "print(a)"
   ]
  },
  {
   "cell_type": "code",
   "execution_count": null,
   "metadata": {
    "colab": {
     "base_uri": "https://localhost:8080/"
    },
    "id": "8V5dzfEiat6H",
    "outputId": "3f511ddc-c640-4565-c7cf-53952a769298"
   },
   "outputs": [
    {
     "name": "stdout",
     "output_type": "stream",
     "text": [
      "[0, 5, 10, 15, 20, 25, 30, 35, 40, 45, 50]\n"
     ]
    }
   ],
   "source": [
    "a = list(range(0,51,5))\n",
    "print(a)"
   ]
  },
  {
   "cell_type": "code",
   "execution_count": null,
   "metadata": {
    "colab": {
     "base_uri": "https://localhost:8080/"
    },
    "id": "h-4v5YHkat3e",
    "outputId": "65c8b41b-9529-49d3-d8b5-92d63abc9dae"
   },
   "outputs": [
    {
     "name": "stdout",
     "output_type": "stream",
     "text": [
      "[]\n"
     ]
    }
   ],
   "source": [
    "a = list(range(10,2)) # can't go reverse without specifiying step.\n",
    "print(a)"
   ]
  },
  {
   "cell_type": "code",
   "execution_count": null,
   "metadata": {
    "colab": {
     "base_uri": "https://localhost:8080/"
    },
    "id": "51SoU_oxatz7",
    "outputId": "d9bccc97-1bf6-4ba7-bee3-a6589f9df86d"
   },
   "outputs": [
    {
     "name": "stdout",
     "output_type": "stream",
     "text": [
      "[10, 8, 6, 4]\n"
     ]
    }
   ],
   "source": [
    "a = list(range(10,2,-2)) # can specify negative step.\n",
    "print(a)"
   ]
  },
  {
   "cell_type": "code",
   "execution_count": null,
   "metadata": {
    "colab": {
     "base_uri": "https://localhost:8080/"
    },
    "id": "4f5AS1mOatxR",
    "outputId": "717ddcab-d9c9-4792-f866-8f7448589ef2"
   },
   "outputs": [
    {
     "name": "stdout",
     "output_type": "stream",
     "text": [
      "[0, 1, 2, 3, 4, 5, 6, 7, 8, 9]\n"
     ]
    }
   ],
   "source": [
    "a = list(range(10)) #step no specified, Default 1\n",
    "print(a)"
   ]
  },
  {
   "cell_type": "code",
   "execution_count": null,
   "metadata": {
    "id": "O4XN2J3catto"
   },
   "outputs": [],
   "source": [
    ""
   ]
  },
  {
   "cell_type": "markdown",
   "metadata": {
    "id": "DEA-aEo_iNJ5"
   },
   "source": [
    "***Iterative statments***\n",
    "\n",
    "***for loop***\n"
   ]
  },
  {
   "cell_type": "code",
   "execution_count": null,
   "metadata": {
    "id": "diSLwm05atqb"
   },
   "outputs": [],
   "source": [
    ""
   ]
  },
  {
   "cell_type": "code",
   "execution_count": null,
   "metadata": {
    "colab": {
     "base_uri": "https://localhost:8080/"
    },
    "id": "Z88hqT38atkl",
    "outputId": "4c079943-2a8a-4250-bf82-aeddafb56200"
   },
   "outputs": [
    {
     "name": "stdout",
     "output_type": "stream",
     "text": [
      "7\n",
      "8\n",
      "9\n",
      "10\n"
     ]
    }
   ],
   "source": [
    "for i in range(7,11):\n",
    "  print(i)"
   ]
  },
  {
   "cell_type": "code",
   "execution_count": null,
   "metadata": {
    "colab": {
     "base_uri": "https://localhost:8080/"
    },
    "id": "M272c0MLas4h",
    "outputId": "4bfeb9c1-eb1e-4b72-9deb-0a5971834f4e"
   },
   "outputs": [
    {
     "name": "stdout",
     "output_type": "stream",
     "text": [
      "python\n",
      "java\n",
      "c\n",
      "100\n",
      "300\n"
     ]
    }
   ],
   "source": [
    "p = ['python', 'java','c','100','300']\n",
    "for i in p:\n",
    "  print(i)"
   ]
  },
  {
   "cell_type": "code",
   "execution_count": null,
   "metadata": {
    "colab": {
     "base_uri": "https://localhost:8080/"
    },
    "id": "PcIGl-BQatH3",
    "outputId": "c3e68960-3ded-4a8b-9f0d-4f03a10d3de3"
   },
   "outputs": [
    {
     "name": "stdout",
     "output_type": "stream",
     "text": [
      "python python$$java java$$c c$$100 100$$300 300$$"
     ]
    }
   ],
   "source": [
    "p = ['python', 'java','c','100','300']\n",
    "for i in p:\n",
    "  print(i,end=' ')\n",
    "  print(i,end='$$')"
   ]
  },
  {
   "cell_type": "markdown",
   "metadata": {
    "id": "9zESJ1d2qt6G"
   },
   "source": [
    "***for-else loop***\n",
    "\n",
    "---> 'else' in 'for' loop is to check if the loop was exicuted fully or if it was stopped midway by **break** function."
   ]
  },
  {
   "cell_type": "code",
   "execution_count": null,
   "metadata": {
    "colab": {
     "base_uri": "https://localhost:8080/"
    },
    "id": "QgWbsm8tR1f2",
    "outputId": "8c0ee968-0220-422b-fe29-7da9e788846b"
   },
   "outputs": [
    {
     "name": "stdout",
     "output_type": "stream",
     "text": [
      "0\n",
      "1\n",
      "2\n",
      "3\n",
      "4\n"
     ]
    }
   ],
   "source": [
    "for i in list(range(11)):\n",
    "  if i == 5:     ## Break stopes the for loop when condition becomes true.\n",
    "    break\n",
    "  else:\n",
    "    print(i)\n",
    "else:\n",
    "  print('loop executed perfectly w/o break')   ## Else is executed only if for loop is excuted w/o break."
   ]
  },
  {
   "cell_type": "code",
   "execution_count": null,
   "metadata": {
    "colab": {
     "base_uri": "https://localhost:8080/"
    },
    "id": "CJGOLgadR1dB",
    "outputId": "14e101f3-1022-4bde-ddfd-ba5104f942cb"
   },
   "outputs": [
    {
     "name": "stdout",
     "output_type": "stream",
     "text": [
      "0\n",
      "1\n",
      "2\n",
      "3\n",
      "4\n",
      "5\n",
      "6\n",
      "7\n",
      "8\n",
      "9\n",
      "10\n",
      "loop executed perfectly w/o break\n"
     ]
    }
   ],
   "source": [
    "for i in list(range(11)):\n",
    "  if i == 15:\n",
    "    break\n",
    "  else:\n",
    "    print(i)\n",
    "else:\n",
    "  print('loop executed perfectly w/o break')   ## Else is executed only if for loop is excuted w/o break."
   ]
  },
  {
   "cell_type": "code",
   "execution_count": null,
   "metadata": {
    "id": "mevpQcvHR1an"
   },
   "outputs": [],
   "source": [
    ""
   ]
  },
  {
   "cell_type": "markdown",
   "metadata": {
    "id": "aCxz7ycnVSLT"
   },
   "source": [
    "***while loop***\n",
    "\n",
    "---> Loop runs untill condition is true.\n",
    "                                  \n",
    "                                  while condition:\n",
    "                                        statement"
   ]
  },
  {
   "cell_type": "code",
   "execution_count": null,
   "metadata": {
    "colab": {
     "base_uri": "https://localhost:8080/"
    },
    "id": "gU8_Xo4MR1S-",
    "outputId": "09a74c59-3e53-4d58-cd0b-271cd5a8d1bf"
   },
   "outputs": [
    {
     "name": "stdout",
     "output_type": "stream",
     "text": [
      "1\n",
      "2\n",
      "3\n",
      "4\n",
      "5\n",
      "6\n",
      "7\n",
      "8\n",
      "9\n",
      "10\n"
     ]
    }
   ],
   "source": [
    "x = 1           # Initiation\n",
    "while x <= 10:  # True condition\n",
    "  print(x)\n",
    "  x+=1          # Increment/Decriment"
   ]
  },
  {
   "cell_type": "code",
   "execution_count": null,
   "metadata": {
    "id": "mkUON9EJR1Na"
   },
   "outputs": [],
   "source": [
    ""
   ]
  },
  {
   "cell_type": "code",
   "execution_count": null,
   "metadata": {
    "colab": {
     "base_uri": "https://localhost:8080/"
    },
    "id": "1pqmjYF-R1Cf",
    "outputId": "372b9be1-515f-4777-e354-1fd62a613dfd"
   },
   "outputs": [
    {
     "name": "stdout",
     "output_type": "stream",
     "text": [
      "Do you want to run again[yes|no]no\n"
     ]
    }
   ],
   "source": [
    "choice = input(\"Do you want to run again[yes|no]\")\n",
    "while choice != 'no':\n",
    "  print(\"welcome to python\")"
   ]
  },
  {
   "cell_type": "code",
   "execution_count": null,
   "metadata": {
    "id": "Kt7juJMDR02B"
   },
   "outputs": [],
   "source": [
    ""
   ]
  },
  {
   "cell_type": "markdown",
   "metadata": {
    "id": "JPguXtSBbEtq"
   },
   "source": [
    "***LOOP CONTROL STEATEMENTS***\n",
    "\n",
    "1. Break ---> To terminate loop.\n",
    "2. Continue ---> To skip Condition if true."
   ]
  },
  {
   "cell_type": "code",
   "execution_count": null,
   "metadata": {
    "id": "zqcRKYUrbD-j"
   },
   "outputs": [],
   "source": [
    ""
   ]
  },
  {
   "cell_type": "markdown",
   "metadata": {
    "id": "WPyic86xbj6i"
   },
   "source": [
    "***break***\n",
    "\n",
    "---> To terminate loop if condition becomes true."
   ]
  },
  {
   "cell_type": "code",
   "execution_count": null,
   "metadata": {
    "colab": {
     "base_uri": "https://localhost:8080/"
    },
    "id": "5_jlXzCVbD7f",
    "outputId": "51fe366f-cb6f-4821-fcf0-f7dc4a8a6746"
   },
   "outputs": [
    {
     "name": "stdout",
     "output_type": "stream",
     "text": [
      "processing gold\n",
      "processing titanium\n"
     ]
    }
   ],
   "source": [
    "prod_list = ['gold', 'titanium', 'silver', 'iron', 'copper']\n",
    "for i in prod_list:\n",
    "  if i == 'silver':   # As this condition becomes true the for loop terminates.\n",
    "    break\n",
    "  else:\n",
    "    print(f'processing {i}')"
   ]
  },
  {
   "cell_type": "code",
   "execution_count": null,
   "metadata": {
    "colab": {
     "base_uri": "https://localhost:8080/"
    },
    "id": "uD8lN6ULbD3p",
    "outputId": "a60e4c13-b19d-449f-e784-b2a213212be2"
   },
   "outputs": [
    {
     "name": "stdout",
     "output_type": "stream",
     "text": [
      "processing gold\n",
      "processing titanium\n",
      "processing iron\n"
     ]
    }
   ],
   "source": [
    "prod_list = ['gold', 'titanium', 'iron', 'silver', 'copper']\n",
    "for i in prod_list:\n",
    "  if i == 'silver':   # As this condition becomes true the for loop terminates.\n",
    "    break\n",
    "  else:\n",
    "    print(f'processing {i}')"
   ]
  },
  {
   "cell_type": "code",
   "execution_count": null,
   "metadata": {
    "id": "V9NCpn94e2ET"
   },
   "outputs": [],
   "source": [
    ""
   ]
  },
  {
   "cell_type": "code",
   "execution_count": null,
   "metadata": {
    "colab": {
     "base_uri": "https://localhost:8080/"
    },
    "id": "i69XjpqGbDyt",
    "outputId": "edd31829-0191-40d3-d38b-50649a13a04f"
   },
   "outputs": [
    {
     "name": "stdout",
     "output_type": "stream",
     "text": [
      "12\n",
      "13\n",
      "19\n",
      "12\n"
     ]
    }
   ],
   "source": [
    "p = [12, 13, 19, 12, 100, 16, 11, 13, 15, 16]\n",
    "for i in p:\n",
    "  if i > 19:\n",
    "    break\n",
    "  else:\n",
    "    print(i)"
   ]
  },
  {
   "cell_type": "code",
   "execution_count": null,
   "metadata": {
    "id": "z34zPNhme1kh"
   },
   "outputs": [],
   "source": [
    ""
   ]
  },
  {
   "cell_type": "markdown",
   "metadata": {
    "id": "9hyhQCEcdC1H"
   },
   "source": [
    "***continue***\n",
    "\n",
    "---> To skip the step (condition) if condition becomes true."
   ]
  },
  {
   "cell_type": "code",
   "execution_count": null,
   "metadata": {
    "colab": {
     "base_uri": "https://localhost:8080/"
    },
    "id": "c2RkfA8NbDvt",
    "outputId": "504529f8-6500-43ca-ea22-26fcd212d780"
   },
   "outputs": [
    {
     "name": "stdout",
     "output_type": "stream",
     "text": [
      "101\n",
      "102\n",
      "109\n",
      "107\n",
      "103\n",
      "104\n",
      "105\n",
      "104\n"
     ]
    }
   ],
   "source": [
    "pr_id = [101, 102, 109, 107, 103, 104, 110, 111, 105, 104]\n",
    "for i in pr_id:\n",
    "  if str(i)[0:2] == '11':\n",
    "    continue\n",
    "  else:\n",
    "    print(i)"
   ]
  },
  {
   "cell_type": "code",
   "execution_count": null,
   "metadata": {
    "id": "9Yq5Og0Nfxg7"
   },
   "outputs": [],
   "source": [
    ""
   ]
  },
  {
   "cell_type": "code",
   "execution_count": null,
   "metadata": {
    "colab": {
     "base_uri": "https://localhost:8080/"
    },
    "id": "TV6uSt-TbDlz",
    "outputId": "e20d4796-d605-47df-f7f0-983ef5b49403"
   },
   "outputs": [
    {
     "name": "stdout",
     "output_type": "stream",
     "text": [
      "101\n",
      "102\n",
      "109\n",
      "107\n",
      "103\n",
      "104\n",
      "105\n",
      "104\n"
     ]
    }
   ],
   "source": [
    "pr_id = [101, 102, 109, 107, 103, 104, 110, 111, 105, 104]\n",
    "for i in pr_id:\n",
    "  if i >= 110:\n",
    "    continue\n",
    "  else:\n",
    "    print(i)"
   ]
  },
  {
   "cell_type": "code",
   "execution_count": null,
   "metadata": {
    "id": "1uizsbL3eO2r"
   },
   "outputs": [],
   "source": [
    ""
   ]
  },
  {
   "cell_type": "markdown",
   "metadata": {
    "id": "9ECLZKECGlOI"
   },
   "source": [
    "***pass***\n",
    "\n",
    "---> If we know that we need a if or for but dont have logic yet, we can add that statement w/o locic and it wont give an error."
   ]
  },
  {
   "cell_type": "code",
   "execution_count": null,
   "metadata": {
    "colab": {
     "base_uri": "https://localhost:8080/",
     "height": 129
    },
    "id": "XEShvjDbGlq3",
    "outputId": "70a9e83c-fcc0-4791-c500-857937e84e35"
   },
   "outputs": [
    {
     "ename": "SyntaxError",
     "evalue": "ignored",
     "output_type": "error",
     "traceback": [
      "\u001b[0;36m  File \u001b[0;32m\"<ipython-input-2-e61162350cc4>\"\u001b[0;36m, line \u001b[0;32m1\u001b[0m\n\u001b[0;31m    for i in range(10):\u001b[0m\n\u001b[0m                       ^\u001b[0m\n\u001b[0;31mSyntaxError\u001b[0m\u001b[0;31m:\u001b[0m unexpected EOF while parsing\n"
     ]
    }
   ],
   "source": [
    "for i in range(10):"
   ]
  },
  {
   "cell_type": "code",
   "execution_count": null,
   "metadata": {
    "id": "8mifCzRHGmCL"
   },
   "outputs": [],
   "source": [
    "for i in range(10): # no error\n",
    "  pass"
   ]
  },
  {
   "cell_type": "code",
   "execution_count": null,
   "metadata": {
    "id": "nYHTUN1SGmVF"
   },
   "outputs": [],
   "source": [
    ""
   ]
  },
  {
   "cell_type": "markdown",
   "metadata": {
    "id": "jIEIAKHhHSCD"
   },
   "source": [
    "***nested for loop***\n",
    "\n",
    "---> for loop in for loop.\n",
    "\n",
    "---> It essentially makes table of loop results\n",
    "\n",
    "---> **Outer for** makes **Rows**\n",
    "\n",
    "---> **Inner for** makes **Columns**\n",
    "\n",
    "![image.png](data:image/png;base64,iVBORw0KGgoAAAANSUhEUgAAAYEAAAC1CAYAAAC5xUMrAAAY0UlEQVR4Ae2dLbLsNhOGB2YZ3xIuTA26SwgMSVXQgKC7gwtDDwsMDAw7gYGBIZedRWQJ/qply5Zs+WfG+mlZz6maGo8t23pb3e+rln2k27dv3zo+2AAfwAfwgTZ94CYN3/If+Gl//L9dCxD/3zpEABFslwG6zmTBLRsAEqQThAggAi1zICKA/zfv/4gAQdB8ELRsADIBMgFEABFomQPJBPD/5v0fESAImg+Clg1AJkAmgAggAi1zIJkA/t+8/yMCBEHzQdCyAcgEyAQQAUSgZQ4kE8D/m/d/RIAgaD4IWjYAmQCZACKACLTMgWQC+H/z/o8IEATNB0HLBiATIBNABBCBljmQTAD/b97/EQGCoPkgaNkAZAJkAogAItAyB5IJ4P/N+z8iQBA0HwQtG4BMgEwAEUAEWuZAMgH8v3n/RwQIguaDoGUDkAmQCSACiEDLHEgmgP837/9GBKQ3wAcb4AP4AD7Qng+QCdATaronBHgs0LIFRPQRAUSg5RgAOxZo2gKIAAuNNz8m3jQDAL55CyACiAAi0DwNYICWLYAIIAKIQMsMAPbmLYAIIAKIQCM08P64dbfHeyNogXnUAogAIoAIHI0WDeU+3rr77dbd7Of+1n0crBcicNBQjRVDBBABRKCWoH9/dLfbvXtzWP/j7d7d3R0bWBCBDeM0fAgRQAQQgSoI4L173G7d9mjOR/d2d7KE26NzB398EejLetcTkRkzCzkugtPft8885HruPVxBstdzy7vHqzByk5VEBBABRKCG0DfDQD6p+9UeyNlhdckSbo4QPC8CIij2nhP521uY63uiIeUn4vfv59eWX3osgAggAoiAnnhcr4kZCrKEHCgWFAnpla+Rsu25O9daZAJ+5mFI3yqAnObVae96zn3YVGUBRAARQARUheRKZTzCDZQJHveJ2e+Z+8fMFRGBgGGvvwsRQAQQgSrifOeZAJlAFa2osZKIACKACGiMzECd+jH+aXhHisi+/u2gvmfv/h+AP2Yvozf+/wl4v+2rp7Mxfnf0h+GgQKNcYBcigAggAhUFci8EzhtAI2kLCPfNnJvzpk8P0CN9s8st/+jeGQ6qyBPiVRURQAQQgXjxxJWwQHUWQAQQAUSgurClwlggngUQAUQgqQjY6Q3iuSxXwgLXsICW2EAEEAFE4BqcAorKLKBOBEQN+GCD2D5gHT32da9wPWzTdrxpan+Wl2R5yWR9KOvoyW4Q4cIiKCX+tNimFH6xuQYblMKvAbu0geBHBAqRQAniCd0zZRBocfQQbrsvJX57j9C3FtuUwi820WCDUvg1YJc2EPyIACIQ4qgo+7Q4+hYYSKBMJiRtosE/aH9EIOmD0S3y0XIsZRBoCPI9O6fEv3VvLbYphV9so8EGpfBrwC5tIPjJBMgEtrjq1DEtjr4FAhIgE9jyj1THtMQGIsArokkzIS2OvhXIiAAisOUfqY5piQ1EABFABAplgppIIBXR7V1Xgw3oBDAclJQE94JAw/GUQaAhyPdsnBL/1r212KYUfrGNBhuUwq8Bu7SB4OeZQKGe4BZB5DyWMgi0OPqWPVPi37qvFtuUwi+20WCDUvg1YJc2EPyIACKwxVWnjmlx9C0QkADPBLb8I9UxLbGBCPBMIOlwmBZH3wpkRAAR2PKPVMe0xAYigAggAoUyQU0kkIro9q6rwQZ0AhgOSkqCe0Gg4XjKINAQ5Hs2Tol/695abFMKv9hGgw1K4deAXdpA8PNMoFBPcIsgch5LGQRaHH3Lninxb91Xi21K4RfbaLBBKfwasEsbCH5EABHY4qpTx7Q4+hYISIBnAlv+keqYlthABHgmkHQ4TIujbwUyIoAIbPlHqmNaYgMRQAQQgUKZoCYSSEV0e9fVYAM6AQwHJSXBvSDQcDxlEGgI8j0bp8S/dW8ttimFX2yjwQal8GvALm0g+HkmUKgnuEUQOY+lDAItjr5lz5T4t+6rxTal8IttNNigFH4N2KUNBL8RAdnggw1i+4B19NjXvcL1sM23UQSu0J7PYtDU/mQCZAJbHdanj3369GkMbuvo9luOafuT4C3xZ21S4t7uPUvhlzposEFO/BpjQ/AjAoVIwA3Ektuxg+DPP/8cg9sGuf2WY9r+YuM/is/a5Gj5VOVK4Rc8GmyQE7/G2BD8iAAiEJ1fQj0ejVmAAM9JAiG7WCIsZZ+c+OeOZrHP9+f8nRt/yAdKtb31f0QAEYgec6Eej8YswAZBdAOsXDBkF0uEpeyjgQStDUqQYW78IR8o1fbW/xEBRGCFss7tdns8JYL7aO1zk4Brl5LkZ+2TG3+IBK0dSpBhbvxid9cHSseG4EcEEAHLB1G/3WAvEdxHweQmAdcuJcnP2ic3frmvS4LWBqXIsAR+1wdKxwYikHlM2Aaepu+UQSCBXSq4Rxt/vHX32218CPl4H4+YjZT4/TtNv1wSzGGfj7e7wX9/+5gqMWyVwO+SoBWBVGRosdv7aGh/MX2u2PDxP7qZ+0//J7DwjIZ2lAgCTeZNiV8CO1VwH7Phe/e43bqR/N4f3e1271wuTIl/rY4uCaa1j8X/3r3dHTs4FSuBX26fRQilA3B/66z09YToE2Ep/Hli4717OPjfH7fuNlNBwc9wEMNBDiVcbNOQvhv0H4YM3TgoRQK5eoJ9i/a4RzF0mrkU/nxC6IA1WWH5ToBTo6ybRgQdUZCbIwIMB2V9RTKrx3ddt3T6JRmWJMG0WYBr7SVue7QUfrl/XiHsum7RKcj7irC1eZlvmxXavKivBSKACDQmAsID/rBISRLMRwY6RSDPkIi1ctgGl29/I3zDMzE3BR7MggggAo2JwJIILk8CJtiXuC01toG/F//bbChEbNAKfsG69kyEZwI8E7B8cL3vRfrfk6HbIWqDBNoWAfNANCAArYlAt/JMBBFABK5H/iOifhx0JP2FKLTSE2xVBHrcoQzAusilOwFC+qPzkwnYNl98X9oJFmiXOy6P3/R+7P8J+G+GiDWujb8XQfuOvP123xK6NH53PNz5XxH3NclL4+8GERyxh/2fTIBMYKkMDe25NgnsNyT4y0wlvt8yeUpI+yMCiEAeb1N6F0gQElTqmlmqhQhcfjhg348gQUhw30uuWwL/JxO4+JjwfvASBIjAvpdctwT+P4iAGIJPmzawDwv5tg+P+cYXGvMBlLDtnqAEfMt/4Kf9W/d/Hgw3/mAYEoQEWyfB1vEjAohAyzFg5tlv2QB0AugEIAKIQMsciAgwHNi8/yMCiEDzQdCyAcgEyAQQAUSgZQ4kEyATaN7/ZyIwn2tCXpVyV2a6nr0u/3aUN3fOrXPmkzKNuegJ7pRfeMCz5RcXKLvjNP5xil5/nYKyqI7f/Sz+fnri6ZXKuX8dr0mZknHx18eVgj8oAu4EU6F1Kcs0V5q7XlsEZqsJmQm1/Emk/CDYL++3wrPl/bM1/IqDf30NXw0Yt+pwCr90AJwpmkPz1W/dW8OxU/i7/TV8NWDcqoPg3xUBsySb09DdYma6Sf2ME7hdgcXUvT1p2CJ+L8Inp62Kxzx2RgR++OGHwgup71hiYf8+07P2l7O9IDhQ3rvjs+W9k3X8OIV/hNDb1e08jYeUb8TBP4A0WWGZOH7VzDHxGz7zuPLVWuU7T/DviMAwPDSyxvz3bI5q4wSuKDy6+90ZgnCPu9v5MC/udEYE/ve//xkS/f7777u///57ce3SO5ZOuSQrNwiOlHcxPVvePVfL9hn8E4alXadjurfi4B8wLjoFurFL7eLhn2XF+qGbGgr+oAiYA3LwNhvnDBK3gLfq7/b0JTAe3fv7o7M9JEMaVlDMtRyBOGi0H3/8sfv8+fPu5+eff+6+fv26+/ny5YshcCHxvc9///3n1dKKgLWX1Ouff/7xypT8sSTp5Rq7Unf7d6S8LSvfz5Z3z9WyfQb/hOGqIrD0lwnzfKtOG5xufyN8wzMRy21z0yj+bbjL7wnPGnKu7PPfBlx/jsU/LeT93j1kp5C9SZH8cv2pb909JDYbRpsTrwExXEPLtgwT/fvvvxso8hxakvSsfZ/oCZlrjXbus70j18+D9PW7bJPAZK8Q/umuU7lpXx1bcfCvr+Gr3Qqx8AvO3kemkRDt2KV+hjM3RWAY/7c9+X6NyjlINxPoxBs6s5zbmAFIgEimIOXm51ozuRmE3Rf+3uut2+O//fbbbhYgmcJPP/20m1XYzOO7777rjTaS4fRWhDHmsF+E6vfffw8DyLl3Ido9WVnBlqq4QWDazmujZXmv+geu75VX+OMU/hHPNUTg6fYf8G+t4TuaSOlGnPYfwJnRDTsqohTwrFqGt7ZFYCD1kRh6Z3eXZ1v2BntReDzu4+uI4iSPx6Nzz/PrskM2fuGov3z8z116LgqfPn3q/vjjj+cukrT0TFwXpD0TAXnb4eYM0QXK+9V9trx/toZfHgk8jd8iuIgIPI1/4IPKHobaVpPvU+0vpO/0qC6aCYiZZoE+/DYKIj3fgAOYnsEoHFZIHHIxl334vWrHmG4jpd4+IwLWBpIp/PXXX6mr+tr1h2cvfV2XvRQ/CExOOw7R3cZnPRu33rn+xpkqDp3D38eG9QP7PWbOKhBuV+IUftNJCGTDhWJ5G2n46Cn8izcll/EVvquevcZnz5CgHiiv1+QMfhn7l+Gnmv8WQVAzmBfqDv7pxYAXzFf9KbT/4u2g6tv0aQBnRODpmyk8gSCABBW6ZbYq4f+IQPPLSxIEiEA2xlV4I/wfEUAEnP8TUBijyasECSCCyZ1M8Q3E/80/i8mQCJ82bWCcYOeVV8oEHn5iM//FDuxRrz1aHxNvHT89YXrCijuqyauG/zMcxHAQw0HJiUbzDSBBOgGzuYM0u2uaupEJEARpPKuOqyIC+D8iwMpidbBVolpCgpBgIteq4rLi/4gAIlCFs6aqJCKACKTyrRquiwh0Hc8EeCZQQ6wmqyMiiAiSCTSQCdhpkENz2oRIYKv8Kht5cwjN5olaPan8gWj4x6mEZ2twlIe4WYNY+K3PyPXkU8v0QWnwr82WvNkURQ6a9mr9wei18fcTnN3f1tfA9YNgv3zYU+15H/1hM7FYHZNpxcW/buew3crvjYJfOgDORJI1zaYZBb9MqungNxNoVqKCgp9MoIFMwK4LfTQT2CofpK3FlNPlpgYP1m9jp08CtuCrU0O/ep69b/7vuPiH+pussMZOgLX/uXY0IuiIgr2qxm9EINIzAfULzs8XB3K8MQYJLJ3+XBA51Uu+GQP/VMl6cNs6x8U/XHXRKbB30/cdH/8sK9YH2auR4CcTiJAJ2CUvtS44v9WzjxEESxF4Zm1azyez/4iBf6o0IrDla5Od9GxFa393bYVKhoKkFaoWgVgLzv/yyy9mGcpff/11d6F5u3RlbQvObwVmjCBYikA9ZBgD/0Rp9eC2dY6Lv761hmPjF7uaeHAX1bLGVvgt+KvNBGzv24AY3kjQtq1lwfnUIvDq2rQaYiIuCbQtAjWuNRy3/QePruyZSLUiYHvle997C87bTODLly/XXXA+8TOBxRKkzY4JtyoCPe7QUrMahH6rDlFEQEjfGQIiE9iyuMJjMV4R1bvgfP+Qap4huW8J+UGwX361CU3vx065XMebIYIlDv4Tdls1aJ4DUfC74+FuVu4QYx40z98lCv6K1xoW/NVmAs83d/iMGCJgDHm7mUxC7YLzYfgzElwpdOHdPglcGOgKNPDzH8OIQIS3g2pecB4SgARW9KGJ3fg/mQBzBx2aOyg83CEBJB93eKk25jhGAuB/uMM8s23af/hP+dqcv/ZXRGPZO8ZwUKy6lLjOMRIsUbM89wQ/mVAeT9N5F/F/MxwkRMinTRsYJ5j17NhnH3DzjS804AOt94Rbxy9B3vIf+Gn/1v2fB8MRHgzX7ESQICRYs/+erTv+z4NhHgyTCZzlkarPhwTpBJAJkAlUTWJnKw8JQoJnfajm88X/EQFEoGYfPl13RAAROO1EFV8AEYi0nkDFPsB/DDMcVrP7nq47nQAygcs/E+gns5pec5tP5zIPgr3yq1HnzR1U7xqzL+MfpxCu65/nYrX/Gbut+lSGA2nws8ZwhqaLd4uzr4iqXlVMiNlZ5q4PVN9BvSA4UD5s+f4/asf/HDUTitUxiVxc/JWvMfxq+796XtiZsu6N1v5OnLHGcNYmPH+zsyJg1zXQu6qYYyMJ1ptPzl4QOEXNZqD8vIj5vZg6up9aeJ51BM8tvDMK/hHDVaaSHgAdbf8R/8nz5tfJ8Dtu+/cVNp0tRxQywHj5FoK/ygfDsVYV+/r1ayfrCVx7VTHHPxZkPZ9K2Skrm4HysxLm59Lp6yHDTRI4iH+yST24bZ3j4h+u+rTdbG3yf8fHP8uK80N66o7VioDtfRsASqc80LOqmPWJMEGtB0G4vL2a+70UgdrXGBZ0x/FPtnjlnOnsElsx2t+vd102iIbfCN/w7K2GFHhoNMOhZ4dDfAfI82tvNTF7fG9VMZsJXHtVsb5N1pb+WwuCtfKhFl6KQD1EEAP/ZJN6cNs6x8V/lTWGz+Ew8cAaw9bF9H+fFUG9q4pNtt8i9BAJbJWfrupsLdL/ngxr6BBFwT+a4hoi8HT7D/hfPW80X4GNuO0/AHj1WUoh/FU+E4hpq7MiIE4kn8+fP3f6VhXrSWlr7Vc/CPbLh23fj4OOpL8QhfBZGvbGwW+R1C4Cr7b/q+dZu5X7jtL+Qvqj83cdmUC59nzpzmdFQPWqYu44pfvsxHFYLwgOlF81sun92P9H8N9AWj1HwYE4+MOLzoyvzCrAuVaFKPjP+M1axTLtj4KfNYYztVai25wVgUTVynZZLwiy3VXPjcDPtBF6vDF/TcT/GQ5i7qD8nqfojogAIqDIHbNXBRFg7qCDcweFhzuMA7HGMGssv9W9xu4+817b/8kEyAT2Y+DCJcgEyAQu7N670MZMQMbF+bRpA9ub59s+1OYbX2jMB1p/MNo6fgn4lv/AT/u37v8MBzEc1HIMHHwmcl0TIYKIICKACFyX4Q4ggwQhwQNuctki4v+IACJwWQc/AgwRQASO+MlVyyACvCLKcAjPRK7Kb4dw0QkgE7j88pJ7kUAQ0BPe85ErH8f/EYFoIqB1mcl+Miv7ypu/tKQE9zwI9sqvEoI3d9BV1hhe2msV/yXXGD6O3/eb9trfx3/cblv+lOOYxD/PBCI9E7AL3ehaZvK9ezjL3Jmpfp3J48TJfBHYLx92zP4/KscJ08yEYnVMIhcXf+VrDHcvtr90ABw/6wmxDiKM1v4O/lCcheOm/N7qRSDGMpOyvKQsLiOfqy8zaYLTcdalCPhOGSrvlxh+GdJ3g76fWnimN8FTS+/0ScCvzWH842m1TyU9AjEbz+MfzjdZYY2dgDj4X7abf/ssv6oXAdv7NkDcqZIVbetZZnLWWx9cbJ0Ew+VDnrl0+nrIMAb+ySb14LZ1jot/uOqiU2Dvpu87Pv7jcaPBGoK/6uEgu4zk3vfWMpNuJnDJZSbdud4DXfNFEOyUDznuUgQqXmP4BfyTTS4gAqfwiyXqskEM/zftf9pukxfl3KpeBGIYK9a0ETUsM2nIerb26SIIHKOGyjuHx82lCNRDBDHwj4aojACl3nHxn1ubd7Jjvq3Y+KXmR+MmH8r1Own+qjOBdWjHj8QSAWNMtctMDvYIjNVuBUEXKB+0rOkFXe+ZwGH8o1HqET9b5SjtP1zsKmsMW9s83/7DmUfjZrxRuQ1EIOI/i6lcZlKc0RkCCvVQPBI4UD7srv046HirhSiEz9KwNw5+i6RyEXi5/XvcW2tZWwtp+47S/i/brbw1EIGIIlC+OUM1GIJzfFC+fGPDC4Iza6VKIGzcJ1Q7Dfvi4O9F0ATUaINbFYvNRMHvjoc7+G9jr0BDS4frEAX/mbgJVyvbXuOzsYZDstU68o1ax+8HQWTjVnA58PMf0xW4abIqIgKXzwT2fQcShAT3veS6JfB/HgxHmzai1jA5FgTh4Q7Ti2CN4SqGfdb8k/Y/0gm4tv/zdlCkaSPWgkz7/mMkoB3F6/UD/xESfN2+2s+k/YdMQMbF+bRpAwkCPtgAH2jYB1p/MAr+b9o7a0nrR/vT/kkdTPnFxf8ZDmp8OAgShASV81TS6uH/iEDzD4YJAkQgKcsqvzj+jwggAmRCymkqbfUgQToBDAdBgmlZRvnVIUFIULmLJq2e+D8igAgkdTLtF0cEEAHtPpqyfogA/zHMcBidgJQco/7adALIBCBBSFA9UaWsICRIJsRwECSYkmPUXxsShATVO2nCCjIcxHAQmRCdgIQUo//SdAIYDoIEIUH9TJWwhpAgmRDDQZBgQorRf2lIEBLU76XpashwEMNBZEJ0AtIxTAVXphPAcBAkCAlWQFXpqggJkgkxHAQJpmOYCq4MCUKCFbhpsioyHMRwEJkQnYBkBFPDhekEMBwECUKCNXBVsjpCgmRCDAdBgskIpoYLQ4KQYA1+mqqODAcxHEQmRCcgFb9UcV06AcNwkBiCDzbAB/ABfKA9H/g/ztFp0rXvx3oAAAAASUVORK5CYII=)"
   ]
  },
  {
   "cell_type": "code",
   "execution_count": null,
   "metadata": {
    "colab": {
     "base_uri": "https://localhost:8080/"
    },
    "id": "vr5wO6VhGmlV",
    "outputId": "626beeb5-3fb6-4f0b-ea66-15df6243c371"
   },
   "outputs": [
    {
     "name": "stdout",
     "output_type": "stream",
     "text": [
      "i = 0  j = 0\n",
      "i = 0  j = 1\n",
      "i = 0  j = 2\n",
      "i = 0  j = 3\n",
      "\n",
      "i = 1  j = 0\n",
      "i = 1  j = 1\n",
      "i = 1  j = 2\n",
      "i = 1  j = 3\n",
      "\n",
      "i = 2  j = 0\n",
      "i = 2  j = 1\n",
      "i = 2  j = 2\n",
      "i = 2  j = 3\n",
      "\n",
      "i = 3  j = 0\n",
      "i = 3  j = 1\n",
      "i = 3  j = 2\n",
      "i = 3  j = 3\n",
      "\n"
     ]
    }
   ],
   "source": [
    "for i in range(4):\n",
    "  for j in range(4):\n",
    "    print('i =', i,' j =', j)\n",
    "  print()"
   ]
  },
  {
   "cell_type": "code",
   "execution_count": null,
   "metadata": {
    "colab": {
     "base_uri": "https://localhost:8080/"
    },
    "id": "7mMfLeQJGmx3",
    "outputId": "5b8dc346-c4a4-48b4-ed23-8d934582d629"
   },
   "outputs": [
    {
     "name": "stdout",
     "output_type": "stream",
     "text": [
      "*\n",
      "**\n",
      "***\n",
      "****\n"
     ]
    }
   ],
   "source": [
    "for i in range(4):\n",
    "  for j in range(i+1):\n",
    "    print('*',end='')\n",
    "  print()"
   ]
  },
  {
   "cell_type": "code",
   "execution_count": null,
   "metadata": {
    "colab": {
     "base_uri": "https://localhost:8080/"
    },
    "id": "4sBOFLl9IkwM",
    "outputId": "56731a12-0ced-42d6-b0c4-94497ff9592f"
   },
   "outputs": [
    {
     "name": "stdout",
     "output_type": "stream",
     "text": [
      "\n",
      "1\n",
      "12\n",
      "123\n",
      "1234\n"
     ]
    }
   ],
   "source": [
    "for i in range(5):\n",
    "  for j in range(1,i+1):\n",
    "    print(j,end='')\n",
    "  print()"
   ]
  },
  {
   "cell_type": "code",
   "execution_count": null,
   "metadata": {
    "colab": {
     "base_uri": "https://localhost:8080/"
    },
    "id": "F-FyMxh8OKB-",
    "outputId": "e6a2a11b-7e7a-4abb-bc07-6ca0b4445bee"
   },
   "outputs": [
    {
     "name": "stdout",
     "output_type": "stream",
     "text": [
      "  * * *    \n",
      "*       *  \n",
      "*       *  \n",
      "* * * * *  \n",
      "*       *  \n",
      "*       *  \n",
      "*       *  \n"
     ]
    }
   ],
   "source": [
    "for row in range(7):\n",
    "  for col in range(5):\n",
    "    if row == 0 and col in {1,2,3}:\n",
    "      print('*',end=' ')\n",
    "    elif row in {1,2,4,5,6} and col in {0,4}:\n",
    "      print('*',end=' ')\n",
    "    elif row == 3:\n",
    "      print('*',end=' ')\n",
    "    else:\n",
    "      print(' ',end=' ')\n",
    "  print(' ')"
   ]
  },
  {
   "cell_type": "code",
   "execution_count": null,
   "metadata": {
    "colab": {
     "base_uri": "https://localhost:8080/"
    },
    "id": "IIcWGgcpSKsZ",
    "outputId": "53e86278-d3fe-4821-afb3-88a13eff0631"
   },
   "outputs": [
    {
     "name": "stdout",
     "output_type": "stream",
     "text": [
      "* * *      \n",
      "*     *    \n",
      "*      *    \n",
      "* * * *    \n",
      "*      *    \n",
      "*     *    \n",
      "* * *      \n"
     ]
    }
   ],
   "source": [
    "for row in range(7):\n",
    "  for col in range(5):\n",
    "    if row in {0,6} and col in {1,2}:\n",
    "      print(\"*\",end=\" \")\n",
    "    elif row in {1,5} and col == 3:\n",
    "      print(\"*\",end=\" \")\n",
    "    elif row in {0,1,2,4,5,6} and col == 0:\n",
    "      print(\"*\",end=\" \")\n",
    "    elif row in {2,4} and col == 3:\n",
    "      print(\" *\",end=\" \")\n",
    "    elif row == 3 and col in {0,1,2,3}:\n",
    "      print(\"*\",end=\" \")\n",
    "    else:\n",
    "      print(\" \",end=\" \")\n",
    "  print(\" \")"
   ]
  },
  {
   "cell_type": "code",
   "execution_count": null,
   "metadata": {
    "colab": {
     "base_uri": "https://localhost:8080/"
    },
    "id": "9cCfjuCh2Cfi",
    "outputId": "d0f48602-1f90-4e4d-9e35-4a0bb08b10e7"
   },
   "outputs": [
    {
     "name": "stdout",
     "output_type": "stream",
     "text": [
      "* * * *  \n",
      "*  \n",
      "*  \n",
      "*  \n",
      "*  \n",
      "*  \n",
      "* * * *  \n"
     ]
    }
   ],
   "source": [
    "for row in range(7):\n",
    "  for col in range(5):\n",
    "    if row in {0,6} and col in {1,2,3}:\n",
    "      print(\"*\",end=\" \")\n",
    "    elif row in{0,1,2,3,4,5,6} and col == 0:\n",
    "      print(\"*\",end=\" \")\n",
    "  print(\" \")"
   ]
  },
  {
   "cell_type": "code",
   "execution_count": null,
   "metadata": {
    "id": "2oqVZdEze7Ra"
   },
   "outputs": [],
   "source": [
    ""
   ]
  },
  {
   "cell_type": "code",
   "execution_count": null,
   "metadata": {
    "id": "W3Tr2wSHe7G2"
   },
   "outputs": [],
   "source": [
    ""
   ]
  },
  {
   "cell_type": "code",
   "execution_count": null,
   "metadata": {
    "id": "JhwJw7gCe69_"
   },
   "outputs": [],
   "source": [
    ""
   ]
  },
  {
   "cell_type": "code",
   "execution_count": null,
   "metadata": {
    "id": "V0B5_FOFe60l"
   },
   "outputs": [],
   "source": [
    ""
   ]
  },
  {
   "cell_type": "code",
   "execution_count": null,
   "metadata": {
    "id": "9ouO7-5Pe6oJ"
   },
   "outputs": [],
   "source": [
    ""
   ]
  }
 ],
 "metadata": {
  "colab": {
   "name": "Control Statements.ipynb",
   "provenance": []
  },
  "kernelspec": {
   "display_name": "Python 3",
   "name": "python3"
  },
  "language_info": {
   "name": "python"
  }
 },
 "nbformat": 4,
 "nbformat_minor": 0
}
