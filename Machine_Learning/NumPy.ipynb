{
 "cells": [
  {
   "cell_type": "markdown",
   "id": "d94d2992",
   "metadata": {},
   "source": [
    "# NumPy\n",
    "\n",
    "***Numerical Python***\n",
    "\n",
    "    Type of array\n",
    "        <class 'numpy.ndarray'>\n",
    "\n",
    "\n",
    "    1. a = numpy.array( [ Values ] , dtype= int/float/complex/str)    \n",
    "            --> To build an array.\n",
    "    \n",
    "    2. a.ndim\n",
    "            --> To find the dimention of array(1,2,3....)\n",
    "    \n",
    "    3. a.itemsize\n",
    "            --> To get the size per item\n",
    "            \n",
    "    4. a.shape\n",
    "            --> To get shape of array (rows,columns)\n",
    "            \n",
    "    5. a.reshape(#rows,#columns)\n",
    "            --> To reshape the current array.\n",
    "            --> suppose we have array with 3-rows and 5-columns,\n",
    "                    so this array can be reshaped in multiples of 15(3*5)\n",
    "                    i.e. (1,15)/(5,3)\n",
    "                    \n",
    "    6. numpy.arange(start, end, interval)\n",
    "    \n",
    "    7. nimpy.linspace(start,end,cuts)\n",
    "            --> Cuts the given line into equal segments with given number of cuts.\n",
    "            \n",
    "    8. Indexing (Accessing elements from array)\n",
    "    \n",
    "            --> array_name[row:row,column:column]\n",
    "            \n",
    "            --> a[1:] # elements from row index 1 to end\n",
    "\n",
    "            --> a[:,1:] # elements from column index 1 to end\n",
    "    \n",
    "    9. Broadcasting (process of appling the changes throught the array)\n",
    "\n",
    "            --> adding 2 to all matrix elements ---> a+2\n",
    "\n",
    "            --> substracting 2 from all matrix elements ---> a-2\n",
    "\n",
    "            --> to all matrix elements dividing by 2  ---> a/2\n",
    "\n",
    "            --> multiplying 2 to all matrix elements ---> a*2\n",
    "\n",
    "            --> adding elements of two matrices ---> a+b\n",
    "\n",
    "            --> substracting elements of two matrices ---> a-b\n",
    "\n",
    "            --> multiplying elements of two matrices ---> a*b \n",
    "                        --> # Normal multiplication not the matrix multiplication\n",
    "\n",
    "            --> dividing elements of two matrices ---> a/b\n",
    "                        ---> # Normal division not the matrix division\n",
    "    \n",
    "    10.Multipling two matrices\n",
    "\n",
    "            ---> np.dot(a,b)\n",
    "            \n",
    "\n",
    "    11. Flatten\n",
    "\n",
    "            --> To flatten the array ( convert array into 1 dimentional array)\n",
    "    \n",
    "    12. np.random.normal(loc=0.0, scale=1.0, size=None)\n",
    "            --> Draw random samples from a normal (Gaussian) distribution.\n",
    "            \n",
    "    13.np.eye(N) optional (M=None, k=0, dtype=<class 'float'>, order='C', *, like=None)\n",
    "            --> Return a 2-D array with ones on the diagonal and zeros elsewhere."
   ]
  },
  {
   "cell_type": "code",
   "execution_count": 1,
   "id": "ffc0594f",
   "metadata": {},
   "outputs": [],
   "source": [
    "import numpy as np"
   ]
  },
  {
   "cell_type": "markdown",
   "id": "c77d2c1b",
   "metadata": {},
   "source": [
    "### How to build an array"
   ]
  },
  {
   "cell_type": "code",
   "execution_count": 2,
   "id": "e93c37a2",
   "metadata": {},
   "outputs": [
    {
     "name": "stdout",
     "output_type": "stream",
     "text": [
      "<class 'numpy.ndarray'> \n",
      "\n",
      "[10 30 60] \n",
      "\n",
      "dimention :  1\n"
     ]
    }
   ],
   "source": [
    "a = np.array([10,30,60],dtype= 'int8')\n",
    "\n",
    "print(type(a),'\\n')\n",
    "print(a,'\\n')\n",
    "print('dimention : ',a.ndim)"
   ]
  },
  {
   "cell_type": "code",
   "execution_count": 3,
   "id": "5c93ebcf",
   "metadata": {},
   "outputs": [
    {
     "name": "stdout",
     "output_type": "stream",
     "text": [
      "[[10. 30. 60.]\n",
      " [ 1.  2.  3.]\n",
      " [10. 11. 12.]] \n",
      "\n",
      "dimention :  2\n"
     ]
    }
   ],
   "source": [
    "a = np.array([\n",
    "    [10,30,60],\n",
    "    [1,2,3],\n",
    "    [10,11,12]\n",
    "],dtype = float)\n",
    "\n",
    "print(a,'\\n')\n",
    "print('dimention : ',a.ndim)"
   ]
  },
  {
   "cell_type": "code",
   "execution_count": 4,
   "id": "5903addb",
   "metadata": {},
   "outputs": [
    {
     "name": "stdout",
     "output_type": "stream",
     "text": [
      "[[[ 10.+0.j  30.+0.j  60.+0.j]\n",
      "  [  1.+0.j   2.+0.j   3.+0.j]\n",
      "  [ 10.+0.j  11.+0.j  12.+0.j]]\n",
      "\n",
      " [[  1.+0.j   2.+0.j   3.+0.j]\n",
      "  [ 10.+0.j  11.+0.j  12.+0.j]\n",
      "  [100.+0.j 200.+0.j 300.+0.j]]] \n",
      "\n",
      "dimention :  3\n"
     ]
    }
   ],
   "source": [
    "a = np.array([\n",
    "    [\n",
    "        [10,30,60],\n",
    "        [1,2,3],\n",
    "        [10,11,12]\n",
    "    ],\n",
    "    [\n",
    "        [1,2,3],\n",
    "        [10,11,12],\n",
    "        [100,200,300]\n",
    "    ]],dtype= complex )\n",
    "print(a,'\\n')\n",
    "print('dimention : ',a.ndim)"
   ]
  },
  {
   "cell_type": "code",
   "execution_count": null,
   "id": "506c5283",
   "metadata": {},
   "outputs": [],
   "source": []
  },
  {
   "cell_type": "code",
   "execution_count": 5,
   "id": "3247be6c",
   "metadata": {},
   "outputs": [
    {
     "data": {
      "text/plain": [
       "16"
      ]
     },
     "execution_count": 5,
     "metadata": {},
     "output_type": "execute_result"
    }
   ],
   "source": [
    "a.itemsize"
   ]
  },
  {
   "cell_type": "code",
   "execution_count": 6,
   "id": "bcfdb7eb",
   "metadata": {},
   "outputs": [
    {
     "data": {
      "text/plain": [
       "(2, 3, 3)"
      ]
     },
     "execution_count": 6,
     "metadata": {},
     "output_type": "execute_result"
    }
   ],
   "source": [
    "a.shape"
   ]
  },
  {
   "cell_type": "markdown",
   "id": "79ab99cc",
   "metadata": {},
   "source": [
    "### reashape"
   ]
  },
  {
   "cell_type": "code",
   "execution_count": 7,
   "id": "ad24ba1e",
   "metadata": {},
   "outputs": [
    {
     "data": {
      "text/plain": [
       "array([[ 10.+0.j,  30.+0.j,  60.+0.j],\n",
       "       [  1.+0.j,   2.+0.j,   3.+0.j],\n",
       "       [ 10.+0.j,  11.+0.j,  12.+0.j],\n",
       "       [  1.+0.j,   2.+0.j,   3.+0.j],\n",
       "       [ 10.+0.j,  11.+0.j,  12.+0.j],\n",
       "       [100.+0.j, 200.+0.j, 300.+0.j]])"
      ]
     },
     "execution_count": 7,
     "metadata": {},
     "output_type": "execute_result"
    }
   ],
   "source": [
    "a.reshape(6,3)"
   ]
  },
  {
   "cell_type": "code",
   "execution_count": null,
   "id": "d4be32e6",
   "metadata": {},
   "outputs": [],
   "source": []
  },
  {
   "cell_type": "markdown",
   "id": "3eabc668",
   "metadata": {},
   "source": [
    "# To generate sequence of number\n",
    "\n",
    "    numpy.arange(start, end, interval)"
   ]
  },
  {
   "cell_type": "code",
   "execution_count": 8,
   "id": "92039e5a",
   "metadata": {},
   "outputs": [
    {
     "data": {
      "text/plain": [
       "array([10, 12, 14, 16, 18])"
      ]
     },
     "execution_count": 8,
     "metadata": {},
     "output_type": "execute_result"
    }
   ],
   "source": [
    "a = np.arange(10,20,2)\n",
    "a"
   ]
  },
  {
   "cell_type": "markdown",
   "id": "d355108f",
   "metadata": {},
   "source": [
    "# generate empty array"
   ]
  },
  {
   "cell_type": "code",
   "execution_count": 9,
   "id": "a03de1c2",
   "metadata": {},
   "outputs": [
    {
     "name": "stdout",
     "output_type": "stream",
     "text": [
      "integer\n",
      "[[0 0 0 0]\n",
      " [0 0 0 0]\n",
      " [0 0 0 0]] \n",
      "\n",
      "float\n",
      "[[9.83668877e-312 2.81617418e-322 0.00000000e+000 0.00000000e+000]\n",
      " [2.05833592e-312 1.04082753e-047 5.45004578e-090 9.05970385e-043]\n",
      " [1.53393340e-052 2.77387254e+180 6.48224660e+170 4.93432906e+257]] \n",
      "\n",
      "complex\n",
      "[[6.23042070e-307+4.67296746e-307j 1.69121096e-306+1.60219442e-306j\n",
      "  1.89146896e-307+1.37961302e-306j 1.05699242e-307+8.01097889e-307j]\n",
      " [1.78020169e-306+7.56601165e-307j 1.02359984e-306+1.33510679e-306j\n",
      "  2.22522597e-306+1.33511018e-306j 6.23057689e-307+1.02360120e-306j]\n",
      " [8.45559303e-307+8.06613040e-308j 6.89810244e-307+1.22387550e-307j\n",
      "  2.22522596e-306+8.34423917e-308j 1.11261162e-306+1.78021527e-306j]] \n",
      "\n",
      "str\n",
      "[['' '' '' '']\n",
      " ['' '' '' '']\n",
      " ['' '' '' '']] \n",
      "\n"
     ]
    }
   ],
   "source": [
    "a = np.empty([3,4], dtype=int)\n",
    "b = np.empty([3,4], dtype=float)\n",
    "c = np.empty([3,4], dtype=complex)\n",
    "d = np.empty([3,4], str)\n",
    "print('integer')\n",
    "print(a,'\\n')\n",
    "print('float')\n",
    "print(b,'\\n')\n",
    "print('complex')\n",
    "print(c,'\\n')\n",
    "print('str')\n",
    "print(d,'\\n')"
   ]
  },
  {
   "cell_type": "code",
   "execution_count": null,
   "id": "063a0627",
   "metadata": {},
   "outputs": [],
   "source": []
  },
  {
   "cell_type": "code",
   "execution_count": 10,
   "id": "d4785643",
   "metadata": {},
   "outputs": [
    {
     "data": {
      "text/plain": [
       "array([[1., 1., 1., 1.],\n",
       "       [1., 1., 1., 1.],\n",
       "       [1., 1., 1., 1.]])"
      ]
     },
     "execution_count": 10,
     "metadata": {},
     "output_type": "execute_result"
    }
   ],
   "source": [
    "np.ones([3,4])"
   ]
  },
  {
   "cell_type": "code",
   "execution_count": 11,
   "id": "811e4861",
   "metadata": {},
   "outputs": [
    {
     "data": {
      "text/plain": [
       "array([[0., 0., 0., 0.],\n",
       "       [0., 0., 0., 0.],\n",
       "       [0., 0., 0., 0.]])"
      ]
     },
     "execution_count": 11,
     "metadata": {},
     "output_type": "execute_result"
    }
   ],
   "source": [
    "np.zeros([3,4])"
   ]
  },
  {
   "cell_type": "code",
   "execution_count": null,
   "id": "c2ddece7",
   "metadata": {},
   "outputs": [],
   "source": []
  },
  {
   "cell_type": "markdown",
   "id": "264cca69",
   "metadata": {},
   "source": [
    "### Linespace"
   ]
  },
  {
   "cell_type": "code",
   "execution_count": 12,
   "id": "94f8281a",
   "metadata": {},
   "outputs": [
    {
     "data": {
      "text/plain": [
       "array([10. , 11.8, 13.6, 15.4, 17.2])"
      ]
     },
     "execution_count": 12,
     "metadata": {},
     "output_type": "execute_result"
    }
   ],
   "source": [
    "a = np.linspace(10,19,5,endpoint=False)\n",
    "a"
   ]
  },
  {
   "cell_type": "code",
   "execution_count": null,
   "id": "aba322ff",
   "metadata": {},
   "outputs": [],
   "source": []
  },
  {
   "cell_type": "markdown",
   "id": "2194888d",
   "metadata": {},
   "source": [
    "### Accessing the array elements\n",
    "\n",
    "***NUMPY follows the indexing method***\n",
    "\n",
    "    a[rows,columns]\n",
    "    \n",
    "    a[1:2,1:2]"
   ]
  },
  {
   "cell_type": "code",
   "execution_count": 18,
   "id": "cc601cbe",
   "metadata": {},
   "outputs": [
    {
     "data": {
      "text/plain": [
       "array([[ 0,  3,  6],\n",
       "       [ 9, 12, 15],\n",
       "       [18, 21, 24]])"
      ]
     },
     "execution_count": 18,
     "metadata": {},
     "output_type": "execute_result"
    }
   ],
   "source": [
    "a = np.arange(0,25,3)\n",
    "a = a.reshape(3,3)\n",
    "a"
   ]
  },
  {
   "cell_type": "code",
   "execution_count": 26,
   "id": "8c5c80d5",
   "metadata": {},
   "outputs": [
    {
     "data": {
      "text/plain": [
       "array([[ 6],\n",
       "       [15]])"
      ]
     },
     "execution_count": 26,
     "metadata": {},
     "output_type": "execute_result"
    }
   ],
   "source": [
    "a[0:2:,2:]"
   ]
  },
  {
   "cell_type": "code",
   "execution_count": 28,
   "id": "a1a9010c",
   "metadata": {},
   "outputs": [
    {
     "data": {
      "text/plain": [
       "array([[ 9, 12, 15],\n",
       "       [18, 21, 24]])"
      ]
     },
     "execution_count": 28,
     "metadata": {},
     "output_type": "execute_result"
    }
   ],
   "source": [
    "a[1:] # elements from row index 1 to end"
   ]
  },
  {
   "cell_type": "code",
   "execution_count": 29,
   "id": "626b031b",
   "metadata": {},
   "outputs": [
    {
     "data": {
      "text/plain": [
       "array([[ 3,  6],\n",
       "       [12, 15],\n",
       "       [21, 24]])"
      ]
     },
     "execution_count": 29,
     "metadata": {},
     "output_type": "execute_result"
    }
   ],
   "source": [
    "a[:,1:] # elements from column index 1 to end"
   ]
  },
  {
   "cell_type": "code",
   "execution_count": null,
   "id": "23d7f935",
   "metadata": {},
   "outputs": [],
   "source": []
  },
  {
   "cell_type": "markdown",
   "id": "774d9298",
   "metadata": {},
   "source": [
    "### Broadcasting"
   ]
  },
  {
   "cell_type": "code",
   "execution_count": 30,
   "id": "0866279c",
   "metadata": {},
   "outputs": [
    {
     "data": {
      "text/plain": [
       "array([[ 0,  3,  6],\n",
       "       [ 9, 12, 15],\n",
       "       [18, 21, 24]])"
      ]
     },
     "execution_count": 30,
     "metadata": {},
     "output_type": "execute_result"
    }
   ],
   "source": [
    "a"
   ]
  },
  {
   "cell_type": "code",
   "execution_count": 31,
   "id": "3792521a",
   "metadata": {},
   "outputs": [
    {
     "data": {
      "text/plain": [
       "array([[ 2,  5,  8],\n",
       "       [11, 14, 17],\n",
       "       [20, 23, 26]])"
      ]
     },
     "execution_count": 31,
     "metadata": {},
     "output_type": "execute_result"
    }
   ],
   "source": [
    "a+2"
   ]
  },
  {
   "cell_type": "code",
   "execution_count": 32,
   "id": "23c354f1",
   "metadata": {},
   "outputs": [
    {
     "data": {
      "text/plain": [
       "array([[-2,  1,  4],\n",
       "       [ 7, 10, 13],\n",
       "       [16, 19, 22]])"
      ]
     },
     "execution_count": 32,
     "metadata": {},
     "output_type": "execute_result"
    }
   ],
   "source": [
    "a-2"
   ]
  },
  {
   "cell_type": "code",
   "execution_count": 33,
   "id": "68856543",
   "metadata": {},
   "outputs": [
    {
     "data": {
      "text/plain": [
       "array([[ 0. ,  1.5,  3. ],\n",
       "       [ 4.5,  6. ,  7.5],\n",
       "       [ 9. , 10.5, 12. ]])"
      ]
     },
     "execution_count": 33,
     "metadata": {},
     "output_type": "execute_result"
    }
   ],
   "source": [
    "a/2"
   ]
  },
  {
   "cell_type": "code",
   "execution_count": 34,
   "id": "d0472fdc",
   "metadata": {},
   "outputs": [
    {
     "data": {
      "text/plain": [
       "array([[ 0,  6, 12],\n",
       "       [18, 24, 30],\n",
       "       [36, 42, 48]])"
      ]
     },
     "execution_count": 34,
     "metadata": {},
     "output_type": "execute_result"
    }
   ],
   "source": [
    "a*2"
   ]
  },
  {
   "cell_type": "code",
   "execution_count": 37,
   "id": "83e532d8",
   "metadata": {},
   "outputs": [
    {
     "name": "stdout",
     "output_type": "stream",
     "text": [
      "[[100 200 300]\n",
      " [400 500 600]\n",
      " [700 800 900]]\n",
      "[[ 0  3  6]\n",
      " [ 9 12 15]\n",
      " [18 21 24]]\n"
     ]
    }
   ],
   "source": [
    "b = np.arange(100,1000,100)\n",
    "b = b.reshape(3,3)\n",
    "\n",
    "print(b)\n",
    "\n",
    "print(a)"
   ]
  },
  {
   "cell_type": "code",
   "execution_count": 38,
   "id": "69030e23",
   "metadata": {},
   "outputs": [
    {
     "data": {
      "text/plain": [
       "array([[100, 203, 306],\n",
       "       [409, 512, 615],\n",
       "       [718, 821, 924]])"
      ]
     },
     "execution_count": 38,
     "metadata": {},
     "output_type": "execute_result"
    }
   ],
   "source": [
    "a+b"
   ]
  },
  {
   "cell_type": "code",
   "execution_count": 39,
   "id": "5b986c71",
   "metadata": {},
   "outputs": [
    {
     "data": {
      "text/plain": [
       "array([[-100, -197, -294],\n",
       "       [-391, -488, -585],\n",
       "       [-682, -779, -876]])"
      ]
     },
     "execution_count": 39,
     "metadata": {},
     "output_type": "execute_result"
    }
   ],
   "source": [
    "a-b"
   ]
  },
  {
   "cell_type": "code",
   "execution_count": 41,
   "id": "4de9f168",
   "metadata": {},
   "outputs": [
    {
     "data": {
      "text/plain": [
       "array([[    0,   600,  1800],\n",
       "       [ 3600,  6000,  9000],\n",
       "       [12600, 16800, 21600]])"
      ]
     },
     "execution_count": 41,
     "metadata": {},
     "output_type": "execute_result"
    }
   ],
   "source": [
    "a*b # Normal multiplication not the matrix multiplication"
   ]
  },
  {
   "cell_type": "code",
   "execution_count": 42,
   "id": "9de74d0b",
   "metadata": {},
   "outputs": [
    {
     "data": {
      "text/plain": [
       "array([[0.        , 0.015     , 0.02      ],\n",
       "       [0.0225    , 0.024     , 0.025     ],\n",
       "       [0.02571429, 0.02625   , 0.02666667]])"
      ]
     },
     "execution_count": 42,
     "metadata": {},
     "output_type": "execute_result"
    }
   ],
   "source": [
    "a/b # Normal division not the matrix division"
   ]
  },
  {
   "cell_type": "code",
   "execution_count": null,
   "id": "88812d90",
   "metadata": {},
   "outputs": [],
   "source": []
  },
  {
   "cell_type": "markdown",
   "id": "035130a6",
   "metadata": {},
   "source": [
    "### Multipling two matrices"
   ]
  },
  {
   "cell_type": "code",
   "execution_count": 45,
   "id": "70358196",
   "metadata": {},
   "outputs": [
    {
     "name": "stdout",
     "output_type": "stream",
     "text": [
      "[[ 0  3  6]\n",
      " [ 9 12 15]\n",
      " [18 21 24]] \n",
      " \n",
      " [[100 200 300]\n",
      " [400 500 600]\n",
      " [700 800 900]]\n"
     ]
    }
   ],
   "source": [
    "print(a,'\\n \\n', b)"
   ]
  },
  {
   "cell_type": "code",
   "execution_count": 47,
   "id": "f833bc0a",
   "metadata": {},
   "outputs": [
    {
     "data": {
      "text/plain": [
       "array([[ 5400,  6300,  7200],\n",
       "       [16200, 19800, 23400],\n",
       "       [27000, 33300, 39600]])"
      ]
     },
     "execution_count": 47,
     "metadata": {},
     "output_type": "execute_result"
    }
   ],
   "source": [
    "c = np.dot(a,b)\n",
    "c"
   ]
  },
  {
   "cell_type": "code",
   "execution_count": null,
   "id": "1349cbbb",
   "metadata": {},
   "outputs": [],
   "source": []
  },
  {
   "cell_type": "markdown",
   "id": "43236f59",
   "metadata": {},
   "source": [
    "### Flatten\n",
    "\n",
    "to flatten the array ( convert array into 1 dimentional array)"
   ]
  },
  {
   "cell_type": "code",
   "execution_count": 49,
   "id": "561282a0",
   "metadata": {},
   "outputs": [
    {
     "data": {
      "text/plain": [
       "array([ 5400,  6300,  7200, 16200, 19800, 23400, 27000, 33300, 39600])"
      ]
     },
     "execution_count": 49,
     "metadata": {},
     "output_type": "execute_result"
    }
   ],
   "source": [
    "c.flatten()"
   ]
  },
  {
   "cell_type": "code",
   "execution_count": null,
   "id": "6f8238a9",
   "metadata": {},
   "outputs": [],
   "source": []
  },
  {
   "cell_type": "code",
   "execution_count": 54,
   "id": "8ccf8a23",
   "metadata": {},
   "outputs": [
    {
     "data": {
      "text/plain": [
       "array([ 3.04315186,  7.5443834 , 11.10478966])"
      ]
     },
     "execution_count": 54,
     "metadata": {},
     "output_type": "execute_result"
    }
   ],
   "source": [
    "np.random.normal(5,10,3)"
   ]
  },
  {
   "cell_type": "code",
   "execution_count": 55,
   "id": "d49a7007",
   "metadata": {},
   "outputs": [
    {
     "data": {
      "text/plain": [
       "array([[1., 0., 0.],\n",
       "       [0., 1., 0.],\n",
       "       [0., 0., 1.]])"
      ]
     },
     "execution_count": 55,
     "metadata": {},
     "output_type": "execute_result"
    }
   ],
   "source": [
    "np.eye(3)"
   ]
  },
  {
   "cell_type": "code",
   "execution_count": null,
   "id": "e4807c2c",
   "metadata": {},
   "outputs": [],
   "source": []
  },
  {
   "cell_type": "markdown",
   "id": "9b3607c0",
   "metadata": {},
   "source": [
    "### Where\n",
    "\n",
    "***Indices of the conditioned elements***"
   ]
  },
  {
   "cell_type": "code",
   "execution_count": 56,
   "id": "f6ebdbde",
   "metadata": {},
   "outputs": [
    {
     "data": {
      "text/plain": [
       "array([[ 0,  3,  6],\n",
       "       [ 9, 12, 15],\n",
       "       [18, 21, 24]])"
      ]
     },
     "execution_count": 56,
     "metadata": {},
     "output_type": "execute_result"
    }
   ],
   "source": [
    "a"
   ]
  },
  {
   "cell_type": "code",
   "execution_count": 72,
   "id": "b7cb37fe",
   "metadata": {},
   "outputs": [
    {
     "data": {
      "text/plain": [
       "array([ 0,  3,  6,  9, 12, 15, 18, 21, 24])"
      ]
     },
     "execution_count": 72,
     "metadata": {},
     "output_type": "execute_result"
    }
   ],
   "source": [
    "a = a.flatten()\n",
    "a"
   ]
  },
  {
   "cell_type": "code",
   "execution_count": 69,
   "id": "51b7a6df",
   "metadata": {},
   "outputs": [
    {
     "data": {
      "text/plain": [
       "(array([2, 3, 4, 5, 6, 7, 8], dtype=int64),)"
      ]
     },
     "execution_count": 69,
     "metadata": {},
     "output_type": "execute_result"
    }
   ],
   "source": [
    "np.where(a>5)"
   ]
  },
  {
   "cell_type": "code",
   "execution_count": 73,
   "id": "5cd28cbb",
   "metadata": {},
   "outputs": [
    {
     "name": "stdout",
     "output_type": "stream",
     "text": [
      "[ 6  9 12 15 18 21 24]\n"
     ]
    }
   ],
   "source": [
    "for i in np.where(a>5):\n",
    "    print(a[i])"
   ]
  },
  {
   "cell_type": "code",
   "execution_count": null,
   "id": "2f580471",
   "metadata": {},
   "outputs": [],
   "source": []
  }
 ],
 "metadata": {
  "kernelspec": {
   "display_name": "Python 3",
   "language": "python",
   "name": "python3"
  },
  "language_info": {
   "codemirror_mode": {
    "name": "ipython",
    "version": 3
   },
   "file_extension": ".py",
   "mimetype": "text/x-python",
   "name": "python",
   "nbconvert_exporter": "python",
   "pygments_lexer": "ipython3",
   "version": "3.8.8"
  }
 },
 "nbformat": 4,
 "nbformat_minor": 5
}
