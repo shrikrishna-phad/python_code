{
 "cells": [
  {
   "cell_type": "markdown",
   "id": "cb94aacf",
   "metadata": {},
   "source": [
    "# Under & Over Sampling\n",
    "\n",
    "\n",
    "***Imbalanced datasets are those where there is a severe skew in the class distribution***\n",
    "\n",
    "*This bias in the training dataset can influence many machine learning algorithms.*\n",
    "\n",
    "*Leading some to ignore the minority class entirely. This is a problem as it is typically the minority class on which predictions are most important*\n",
    "\n",
    "Random Oversampling: Randomly duplicate examples in the minority class.\n",
    "\n",
    "Random Undersampling: Randomly delete examples in the majority class.\n"
   ]
  },
  {
   "cell_type": "code",
   "execution_count": null,
   "id": "cd6c9d4d",
   "metadata": {},
   "outputs": [],
   "source": []
  },
  {
   "cell_type": "markdown",
   "id": "37dd12fc",
   "metadata": {},
   "source": [
    "### Random Oversampling\n",
    "\n",
    "***Randomly duplicate examples in the minority class & adds them in minority class.***\n",
    "\n",
    "    we need to install imbalanced-learn library\n",
    "    pip install imbalanced-learn\n",
    "    \n",
    "\n",
    "    \n",
    "    This means that if the majority class had 1,000 examples and the minority class had 100, this strategy would oversampling the minority class so that it has 1,000 examples.\n",
    "    \n",
    "    \n",
    "    \n",
    "#### from imblearn.over_sampling import RandomOverSampler\n",
    "\n",
    "    oversample = RandomOverSampler(0.75)"
   ]
  },
  {
   "cell_type": "code",
   "execution_count": 1,
   "id": "5f6ca3a4",
   "metadata": {},
   "outputs": [],
   "source": [
    "from imblearn.over_sampling import RandomOverSampler"
   ]
  },
  {
   "cell_type": "code",
   "execution_count": 2,
   "id": "d0776df3",
   "metadata": {
    "scrolled": true
   },
   "outputs": [
    {
     "name": "stderr",
     "output_type": "stream",
     "text": [
      "C:\\Users\\shrik\\Anaconda3\\lib\\site-packages\\imblearn\\utils\\_validation.py:586: FutureWarning: Pass sampling_strategy=0.75 as keyword args. From version 0.9 passing these as positional arguments will result in an error\n",
      "  warnings.warn(\n"
     ]
    }
   ],
   "source": [
    "oversample = RandomOverSampler(0.75)"
   ]
  },
  {
   "cell_type": "code",
   "execution_count": null,
   "id": "3de6bd86",
   "metadata": {},
   "outputs": [],
   "source": []
  },
  {
   "cell_type": "markdown",
   "id": "1beb65c0",
   "metadata": {},
   "source": [
    "### Random Undersampling\n",
    "\n",
    "***Randomly removes duplicate examples from the majority class.***\n",
    "\n",
    "    we need to install imbalanced-learn library\n",
    "    pip install imbalanced-learn\n",
    "    \n",
    "\n",
    "    \n",
    "    This means that if the majority class had 1,000 examples and the minority class had 800, this strategy would Undersampling the majority class so that it has 800 examples.\n",
    "    \n",
    "    \n",
    "    \n",
    "### from imblearn.under_sampling import RandomUnderSampler\n",
    "undersampler = RandomUnderSampler(random_state=0)"
   ]
  },
  {
   "cell_type": "code",
   "execution_count": 3,
   "id": "8b04f1b4",
   "metadata": {},
   "outputs": [],
   "source": [
    "from imblearn.under_sampling import RandomUnderSampler"
   ]
  },
  {
   "cell_type": "code",
   "execution_count": 5,
   "id": "6c3f26e6",
   "metadata": {},
   "outputs": [],
   "source": [
    "undersampler = RandomUnderSampler(0.75)"
   ]
  }
 ],
 "metadata": {
  "kernelspec": {
   "display_name": "Python 3 (ipykernel)",
   "language": "python",
   "name": "python3"
  },
  "language_info": {
   "codemirror_mode": {
    "name": "ipython",
    "version": 3
   },
   "file_extension": ".py",
   "mimetype": "text/x-python",
   "name": "python",
   "nbconvert_exporter": "python",
   "pygments_lexer": "ipython3",
   "version": "3.8.8"
  }
 },
 "nbformat": 4,
 "nbformat_minor": 5
}
